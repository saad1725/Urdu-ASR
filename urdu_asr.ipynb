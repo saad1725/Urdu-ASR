{
 "cells": [
  {
   "cell_type": "markdown",
   "metadata": {},
   "source": [
    "## What is `wav2vec2`"
   ]
  },
  {
   "cell_type": "markdown",
   "metadata": {},
   "source": [
    "Wav2Vec2 is a pretrained model for Automatic Speech Recognition (ASR) and was released in [September 2020](https://ai.facebook.com/blog/wav2vec-20-learning-the-structure-of-speech-from-raw-audio/) by Alexei Baevski, Michael Auli, and Alex Conneau.\n",
    "\n",
    "Using a novel contrastive pretraining objective, Wav2Vec2 learns powerful speech representations from more than 50.000 hours of unlabeled speech. Similar, to [BERT's masked language modeling](http://jalammar.github.io/illustrated-bert/), the model learns contextualized speech representations by randomly masking feature vectors before passing them to a transformer network.\n",
    "\n",
    "![wav2vec2_structure](https://raw.githubusercontent.com/patrickvonplaten/scientific_images/master/wav2vec2.png)\n",
    "\n",
    "For the first time, it has been shown that pretraining, followed by fine-tuning on very little labeled speech data achieves competitive results to state-of-the-art ASR systems. Using as little as 10 minutes of labeled data, Wav2Vec2 yields a word error rate (WER) of less than 5% on the clean test set of [LibriSpeech](https://huggingface.co/datasets/librispeech_asr) - *cf.* with Table 9 of the [paper](https://arxiv.org/pdf/2006.11477.pdf)."
   ]
  },
  {
   "cell_type": "markdown",
   "metadata": {},
   "source": [
    "## Installs and Imports"
   ]
  },
  {
   "cell_type": "code",
   "execution_count": 1,
   "metadata": {},
   "outputs": [],
   "source": [
    "\n"
   ]
  },
  {
   "cell_type": "code",
   "execution_count": 2,
   "metadata": {},
   "outputs": [],
   "source": [
    "import os\n",
    "os.environ[\"CUDA_VISIBLE_DEVICES\"]=\"5\"\n",
    "from functools import partial\n",
    "import pandas as pd\n",
    "import numpy as np\n",
    "from datasets import (\n",
    "    load_dataset, \n",
    "    load_from_disk,\n",
    "    load_metric,)\n",
    "# from datasets.filesystems import S3FileSystem\n",
    "from transformers import (\n",
    "    Wav2Vec2CTCTokenizer, \n",
    "    Wav2Vec2FeatureExtractor,\n",
    "    Wav2Vec2Processor,\n",
    "    Wav2Vec2ForCTC,\n",
    "    TrainingArguments,\n",
    "    Trainer,\n",
    ")\n",
    "import torchaudio\n",
    "import re\n",
    "import json\n",
    "from pythainlp.tokenize import word_tokenize, syllable_tokenize"
   ]
  },
  {
   "cell_type": "markdown",
   "metadata": {},
   "source": [
    "## Data Preparation"
   ]
  },
  {
   "cell_type": "markdown",
   "metadata": {},
   "source": [
    "### Clean"
   ]
  },
  {
   "cell_type": "markdown",
   "metadata": {},
   "source": [
    "### Load Dataset"
   ]
  },
  {
   "cell_type": "code",
   "execution_count": 5,
   "metadata": {},
   "outputs": [
    {
     "name": "stderr",
     "output_type": "stream",
     "text": [
      "Reusing dataset common_voice (/home/saad/.cache/huggingface/datasets/common_voice/ur/7.0.0/22f498ef791fb449d0ba8185660e0dd2cee815f02b179584bf3fa87098086dac)\n"
     ]
    },
    {
     "data": {
      "application/vnd.jupyter.widget-view+json": {
       "model_id": "f923446b8e6b4efcbb8cbf7df7a84557",
       "version_major": 2,
       "version_minor": 0
      },
      "text/plain": [
       "  0%|          | 0/3 [00:00<?, ?it/s]"
      ]
     },
     "metadata": {},
     "output_type": "display_data"
    },
    {
     "data": {
      "text/plain": [
       "DatasetDict({\n",
       "    train: Dataset({\n",
       "        features: ['path', 'sentence'],\n",
       "        num_rows: 3156\n",
       "    })\n",
       "    test: Dataset({\n",
       "        features: ['path', 'sentence'],\n",
       "        num_rows: 4\n",
       "    })\n",
       "    validation: Dataset({\n",
       "        features: ['path', 'sentence'],\n",
       "        num_rows: 341\n",
       "    })\n",
       "})"
      ]
     },
     "execution_count": 5,
     "metadata": {},
     "output_type": "execute_result"
    }
   ],
   "source": [
    "datasets = load_dataset(\"../scripts/th_common_voice_70.py\", \"ur\")\n",
    "datasets"
   ]
  },
  {
   "cell_type": "code",
   "execution_count": 6,
   "metadata": {},
   "outputs": [
    {
     "data": {
      "application/vnd.jupyter.widget-view+json": {
       "model_id": "8d849dc366234ca289fb7385ede62b65",
       "version_major": 2,
       "version_minor": 0
      },
      "text/plain": [
       "0ex [00:00, ?ex/s]"
      ]
     },
     "metadata": {},
     "output_type": "display_data"
    },
    {
     "data": {
      "application/vnd.jupyter.widget-view+json": {
       "model_id": "66926536552d4f6987a8eb195a8829b1",
       "version_major": 2,
       "version_minor": 0
      },
      "text/plain": [
       "0ex [00:00, ?ex/s]"
      ]
     },
     "metadata": {},
     "output_type": "display_data"
    },
    {
     "data": {
      "application/vnd.jupyter.widget-view+json": {
       "model_id": "4b8ca60a8b9a4218ba99e8a32afcfb9a",
       "version_major": 2,
       "version_minor": 0
      },
      "text/plain": [
       "0ex [00:00, ?ex/s]"
      ]
     },
     "metadata": {},
     "output_type": "display_data"
    }
   ],
   "source": [
    "def preprocess_data(example, tok_func = word_tokenize):\n",
    "    example['sentence'] = ' '.join(tok_func(example['sentence']))\n",
    "    return example\n",
    "\n",
    "datasets = datasets.map(preprocess_data)"
   ]
  },
  {
   "cell_type": "markdown",
   "metadata": {},
   "source": [
    "### Exploration"
   ]
  },
  {
   "cell_type": "markdown",
   "metadata": {},
   "source": [
    "#### `sentence`; transcripts"
   ]
  },
  {
   "cell_type": "code",
   "execution_count": 7,
   "metadata": {},
   "outputs": [
    {
     "data": {
      "text/html": [
       "<table border=\"1\" class=\"dataframe\">\n",
       "  <thead>\n",
       "    <tr style=\"text-align: right;\">\n",
       "      <th></th>\n",
       "      <th>sentence</th>\n",
       "    </tr>\n",
       "  </thead>\n",
       "  <tbody>\n",
       "    <tr>\n",
       "      <th>0</th>\n",
       "      <td>ہمیں   اسی   جذبے   کے   ساتھ   اس   معاملے   کو   دیکھنا   ہو   گا۔</td>\n",
       "    </tr>\n",
       "    <tr>\n",
       "      <th>1</th>\n",
       "      <td>یہاں   عروج   وزوال   کا   قانون   کیا   ہے۔</td>\n",
       "    </tr>\n",
       "    <tr>\n",
       "      <th>2</th>\n",
       "      <td>اس   کا   کچھ   کارن   شکستہ   کا   ستر   رہا   ہے   تو   کچھ   راج   نہیں   دیکھا</td>\n",
       "    </tr>\n",
       "    <tr>\n",
       "      <th>3</th>\n",
       "      <td>ناشتے   کے   بعد   سب   تیار   ہو   گئے</td>\n",
       "    </tr>\n",
       "    <tr>\n",
       "      <th>4</th>\n",
       "      <td>نیلو   کے   ڈانسز   دیکھیں۔</td>\n",
       "    </tr>\n",
       "    <tr>\n",
       "      <th>5</th>\n",
       "      <td>یاد   کیے   جائیں   گے۔</td>\n",
       "    </tr>\n",
       "    <tr>\n",
       "      <th>6</th>\n",
       "      <td>اتنا   انوکھا   نہیں۔</td>\n",
       "    </tr>\n",
       "    <tr>\n",
       "      <th>7</th>\n",
       "      <td>خواہش   دلوں   کو   خودسر   اور   جنگجو   بنا   دیتی   ہے</td>\n",
       "    </tr>\n",
       "    <tr>\n",
       "      <th>8</th>\n",
       "      <td>ان   میں   سے   ایک   کا   نام   تھا   دکش</td>\n",
       "    </tr>\n",
       "    <tr>\n",
       "      <th>9</th>\n",
       "      <td>آرکائیوز   کے   ہجوں   کو   بازیچہ   بنانا   غایت   سماوی   قصور   نہیں</td>\n",
       "    </tr>\n",
       "    <tr>\n",
       "      <th>10</th>\n",
       "      <td>اب   اس   تصویر   پر   لے   دے   ہو   رہی   ہے   اور   متعلقہ   ایڈ   ا</td>\n",
       "    </tr>\n",
       "    <tr>\n",
       "      <th>11</th>\n",
       "      <td>تفتیشی   ایجنسی   نے   یہ   منظر   دیکھا   کہ   پولیس   نوجوان   لاٹھیاں   برساتا   مشتعل   جلوس   کے   پاس   پہنچا</td>\n",
       "    </tr>\n",
       "    <tr>\n",
       "      <th>12</th>\n",
       "      <td>کی   نہیں   پریت   کچھ   بیچنا   راکھا</td>\n",
       "    </tr>\n",
       "    <tr>\n",
       "      <th>13</th>\n",
       "      <td>تری   میں   طاق   شکل   دی   ہیں</td>\n",
       "    </tr>\n",
       "    <tr>\n",
       "      <th>14</th>\n",
       "      <td>وہ   موسم   تھا   روشنی   کا   اور   وہی   موسم   تھا   تاریکی   کا</td>\n",
       "    </tr>\n",
       "    <tr>\n",
       "      <th>15</th>\n",
       "      <td>مجھے   دفتر   پیدل   جانا   پڑتا   ہے</td>\n",
       "    </tr>\n",
       "    <tr>\n",
       "      <th>16</th>\n",
       "      <td>مجھے   چھوڑ   دے</td>\n",
       "    </tr>\n",
       "    <tr>\n",
       "      <th>17</th>\n",
       "      <td>شواہد   کے   مطابق   انفلوئنزا   کے   لیے   ہومیوپیتھک   کی   تدابیر   بھونڈی   اور   بس   جونہی   سی   ہیں</td>\n",
       "    </tr>\n",
       "    <tr>\n",
       "      <th>18</th>\n",
       "      <td>اللہ   اسے   سلامت   رکھے۔</td>\n",
       "    </tr>\n",
       "    <tr>\n",
       "      <th>19</th>\n",
       "      <td>یہ   میں   نے   اپنے   سے   لکھا   ہے   ۔</td>\n",
       "    </tr>\n",
       "  </tbody>\n",
       "</table>"
      ],
      "text/plain": [
       "<IPython.core.display.HTML object>"
      ]
     },
     "metadata": {},
     "output_type": "display_data"
    }
   ],
   "source": [
    "#show random sentences\n",
    "from datasets import ClassLabel\n",
    "import random\n",
    "import pandas as pd\n",
    "from IPython.display import display, HTML\n",
    "\n",
    "def show_random_elements(dataset, num_examples=10):\n",
    "    assert num_examples <= len(dataset), \"Can't pick more elements than there are in the dataset.\"\n",
    "    picks = []\n",
    "    for _ in range(num_examples):\n",
    "        pick = random.randint(0, len(dataset)-1)\n",
    "        while pick in picks:\n",
    "            pick = random.randint(0, len(dataset)-1)\n",
    "        picks.append(pick)\n",
    "    \n",
    "    df = pd.DataFrame(dataset[picks])\n",
    "    display(HTML(df.to_html()))\n",
    "    \n",
    "show_random_elements(datasets[\"train\"].remove_columns([\"path\"]), num_examples=20)"
   ]
  },
  {
   "cell_type": "code",
   "execution_count": 9,
   "metadata": {},
   "outputs": [],
   "source": [
    "train_df = pd.DataFrame({'sentence':datasets['train']['sentence']})\n",
    "train_df['nb_words'] = train_df.sentence.map(lambda x: len(x.split()))\n",
    "# train_df.nb_words.hist(bins=30)"
   ]
  },
  {
   "cell_type": "code",
   "execution_count": 10,
   "metadata": {},
   "outputs": [],
   "source": [
    "validation_df = pd.DataFrame({'sentence':datasets['validation']['sentence']})\n",
    "validation_df['nb_words'] = validation_df.sentence.map(lambda x: len(x.split()))\n",
    "# validation_df.nb_words.hist(bins=30)"
   ]
  },
  {
   "cell_type": "code",
   "execution_count": 11,
   "metadata": {},
   "outputs": [],
   "source": [
    "test_df = pd.DataFrame({'sentence':datasets['test']['sentence']})\n",
    "test_df['nb_words'] = test_df.sentence.map(lambda x: len(x.split()))\n",
    "# test_df.nb_words.hist(bins=30)"
   ]
  },
  {
   "cell_type": "markdown",
   "metadata": {},
   "source": [
    "#### `path`; mp3 files"
   ]
  },
  {
   "cell_type": "code",
   "execution_count": 12,
   "metadata": {},
   "outputs": [],
   "source": [
    "train_df = pd.DataFrame({'path':datasets['train']['path']})\n",
    "train_df['sample_rate'] = train_df.path.map(lambda x: torchaudio.info(x).sample_rate)\n",
    "train_df['num_frames'] = train_df.path.map(lambda x: torchaudio.info(x).num_frames)\n",
    "train_df['seconds'] = train_df.num_frames / train_df.sample_rate\n",
    "# train_df.seconds.hist(bins=30)"
   ]
  },
  {
   "cell_type": "code",
   "execution_count": 13,
   "metadata": {},
   "outputs": [],
   "source": [
    "validation_df = pd.DataFrame({'path':datasets['validation']['path']})\n",
    "validation_df['sample_rate'] = validation_df.path.map(lambda x: torchaudio.info(x).sample_rate)\n",
    "validation_df['num_frames'] = validation_df.path.map(lambda x: torchaudio.info(x).num_frames)\n",
    "validation_df['seconds'] = validation_df.num_frames / validation_df.sample_rate\n",
    "# validation_df.seconds.hist(bins=30)"
   ]
  },
  {
   "cell_type": "code",
   "execution_count": 14,
   "metadata": {},
   "outputs": [],
   "source": [
    "test_df = pd.DataFrame({'path':datasets['test']['path']})\n",
    "test_df['sample_rate'] = test_df.path.map(lambda x: torchaudio.info(x).sample_rate)\n",
    "test_df['num_frames'] = test_df.path.map(lambda x: torchaudio.info(x).num_frames)\n",
    "test_df['seconds'] = test_df.num_frames / test_df.sample_rate\n",
    "# test_df.seconds.hist(bins=30)"
   ]
  },
  {
   "cell_type": "markdown",
   "metadata": {},
   "source": [
    "### Create Wav2Vec2CTCTokenizer"
   ]
  },
  {
   "cell_type": "markdown",
   "metadata": {},
   "source": [
    "[Connectionist Temporal Classification (CTC)](https://distill.pub/2017/ctc/) tokenizer is a character-level tokenizer. We uses space (denoted as `|` token) as word delimiter token and `[PAD]` as blank token. "
   ]
  },
  {
   "cell_type": "code",
   "execution_count": 15,
   "metadata": {},
   "outputs": [
    {
     "data": {
      "application/vnd.jupyter.widget-view+json": {
       "model_id": "970d98237279486487cacbe3572131b3",
       "version_major": 2,
       "version_minor": 0
      },
      "text/plain": [
       "  0%|          | 0/1 [00:00<?, ?ba/s]"
      ]
     },
     "metadata": {},
     "output_type": "display_data"
    },
    {
     "data": {
      "application/vnd.jupyter.widget-view+json": {
       "model_id": "15d763fe85254ef6b378e2123261e680",
       "version_major": 2,
       "version_minor": 0
      },
      "text/plain": [
       "  0%|          | 0/1 [00:00<?, ?ba/s]"
      ]
     },
     "metadata": {},
     "output_type": "display_data"
    },
    {
     "data": {
      "application/vnd.jupyter.widget-view+json": {
       "model_id": "46ae6feb362d413ea00465bb86089f17",
       "version_major": 2,
       "version_minor": 0
      },
      "text/plain": [
       "  0%|          | 0/1 [00:00<?, ?ba/s]"
      ]
     },
     "metadata": {},
     "output_type": "display_data"
    },
    {
     "data": {
      "text/plain": [
       "(67,\n",
       " {'ۃ': 0,\n",
       "  '،': 1,\n",
       "  'ے': 2,\n",
       "  'ئ': 3,\n",
       "  'ف': 4,\n",
       "  '؟': 5,\n",
       "  'ٹ': 6,\n",
       "  'ٰ': 7,\n",
       "  'ڈ': 8,\n",
       "  'ء': 9,\n",
       "  '!': 10,\n",
       "  '-': 11,\n",
       "  'َ': 12,\n",
       "  'ل': 13,\n",
       "  'ں': 14,\n",
       "  ' ': 15,\n",
       "  'ً': 16,\n",
       "  'ي': 17,\n",
       "  'ز': 18,\n",
       "  'و': 19,\n",
       "  'د': 20,\n",
       "  'ڑ': 21,\n",
       "  'ھ': 22,\n",
       "  '’': 23,\n",
       "  'گ': 24,\n",
       "  'چ': 25,\n",
       "  'ب': 26,\n",
       "  'س': 27,\n",
       "  'م': 28,\n",
       "  'ۂ': 29,\n",
       "  '‘': 30,\n",
       "  'ذ': 31,\n",
       "  'ت': 32,\n",
       "  'ُ': 33,\n",
       "  'ط': 34,\n",
       "  'ن': 35,\n",
       "  'ع': 36,\n",
       "  'ر': 37,\n",
       "  'ض': 38,\n",
       "  'ہ': 39,\n",
       "  'ک': 40,\n",
       "  'ص': 41,\n",
       "  'ح': 42,\n",
       "  'ؤ': 43,\n",
       "  'غ': 44,\n",
       "  'ی': 45,\n",
       "  'ۓ': 46,\n",
       "  'ٔ': 47,\n",
       "  'ّ': 48,\n",
       "  'خ': 49,\n",
       "  'ظ': 50,\n",
       "  ':': 51,\n",
       "  'آ': 52,\n",
       "  'ث': 53,\n",
       "  'ژ': 54,\n",
       "  'ٓ': 55,\n",
       "  'ى': 56,\n",
       "  '\"': 57,\n",
       "  'ا': 58,\n",
       "  'ق': 59,\n",
       "  '۔': 60,\n",
       "  'ج': 61,\n",
       "  'پ': 62,\n",
       "  'ِ': 63,\n",
       "  \"'\": 64,\n",
       "  'ش': 65,\n",
       "  '\\u200f': 66})"
      ]
     },
     "execution_count": 15,
     "metadata": {},
     "output_type": "execute_result"
    }
   ],
   "source": [
    "def extract_all_chars(batch, text_col = \"sentence\"):\n",
    "    all_text = \" \".join(batch[text_col])\n",
    "    vocab = list(set(all_text))\n",
    "    return {\"vocab\": [vocab], \"all_text\": [all_text]}\n",
    "\n",
    "vocabs = datasets.map(extract_all_chars, \n",
    "                   batched=True, \n",
    "                   batch_size=-1, \n",
    "                   keep_in_memory=True, \n",
    "                   remove_columns=datasets.column_names[\"train\"])\n",
    "\n",
    "vocab_list = list(set(vocabs[\"train\"][\"vocab\"][0]) | set(vocabs[\"validation\"][\"vocab\"][0]) |set(vocabs[\"test\"][\"vocab\"][0]))\n",
    "# vocab_list = list(set(vocabs[\"train\"][\"vocab\"][0])) #strictly no leakage\n",
    "vocab_dict = {v: k for k, v in enumerate(vocab_list)}\n",
    "len(vocab_dict), vocab_dict"
   ]
  },
  {
   "cell_type": "code",
   "execution_count": 16,
   "metadata": {},
   "outputs": [],
   "source": [
    "#make space = |\n",
    "vocab_dict[\"|\"] = vocab_dict[\" \"]\n",
    "del vocab_dict[\" \"]"
   ]
  },
  {
   "cell_type": "code",
   "execution_count": 17,
   "metadata": {},
   "outputs": [
    {
     "data": {
      "text/plain": [
       "(69,\n",
       " {'ۃ': 0,\n",
       "  '،': 1,\n",
       "  'ے': 2,\n",
       "  'ئ': 3,\n",
       "  'ف': 4,\n",
       "  '؟': 5,\n",
       "  'ٹ': 6,\n",
       "  'ٰ': 7,\n",
       "  'ڈ': 8,\n",
       "  'ء': 9,\n",
       "  '!': 10,\n",
       "  '-': 11,\n",
       "  'َ': 12,\n",
       "  'ل': 13,\n",
       "  'ں': 14,\n",
       "  'ً': 16,\n",
       "  'ي': 17,\n",
       "  'ز': 18,\n",
       "  'و': 19,\n",
       "  'د': 20,\n",
       "  'ڑ': 21,\n",
       "  'ھ': 22,\n",
       "  '’': 23,\n",
       "  'گ': 24,\n",
       "  'چ': 25,\n",
       "  'ب': 26,\n",
       "  'س': 27,\n",
       "  'م': 28,\n",
       "  'ۂ': 29,\n",
       "  '‘': 30,\n",
       "  'ذ': 31,\n",
       "  'ت': 32,\n",
       "  'ُ': 33,\n",
       "  'ط': 34,\n",
       "  'ن': 35,\n",
       "  'ع': 36,\n",
       "  'ر': 37,\n",
       "  'ض': 38,\n",
       "  'ہ': 39,\n",
       "  'ک': 40,\n",
       "  'ص': 41,\n",
       "  'ح': 42,\n",
       "  'ؤ': 43,\n",
       "  'غ': 44,\n",
       "  'ی': 45,\n",
       "  'ۓ': 46,\n",
       "  'ٔ': 47,\n",
       "  'ّ': 48,\n",
       "  'خ': 49,\n",
       "  'ظ': 50,\n",
       "  ':': 51,\n",
       "  'آ': 52,\n",
       "  'ث': 53,\n",
       "  'ژ': 54,\n",
       "  'ٓ': 55,\n",
       "  'ى': 56,\n",
       "  '\"': 57,\n",
       "  'ا': 58,\n",
       "  'ق': 59,\n",
       "  '۔': 60,\n",
       "  'ج': 61,\n",
       "  'پ': 62,\n",
       "  'ِ': 63,\n",
       "  \"'\": 64,\n",
       "  'ش': 65,\n",
       "  '\\u200f': 66,\n",
       "  '|': 15,\n",
       "  '[UNK]': 67,\n",
       "  '[PAD]': 68})"
      ]
     },
     "execution_count": 17,
     "metadata": {},
     "output_type": "execute_result"
    }
   ],
   "source": [
    "#padding token serves as blank token\n",
    "vocab_dict[\"[UNK]\"] = len(vocab_dict)\n",
    "vocab_dict[\"[PAD]\"] = len(vocab_dict)\n",
    "len(vocab_dict), vocab_dict"
   ]
  },
  {
   "cell_type": "code",
   "execution_count": 18,
   "metadata": {},
   "outputs": [
    {
     "data": {
      "text/plain": [
       "('../wav2vec2-large-xlsr-53-ur/tokenizer_config.json',\n",
       " '../wav2vec2-large-xlsr-53-ur/special_tokens_map.json',\n",
       " '../wav2vec2-large-xlsr-53-ur/vocab.json',\n",
       " '../wav2vec2-large-xlsr-53-ur/added_tokens.json')"
      ]
     },
     "execution_count": 18,
     "metadata": {},
     "output_type": "execute_result"
    }
   ],
   "source": [
    "#save as json; create tokenizer for the first time and upload to hugginface hub\n",
    "# with open('../data/vocab.json', 'w') as vocab_file:\n",
    "#     json.dump(vocab_dict, vocab_file)\n",
    "tokenizer = Wav2Vec2CTCTokenizer(\"../data/vocab.json\", \n",
    "                                 unk_token=\"[UNK]\", \n",
    "                                 pad_token=\"[PAD]\", \n",
    "                                 word_delimiter_token=\"|\")\n",
    "tokenizer.save_pretrained('../wav2vec2-large-xlsr-53-ur')"
   ]
  },
  {
   "cell_type": "code",
   "execution_count": 19,
   "metadata": {},
   "outputs": [
    {
     "name": "stderr",
     "output_type": "stream",
     "text": [
      "Special tokens have been added in the vocabulary, make sure the associated word embeddings are fine-tuned or trained.\n"
     ]
    }
   ],
   "source": [
    "tokenizer = Wav2Vec2CTCTokenizer.from_pretrained(\"../wav2vec2-large-xlsr-53-ur\", unk_token=\"[UNK]\", pad_token=\"[PAD]\", word_delimiter_token=\"|\")"
   ]
  },
  {
   "cell_type": "code",
   "execution_count": 20,
   "metadata": {},
   "outputs": [
    {
     "data": {
      "text/plain": [
       "'نیلم   نے   سالگرہ   پر   ہیڈ   سیسموگراف   اسود   قریشی   کے   ماتھے   پر   اینٹھن   اور   غم   کی   آتشیں   رو   محسوس   کی'"
      ]
     },
     "execution_count": 20,
     "metadata": {},
     "output_type": "execute_result"
    }
   ],
   "source": [
    "datasets['train'][0]['sentence']"
   ]
  },
  {
   "cell_type": "code",
   "execution_count": 21,
   "metadata": {},
   "outputs": [
    {
     "data": {
      "text/plain": [
       "{'input_ids': [55, 44, 49, 80, 92, 92, 92, 55, 12, 92, 92, 92, 85, 60, 49, 11, 25, 9, 92, 92, 92, 84, 25, 92, 92, 92, 9, 44, 43, 92, 92, 92, 85, 44, 85, 80, 3, 11, 25, 60, 30, 92, 92, 92, 60, 85, 3, 89, 92, 92, 92, 86, 25, 44, 50, 44, 92, 92, 92, 31, 12, 92, 92, 92, 80, 60, 19, 6, 12, 92, 92, 92, 84, 25, 92, 92, 92, 60, 44, 55, 54, 6, 55, 92, 92, 92, 60, 3, 25, 92, 92, 92, 67, 80, 92, 92, 92, 31, 44, 92, 92, 92, 71, 19, 50, 44, 57, 92, 92, 92, 25, 3, 92, 92, 92, 80, 18, 85, 3, 85, 92, 92, 92, 31, 44], 'attention_mask': [1, 1, 1, 1, 1, 1, 1, 1, 1, 1, 1, 1, 1, 1, 1, 1, 1, 1, 1, 1, 1, 1, 1, 1, 1, 1, 1, 1, 1, 1, 1, 1, 1, 1, 1, 1, 1, 1, 1, 1, 1, 1, 1, 1, 1, 1, 1, 1, 1, 1, 1, 1, 1, 1, 1, 1, 1, 1, 1, 1, 1, 1, 1, 1, 1, 1, 1, 1, 1, 1, 1, 1, 1, 1, 1, 1, 1, 1, 1, 1, 1, 1, 1, 1, 1, 1, 1, 1, 1, 1, 1, 1, 1, 1, 1, 1, 1, 1, 1, 1, 1, 1, 1, 1, 1, 1, 1, 1, 1, 1, 1, 1, 1, 1, 1, 1, 1, 1, 1, 1, 1, 1, 1, 1, 1]}"
      ]
     },
     "execution_count": 21,
     "metadata": {},
     "output_type": "execute_result"
    }
   ],
   "source": [
    "tokenizer(datasets['train'][0]['sentence'])"
   ]
  },
  {
   "cell_type": "code",
   "execution_count": 22,
   "metadata": {},
   "outputs": [
    {
     "data": {
      "text/plain": [
       "'نیلم نے سالگرہ پر ہیڈ سیسموگراف اسود قریشی کے ماتھے پر اینٹھن اور غم کی آتشیں رو محسوس کی'"
      ]
     },
     "execution_count": 22,
     "metadata": {},
     "output_type": "execute_result"
    }
   ],
   "source": [
    "tokenizer.decode(tokenizer(datasets['train'][0]['sentence']).input_ids)"
   ]
  },
  {
   "cell_type": "code",
   "execution_count": null,
   "metadata": {},
   "outputs": [],
   "source": []
  },
  {
   "cell_type": "code",
   "execution_count": 23,
   "metadata": {},
   "outputs": [
    {
     "data": {
      "text/plain": [
       "93"
      ]
     },
     "execution_count": 23,
     "metadata": {},
     "output_type": "execute_result"
    }
   ],
   "source": [
    "tokenizer.vocab_size"
   ]
  },
  {
   "cell_type": "markdown",
   "metadata": {},
   "source": [
    "### Create Wav2Vec2 Feature Extractor"
   ]
  },
  {
   "cell_type": "markdown",
   "metadata": {},
   "source": [
    "Wav2Vec2 was pretrained on the audio data of [LibriSpeech](https://huggingface.co/datasets/librispeech_asr) and LibriVox which both were sampling with 16kHz. [Common Voice Corpus 7.0](https://commonvoice.mozilla.org/en/datasets) has 32kHz sampling rate.\n",
    "\n",
    "A Wav2Vec2 feature extractor object requires the following parameters to be instantiated:\n",
    "\n",
    "- `feature_size`: Speech models take a sequence of feature vectors as an input. While the length of this sequence obviously varies, the feature size should not. In the case of Wav2Vec2, the feature size is 1 because the model was trained on the raw speech signal ${}^2$.\n",
    "- `sampling_rate`: The sampling rate at which the model is trained on.\n",
    "- `padding_value`: For batched inference, shorter inputs need to be padded with a specific value\n",
    "- `do_normalize`: Whether the input should be *zero-mean-unit-variance* normalized or not. Usually, speech models perform better when normalizing the input\n",
    "- `return_attention_mask`: Whether the model should make use of an `attention_mask` for batched inference. In general, models should **always** make use of the `attention_mask` to mask padded tokens. However, due to a very specific design choice of `Wav2Vec2`'s \"base\" checkpoint, better results are achieved when using no `attention_mask`. This is **not** recommended for other speech models. For more information, one can take a look at [this](https://github.com/pytorch/fairseq/issues/3227) issue. **Important** If you want to use this notebook to fine-tune [large-lv60](https://huggingface.co/facebook/wav2vec2-large-lv60), this parameter should be set to `True`."
   ]
  },
  {
   "cell_type": "code",
   "execution_count": 24,
   "metadata": {},
   "outputs": [],
   "source": [
    "feature_extractor = Wav2Vec2FeatureExtractor(feature_size=1, \n",
    "                                             sampling_rate=16000, \n",
    "                                             padding_value=0.0, \n",
    "                                             do_normalize=True, \n",
    "                                             return_attention_mask=False)"
   ]
  },
  {
   "cell_type": "code",
   "execution_count": 25,
   "metadata": {},
   "outputs": [],
   "source": [
    "processor = Wav2Vec2Processor(feature_extractor=feature_extractor, tokenizer=tokenizer)"
   ]
  },
  {
   "cell_type": "markdown",
   "metadata": {},
   "source": [
    "### Preprocess Data"
   ]
  },
  {
   "cell_type": "markdown",
   "metadata": {},
   "source": [
    "We resample to 16kHz with which `wav2vec2` was pretrained on."
   ]
  },
  {
   "cell_type": "code",
   "execution_count": 26,
   "metadata": {},
   "outputs": [],
   "source": [
    "def speech_file_to_array_fn(batch, \n",
    "                            text_col=\"sentence\", \n",
    "                            fname_col=\"path\",\n",
    "                            resampling_to=16000):\n",
    "    speech_array, sampling_rate = torchaudio.load(batch[fname_col])\n",
    "    resampler=torchaudio.transforms.Resample(sampling_rate, resampling_to)\n",
    "    batch[\"speech\"] = resampler(speech_array)[0].numpy()\n",
    "    batch[\"sampling_rate\"] = resampling_to\n",
    "    batch[\"target_text\"] = batch[text_col]\n",
    "    return batch"
   ]
  },
  {
   "cell_type": "code",
   "execution_count": 27,
   "metadata": {},
   "outputs": [
    {
     "name": "stderr",
     "output_type": "stream",
     "text": [
      "Loading cached processed dataset at /home/saad/.cache/huggingface/datasets/common_voice/ur/7.0.0/22f498ef791fb449d0ba8185660e0dd2cee815f02b179584bf3fa87098086dac/cache-19b410dddaad8d33.arrow\n",
      "Loading cached processed dataset at /home/saad/.cache/huggingface/datasets/common_voice/ur/7.0.0/22f498ef791fb449d0ba8185660e0dd2cee815f02b179584bf3fa87098086dac/cache-721b0e73fa2b0393.arrow\n",
      "Loading cached processed dataset at /home/saad/.cache/huggingface/datasets/common_voice/ur/7.0.0/22f498ef791fb449d0ba8185660e0dd2cee815f02b179584bf3fa87098086dac/cache-321cd90758916757.arrow\n"
     ]
    },
    {
     "data": {
      "text/plain": [
       "DatasetDict({\n",
       "    train: Dataset({\n",
       "        features: ['speech', 'sampling_rate', 'target_text'],\n",
       "        num_rows: 3156\n",
       "    })\n",
       "    test: Dataset({\n",
       "        features: ['speech', 'sampling_rate', 'target_text'],\n",
       "        num_rows: 1\n",
       "    })\n",
       "    validation: Dataset({\n",
       "        features: ['speech', 'sampling_rate', 'target_text'],\n",
       "        num_rows: 341\n",
       "    })\n",
       "})"
      ]
     },
     "execution_count": 27,
     "metadata": {},
     "output_type": "execute_result"
    }
   ],
   "source": [
    "speech_datasets = datasets.map(speech_file_to_array_fn, \n",
    "                                   remove_columns=datasets.column_names[\"train\"])\n",
    "speech_datasets"
   ]
  },
  {
   "cell_type": "code",
   "execution_count": 28,
   "metadata": {},
   "outputs": [
    {
     "name": "stdout",
     "output_type": "stream",
     "text": [
      "اس   کا   پروگرام   کی   تاہنگ   رومی   ہوا   ہے\n"
     ]
    },
    {
     "data": {
      "text/html": [
       "\n",
       "                <audio  controls=\"controls\" autoplay=\"autoplay\">\n",
       "                    <source src=\"data:audio/wav;base64,UklGRqTPAQBXQVZFZm10IBAAAAABAAEAgD4AAAB9AAACABAAZGF0YYDPAQAAAAAAAAAAAAAAAAAAAAAAAAAAAAAAAAAAAAAAAAAAAAAAAAAAAAAAAAAAAAAAAAAAAAAAAAAAAAAAAAAAAAAAAAAAAAAAAAAAAAAAAAAAAAAAAAAAAAAAAAAAAAAAAAAAAAAAAAAAAAAAAAAAAAAAAAAAAAAAAAAAAAAAAAAAAAAAAAAAAAAAAAAAAAAAAAAAAAAAAAAAAAAAAAAAAAAAAAAAAAAAAAAAAAAAAAAAAAAAAAAAAAAAAAAAAAAAAAAAAAAAAAAAAAAAAAAAAAAAAAAAAAAAAAAAAAAAAAAAAAAAAAAAAAAAAAAAAAAAAAAAAAAAAAAAAAAAAAAAAAAAAAAAAAAAAAAAAAAAAAAAAAAAAAAAAAAAAAAAAAAAAAAAAAAAAAAAAAAAAAAAAAAAAAAAAAAAAAAAAAAAAAAAAAAAAAAAAAAAAAAAAAAAAAAAAAAAAAAAAAAAAAAAAAAAAAAAAAAAAAAAAAAAAAAAAAAAAAAAAAAAAAAAAAAAAAAAAAAAAAAAAAAAAAAAAAAAAAAAAAAAAAAAAAAAAAAAAAAAAAAAAAAAAAAAAAAAAAAAAAAAAAAAAAAAAAAAAAAAAAAAAAAAAAAAAAAAAAAAAAAAAAAAAAAAAAAAAAAAAAAAAAAAAAAAAAAAAAAAAAAAAAAAAAAAAAAAAAAAAAAAAAAAAAAAAAAAAAAAAAAAAAAAAAAAAAAAAAAAAAAAAAAAAAAAAAAAAAAAAAAAAAAAAAAAAAAAAAAAAAAAAAAAAAAAAAAAAAAAAAAAAAAAAAAAAAAAAAAAAAAAAAAAAAAAAAAAAAAAAAAAAAAAAAAAAAAAAAAAAAAAAAAAAAAAAAAAAAAAAAAAAAAAAAAAAAAAAAAAAAAAAAAAAAAAAAAAAAAAAAAAAAAAAAAAAAAAAAAAAAAAAAAAAAAAAAAAAAAAAAAAAAAAAAAAAAAAAAAAAAAAAAAAAAAAAAAAAAAAAAAAAAAAAAAAAAAAAAAAAAAAAAAAAAAAAAAAAAAAAAAAAAAAAAAAAAAAAAAAAAAAAAAAAAAAAAAAAAAAAAAAAAAAAAAAAAAAAAAAAAAAAAAAAAAAAAAAAAAAAAAAAAAAAAAAAAAAAAAAAAAAAAAAAAAAAAAAAAAAAAAAAAAAAAAAAAAAAAAAAAAAAAAAAAAAAAAAAAAAAAAAAAAAAAAAAAAAAAAAAAAAAAAAAAAAAAAAAAAAAAAAAAAAAAAAAAAAAAAAAAAAAAAAAAAAAAAAAAAAAAAAAAAAAAAAAAAAAAAAAAAAAAAAAAAAAAAAAAAAAAAAAAAAAAAAAAAAAAAAAAAAAAAAAAAAAAAAAAAAAAAAAAAAAAAAAAAAAAAAAAAAAAAAAAAAAAAAAAAAAAAAAAAAAAAAAAAAAAAAAAAAAAAAAAAAAAAAAAAAAAAAAAAAAAAAAAAAAAAAAAAAAAAAAAAAAAAAAAAAAAAAAAAAAAAAAAAAAAAAAAAAAAAAAAAAAAAAAAAAAAAAAAAAAAAAAAAAAAAAAAAAAAAAAAAAAAAAAAAAAAAAAAAAAAAAAAAAAAAAAAAAAAAAAAAAAAAAAAAAAAAAAAAAAAAAAAAAAAAAAAAAAAAAAAAAAAAAAAAAAAAAAAAAAAAAAAAAAAAAAAAAAAAAAAAAAAAAAAAAAAAAAAAAAAAAAAAAAAAAAAAAAAAAAAAAAAAAAAAAAAAAAAAAAAAAAAAAAAAAAAAAAAAAAAAAAAAAAAAAAAAAAAAAAAAAAAAAAAAAAAAAAAAAAAAAAAAAAAAAAAAAAAAAAAAAAAAAAAAAAAAAAAAAAAAAAAAAAAAAAAAAAAAAAAAAAAAAAAAAAAAAAAAAAAAAAAAAAAAAAAAAAAAAAAAAAAAAAAAAAAAAAAAAAAAAAAAAAAAAAAAAAAAAAAAAAAAAAAAAAAAAAAAAAAAAAAAAAAAAAAAAAAAAAAAAAAAAAAAAAAAAAAAAAAAAAAAAAAAAAAAAAAAAAAAAAAAAAAAAAAAAAAAAAAAAAAAAAAAAAAAAAAAAAAAAAAAAAAAAAAAAAAAAAAAAAAAAAAAAAAAAAAAAAAAAAAAAAAAAAAAAAAAAAAAAAAAAAAAAAAAAAAAAAAAAAAAAAAAAAAAAAAAAAAAAAAAAAAAAAAAAAAAAAAAAAAAAAAAAAAAAAAAAAAAAAAAAAAAAAAAAAAAAAAAAAAAAAAAA/////wAAAAAAAAAAAAAAAAAAAAAAAAAAAAAAAAAAAAAAAAEAAQABAAEAAAAAAP////8AAAAAAAABAAAAAAAAAAAAAAAAAP///v/+//7////+//7//v/9//z//f/8//z//f/9//3//f/9//7//v/9/////v/9///////+/wAAAQAAAP////8AAP////8AAAAAAAABAAAA/v8AAAAAAAAAAAAAAAAAAAAAAAAAAP/////+//z//f//////AAAAAAAAAAD9//3/AAAAAAEAAgABAAEAAQD+//7/AQACAAIAAAAAAAEAAQABAAIAAAABAAIA///9/////////////v///////v///wAAAAACAAMABAAGAAUABAAEAAQAAwACAAEABgAIAAYABwAIAAYABgAGAAQABAAEAAQABQAGAAgABwAEAAQAAwACAAUABAACAAMAAwABAAEAAQACAAMAAAD//wAA//////////////3/+//8//3///////z/+//6//f/+f///wAA//8AAP7//v8AAAAAAAAAAAAAAQACAAIAAgACAAUABwAGAAYABgAFAAUABQAFAAgACQAKAAsACQAFAAMAAQD9//v//P8AAAIAAgAAAAAAAQABAAAAAQADAAQAAwACAAAA/f/9/wAAAwAFAAIAAQACAAIABQALAA0ADQANAA0ADwASABQAEwARAAwACAAIAAsACwAIAAUAAQD9//j/9P/y//T/9f/1//b/9P/w/+//8f/y//H/8P/s/+f/4//h/+L/5v/o/+v/8P/x/+7/7f/w//T/+v///wAAAAAAAAEABAAJAAoABgAEAAIAAAACAAYABgADAP//+//8//7///8BAAEAAAD////////9//3/AAACAP//+P/x//H/8//y//P/+v/9////AgACAAAAAAAAAAAAAQABAAMABgAGAAQABAAGAAgABwAFAAUABgAHAAYAAwADAAQABAAKAAoAAAD7//z/+P/6//7//v/9//r/9v/3//n/+f/3//b/+P/3//P/9v/6//n/+f/2//X/+f/3//b//P/7//f/+P/3//b//P8AAAAA/v/9//z/+v/6//7//v8AAAMAAgADAAwACQADAAQABAAFAAUABAAJAA4ADQARABMAEAANAAkABwAIAAYAAwAFAAQABAAAAPj//f8DAAAAAgAHAAUACAAIAAQABQALABEAEAAEAAEABgAFAAgADgAOABMAEgAFAAEABgAJAA0ADAAMAAsAAAD5//7/AAACAAQAAQACAAIAAAAEAAUABQAMAAYA/f8BAAUABwAPAA0ABwAJAAkABgAGAA0AGQAYABEAFAARAAoAEAAQAA0AEgASABAAEgAMAAoACwAEAAAAAAD6//3////6//r/+v/1//L/7f/z//r/8v/y//n/9P/5/wQA///6//n/8v/x//P/9f/+/wIACAANAAUABAANAAYAAgAFAAIABAAJAAYABgAEAAIACAACAPr/AQAEAAQABAD8//v//v/6//7/AAD8/wQABQD+/wIA/f/u//L/+//9/wEAAwACAAAAAAAKAA8ADQAUABEACAAPABUAGgAnACMAFgAUABUAEgANAAsAGgAkACQAKwAsACQAHgAVABIAEQABAAAACQD8//7/EAAEAPn/AwAAAPn/AwADAPz/AAAFAAIA/f/+//v/8//4//n/6v/m/+f/4P/j/+j/6P/n/+D/3//r/+z/8v8AAPj/8f8EAAcA9//1/wQACwD8//b/AgD5/+v/+f/5/+r/7//4//v/AQAAAP3/+P/s//T/AwD+//j/8v/l/+P/5P/m//L/7P/X/9f/2v/X/+H/9/8JAAMA7f/x/wkADQACAAEACgATAA8AAAD+/wcACgAIAAwAFAAfACQAFQAJABkAJwAeABsAFwAOABUAJAAiABoAIAAoABgABwATABIA/f8CAAkA/v/+//n/7P/y//D/7P/y/+b/8v8OAPX/3v/2/+z/1v/n//H/9P/2/+z/+P/6/+r/CAAnAA4AAQAMAAoAAgD9/woAHQAEAPf/EQASAAEABAAQACMALAAbABsANwA5ACUAIQAjABUABgAHABEAFAD8/9b/6v8JAOH/y/8BAAwA5//x/w0ACwD+//f/+v/2/+r/8P/z/9//2v/o/+T/2f/l//X/8//z//T/7//7//z/1f/M//X/CgAAAPr/CAANAPX/7/8AAPj//f8eAAkA5/8HAC8AFwDs//D/EQADAOz/BwAZAAQA+P/+/woA/v/l/wIAIgAYACAAIwAmAHEArgCkAKcArACaAJYAlwCTAJAAlACvAK0AeQB2AKMAowB7AGsAmwDEAKEAkgCzAKYAlQCrAKgAkwCBAIIAnwCWAHUAgAB1AFAAYgBpADIADwAfAEMATQA2ACAAGwAsAC0AAQADADAAJQAmAEAAHAAGACQAMwAwAAkA9P80ADYA5P/z/zIAMwAbAP7/7f/p/9j/9v8iAAwAAAAVAB8AGADz/+L/CwAPAOP/wf+0/9b/5P+7/8z/6v/A/6L/p//C/9P/o/+x//P/qP97/9//8P/Q//H/6v/d/+b/4v8VAB4A3f/x////0f/s//7/7P8XACAAEgAmAAYACQBCACgAMABzAE0AKwBPADoAJwA+AD8APAAyACsAPQAvACMANQASAPb/CAD+/wkANAAUAPH/DwAfABQADgAXADQALAADAPf/+f/0/+z/1v/f/wAA4v+y/9P/BAD8/+//CAAJAOv/4//c/7r/q/+w/8H/0v+w/5H/q/+g/2//cv97/2b/UP8//1f/d/9m/1r/T/8s/zz/XP84/wz/GP9Y/3n/R/9I/3r/S/81/33/hf92/43/ev+F/7z/u/+w/6f/kv+j/4//W/99/6j/pv+s/4v/d/+t/6f/d/+i/9P/tf+X/6T/o/+F/4z/pv+T/4//qP+a/4v/iP+T/9b/2f+G/4r/p/9x/1v/cf97/4r/ev93/57/g/9d/4f/iP9W/2L/k/+t/7H/s//C/6//jP+l/7z/lf+A/5T/hf9s/4v/m/9X/0P/hf+B/0j/YP+T/4j/cv+W/9D/y/+i/6z/2//o/7H/hv/E//H/r/+U/9L/CgAKALb/jP/8/zQA1P+7/xoAKQC5/5v/EwAbALj//f9KANz/rP///xQA7P/W/9b/x/+9/+//5P+N/7L//v/x//7/0P9k/7r/RwD5/2f/hP8rAEkAoP9+//X//P/b/9H/sP/X//r/yf/U//L/xf+i/8L/DgD//4z/xf8vALn/af/Z/xMA8//J/8L/7P/p/9r/7P+5/6L/8f8JAPf/9P/t/xkAKQD0/wQAFwDn/+P/6f/n/wAA8f/f/woAIwAfAA8AAAAeACMA/P/0/wcAJgA0ABwAKQArAPz/CAAfAAgADAANAB0ANAAHACQANgCc/87/rgApAFL/0f9sADMAmv90/yQAeQDU/1f/kv81AEQAWf9y/7cAPwDN/m3/rwD8/+f+uP+8AML/2P7X/2EAfP86/8r/+P/N/53/nv/q/yEABADB/7r/5f+p/1//zf8bAJz/c/8VAEAArv+w/14AYQDO/9z/VQBEAPL/NgCkAFgA9/8yADMA2//5/xwA3v/j/yEAFQDp//j/GQD9//z/QgAyAAEAQwBmADcAMwBEAFIAPAD7/ysAdAAGALr/JABuACwA3v8FAEkAFQAIAFoAOwAKAE0AWQA3AEgAMwANADIAZAA+AAQAMgBJAAUAOABxAPb/5f9bAC0A4v8lAFgARAAyAEIAVQAyACIARQA5AC4AUgBWAFkAcABoAF0AXgBLAEUAZwCKAHIATQBlAH0AewCNAIoAiwCyAJ8AdgCLAJ0AtQDMAJoAhACuAKEAigCVAIAAbgB+AIQAdwBlAH0ApwCOAHsAqQCyAJ0AogCGAGoAiwCXAG4AXQB+AKIAmgCVAL4AwwCbAJ4AsgCoAJ8AoACsALMAlACZAOwAFQHfAKMAqQDjAOkAqACfANYAwgCBAK0ADgHZAFoAmgAhAdcAZgCrAOUArACZALMAqACUAJkArQC8ALUAmABtAGQAlACOAE0AcgCxAE4A//9nAI0ACwDt/1oAZQAFAPn/RgBeACcAFABJAFMALgBAAFEAKQA0AE8AGQAHAEIAVgBKAEMALAAcACIALgA0ABwAGgBFAEQAJQAyAD8APQBNAFUASQAyACkANQAnAA8AGgAfACYAQwAvAPz/8v/6//3/+/8AACQALQAEAOz/5f/v/wcAAAD6/wQA5v/T/+P/0P/T//P/2v/C/9H/zP/L/9P/wf+3/8D/2v/6/+P/uf+//7n/k/+V/77/0f/A/7r/xP++/87/9f/m/9f/+//s/7D/rf/E/8D/tv+//9b/5v/y//7/9//4/wAA6P/Q/8T/uv/j/wQA4P/j/wQA1/+y/8j/vP+4/+P/4P+q/5//yf/f/8r/wv/L/8v/2//b/67/of+y/5X/cf96/5L/of+i/6D/rf+//8z/2//S/7P/tP/V/9b/u/+//87/2P/y/9z/oP+6/97/sf+4//7//f/i/+z/2v+3/7r/1P/q/+j/3//r//n/9P/6/wYA8f/H/87/+f/3/9T/4P/6/+P/0f/o/+j/1P/f//b/BQAYABAA/f8SACAAAAD3/xEAEgAaAE0AVwApACgAQwAnABsASABBABEAFAARAO7/+v8VAAAA9v8LAAUA6//n/+j/5//p/9j/1P/3/wMA9v8AAP//4//i/+z/6P/s//X/CAAzAD0AIAAbACIADQADACQAOQAWAPX/AQAQABIAMQBFACoAIAA0ACQACAAzAGEAOAAYAEcAUgAlADQAVgAxACMAYwBrACYAJwBfAE8AMABOAGQAVgBEAC0AKwBCAEwASgA7ACsAOgAyABUAJgAeAOr/AQAzAB0AAQD4/wMAJwAVAO7/DgAmAAsAAADu/9n/8//9/93/zf/N/9b/5v/c/8L/vf/P/+n/4/+q/5v/3f/5/9H/z//g/9T/5f/5/9n/1f/o/8//xv/O/8b/1P/Z/9b/CgAVAMz/v//o/+r/4f/e/+X/9P/b/7v/xv/c/+j/2//Z/xYALwD9/+z/5f/C/73/uP+w/8j/yf/L/9n/vf/O/w0A8//S/9//tf+r/+v/8P/U/9n/0//c//7/7/+9/6P/m/+K/3v/f/+Y/7T/oP91/5z/1f+//7v/yP+m/7n/0v+Z/5b/uP+c/7D/z/+d/5n/u/+l/6P/tf+f/6T/v/+v/6z/zP+2/4f/p//S/7z/tv/T/93/7P/5//j/8//Z/93/CQAJAAcAFwD3/wEAQgAtAAEACgAGABMALwAWAAUAEwANAA4ALgA1ABgAJQBFADAAQQCMAG0AJwBFAFgARgBHADYAPgBPADEASABpAC4ALAB0AHYAbQB+AGcATwBKADcAGQAAAA0AKgAXAPH/4v/j/+v/4P/U/+n/7f/g//P/+f/f/+b/DQASAPb//P8TAP7/5P/r/+3///8TAO//y//e//v/AwD0/+T/7v/v//f/DADk/7D/1f8AANz/q//B//z/AAD0/wcAAwDz/wEAKQA7AN3/t/9MAP7/LP83AP0AdP85/8AALQDb/uj/IQEYAOD+uv+nAJP/C/9eAIwAnv/j/yIAqP/0/1IAzP+z/0gAKQCL/+n/qAAnAHn/FwCMAOv/wf95ALAADADf/3gAZwC7/wIArwBtAP//NACIAHoAOgA8AGoAaQBrAIAAewCGAIEAVABkAIkAcgBeAGEAXABIACoAQgB0AFAAIgBKAIUAjwBUACEARwBWACIAJwBLAC0AAQAVAFEARwAKADMAewBeAEwAWQA1ADQAVQBGAEUAXQBgAGUAWQA1ACkAJAAeAC0ALgArAEUAQgAYACAAVQBbADAAHQA2AEMAJQAhAHMApABZACwAYABmAEYAXgBzAGcAbwB1AGcAZwB+AJwAsACrAKMAqQCmAJIAggB/AJIAqwCgAI0AoACiAIYAeABzAI8AugCVAGYAgwCTAHkAZABdAHcAgwBwAIAAgwBwAI8AlgCFAJoAgABbAGEAQABIAH0AUgA/AGQAKgAEAB0ACQArAGYAUQBWAF0AKwAsAC8AEAAtACYA5/8BACcABAABAAoA5//r/xcADADg/+j/BQAGAA8AGwAKAAkAHgAYAAQA9//z/w8AKQAaABAAHQAsADgAOwAyACwALgAxADsASgBWAFwAYgBfAFcATwA3AB8AJwAuACUALwBCAEUARAA4AC0AMAAvADUANQALAPP/FgAzACkAEAAPADsASAAxAEgAVQArACcANQApAD8ATAAqACoANgAqADgAQQA2AEgAXgBvAHIAOQAgAFAAQgAZADcASABMAHIAYAA/AFAALQAIAEAAVAAhAAQABwAlACwACgAeADEA/v/y/wMA6//h/+D/4f8PACsAHgAgAC0ASgBXAEsAZABZABkAGQAiAAUAEAAaAB8AOAAbAAAADgD3//7/LgASAOr/+/8cADAAGwAJABgAIQAjAAIA7v8/AE4AAAAdAC4A/f8RAPH/wP/9//H/7P8sAML/pv9UAAYAc////y0Asv/D/9//qv+0/8//zP/L/6r/jf+p/8D/y//r/9v/mv+H/5L/k/+d/53/tf/W/57/cv+T/33/cv+g/4z/lv/G/5z/sv/0/6X/hf/Q/7n/k/+y/7f/q/+l/6f/qf+L/5L/s/+W/5j/tf+R/5v/yP+e/3D/dP+Y/8z/tP+Q/9b/+v+//6n/vP+9/6f/mP+p/6v/mP+y/7n/jP+N/7L/uP+s/6b/t//I/7j/uv/L/7v/vP/a/+H/6//v/87/xv/d/97/1f/L/8X/3f/n/77/n/+u/8//6f/z/+7/4P/W/9z/6//+//3/3P/g/w8ACADm//b/BgD8//j/8f/0/wwAGQAVAAgAAAAZAB4A+v8BACkAIQANABEAFgAjADIALAAbABAAEwAmAEMAVgBKADUAOABFAEkAQgA2ADoARwBCADgALwAlAC8AOQAwAC4AMwAuADEAPAA9ADUAKAAqADkAOAAxADIALQApADAANAAvACQAIgAsACAADwAVABcADwANAAYABgATAAkA+v8AAAUAAAD9//v//v////z/AAD+//f/9f/2//v//v/0//P//P/x/+n/8P/s/+j/7f/q/+z/9v/y//L//P/6//j//f/8//7/AwAEAAQAAwADAAUAAAABABAADAACABAAFgAMABIAGQAUABgAHgAcAB8AIwAiACgAKQAmAC8ALwAlAC0AMwAkACQAMQApACEALQAyADAANAA5AD4AQwBCAEIARABAADYAMAArACQAHAAVABQAFQAVABYAHAAkACoALAAvADUANAAuACkAJAAfABcABQABAAsAAADy/wUADAD5/wQAGAAOAA8AGwAWABgAHQAWABoAHgAZACEAIQAVACQAKAAJAA8AJgANAPf/CQAGAPH/+f8FAAYADAAQABYAKAAuACgALQAwAC0AJgAXABMAEwADAPr//v8AAAEAAQADABgAIwAbACIALQAuADAAGwAGAB4AGwDo//n/IgDs/83/CQAKAOr/CwAUAAQAGQAPAP//EAAAAPX/AwDf/93////E/6b/7//t/7v/3P/v/73/s//k//v/7P/q//H/9P8AAAIA+f8AAAYABQAEAP//BwAJAPP/9f8BAP3/8//d/+r/EAD2/+T/CQAIAA0AIgD9/+P/4f/k/ycARAABAN3/yP+2/9j/5f/d/+P/0f/T/9f/xP/q/wAA6f8HAP//5f8CALL/b//z/wkAof/g/xQAtv+q/+//CgAvADgADgAeADsADAD2/wUABwAqACEA1//5/yQA6f8FAEYAGQAWADsAMQA5ADgAMABBADkAPAAWAL7/4P8cAPX/BwA5ACoAFAADAB4AJgDm//j/9P+W/8b/6v+l/+D/+//B/+f/1P/V/zUA9v/j/3kAWgDr/wAAFAANAPH/yP/R/8v/wf/X/+//DgDf/7n/IQAOAJ3/2v/0/7f/3f/U/4f/k//Z/w8A+//F/73/xf/Y/7X/pv81ADMAhf+P/53/WP92/4f/y//e/yD/Mf9s/8P+S//y/zj/Uv/J/33/fv98/6T/4v9u/6r/7v9N/5r/sv83/6//Jv/J/gQAQ/+O/gsAm/+y/oD/aP81/3n/iv8TAH//Af8WAP//9/9YAD//x/88ALL+rP8JAK7+BAAs/5T9lv9//tf9t/9y/Qn/Vv4n8iL1OwJA+kr2KwET+x70Kf22/b/7jQCO/Br6x/5q+7T54P5U/kr9Q/6++2r8bf5k/DT9DP9i/dv8I/wD+7L9HP9s/S7+3f7P/Dj81v1g//L/V/+5/oH+2/2O/SL+v/5D/3j/zP78/fH9Iv48/rf+Cf+W/vr9if2X/Xr+C//O/rP+ov6Y/vH+F/9f/ywAZwAOAMz/jP/B/y8AMABmAKMAMwDq/y4AdgCSAHQAdQC9ALYAVgAiAGoADAE/AQABIAEuAcoA5QCIAdABuwGxAbgBqwGNAZoB2QH3AdUBtgGrAY8BowHZAcoBvgGzAVYBYQHCAXoBSAHAAcMBVwFTAZABwQHCAbIB1wHZAbQBzQHZAcYB0AHGAdMBBgLbAXoBdAG8AewBygG2Af0BIALuAc4B4wEeAjYC+gHzAUECNQLwAfsB/QHQAfcBIALDAa8BDALQAZMBCgL/AYkBywH3AakBpgGyAckBDALFAWMBhAGKAYYBnAFxAY0BuQFVAVABnQFKARkBRwEbAQwBPAEfAe4A3gD/ACwBCgEBASMB4gDIAPYAvwCeALYAiQCTAMkAqwC1AM0AlQBxAF0AZgCjAJEAiADIAKYApAD3ALMAegDZANsAvQDxAOwA3ADIAHcAmwDcAHEAOwCJAJQAkwCuAIoAawB5AIgAnQCYAIEAigB5ADcAMgB5AJUAcwBeAEIADQAcAD4ABwDy/zsAWgAzAP3/7v9MAIcAJgDv/xoAAgDR//v/MgAyACwATABLAAAA+P9YAHsARQAjABUABQAHAB8ALQACAMn/3f8HAOn/vP/f/xMA8P+2/8L/vv+a/7z/8v/9/wgA7//C/83/yv+p/6j/m/+s/+7/0P+M/6X/l/9V/2b/f/92/4X/bP9K/4D/n/+J/9D/FQDI/4H/nv+o/73/AADs/6f/wP/P/5//sP/f/+D/7f/u/9j/7P/r/8D/2/8OAAEA6//B/4L/pP/8//3/2f/M/7//z//K/4X/ov8ZAA8Azv/z/wwA+v/1/8n/v/8PAPv/pv/T//7/2//y/wIA7P8dACoAzP+p/8v/6P8PAAAAxf/Y//L/xv++/+z/EQAwABYAxv+8//v/EQAEAA4AJAAqABgA8//m/ygAbgBGAPL/4f/0/+r/xf/G/xoANgC8/3z/y//i/7X/ov+R/63/3f+k/33/yv/w/+H/7v/X/67/r/+2/8b/yv+o/6T/q/+O/5T/pf+W/6X/mP9y/6j/pf8X/wL/dP+Z/4//gP8//wv/Ev9g/8n/u/9o/3P/dP8x/zD/WP91/53/hf9G/0X/Mv8K/1P/uf+0/3b/RP8//3D/kv9d/xn/Xf/R/3z/2P74/lr/ff/K/9D/X/9W/5n/x/8fABMAhP9k/4P/l////+T/QP+E/wQAwP+0/+T/tf/B/+j/1v/1/8T/af/B/8//cv/v/yAAf//G/xYAef/M/44ABQCi/+j/tv/w/5AAJwCs//D/yf+S/ywAawDl/73/1/+T/7f/WAAtALP/IABKAJ//uP88AOz/u//2/9n/7v8jANr/2f8eAAQALABsABMA/v9MACQACgBXAEoABwAvAIwAsQCHAEEAKQBPAJAAqgCLAGwAYABGADoAgwDfALMAVQCDAMAAhABTAEoAOwBjAG4AKgAgAD0APwBUAEsAOgBqAF8AHgA2AFsAMAD8//f/JABDADkARgBRAEoAYwBfADQARwCIAJgAQgAAAEsAYAAHAD8AfwArAD4AVgDV/+j/YwBaAEsAIwDP/wcAZAB4AJAAZgA9AF0ANAA4AKQAhwBAAGoAdwBpAFkAOABvALQAvwC+ADsAuP8dAHAARABlAGIAAQDb/+X/MQCiAKgAeQA7AOP/CgBzAHUAbwBpACoAAQDz/ysAsACmADUAQABjAC8ABwAoAGsAWAAlAFwARgDS/xgAlwCBAHYAdgBoAI0AVAAEAFkAmACWALUAWwDw/zkAhgCZANIArgAoAA8AbgB7ADIAVgB1AAIAAQBZAAgA7/9YAFMAPgAzANz/AwBWAAQACwBOAM7/mv8IAOL/w/85APD/af8FAFwAtf+p/xkA8/+0/8j/5f+g/yf/kf9DAOv/mP+g/0b/pf9LAMf/cf+q/2j/WP97/23/wP/w/7z/vf+s/7D/BgArACUA2P9a/4b/8//u/7r/d/+G/8j/nf+2//j/a/8t/8j/0/9R/1v/xf/V/6z/hv9B/43/MACv/zf/0f+b/zH/3f/7/7b//f/f/67/zf/j/ysA/f9v/5v/BAA9AB8A+P9cAPf/j/+LAEgAWgB5AX/+rv0OA9QBS/1EAQIDNf9yAMwBgwDVAfAAHP+FAZ4Ba/8QABsAHwBwAf//6/6bACwAzv5i/7D/zP/h/83+p/6l/27/MP/u/+3/Vv9O/z7/Kv+m//H/rf9Z/x7/Wf/W/6L/Wv/B/9H/Wf88/1//eP+O/4H/aP9F/x//Mf9O/1P/f/+c/1X/Cv8u/4j/0P8MAOz/bf9H/23/j////0MAyf9S/0v/XP+Y/9z/3f/J/6X/Xf8w/1v/v/8HABwA9f+S/3v/vP+//9v/MgAHAJL/Wv9X/6//5f+v/+b/AwBn/2T/v/9g/3v/DQDA/3X/ov+A/7L/CADK//P/OwCm/13/kP9y/8n/DQBi/1z/AwDL/5b/DgBSAGgAMwCe/8P/XgBXACsALQADAAEAIgAXACMAPwAdAOL/x//h/+n/rv+8/yMALgD7//P/1f/U/zsAZAAUAPz/DQDW/73/FgBTACQAAgAcAA0Avv+x/wAAFQDR/7b/vv+W/5L/2//1/+P/CgAkANf/m//Z/y0ANQAXAPr/5f/0/xkAJAAfAC4AKwDv/7X/vf/C/5v/of+2/4n/a/9x/2H/lv/8//D/s/+d/4X/qv/q/8f/uP/X/5D/X/+X/6X/uf/w/8T/jP+W/4T/nv/o/8b/mP+u/4X/XP+A/4b/kP+s/2v/Of93/5P/gv+e/7b/wv/F/4v/ev/G/9T/lv+B/3//cf9n/1n/df+4/7D/dv99/67/zf/L/6v/nf+r/47/Wf9c/4f/kv9u/1P/cv+j/6j/o//K////BQDm/9//AAAOAP//8f/z//3/9//W/87/+v8eABIA//8fAFEANQDy//v/JAAhABgADgD5/wIACwD//yUAXwBlAGEAYwBqAIgAggBfAHIAeQA/ABQABQAAAAUA6P/a/w4AHQD2/+r/+P8kAFEAKQAFACoAMQAiADoAPwAuAB0A+P/o/wkAKAArABsAGgAsABMA6f/u/wMAGAAeAOv/xv/b/9r/5v8eACYA7v+y/6X/8f84ACoAEwAIAO7/3f/Q/+3/JwD+/7f/xv/G/9L/FwANAPb/KQAFALH/xf8CAFQAiQA2ANv/x/+x/8///f/q/+r/yf94/6f/7v/R/+r/DwDu//H/7//z/10AdQAYAA0AGAAZAFMAPAD0/x4ATAAhAO3//f93AJgACADw/0sAIwAKAEwARABCAEsA9v/T/wMAHgBIAD8A//9BAIwASwBLAJIAgAB0AIoAbABjAG8AQgArAEcANgAgADoAJQDp//v/JgAjADoAQQAIACEAXQAbAO//KABBAEsAPADL/5D/y/8KAEoASADx/+r/8v+q/8n/BgDQ/+D/DACz/5T/yP+i/5//6f/y/+v/3f+n/8v/EAD4/wkATAAjAOj/6v/W/+r/RABQAAcA1v/I//H/JAAKAAMANwAQAMr/6/8DAA0ASgAlAMf/1v/e/9D/LgBqAGEAdQAjAMv/IAA0AAYAegB8AMz/CgCrAEcAyP/8/zQAEQDp/xEASgArAA0AJQAbABcAMwAcAPz/9//x/xYAPQApABgA+f/d/zYAhABIAB0ALgAnADMATwBYAHwAjwBsAFcARwBNAKAAzQCdAKcAyABhAAMAXQCzAIcAewCUAG4AXwBiADIAVgC1AIcALgBAAIQAwgCkAE8AdQB4AOL/5P9XACsAEgBPABsA/f8vAAsABABWAGUAXABfADsAQQBaAFUAjgCvAG0AcgCoAIgAWAA3ACMAVgB3AGYAewBeAPH/2v8NADEARQAoAA0ANAAdAN3/FwBaAEUAXAByACgACQAsACEAFAAYAPb/8/8jACgAJAA2APv/vf8JAFUAIAAAADEAMwAAAPj/+f/p/yIAZwApAP7/TQA8ANb/JgC5AJkASwB4AMoAwgBuAGgArwCWAE4AZACSALoA3wCwAIQArgCbAGEAiQCnAH0AdABzAFoAZgCFAIsAhQBnAEoAYgBwAEoATgCKAJEAfwCZAIEAOQBiAL0AogBXAEoAYgB8AGAAGgAhAEcAGQALAEMAJwD8/yYAEwDv/z8ASgD1/zAAkgBsAFkAbABnAJkAkAAlAEIAlgBeADYAYQCRAM0AngAsAFkAgQA0AGYAkQALAA8AjgBwAD4AUAAuAA4A9//k/yAAMAADADMANgDt/xgARQAiAEIASwACAPL/BQA5AIMAcQBqALoAuQB5AH4AtQDJAEcAzP9HAJIA9P/I/x8AMwA7AP//oP/a/xAA+/8hABEA3v8eAEYARQBtAE8AJwAsAAQAMgCVADgA2P8iAEcAKgAmABgANgBgACEA8f8nAD0AIwAmAPP/kf+X/7H/kf/e/x8Aff8a/47/uf+f/7b/tf/B/77/af9h/5L/h/+M/2n/JP9A/0P/YP8OAAgAV/9i/4b/cP/O/7r/I/8p/zv/Ff96/+b/3//H/6L/g/92/1f/fv+9/3z/MP86/03/bf9p/0X/pP8BAJT/XP/C/67/cP+3/67/RP8//1H/Rv9a/0L/LP9R/y//6P7s/gn/Rv96/2b/cP96/03/ev++/7n/yP+G/y//q/8LAOr/QQBMAI3/Xv+v/7//vf+Q/3D/uv+7/2z/i//N/7D/cP9n/37/dP+K/8f/m/84/zX/eP/F/+//6v/u/+P/6v8fAP7/7P9CAAAAbf9a/07/qf9LAO3/iv/a/6b/i//d/4P/hf8mAOD/Xv95/6v/GgBHAOH/0f/J/77/XACXAEUAbwBJAMT/1f/x//L/HQAEABIAQAD0/wQAZwA+ADQAOwDR/8P/0f+L/8//JQDh/9r/EQAhAEcACQB5/4v/5P/O/5D/dP+O/7z/p/95/3P/ff+r//P/BQDr/+T/7//Q/5j/mv+N/wr/4/6I/8X/X/+F//b/zf+d/9f/9v/n/+H/1//E/53/oP/n/7f/JP88/5X/P//o/i3/ff92/1P/Rf84/1n/v/+7/0D/H/8N/9X+QP+4/3H/Lv8x/zr/S//9/vr+5P8UADP/DP98/57/kf9A/0n/6v/C/y//l/8kADYAUAAmAOX/JQB4AIwAYwAWAD8AfAAHAMf/IwBGADAABADL/x0AZwDy/9D/FADG/5D/yP+r/5n/4v8TADEABwCS/4X/vP/v/1IAQgDA/9D/MwBVACEAgf9n/y8AVgDI/8v/TgCmAEQAfv+m/zEA/v8nAM0AlQAlADQANABzAAgBAQEzAHX/kf8fACcA/v8HAMX/g/+u/wMAYQA3AJH/nf8LAPX/AAA3AAgAAgA4AA4Avv/c/2IAjgAZAPf/HgC9/6D/NgA3AJT/ef/g/w4A3P+o/73/9/81AEAA4v+v//j//P++/9v/DwAWAA8A4v/o/0QAHADG/zwAdgD2/zYAvQBMAB4AhABZACcANgAbAHQAtwAgAPf/PgD8/w8AjABmACoAVABNAPn/6v96AL8AKAARAHcAMAAjAIkAcAB8AI4ACgALAFgAHQAzAEwA+f8dAE0AOgBvAEsABwBjAHgARABGAPn/5f9YAGcAbgCsAHcAUQCgAOAA4QCgAF8AYwBmAGMAQQAYAGsAeQC3/4T/JwCKAF0A4P/M/xIApv9C/7v/CwAhAB8Akf9z/+P/7f8oAHMAOAAoAOj/s/+cAMsAyf8UAKEAxP9r/xgAkwCaAAsAo//h/8n/1v+bALEATQByADIAuP8RAHIATAAvAPj/gP9f/+X/cgAuAJP/q//t/7v/6v9xAE4A6f8AABcA4f/C/9r/AQADANb/zv/p/+n//f8JAOD/+P80AP//rP+t/9z/+f+Z/z3/3f9qANL/d/8CAFQAIwC3/4b/KACBALD/dP8+AD8Ar//U/zQALADF/3H/6f9uAPP/oP8EAOD/e//S/xgAzv+g/8//EAAmADQAUQAWAMv/HQBmABAAAgBrAIEATgBIAHoAuQCuAHAAcAB9AHEAnQCcAC8ALgCfAJAAGAD//2kAxgByAOj/+P8/AEoAQwAuABkA9f/F/w0AQACg/yz/aP/V/0cADgBy/6L/uv+c/2MAfgDP/1MAfACl////aQAaAJoAjAC9/0YAmwDs/1YA6AB+AFcAMAATALEAogDz/y4AbwD5/5T/cv/9/8QAUwCj/wIARgD6/8n/rv/V/wYAtv+L/7H/iv+R//z/EQCy/1j/rP9DAN7/Qf+Y/6b/KP9u/xUAQAA1AEUATwAIANb/LwBsAG4AbQAEAAkAhwArAEQAEQFyAPP/dADA/6f/CwGIAEj/l/+r/8f/bwAYAPP/lAA/AJr/nP8KAMAAeQCL/93/UQDn/w4AmgCjAIMAYAAqAND/v/9TADMAZ//9/9sAKwC8/3IApAASALD/vP8HAEMAQAAbAPj/5P/f/6n/QP+T/2wA6//g/m3/8v+M/wYAVwCV/4X/qf9w/w4AUQDA/+b/vv8L/6n/dABIAEEACQCm/wsADABy/6v/0v9k/6X/yv9P/5f/2v85/yL/hv+W/5L/Df/u/g4A3f+u/ov/QAAf/9n+Jf/q/lv/mP9Q/5X/Qv9+/qH+Af+o//f/2P6u/nn/kf5w/jQAAACW/uX+bv8u/1f/AQAsAFj/4P6A/6n/hf8PAPb/QP9m/87/xf+k/3b/b/+q/9j/v/9t/4T/0P9x/1X/x/94/1v/AgC3/xr/Mv/X/p/+Qf9q/yr/A/+j/qj+6/4X//D/EwCh/jH+CP8r/zL/ff9X/1P/U/8k/57/HAD7/wYABQCw/5T/if/1//AArwBn/zH/tP8DAI8AxgDv/w7/WP8uAAsAef8WAI4AUv+T/pb/UwAmAO7/lP90//n/VQBpANcAJwGVAKX/gf8rAH8AZgBvACgAzP/5//T/8/+dAJ4A7//x/wAA6P9HAE0ABQD+/73/2/9MABsATQCmALr/O//1/1gAegBkABsAXwASAGv/DABjAPT/LAADACwAowFTAeP/kAAlAT8AHgC7AEUBSQEpAHb///+CACYBYwFeABEA1wC6AJYAVQE8AUkAKACBAG0AhgDnALAANAA2AGMApwDuAHkAEAC7ABYBagBRAOkA6gDNABMB9QDeADcB7wCyAHwBlgH9AGABZwF4AFQApgDIAPUASQC3/7kAYgHRAKcAAwF3AaEB2QA8AJQA7wBWAZgB9gCSAAkBVwFVAeoAdQAlAaABiwAfAPwA3QAKAHQAqAF2Aen/LAAYArkBiwCBAUkBtP+4ALoBJgDP/2EB8AFJAZ4A4gCPASYBtgD1AJsAlgBKAd8ANACBAHwALwCLABYBLgHAAGUAWwA+AKoAaAEYAbYADQGnAPr/RwDuAJ4B6wEQAQ4ACwDjAK8BQwFjADwAt/8a/6j/NgC0AF8BBgBR/p7/AwFPAEkA3AA7AKH/8P9xAJgAkAD7ANIARf+t/tr/rgC4ADgAe//I/xQATP+W/7IAXAC+/+j/HgC4ABsBgQA3AIwA4ADsAOD/Pf+jACMB4f+b/8H/8P/vADUAsf78//QAy//z/3MADACjAG0ARf89AA8BLQDOAP8BRgEYAN7/xwBrATwAzf8PAbYAfv8yAHoBogGeAIH/9P/NAEEAiP+u/3AA2QD0/4z/WQD0/3r/mwDXAAoAEwB5AB4B/wBt/3//4AAtAJL/vgDsAAsAmf+1/5YAvgDA//n/agAn/7/+8//r/0P/HQCOADL/2P5FAIcAqP/l/6QAYwBN//P+OQD8AHIAiAD9/5j+q/8aATAAMQC8AH7/AP+G/7//wwDZAHD/Wf9o/+T+8f9mAB7/Tf8yAJX/H/9v/13/iv9JAD8Adv9q/+3/r//K/sn+mACkAcL/4v5mAL//uv6fAOwAXv/m/2QA3v/Q/2v/AAAcAQAApf8TAcUAHQBSABkAvAD/AMP/SAB/AVsAEv9U/ysAiQDm/4b/tP+d//n/8P91/6kAGQE6/0H/0QCWAPP/AACMAIMBsgDg/nb/1QC7AIoAUACo/7b/AwDn/xMALAAvAH4Adf/s/TT/7wDe//z+lf9M/7/+DP/L/7oAlgB+/zb/a/+x/0EAiwCrADsATf9p/5v/5f+tAWQB3v4m/zgAjf/l/40AqgDkAKr/Dv9AAPn/9v8jAR0AR/8XANP/4P9bACEAGwEFAfv+nf9JAaAAOgCTACcAiv98/3kArwA0/2P/pgAaAMv/MgDY/wgAWgDR/6n/w//S//D/lP/J/zgAav8m/9b/3v8vAIsACgAaABwApf9hAMsAHQBuAD0AAv+4/wYBuwC1ANQA4P8r/zj/EgBSAdcAxP8IAFH/pv7LAHgBd/+J/wsA8v50/1oA2/8mAA4A+P4A/5D+1f1J/4MA4P+u/oj9fv6BAJv/Y/57/+f/Z/8f/+/+4f9dAGz/2f+RAMT/fv+0//v/gQCN/9H+t/9p/1//lwCa/+D+agAUAFn/egDw/8r+p/+r/2f+jv7O/zMAXv/y/q3/GgDN/37/oP/6/2v/1v6J/77/kf/5/0P/7v4xADcAAwAoAHv+rf7kAKD/x/5xASsBh/6v/r//GACfAKMASQC8/6r+h/7+/2ABNQG4/zr+P/4fADsByv/D/jf/zv6B/tD+Tf7Z/i4ArP8B/8r+JP4Z/08Ae/9t/xMAqv6E/fv+bgCP/3H+JP9Z/2j+A//4/3n/rf6B/Vz9QP+o/wj/pf/f/g7+TP/x/pz+0QDXAP3+mf45/kb/OgGq/6b+ywAjAGf+0f9hAIH/mP9k/2r/Pf/B/UT+iP90/v3+PwAY/iv9+/4m/6b+pf6e/jv/uv4h/sH/IgBk/w4AUP9J/kn/c/+x/0MA6f5Y//AAPf9Y/sX/AwDx/yH/b/4rAMz/7/3A/6kAOv+E/wb/af4JAPz/Gv9T/1T+wP5qAET/wf6P/6r+rf9PATf/U/7s/3L/tv4Q/xL/CABvABf/QP/C/+n+6f8UAWz/hv4m/9f+Bv+3/1v/3/5l/lz+U/8//6L+Ff8J/x7/m/8z/oD9Uv+b/2D+r/5f/5n+tP0i//EAev/g/fP+g/9S/1X/w/48/xsANwDEAHD/xP3M/yIAXf5cAAsBmv5H/0EAbv/3/y8AcwDtALb+hP42AYr/yP0dAa0Bdv61/noAyf9h/1wAtQBZAIL/tv5L/8b/gf9OAEwAI//N/7D/sP7rAM8BU/9h/yUAb/88AF8A0P+jAI3/mv6rAM0AR/+J/xcAAgE8AS7/if5MALEBbAGB/4r/pgGRADT/vQArACT/zwBoANL+KQBxAZ8AO/+6/vn/swAQAKcAFwG4/5v/ywB7AKn/7P+jADkBoQDc/tv+oACJAKr/wAAhAXn/5P4HALUAxf+m/qX/FQEtALb+I/+tAC4BDgCD/xIAQgD7AFABe/8f/w0BUAFjAMv/jP+MALEAff8jAAEBqgA1AYwAC//mANoCKAGO/yEA/ADpACcAOQAmAScBIQBD/6P/yQCBALb/SADa/6z+EQAYAar/EQBJAdX/G//f/3H/7v8eAZUADABg/4P/aQJ6AXj9SgAZAyT/0/6RAUoAIgC3AFH/lABlAYf/NQBpAK7+CwCBAaEAAgAJ/0b/wgCW/xn/RAGyAIn+v/54//X/5wDUAEP/Tv6D/6cA7P/I/9AAygC0/3X+WP71//IA7gDvAFL/g/2h/oQA1wBDAFH/9/4s/8v+Ov+pAFUAQP/T//j/NP83AH4B1gAPAMj/mf+0/0H/5P/mAesA/f4fAEYAVv+PANsAhwAPAVb/0P55AQkBcv+4AI4AMv9G/1z/QAAKAeP/0/9IAPn+Xf+EAWcBl//X/h4AbwFsAIn/jgCdAKr/v/+q/wD/X/9KAFsAFAA7ABsAuP8HAFoAJQAuAO3/c/8bAHwAgf9g/ygALgBjALwArf/k/jEAjgH7AIL/ef/CAGsAI/8pAHEBuAAvALP/AP/o/1sAp/9MAFoAYv9GAPcAKwD2//b/jQDoAN/+gv6vADAAWv9fAEr/W/7f/xoABgDxABQAR/9MAFIAtv8/ALYAygB9AEP/gP/GAZQBXf8AAA8BAwAHAa8CzgA3/yIAugCzAGoASwC0ABAAcP/U/7X/xgDiAdD/OP+5AKn/CABcAtAAyP6u/64A+gDA/y3/oQFBAbH+LwDtAJn/YgGtAQv/ef8bAT4B3wCr/zwACgJ0AC3/BgG6AAD/CgBRAfEA1QCoAIL/rP+mAXoBWv/b/1MBXQCL/2YAXQEzAX7/Zf/VAY8BYP/z/6YAOwDyALcA0/+qAKsAiv/X/1oAbQB9AND/0v+gAEUADQBzADkAsQAOARsABgG2AvkAC/9WAKoBFAE8AGwAGAGlAOb/dACpAE0ARQF9Aej/LQDTARYB7v8IAZYBWgAPAPAAeAGbAQ0B/v+Z//r/9wCoAdMAeQAkARQAWf9RAUgCCwHw/97/bgGzATf/6//NAjQBRv9oAFoAbwC8AfUAMACYACAAngAwAf7/gACMAeP/Zf/5AD0BLAEXAcz/af9yAOkAtgBjAGkA1QArAAj/9v/XAaEB4v9G/ywAnAANAAAAaQAjAPb/YQAAADr/6//6AGkAZ/+U/ygAOABYAO4A6QCi/9j+qv9aAEgArQDQAMv///5l/4MAKQE+AAr/Kf+b/9L/RwBpAHUAUQD4/sr+HQF2AVX/r/8uAfn/VP91ARECKgBn/9j/AwDkAMYB4wDK/9X/7/8eAKMAUgB+/5f/AQC6/6v/VwBZAGT/Ov8UACIASv9l/zwA0/8G/6v/LgDP/xcA0P8n/tD9Av/9/3cAhv8r/kH/ygAcAIX/gAApATIA5v5s/7MAgAAbACoAcv9U/08AQwC5/y4AowASABn/J/8OAN3/R//7/9f/Fv4e/uX/JwB+/2z/p/4G/lr/+/+c/qT+TAB8AET/4v4QAPwAMwCg/w0ABgBWAKAAaP9Y/7IA///c/p3/ZABdAGz/Rv4v/44ASAA7ABgA7v4y/2sAFwDM/58AYAA6/8L/KQG6ANL/ZwB5AKn/LADqAEgA9f9/AFUAnv/h/4gAAwCU/10APgAJ/yz/FwAsAA0A5v9K/x7/0P9PABoAxP9x/2P/EwAiABD/Ff/u/7r/fv+K/zj/nv8XAND/CQDE/57+Pv+YAEcAqf9i/0z/MgCAAGP/P/8/AK0AXwBx/9j+7f/wAFAA2f/+/2D/6f6W/z8AQgDS/2n/pP/V/97/fQA7AAT/Mv+T/+7+bf8oAKH/r//9/7z/KgAvAI3/9//t/xb/X/93//v+t/9GAHP/if59/vL/UQEQAH/+Q//1/zr/Fv/H/7b/8P7d/lP/MP8Y/7X/7P+R/23/Vf9i/9v/AQBz/8X+rP5p/wsA2v+t/7n/gf/g/7YATwBt/+H/lAAaAGn/nP8bAM3/Xv/6/00AqP/j/3EAgv/R/of/3/+h/6r/mf8e/5T+4P76/93/uf4M/6v/qf5c/t//fQBf/3n+6f7J//P/1P/Z/1//8P4g//b+Dv8+AHwAKv+F/hX/3f9uAFsA6f/E/57/Y/+s/zIAPAAIAPT/kP9W/x4AjQD9/yYAeQDI/9D/ZADo/57/vv9K/6H/dQDy/23/PgAaAcsAoP9q/48AoQCb/5z/FwA2AEQAiP/D/rT/xwAjACP/R/87ALEA1v8S//L/CgHlAIwAYwDM/73/jwCyACAAHgBAAOv/BQDRAN4A4f+h/2wApgBzAKwArQB0AJEAnwB/AFIAOQByAFMA4v8gAGcAOwB5AHMAy/+2/yMAiwDJAEEAjv/D/3oA2QBWANH/kwA2AYQAGQCHAM8AkQACAP7/cAB8AKAAhgC+/1sAuAHPAHr/PgAVAaIAPQB2AJIAcgCkAJkA9P8YANoAowALABgAaQCDADkAQgDZAMgAZgCGAEgADwBwADQAy/9iAMgACQBZ/9X/ogBkAOf/LwBlAEQAJQCr/1v///+wAB4A/f5Q/zkAsf+C/5QApAAyABkAi/8tAIwB0ADw/2EAJQD2/04ACwAxAIsAGADf/5L/Uv9PAKcAsf+D/6b/gf/I/9b/yv/9/6n/Yv+C/3n/0P8CAID/gP+0/2j/dv+A/0T/mP+K/7T+vv6o/93/S/8r/4f/S/8U/+b/WQC7/2H/gv+M/5z/0/8MAOH/nP/Q/6H/J/+Z/+f/gP+3/9P/T/+V/wEAi/9t//7/IgCt/17/z/9fAEQAHwBIABYA2/8SABYAvP+5/9T/mP+q/9P/Pv8q/xMAAwA+/4f/AwDW/8D/4P8LADUAQABmADwAy/9UAAYBVgDK/1UATwB9/1D/AABpALP/4f4//9v/zP/y/zUAyv+I/wEAOwD6/wYAZQBjAPD/z/8rADMA2f/T//j/4f+p/1v/e/81AEMAff9p/9j/i/87/wAAxwA/AGf/uv98AJYAhwB9AC0ANgCGADcAy/8OAFsASAAoAOn/vP/9/x8A9f8QAE0ARQAaAOD/8v9jAGAA/P/y/+f/tv/r/zIABwDX/wAA+f9x/37/NAAGAJb/MgBuANj/1f/w/7T/uP+d/4D/y//o//D/7P9W/w//p/8KANb/dP9P/5//5P/8/ysA+f9x/27/7v9LACcAs/+M/9n/GgACAP//TQAIAFH/jP8ZAP//HQAxAKT/kv/t/9//1P/r//f/8f+T/2D/tf8PADoA4f9x/wAAZgC6/9P/7QAmAUkAwf9eAPMAWQDv/0EAHADV/+r/1v/h/wQA0P+6/9f/2//u////BQAiADwASAAgAAEAQAAzANr/CgB1AJsAfwAMAOz/TQBFAAEA7v/H/+b/IAC+/1f/hP/e/woA0f95/6v/EwAgAAIA/v8dACwA9//X/wsAKgD///T/QgBkAA8AFAClAKIALQBuALsAPAAQAHQAQgATAI0AfwDs//r/SQBJADIABgD8/zEAQQBBAEIA///C/9D/5f/6/xsAFADX/5j/nP/f/yEAIgDn/97/AwDo/wMAfQB7AC8ANwBBAEsAVAAjACYAPAASABoABwCx//f/cQBLAB0ARwBuAFIADgASACIA4f/d/+r/gf9T/4//pv/K/+X/p/97/7D/IQBWAOj/if/W/wgAuP+c/+3/IAASAA8ABgDk/yEAngBkAJ7/pf94AKMAFgAIADUA8f/9/3cAlQByADwA+v8gAGkAOwD3/wIAIgANAO7/KwCCAFkA7P/M/zQArwB1AO//4P8CADEAOADB/+T/1gDHAPT/8P84ACsAIwAKAPz/AgCw/2j/pv/z/wkA7f/F/x4AhQAoANf/KQBVAEUASAAHAKb/hv+m//z/GwDd/87/1P+6//r/RwAjAO7/8P8mAEgAAAD7/2IAPgDm/xoASgA5ACcA+//t/xEAFwDu/9P/MQCUACIAyv9AAGsAOwBOAB0Az//4/zoASgAFAJD/pv8XAC8AGQAEAOr/DwBaAGUAOwAsADYADwABAF4AgQBKAGYAkwBKAPr/DQBWAHcAXQA2AAUA9f82AEwA6f+p/+n/NgAsABoARwBGAB0ATwCNAIAAcABbAEMAPQAwAE4AcgA8ACIAQwAoABkAOgAuAAMA2f+5/7j/s//N/9j/Xv8H/17/sP/I/9X/o/+S//X/OwAgAPH/1f/I/97/NQBoABoA+/9jAI4AYgBvAH0ASgASAP//LQBuAEQA6P/K/7//yv8PAC4ALABkAHIAJgAlAGIAUAA1AEYADwDE/wUAcABXAAkA6f/l//T/EQA2ADYAyP9+//7/ZgAFAIj/aP+l//7/8f+m/4v/i/+v/9r/y//i/yYAHAABACgATQAyABQAWQB4APn/1f86AB0A7f9BAFEABwD9/xkANABAAC0ADQD0/wEAEgDl/9b/AADz/9X//P8nACwAHgAYABUAEABFAIEATwANAAwAAADw/wAAEAAkADEAIQAMAAwAIQAbAPT/7f/y//f/HQADAMD/8f89AC8A9/+u/7b/NgBVANH/ff/A/w4Az/9+/8v/HAADAOL/rf+O/8n/uv9E/zL/lf/k/9X/mP+a/8b/1f/N/6r/pP/a/9P/jP+T/9X/6v+0/2//iP/s/xEA2v+T/4P/sP/b/8r/mv+M/5f/kf+1//j/3f+l/8z/8//e/8z/t/+W/5H/sP/V/7v/d/92/6X/sv+n/6X/lf9l/07/i//A/5v/a/9n/3P/i/+v/8v/vf+T/4b/jv+i/8b/pf9g/3b/nf+F/23/Xv9u/67/wv+s/6j/m/+K/4H/e/+H/4L/dv+R/5b/f/+K/4v/dP9m/2j/lv+w/4X/g/+H/1H/W/+H/2//ff/A/77/l/+h/77/sP+U/6n/xP+//7b/nP+e/+L/5v+d/5L/vv/o/w0ADADu/9n/6f8WAAYAv/+///L//v/r/9D/0f/4//3/3v/W/+v//P/u/+j/8v/d/+3/KAAMAOX/DQAWAAkAIgAPAPP/BwADAPf/IgBaAFgAHwAIACwAOQAhAAYA9/8EAPf/1P8DAD0ALgAvACkA/f8LADIALwA+AFMAPQAxAFwAkgCPAHUAgwCBAGsAfgB+AEwAJwATACIARgAuAA0AIgAZAPT/AAAVAAgA/v8RAC4ALwAjABUA+v/h/9f/1//X/73/rP+5/6D/iP+r/6L/b/+U/9f/0f+w/53/m/+i/5L/gv+M/6H/s/+0/6n/l/94/3z/mf+H/3b/k/+d/5f/nf+b/57/pv+g/57/qv/K/+f/z/+6/9r/9f8FABYADgAZAEIARgAlAAwAAwAEABIALgAoAAcAIQA8ABYAJABdAEQAFQATABEAEwAXAAsAGQA4ACwACQAuAIEAfwBMAGcAiQBsAGEAbwB9AIMAVgAsAD8ARAA2AEQAQwAyADgATABWAFIAUgBcAFgAVwBUADsAOwBNAEsAVABMACUAJQAlAAAADQA/ADoAIAArAFQAYwBGADEALAAmADoASQAsABgAIgAoABQAAgAlAEEADQD6/zMARAAeAAAA9v/+/wUAGABCADoAAADz/xMAIQANAP//EQAhACwATAA8AAMACwAlAAwA/v8QABwAEgATADAAJAD7/xkAPAAVAPn/5f+0/8T/AQDv/6b/rP/1/wIA6f/3/+r/w//Y/+X/1f/4/wMA5f/+/xEA7f/u/woA+f/e//P/BwDk/73/zv/x/xUAKAAKAAMAKQAsACEAJwAkAB4ABgDu/x0ATQAhAPn/EwApABQABAARAAgA3//c//3/BQD3/+H/4v/8/wMA/P/x/9r/4P8EAA4ABgADABMAKwAdAAgAEwAcADcASgASAPP/EwAWAA8ADwAAABoAMAAGAP3/CwAHACIAIQD9/yAAUQBKAEsAQQAYABAAIAAPAOn/7P8YABYA5f/j/wgACQD5/wEACADv/9b/1//Z/+j/AwAAAP//GwAbAAgAEgASAPr/7f/6/xAADQDm/8L/0/8KABQA6//r//7/8P8AAB8ACADy/wIACQAIABcAGAAAAPT/+//s/97/6//w//r/BgDe/8r/9f/i/8H/9f8BAM7/zP/d/97/3f/M/9v/9f/T/7n/vv+0/8T/zv+z/8L/0/+1/7T/u/++/+z/4/+t/9P/7f/G/97/+P/o/wsABgDO/wgARgAQAAMAIgAXACkANwAMAAsAHQAAAAsALQAdABwAJQAOABAAHAAaAEQAaQBNADkAQwBDAEMASwBKAD0AJAAYADQAVAA9ABoAPABnAF0AWwBgAEcAWAB7AFIALQBLAGYAaQBbAEMAWgCGAHQAVgBzAIEAXQBaAHcAcwBtAG8ATwA9AF4AcgBrAFoANgAqAFYAcwBuAHYAcABIAEgAZQBbAGUAggBjAEYAUgBJAFgAdABcAF8AfABiAE4ASAA0AE0AXQA8ADsAQAA4AFcAYgBNAFYAWQBfAIYAgABNAEQAXQBjAGEAYwBNAC8ALwApACAAMQAlABAAKgAxACEAMAA2AC0AOwBNAEwALwAgADIAJAAWAD4ARQAsADgAQwBVAGUAQAA/AHoAfgBaAFkAZgBiAF4AcQBqAEQATQBUACoANwBbAEYANwA4ADAAQwBOAD8APAA9ADMAHwAVABcACwAZADsAGQAAACIAFQD+/xcADQD1/wYAEwAJAPj/+P8BAOX/0P/s//b/9f/+////GQAmAPj/4f/s//b/FQAzACsAEwAUACkACQDY//H/CgAPADoALwD1/wcALwAuACIABAD5/xAADwADAAQABgAEAO3/4P/6/wQADAAeAA4ACwAnAAcA2v/4/xsADQASADMALgASAAEA7v/0/w8A/v/2/yQANQAkABAA8v8FAC0ADADt//P/6//p/+H/1P/u//L/0v/V/8r/rf/Z//H/qf+D/6f/xv/k/+n/uv+3/97/z/+//8H/nv+q/9//zf/B/9z/yf/I/9//y/++/6X/if/J//P/xf+8/8P/x//8//z/xf/Y//j/5f/f//P/CwATAAUAFQA4ACYABwAQAAQA3//t/wEA5//+/x8A5//c/wYA2P/X/yIABwDr/wEA2v/k/yMACwACABMA5//u/woA6P/q/+7/y//h/+f/sf+3/+X/8f/v//X/CgAOAAoALgAtAA8AMgBRAEwAUAA6ADEAMgD0/+n/IgAMAP//NQAyAA8AEQAfADkARwA4ADoAWAByAG4AWABWAFEAPwA3AC8APAA/ACIAQwBfACsASQB5ADAAGwA4ABUAIAAjAPX/GAAnAAAALgAyAP7/HwArAAkAEQAGAAAAGwAnAFUAYQAlAEQAbAA4AD0AUAA3AHAAkwBNAEEAYwBhAG4AcwBhAHUAhQBhAEYARgA7AD4ARwAsAE4AoABoAC4AewBwADMATwAfAPr/SQAqANH/v/+x/+7/EQDD/9H/+P/1/zsACAC3/xkA/f+t/yYAIgCt/7X/2f8eACYA4P81AEoA7f9gAJMAIABIAG8AWAB9AHsAqgCnAPv/IQDkAMYAVQA9AFgAWQBOALAAnQARAEsAFQCz/6kAiwBI/6X/IQDo/+//dP9U/7P/Zf+A/2j/3f5r/xP/Zv6n/3H/Tf4W/9v+oP7V/wX/o/7m/yT/Vv/MAJP/Uv/MAEQAFwD0ANgA3ADHANgApgFSAT0BKAKTAUMB/wGXAbIBLgJBAQoBcwEUAe8AdgD1/1sACABp/2P//v4g/zT/B/4b/hj/ev6H/UH9Rf1a/eP8zvzb/Nn76/uz/Mz7sfvb/Mz8L/1Y/gv+ov34/hUB3AHmAOgArQIMBIAEKQTIA9EEBgY6BvsFQQUoBe4F1AVaBQcFLQSgA3EDCgNtAnYBBAGCACz/Q/+u/0X+hP0e/T/88/wU/dT7cfu5+lL6ovrW+fv5v/lN+Ar6Wfq193H4BPg0+iwDf/0f8Ir6SwjiATX+RACQ/GUBIQuLBmf+jQESB54FEQODBRkGoAExAQwE+AKmAjMEaAAM/IH/2AMGART9PP18/Tj+FQH9/937A/2EAFIAz/8DAQEBMQDJABsCAwOpA18D4wGFASkDiwQZBIcC4AFgAkMCewICA+wAS/8cAS8BZf8rAP3/uv1Q/qn/0v4H/4n/mv3O/DL/bwDu/vj9Rv5L/gf/ZgCo/9b9iP6TALYA0v83AMQAMwCPAAsCCQJLAWQBEwFAAeMCrgKuAPUAVgLwAYoBwwEHAQMBXwINAsAAbgE4AmkBHgHMARwC4AFxATwBSQGqATICewHDALQBiAHiAEwC2AFKACwCvQIDARwCMgJuAAoC6gLiAN0AQQGLAN4AkgDg/ygAvP+P/wQASv/C/o7+Kf4q/wD/3/zz/G39W/wM/Vj9SPv7+r77YPt5+7z6Zfnu+bz57fgM+oD5sfdL+Ej4Nfj6+fL4xPcG+sj5X/mc/GH8C/tN/qn/WP+tASkCJwINBU0GLQZTBwMI1wiiCX0JnQqVC7EKUwoxCkUKJQtwCeEGAwhvCJoFjQSuBN0CfwHVADr/lv40/rL7gPlP+aP5Dfkr9in0+/Wi9UfyffIY87Tw4e/+75rvqO+y7VHsJO3Q6/3tpfSc8hjtqPGx94j5jP1S/iD6hP2sBigI3QT9BT0IzQjTC9gOiQ14DMgNoA3GDYoQaxADDAMLQg7fDeQKnQtuC2YHJAgwDMoIGgRwB8gITwStBcEIwgMuATsFkgQeASQBeAAQ/+X95PrZ+dP6y/j89LDyFfSO9U7wg+yO753tlOkv60bpvua26IDlmOL05a7oa++F8ajk/+Wb+Uz9r/il+8b4MPuFC3kOowNxBSsQzRGEDmcSBBc4EygR2BTFFJgUBBcJE8oMZA7PE2ITuwx7CYkLwwx6DhANlQU2BjsNGwrfBJ4G2QY6BdcDGwAH/tv+3/1o+VH0SvSL9sDyF+4v7pjrAece54rlZeFJ4xTid9kv2WvZyNWA6Nn2QdoAzcnt5fxT9aj4RfI47ZgGwxZbCIcCyw4PFqwVZhejGjcb2hviGugVuhntJHgfCA8fD84ZpRpTFRMRhgvsClsR9Q9RBwEIMQ2PCggGDAZVCJgJngewBL8DMgNsASoAyACp/Z31ovT3+Dn1WO9r7czpB+iP6HDlpuBe2/jYMdt52dnVsNMs0ofec+rK24nUKOm486XzGPpD9i30ZAcNFHENwwtNFVIcgx2xH2AhcCAtJR4p9yF/IEYo/iT9G0UbxRwrHlwfthhpDT0L7hTwGQAQsgZVB+MIegthDFwDev6uA6MA0vpg/gn7VPNc98nzuOay7ez1OOXo27/jM9/x2B/fi9rEzGvMLtGw0a3a1uTg2hvP4dya76LztvY49v7wWv4LErIPyQpMFVAb9BdIHPQkeyUEJ8YqkyDbGsUsFzJ9IIIcXh8WGucfriN7FEIPNhg0FG0LORAxFXQOBgh6B74FhAgWD8UFHfXm93MCMP++9iXyVe0P67ru3O1s46feZ+H+2irViNwA2j7KKMgRz/fSaN214EbRFM+m48DvH/As8+HzsvUuAQ0K2goPEKMYTBgdFFcbMymtLc8pBiRuHzAmwjJlMMUjTh5xHy8hZiE/H8UaFhXDErER9A4pEpsTyQipArQEGgOwBDcDxPcK9mD5yvOw8/70SO0a62brgeXc5anonuAd16DXPtrP1IDPs9Af0kfai+TG2hXRg+BD727xKfSV8qfzGAN2DqwKFQh2EU0bHhqaGT4gcCKpJHsotCDCHF0p/CvDHl8aoB7OHXQcSxt1EQoMzxWzFaEHCgeICgYDbgHsAEH47vgS/QX1h+4v8Rf0q/PR79TqWuf25jfpcee54hrhjN6W3M3d+9qy1zbYjtnJ4aDpouNl3gbk5ewc+NL8y/UT9WgAeAu/Dy8N4g0FF3UcUh2sHw4f+iF/KjcnZh/SJTQqbyJCIO0gKRvTG0kenBNFDSUV5RMyB78D8wUDAiv/Tf1s9Hby2vwv+hPr9elZ72LtoO0y7I3kwuPC5/Hmz+OE4ifmC+aR26TYJd1k2hjgiera4bPcmuc46dfs8f0TANP1wfjNAukJfBALEwEPuA0fGJQhch0JHJci+yBEH+wkPyMeH0wiPiF9GmcYAxrvFvkO2Az1DbUH4wNtAyP8i/znAlL5qu+W9Bf3XvX48wbv9+3H8qr0qPEQ7r/v0vHR7N3oN+gP52npXecn3SnZS9295H7qhuTG3STiquft7kD3A/ZM9aL5GPm+/F0IKg5+DcYNtRDNFE4YLhxRHhMe6B8DIJocdh1+IcIhchwgFl0UjBFkDgYTcBEGBxQH+wXG/EsC9wnWAFP8c/6O+Ef5lwPhAvj5b/ft9UrxpPL59Xnw/OlV6Cjlw+Q06Ynn/t+x29/ccuFM5I7jKuMn4+riwOVY7EjzIvb+9dX3MvpW/WgEnQgbCvQQRhIuC1oQUxzQGwYaSRu3E34Qfxl3G64VLhRyEOEI1wj7DSUNBQpUC4kHmP8HBX8O0Av/CZgJpwJ2BDYKUQW3BKkFn/v5+OX9EvtX+nn5kPCs72P0J/AI7drtoOiu43/lTuco5unm2OnP6YDpwezl7afvofeN+zD6ev0QAPH/hwXvDCIQXQ+/DK0PsBUCF/kXIRb8ERYXgBfxDZcTvhsiFMQT9BPxCTcTMiFuGGkVHRmAEN0SExwyFI4OoRDuCnsJNg/ODn8MTAkDAZT+GgQPBHj+Nfuo96D10/iP95Pzm/fB99PvP/Bi9S315/M68ozx//Ja9Hr4Bvk89i39DgBd+h4CfgihAqgIWQ9xCbILdBK1EXAP1g6nE1cVIhBxEyAUQhHrHJEZ7Ai4E+EaXhCQFSEUvgr3E98SGgrAETsRUQvlDP8I5AhiCosG3QdkAs8AqgxhBFD9RAju/Rz7oggk95PyIwjm/OXwePlF9fn3Fv3a8Q3zIPrd+Ov3E/C58uf/mfnM9D/5TPXC+rEAfvvY/hUAKv/GBNj/uv/aB/QFvwudC17+hAeRDVwGcQ8eCsEAow8tC6YDoRD5CVsFtgzsA0QGngg7/oYKxgy8AGML6AJ99yMNDgd+95UHaQUZ/n4Gzf1W+g4Axfo//pD71PK8+8v2XvDo/7L4u+10/Mb5J/HI96X0XvbZ++jvRe5E90n2o/cQ9L7s/PQR9w7vbvQg+Hr0+fW+8xD23/1l9hH3KAY4/5j5hQQX/D76zwiq+9b3fg0MBCb5ewVp/4z+sAmQ/879SANp+64CyAS99rL8qf/T+vABSfgw9KsFMf739pX/XfXj+bYFgfPz92cKLfwE+/MDoPYS+WMCWPld+of9e/jE/Z38xPSD/Pv/APrH/pn+CPaE/YIDcvcF+j4H3fy19aIESAM19vr8BgQb/38CgAYA/WL8oAi6AI/zOgOOCU730PqvBCf97QBQATH2ugCHCFj8ifrC+wv83gIR/W35TgL3/k3+VAM0+ev4mQEe/G3+VgMM+xj8Q//5+/wB+AKb/fj+Bfp393T9T/xJAVcFXvYb9M3/ZgCKA50Co/gi/mcC3fqX/U4BYwKABCr8BP05Blb/dgBmByb/ugQPC9P9LgJNB9f5cQAbCngE3Af6Adf3ZwJEA5r+eQYPAJr82QdRADX6BASMAcr/hASx/az74QFsAHr9p/21/kz+6P3EAyQCMPpfAksGUPwHADgBfvcy/gwCk/dy+wAD8fx098b54QGeAhH42/jqAKsAdwFm/Uf2uP5BBAT9Fv0rAPP/vv08+JP/bQmd/4T9lgY7AEb+fAQy/kMA7gkq/4n0zf3nAnH6SflfATD9JPUP/PD+J/xMA0MACfgoAFoBSvsM/tr6u/1PCQcCbf2CBOj7qfmZBDv/Uf22CZIFuvZR960AZAIqBGQKxwIi+5UF2AEB944EuAjg/ZgBbAKW/98BUv2eA2gL5AEyB6sK1vlqAB8J/P0jB0sN/AD7Atj/jvyvCVgAk/iEC1kEIPe2BQr/BvFHBX8MfPiM/PILX//294YHyQJL+RALIQv1+lwE1QYa++wBxAewA2MAS/v8/4QB5fiB/57/QvUZ/yz++vNKALH9uvNbAMD+TPsAByD+RvlsBOX8HvqNAiX/pwGOBPj98/0a/ZH/MgTs+Z/7CwSY+On9cQjS+LH7CgbB+Fb9YgaT+oj9CQEh+QUDFwbL+zkDRQZl/p4CTwGo+RX/GwKP/hMA0/ui9X7/0QZ/+/r60wjeAqj3SP7s/tb8IQXWAPb4hP0t/Cr8/gEp/ST6CfwH/ckEZADF9m0AFPyK8AoDvwnJ+37/WACz+pL+q/ql++sDwPxS/VoEhvl2+SUDyfm691wGoQTe+uIBiAKT8yX6HQdg+/z+pgp/+QP6WwcT+5r/Pwlc/70IVwZc9u0JBwvz+a0KIQjj/IcObwPZ8jICqQG0/HwCx/19ANED7fsP+7H95gEzAK36UQW8Ao/47gRP/QX42w8/BNv57w02/uTzZAMA/FUBjwoXAYsHw/8b9YEEOf4S/5YLL/rdAWwFJOt8AdYFquvVCa4GLeyCCeP8kOyDEIMDifmyDZj4vP7/D8L5QwVDDi3+tAbdANcDLRJu+dMDKRXJ83QCTBQV+RMIiwlV9BUJ9ALp+sIPnv0n/1UQOPdzAkEQdfc1BhgLqPnkCX0BQPnmC8T5HvuKEhX/3AC7DQX6jP4XBdL52QPtCNMB8fqS9jQFZwFj84cFhAMR9xwDHfw1/TsGBvW2AuMLffPaBWEJmfHKChYHCfNOEToEI/DBDq4CrvbKC277qP2JEUb8PvtvB80AWwdR/nH3pQxgAnL4gQl//Rj2oQM3ANIBAwEQ+yYHlgDz+CsJ7f2l+GcNpPxa8sAKqQS99w8AMP8W/9j+APiD/HQAVABb/+L4EQJZBg713vxDBnv0avy0Cbz5cPkVAg/7hPj4+cL+RwBa9+j9CwOh+K3+EvwB8Hr/YP+M9o0HWvur71IK8P3T6t4Bmf159xsKSvdM7foIxQLN8qD+O/+V+RUBkAJR/L3++AKe+Zj3xQOf/xj8WwIG91P4kwEb8kH88Qqi8v76EwsE8BH3UQha9tgA9ga885QCuQIS734EKAwi/UYE5Pwl9D4DswEn/mkCKfgY/qgH6PXf9YEFcP/ZAJAJD/vy9SQFa/5L9JQGjgk8+AsAtQNx9Jj/Fwke+vL+TwKm9DMChAvI90r64wTx+1ABcAjj/YcBAQZA+Fb8TAdz+vv5sQdQ/9v9Agku/Pz3sAaq/TX6gQoSA2j3vfr4+i8AwPrs7p4BPgdU89D81gW9/g8FU/v09VEInftb9xAOd/o49NQNW/fR7+AMQv8y+pUI//Ub+4UIhfKe+MsEOfggBAUDzvCAA+IHVPfoAJUA9PXH+S37egLYAZX0bf+kAk70+v41A7r6GgF1+jT4mwfx/rD31AFr/oH+4/+q+C0ApQOh/dP/9/vBADIIW/Y191UKgAMf/iT/p/w7BTf/Q/tbCnT7e/WnDJT64PG6DRYBgvt8EBv7HPUPDUT85vMoBnb9N/m+BCEAG/xm/8j+3/iM9c0DPgZ/9D39KAaG+M3+U/0T77UCWAUx8h0DmQN+88gJBQc+8FIG5gg+8cAAJAvF/FP/YQNd/nb6bfk1AvsA8fZv/Y7/gv+/B2v8bPy9Dhf/H/m1DL7/DAB3FLr8P/NNC7sCJf3PCsEEwQIGASj4bQfzCIn1FAPXDOf50fpeBFMAeP8//lX/UAQr/6b/1wcOAh7+RwTrAQEAvgID/Hr7PQkVCrX+W/7hAL/+/wGTANH4e/9xB4X/sQDsCZr/dfkpCRIIx/i6AKkJ9gFvBHEGH/4iBV4LVgKNA3EESP1BAiYDnf+JCdwHY/9lBUcBhfxYBwQETP1rAw8BEgGhBXb/mAAoAhz9LQceBzP5OgKhBjb9fgYKCQoAagI0+7f3YAYXAy/5vvtB+sT+RAA09uL+BgVK+dn8wPoG8Mf9/gBA92QFyAg0+aP3c/pu/m//H/iPAOsD/PPO+f8COvtdAJ3+kfT//xQAi/XD/6kA9ffU/k8DwgGQ/i/6oACBAVD6o/8Y/yL3v/kD+i78ugFL/P/7wP1K93L5cPgE+DUGK/8Y8zkDxwNK+M77cPPb9I8HR/y+73/72/q/9ub5YvU093H9Tvuc+YP42Pir+Uj3+fwxAA74wfl2/Vr5Lfzc+/v43v9l/pH5IgAGABj89/+bANX/pQDs/mL/Vf8i/mAAqAAIASoD9wCAAC0CRgD5ADoClAB/AgkEggKAA1IE4QL5AWkCWQOIAq0CgAQGA+kCmAU2BHUD+wQQBOcEwwX/A9EE3ASHA/IEKwQ4A0IFdwQQBKIFhgQdBWQGrAQOBTgFMwO1A2IDSQJSBAsFhQQ6BRYF5gVlBl4EbgRABSMEjATKBLYDXATPBLgEuwWiBSMFdgXdBGUEdQToA8oD6gMGBLMEnARIBLEEXgROBOkEDQSRA14ElAOwAnMDewMtA58DaAN7A2wENgRbA3AD8QMVBL8DrgMFBN4DuwO1A0wDsAP4Az0DtwPpA3EC9AIzBD0D7QJ4A2cDuwMqA2ICNgPaAuIB1wL+AhQCDALoAf0BbwJxAskCogI+AukCXwJ2AXoCRQIuAe8BHgKtARoCvQF0AecBdQE4AYUBOQEGAc0AyQBqAQoBYwDUAOYA7gBlAQIBtQACAd8ApQBlAGQA7gCUAAoAcwAbAJz/PwBLAPH/QwAbAMj/CQD1/6v/sv+m/6//+f/U/xr/3P5t/6f/Yv9Z/2X/aP9q/0//Uv85/y3/iv8x/7n+hP+P/6r++v4V/5f+Kf8d/1v+yP7V/mH+AP/p/g/+c/7M/lL+Vf5+/lP+S/5I/jb+Kv4l/kX+Mf7r/SP+mf5+/hn+FP4+/kD+S/5D/g/+Kv5D/vP99v0b/tr9Bv5X/gz+C/5R/hj+Av41/jz+Nf4M/v39Kf7u/bj9/f31/eP9L/4Z/tz9Dv4r/hD+Ev4i/hn+BP4Z/iv+D/4h/i7+Bf4w/ln+G/4z/nP+Qv4s/kn+O/4v/jD+NP5M/lb+Yv5o/lT+ZP6A/n/+k/6e/o3+jv6S/pT+mv6O/pb+s/63/sD+zP7H/tL+5v7t/vn+Af8H/wr/C/8Z/xv/FP8v/zz/L/9E/1b/Tv9a/2b/Zv9z/3z/ff+F/47/k/+X/6D/qv+q/6//vP+8/8H/zf/L/8r/0v/U/9X/2P/b/+H/5P/n/+z/7P/t//H/8//2//n/+f/6//z//P/8//j/+f////7/AAADAAEAAQADAAMABQAJAAcABgAFAAQABgAHAAsADQALAA4ADwAJAAwADQAKABAAEQANABMAEQALAA8ADgANABQAFAAVABkAFwAWABEACQANABEAEwAYABEADgAWABUAFwAaABQAFgAbABUAFgAfACUAJQAlACMAGAAaACcAIAAhACwAIwAmACoAHAArADoALgAxACYAHgA1ADgARQBaAEMASgBXADAAOwBKADEAVgBoAEsAZABXADEAUQBUAEwAcgCEAJEAlgCMAI0AWwAzAF0AagCIALkAfgBnAJAAeACSALcAjwCrAM0AjwCAAMAA8wD1AOwA4gCmAJ4AzgCYAJcA5ADDANMA2gBtAK8A/ACjAJYASQAAAJsA5AAZAXEB7gDiAO8AFwBIAFUAov+xADUBcwAeAdwAAwDJAE4ADgCHAQYB0QD2AeoAfAAIAfX/WAAnAY8AhwFmAdz/8gD7AKT/6AA9AawA6gFVATsABQEBADz/3QBuALv/6wGbAl0BKQH+/3v+bv8VAPf/vgEvAkoAOAA4AAL/BwDtAAUAPAGSAgMBFQCJADsACAC2/1b+r/5AARIBV/4i/tj+kv6M/yj//P2qAP4B7P+xADUB9/4H/07/If6X/5EBKAGxAD4AYP4I/cX9hv69/1YCWQHE/qYAYgAc/Uz+9f5X/r0AMQCH/5EB7v4L/tUAdP5q/lEBuf/pALEBj/71ACUBof16AbwBy/2IAd4BRv57ABcACf9VAj0B+/+DAuAArv4CALv/Nf5h/mL/J/8H/6UBVgNaAjgBuP6S/U3/0f5R/iX/kP62ADsDjwGGAKX/TP52/kv8LPz1//7+Hv6FAIv/DACBAar+k/5i/zL9+/1Z/lj9nP9oAMkAaQLi/8L9Lv50/er+sf8c/hIA4ACe/kz/zP88/n39RP5dAH4A4AB+An3+/PwoAWz+6P3ZApQA6gHCAv36KAinHcwVjwYr+77qLusP9bH4IwewEokOwg3eCLv7HvbR83b0KPvMA3MOEg3dBt4U4B9rHIsa2gn99wr4+e679UQbWSZUIFkgNAcp8S/x1+ea7qMGKQn8DWMX1ApLAdX/vvnd/tQGbwbUB+MFR/9u+gz4Lvu+/fn/2gbDBlwEmQQy+mTzyfbE9Mz5awIm/w0D4Qb/+pz3vPqa94z8rQHH/xgDDwNi/d39wP2f+kv9fQLCAjQAygDUAKD8Fvs/+8X6nP4bAUEBxgNBABX7Of7z/1n+pP6K/mj/Bv60+n38svzP+7L/iv/7/zoE/f+w/BX+3Pfv9e/5MvfY+dsArv70/u8E/AalCKgI3wLv/tz/yf6T+1v9AACB/Rv9y/uR9b32svgc9En4zfwk+fv8af44+M76vPqu9ob8jPx9+U0BRgJh/hMAcPwl/RMEYgDJ/tQCvf6x/An8tPZU+j//VfwW/kn/pfyC/6/++vkf/Aj9Kfs0/J/73/wKAfD/4f04/4H/E//T/oj/2AE5AlYCGwTBA7oBPv4e+v35HPqH+Rb+4wBS/uf9wfze+Nr2b/Uj+J7/4gCR/cj9gv33+hX5WPjc+uL/FQNEA7oB1P/P/Ub9EP9L/5b/cgIIAWv9Yf7I/jX/vwA7/Dr5Yfw7+5X6rP1I/F79wP8u+QD2Fvrk+gn9IP4f+kH9ZgFz/F770P3M+738V/23+eD7QP+Y/U//ewEKAB0D1gV0Adr/DwL/AMD/qPy69vj41v0H+Sb3IP3G/pcAFwNI/hT//gUbA+4AIATiABsCMgfjAFb+KwOk/s/7NP0Y9/74ggGR/TP7c/80/OD6ufvh9Hr1WP0J/Pn6af78/ID+3gJU/0T+3QXxCNoGZAYWBXsEYwVxAsoAZwUqCeEKkgqCBQgGoAuGB9cD/AjZCGkJSBClDY0KGRKVEj4NEQ6RDJ8JFgpiBokCrgM6AcH5BPMD7xHu6e2K69vnV+h67ZPsEeaM5/vsNuzW6z3v6vBY8XfxMO7O6grw6fmO/Bj9KgN5CPULNA0rC6AR4RryF+UYFiLOIJIeOCNRIPAbYR1WGl0XKBp1FygOnQjeB6cGBgRLAZ/9/Pl598TvLOJE38nrC/As5mLlWOjh3fbZ3+Br3DjYL93R2b/UsNT+zq3MV9Wg4/n1rQFPBiARBRpkHJIgNyCkIqE1JUGdNc8rZyjzG3MXOSERGQ0KZhZ2Ic4X/ROFEE8KjhNZF20PphXBHNEUxgi0+hXwF+0c6q7oAOgQ5yzontzEyeLN2duk06vFWMhoyoPFPsgfzdTgogwgGg4OvyIGLSkiUjYQMI0ViDyNUgYxqzRvMjIPNxJyEkoA8hBVGUkPqxd2FNYKwQ5xC/kPGRu7GHQfAyUUFFkEWPgE7M3pGuTO2gvhEeyP583bMtczzdK/1Mf7y3i6cr9UzwrCIcgF/xkhKhF6E58ztzASK1ZIUjuNJT1SU1hWKocs0CQjAmkLPQ0i/uIOiRasFPwawg5xDs4ZRxM7H3gsFCGeKJgs2RMiBr38YfPi9yTsyNnN39Llz9w80IzJFsoDw9u9NMZUwjW+Ycx0v4apbdusHpEV4QxjPN1F5TTUTNI8yhR9P9BWgSFzHCQrWghm/XcBLeyn9LkQlRNOFRAeeiASIFoeIh6iIL8o6DPjL3YjRBrtBX/yCe4o4t3Rx9Qi4Nnewdf11vfMH73fw8LFNbLBuTvNc8Tuu1bAxN8DHPonPxdoN1ZEQTIpRH40wQ05NP5InhmbFL4Z/fb99ZP8C+Ku72QYTxjdFfQmHiLcGPAk+CF/E90khTjdKNoWVQ5k/Evvf+hV153NXNpL5l7dIM+dzN3IIcGWvuW21bRwxE/NKMuvvVS2CfMaNSUdNhj4TKFFzzY5S1cjRgtVP9Y62A5/EsYJhPbl+sLnzNqf+9sSmRUdHjgi7SLXI+4fRByWGW4hZDF+J+ULigKa+l7kz9W7zR3IadbD49bWj87q1DvPmcZzwai4Mr+OyoPK9cxRuYWvn/vSNJAPYBuQU+VBIDnLS4Ieiw0wPk81Rg6aCof/Nvod/wXmvt5EAL0UQRzNIbId/SWOMLEkvBuOICIjHCYaI24P3P1E+KbpF9K+yyHTDddC2sDXhtNd2wbWKcFnwc/Erry5xI7J3Lk1rzS6Hu9SJQ4bqx7LVvBUMDUsQw0yXBV6NsA6YA7VCfEO2vzH9/Lwt+ed/SEZ2RuWF5IeaCoDKSgc0hdNHcIhqCGHHAoT9QVM9tThVMz4x3nRK9Vg14rZGNpY4GPW/b2Zv/HIX8PRyO7NyMLYt8y8E+6cIcwU2xq7UThKwyxFOnMkag9DMTMs3gtaEc4LQwCcBNzw7egzCS0eSSEZH6YdfS4lMJwX5hI8GT0a+iHyGq0KHwfh9DbXM8s8xabGNdgQ4bDbYd7P5eHZiMKovtfFvcXdy8PS28i5t7i7//AmJP8TARZ+UftSuDHeOp4lwwkkLiAyGwndC00TjgbEBG3zmuaGAXsarSE3IbMdcS2bM70XNA5BG/wbRR5VHToOsAUs907auMwwy7LK+9fv4LnWwteh4gLU/7zZu4q/vb9DxB/F6sHbtpW3t/NPLFUX3xvVVx5SRDCnOaokEgsuKzAxJQ6GCeAQ5wmo/efsE+1DAcsVFyeiJuog4DDLMMMVNBBlGrccyR6jGFQLkQHP7vvWUMu1yaPRHeCL5G3ey+Bz6NTaZMKpv+fFjsSfxkTIg8Souui6RvBeKPoXzRlHVBdRkCxtNsYm3AklJaUvNxDxCiMVzxDEAs7zQflTCYEU1yYJKvUfuy23Lk8SOg77F/0U4BexEw0EQfxp6tnQ0sityMnR/+ac6/LljO6270zaU8XBvrrC2skwzK7Nlc7xvkG4vucTGcERBxuNUHNWczcCNpMnQwh8FT4oYhMFCkgbChmrAGT0pfk7AGENQyR4LMEq9jUONX0cHRHxFEQS+xA7Ef4HL/ug6/jWbchbxmDQ2uAE507m9PDC9Iff4sxaymvJ3sxG0anOzM23wqi48eD6Eh0R2xoZS8JT4jz5OCYpyg2/FMQlEhnYCrMVHhfS++zum/op/ekHACaDLgsryTZBM0seXBdSF5oV0BdRFo0M4/lf4yLUM8YQvvXMxt0Q3qnjK++M6vXZAc5by3XNwtD21ADWQtIwyu3GPeTvEskdkR9QRENWyD8CNcoqOhBPEpglCxu7DKkVqRT6/PbvSvaV+asBrxvsKmEprzFBM9ofZhZxFxwRDhJ8FwYMdffp5rDYX8oHwvLMpN8N4vrkwfLB683V6NAa0OnK79IP3T/b+tavzmfI2d4MB78Yvh2IOb1TiEdyMVwnCRbGENAjmSA+DmkYiBsKAN3ySPb89f8DDBu/JYYtLzXrMXcloBfQEEcQnxADFAQO/ve56n/jN8zcvSbLbNgA3Onjk+yY6JHZV9ApzVHEVMao18LZ3dBR0e3SSuQbDLMe8h7INjhNMkI9L7wh0BRnF+IisRp8C/wP9xEu/QXwsvd1/pkJHx/9Jxoo0C8xLlAg+RnvFvMRAhXxFnMITPS46triDtCGxrDVEeEt3xXpnPGz5KrbVNzt0CHGtc1c11PTacurzK/Q79szAkUkASIlLJJLpEONKeQm8xxnFQ0lhB9gC0APpgyo+U30CPXQ95UHVhjBItonMyitKQ0llhr2FtwRmg4iFdMJq+9l5pfeWc48y3/QOda14OLoYuyf51Pbd9kk11rH3ciO2GXUpc4B1crRRNphBRUl6CGnKzhIzkbsMKoo5R1LFTchMx6xCfILKhCBAEX4jvcx+DkIfxk4IBYoNy6aL+Qseh8YE4ASiBJ2Dg8EKPIs55riPtaby2zO5NYR34Hk2OJk3kjdbNlOzPTAFcZH0v/RZ8xP0GbUA99lBDwhVBusJ9ZIxUJGLVEtASVYHcYlMBvJCWENGgyZ/2D2e/MGAUQRCxXQHUgnNysnMxgq1hYZG7Ee4BNuEP0Dm+6m6o/mM9YpzSbSw99E5Kzb7t2D40bciNiW0kvEVcgb1pnQacX7yD/VWeQW/4schiPGKCtBKUFQKJwnMCtBIXMl+ySvE4wPJg+DAY30jvKjAHIOnw0oF9EmpiTRJOwlIRaIEJgYYRRlCrMAePVO7xPnbdwn2EfWTttx5Efh7d1E4zbgodkS2BLR6c2O1/vY0c5kz6nYOeH99zMVvB2dI4Y3yjyFMX4rriZgJSQpZyO7GmwVMg4dC+QCGvZK/hwKyQeJEdAdtRoeH4IkvxnoEpcVCBXLDSsCj/vi9WrqZ+ZB43/YXtpp4mbgs+AO4BTbE93S2djQFdJo0pLPB9N/04XUZuAG9AENsB14Ih0vDDtqNqkvByzQKIMp9ieZIx4dMRMbEVcNEP3I+RUBaP4lBL4P6Q4LFEMckxb7E5MUSA1pCmIHf/yK93b23PCr7CXqBudt5WXmbuh85PPdfeAl46Lca9hX2nLaRNfW1bPYudpF4YX3FQrBCsYUxipTLRIkNCi6LKck3CFmKIojnBc9GT4bLw17AQ0D0wI1/LX7BQQoBkoAFAR2C9oFxAF5Bn4DOfzT+yz8L/jX8mPyX/Zt9W7zO/Zk9LjvF+9M7KPpUeqJ6VPsUu+j6XvnAOv95ybnN+5X86n41AARBm0JVA1fEbYTuRHoEYYX3Bj9FgQZlBg/FdoVNhT5DY8NIxGIDpsJfAk3C00LhQmgBg4FNwR8Ay8EzACP+tT9JgNF/tz85QGf/4n+EAPS/yT9JAMeA3j/ZQLMAkkBxwTTA2T/XgLgBfEDuQL7ARUB0AKpAzIDbgToBP4F/wggCAkGLQjuCHgHKwm7C5gM2AwCDdcNdg2/DNcOIA4aC94Nsg6fCnMNGBBzCzsN+BEJD94OvhCkC48J7Qu0Cc4ITAonCGYIyQkBBt8FlwgqBOsBpwWdBOYExwlcByoEiAeUBhgEXAUMAu7/OAP5AA3+TP9c/OL7PABA/oT8hf9s/nT+swGVALIAtAN0A3QDywPpAsgE4AQ8AloEFAd3BpYGdgWYA5IE4AToA6EDXgMXBagFYgGEAM4EEwUEAm8A2/8RAroFwATlAUIDQwWOBEkETgNGAfADKgaaAJn9twDj/lT7Vvzz+0P7Vfyg+kr6cvyl+6H8Mv7Y+QT6MQDs/Wf5Ev34/hH94f6C/+L7Yvrn+5/8CvuD+e37/v5M/dP6Nvug+338k/4//sj70vsW/6MA3v3X/A8AKgDV/Vz/dgBR/5kAowCx/X39nP7T/V399/1S/17/Dvws+n/7k/tV+5n7yPpK/An/vf06+//6uvto/Mn7ift0/Vf9c/uu+9r6Uvka+1z7tPio+f/7N/ru9yn5dftS+7f5vvmT+gn75/zw/Xf7+PnU+0D96fyK/L79tv+f/kL8JP3W/Hn6A/0j//P6Yfo8/gj9A/sT/DH7Avv5/G/8Jfxc/cb8qv1G/zv9Pv1eAJf+7PrJ+9f8pPsH+wf67Phr+kv77fgg+A/6J/sn/Eb8y/kG+kP9z/zV+nf7G/xb/JP8JfwW/Rj+Vv3l/Pz7IPvq/Lr9gvzU/DX9Hv0X/S37ofoV/MT6G/rJ+zj7t/uv/RH8uvsu/uX9HP5p/6D9eP1//4H+qf22/bv7uvsC/Qz77fn7+rD6Z/vx/L/7MPub/CH8iPuJ/F38VfxM/Zv8uvy7/jL+/PzP/fn8CfzZ/f794Pwp/pP+pP16/rP+hP2X/dn9Uv02/Uj9Of0S/fH8af16/fT8oP1I/mL9Cv3F/fz98f30/c797v0v/oX+o/6Q/Rj9pf70/o/9o/3O/Qr9xP0J/nT8uvzh/Sj9Qv0G/i39Zv2v/tP9DP1n/gn/Sf4S/j3+Pf6Q/tv+Uf6g/cn9P/41/tz9zv1P/pT+QP57/hH/4/69/tr+lP7x/rz/YP/j/l//ov9o/4D/ov9f/2H/9//u/zX/i/8zAGX/q/4J/wb/4/5P/03/5v7d/iT/Z/9A/xL/jv/3/+v/DwAgANv/rf+R/5b/nv9Y/2L/wf+Q/03/eP9e/zL/dP+g/5z/w//t//v/8//F/5j/lv+i/7D/x//R/9D/zf+7/7D/uv+t/57/tP+6/7H/vP+T/0T/Qv9r/2L/Wf+C/6v/oP9r/1L/fP+0/8n/5P8CAPT/+v8yAAUAk/+X/73/rP/a/wcAy/+e/6D/g/95/47/mv+w/7j/qf+3/8T/q/+c/5//mv+V/5z/rP+g/2D/SP97/43/if+4/77/iP+F/4X/Tv9C/17/YP91/43/g/+V/6z/jf+G/57/ov/S/wsA2f+q/+H/5v+e/4r/kP+H/53/n/95/3n/i/+P/6D/nv+n/+//DwD6/x8ASAA4AEwAVwAYABIASgBIADcAPAAwAEgAeQBzAF4AUgAsAC4ASQAZAOr/CAAQAPv/FQApAB4ALQA/ADsAQAA+ADMARwBfAFgAQwAtACsARgA3APL/4/8NAAYA1//X//v/BADv/+D/7f8FABYAIwAcAAwAJABJAEYATABgAD0AIABUAHcAWQBYAHIAcABwAIIAewBWADcAQABkAG0AYABgAGoAcgBqAEYALgA8AEMAMwAoACEAJAAkABAAEQAoACcAMABVAE0AIAAbADQAOAAgAAsAIAA/AD8ANQAlABIAJQA6ACsAPQBYADYAJQA8ACQABgAZACgAMQA1ABYAFABDADcA9f/e//j/EwAbABAACwAOABcAHAAHAPn/DQD8/87/5P8BAOn/5f/7//v//P/9/+//8v/z/+P/2f/Q/9v//f/q/8//CAAoAAAAAgAdAB0ALwApAAAADQAvACsAKQAmABgAHAASAAQAGwAbAPz/BAAXAA4ACwAHAPr/9P/i/9z/9f/y/9v/2//T/9H/6P/R/6r/yv/i/8f/yP/Y/9b/3v/e/8//z//M/8T/xP+3/7P/wf+w/6L/uf+9/6v/sP+z/6X/nv+W/4r/jP+M/3n/bf95/4X/ef9k/13/Y/9e/1H/Sv9I/0//VP9C/zn/Qf83/y//NP8n/x//Jv8l/yT/I/8T/wv/Dv8S/x7/J/8g/xP/Ef8W/xH/Ef8a/wv/CP8Y/wn/Bf8a/xD/Ev8m/xb/Ff8g/w3/Cv8K//X+BP8Z/xv/Kf8h/wj/Ff83/z3/Gf/1/vn+Af8E/wz/Cv8Z/xz/+f4E/yf/LP87/yn/A/8g/zj/NP83/xn/Ev80/zj/PP8Y/9v+HP9j/0D/Xv+R/1z/MP9L/3j/j/9//1T/KP9M/6D/kv+A/77/x//H/9X/r//L/77/Sv+s/0MA0/+Q/9X/qP+d/93/gf8a/5X///+M/27/4v+d/17/9/8FALP/7f/Y/6f/BQAkAPn/CgAxAD8AHwA5AHwAKQAAAFQAHQAdAK8AbgAQAHYAXADy/2QAzAAgAKX/NgBdAPz/RQA/AP3/9gBlAW0ASQC6AJkAnwDTAAABKwEeAUwBkgFWAfEAoQCxACYBPQErASEB3wASAU0BKgHIATECWAHUAPsAKwFtAU0BJQFrAYIBZgExASABgwGKAXEB1wGhAREBGQE1AV4BVAEeAZcBcwFUACsAmgAGAXsB+gCqAGABcgE9AUsBFQFMATABgwDiAB0BfACiAPAAyQDKAKsA4wA8AZMAGgDKAFMB7wByAKQAzgCVAOwAVQElAbAADwB5AJoBBwEeAJoA9AAUAQABhQACATAB7f+1/8EAOQHyAKIA9wD0AAgA2/8yAFQAlQBRAGEA1wAkADMAPQHVAG8AmgCAAOoAqgBbACcBkgD5/7cABQCl/4AAYAC+AL4Ak//p/97/KP/w/+v/BQDbANv/4P+kAMn/TgB6AOn/TAFrACj/OgBT/30AiQEn/tEARwEF/PIIYRLY/dH1EQQXA6r+dgOPAHL+gwH+/kn+xf+K/QH+FP+b/dv9Bf43/ir/u/5i/+3+6fzz/p7/H/3d/d393/1tAOX+Ff+rAfL8JQGpEawQUQLL/fL7Kfoo/xMC/AADAcv+Rfx2/PP6UvhJ9032v/Va9sP29fbo9xX51fjE9+L3n/jN+ML3rPWw9eb3hvjE+Gj6zfrR+R/5MfiT9sX1/PeA+b/1GvR8+Mn5YvlO/uP/UPgx8qX17/xh/Yv4wPgd+/z5j/0BBdsCwvvK/yMIHgIh95L8kQYtA8UAPgZYA/v6TvsrADQBDf29+P/7s/9O+sD3K/5JACL+Kf9Y/Xj6sv2n/of8rQHLBxYHhAOT/eH64QDnBNwEFwY+AYn7qgCKBUwDEwH6/jX/wQKAAk4BgAQ8CFcJpAaMBPwFrgIn/08FjAhPBBgEzQMIAcsDlgf8Bn4EuQFdAg4FxQOsAZIC9QMgBNMCDwIoA5cEeQVcA/YA2QNvA1n9Yv9+BRMF7QSkBWMDxQI3AogBSwQmBUwE0gQVAgMBbQRgArP/swQxB0UD2ACNAVQDJQRGAzQD+APIAxgCHwC7AVYFPgWGA7kD/QTmBsIHCQg5CasGmgE2AVoC5wGWA8cFlgZJB4QGvQXGBlMHSAerBnkFsAUnBHsA5gErBo8GzwXzBLQCxQLPA5UBSP8pABgDQgZTByEHbgieCMgFJgSDBOED8wMABhYH6QaIBiMFzANnA6YCPQIwAwQFnAfPCO4GSgWLBekEWgO5A2QGTAjcBl8EqwSSBrgGggU5BWEF6gOqAR4BVALvA/AEogR3AxACTQBF/xwA4gEmA0AD1wKPA88EUwS5AvYBTwFu/2r9cP2//+kB6AEnAe4BqANwBNkD9QLtAlsDFwO2AloDcARFBUQGcQe3B2EGAwUjBkIJNwvXCucJ1AkJCs4JBQpFC8MLoAkyBrIE1QXTBqAFvANJA34D+QGo/vD7cfrm97Xz6vD18e/0KvZE9ev01vWQ9fXyZPBG8NDxs/LZ8lH0kvdw+nL7/vv7/Q8BqQPCBdkIRw1WEZkTtxQzFmUYIhoxGmkYgxWZEtMQvhDSEcISRBL5D8sMQAozCRgJiwjWBuIELASpBHAE4AFk/aX4xfQL8nvw0O8K7yrtkOqh6J7n3+Ud4rrdLNte2pfYaNSy0AHT195W8k4HbxfTH8kh2CC2H+seWh7QHrcgUSI9IYsdkxl5FkMSuQpWAXT6Rvjd+OX5xPtq/1UDNQWrBQ0I9A10FE0XShZBFcwWZhkuGi0Y+RPQDTkFXvpd7yjnq+Jb4OHea95O36rgSuDX26bThsu7xl3EsMFiv6rDHNar9lMZ/C7oMs4sSyfCJjQoWCdvJC4iTyDvHJYYDBQDDekAsPEf5orkVes38VrwTe1x74f3wgAbB/MKnw8AFg0bnh1iIPIjGyU3Ihkd8BfzEr4Ly//o8L/jL9r30xDS/tP51V3V09KKz7/L6cbAwEW7jrgBtxW3YsL54dEOkzThQ/0+PDUUMq4yei8DKfcjfSDKHMoY9xKCB8b0G9+r0B7Rl9tA5OfnZexR9Lb8nAOmCecP8hWBGTsbxSBkK68y0C9kJtodVRmcFoUQSgXj+RXy4uqv4eXY59KqzzPOxsxvy8fMb88izrvJvchPywDK6cC/t1i/C+IME3g3wULxPlY6BjlkNtItOSKBGtgWwRKoDsQK1/9R6hzUCMqZzr/ZveFs5uHwGgN5EjwYlRkzHMUfjSKRJJgoKjDkM0wrBR1ZFvMVqxAoBM33pfJo9Az02uou3xbZu9W20XTQYdIl1NvV7tYx1cnTOdTHzl7A7bPDtsbPQfxBKptET0kuRWpASTyMNSwl8w7PBOILTBIuClf4q+Yd2+HWxdW71UHaMeML7wkDkh0lL0oxri2/KaIliSX2JmAjqCIAK4ksfh0kDbIFoQC7+yX44/Nh9Jn7LvvH75HpQ+hT3SvQ69CL20jmO+yF5V/VgsutxrC6Kq5jrt6/pOlJJK5KYUr/PoA+sz5GNnIllg0L/+EJ9hppFTX+9+hH2rnSfNM51ZvU0NoH7tELDi0JQaQ60ikjKtY4wTvbK3Mc2RwOJxkrsSBCDWr9ePkg/ocAHPsE9NHz4vlO/hT7ee9833TT3NF71kjY9NhM4M3no98gyoq6vLZfs7qxNsfa+9szF02MSk9LklcAVGowJgcU/BcNJhhODOL7Zva27zbeFM7NxUS/8MKG38QKJi2aPEA7lTUQPUVKt0AqJNMaMS5IPsk2aiPoEpsGVvwR98b4uPks9Hn1XAqGIHsbY/9B6ZnluORz1cLAEsCh1dzlQuEO1GvHLLqUshyyIq5BsrHcByCiRuFGz0yAZJZnc0cbIsAMBAS3BGgI5wBM7+jgp9VOyqzFhsPavADJp/peLS45jzNTP/9OIUm/NRko3STJKNAtYC1/J/MdxA4o/vL1u/TL8IjtlvmvFL8o/iTtE58JGAYx+vThmMoRxOzR6uPu5PLVf8fdvAmzrbHGtMOs4K9158M3iVbRQ+pCWV9BZO0/pBXqAZAEegwrB4T39+sY3gHGUbepu3O+2r6V1s8EyC0ZQUw/bDneQ1xM6DKIE3EbJTDwJzUY3xZWD8wB4wLoA0D2evInBPkWJCKoJdsbbBFkFOcPjvMQ2PLQydAbzj7POdTD1nzTP8nIu/mxq62lrKevC8Lq8ssynFQkUvZXC24DZxA5fQ1I+9L5ffxM9hTnGd9v3J3PR8FrvOO4V8IJ7XIdaS/gNFBGu1NBTto7AyIqDx8UHiHaHJENSAJr/bMBGwbx9+/mk/RuFVQnIyo7LBctSysRIzcLPu3o2nnO6L8duxLDqMrmz3PU0c3Su4GwSLLHssqqd6/13LIklU8LTjpR/WwqcMBE2BcnBIn20OrJ6zjt2uLT1XXMPcfzyATJCsWN1+YH0y0VNrk+vlCzUV1BkDTTJ6wVKg1SD5oLTwEC+Ur1jfpfA0kA8fn+BKUYbCPaJuwjCB2pHngglQ2M8Z7h+tfazqHLyMm+yXTUJ92F007DbLcKrKKoZq/Aso7FjwVjSANSHUX4WstuZU1SGOX7Gu4s5SfqufHT6jLd3dZD2CjYxs62xlnWJvyZHlUz60LaTLNKLEJwOB0nbxHtB6IKAgkrAYD+LgJEBGMAXvuFACgQThu/HVIiJSmfKRQlgh0rDSz2quX+3+DZDM3dxMXKm9YV3KLWwckyv764ca+iqUmv5blN1pkUN0jcRvxBzmIkcUZI1Bd//IHoJuMD7VPnedQ316LpYutX3GDOH8wM4doGah/nJ706D1JAVL1JjT/DKQ8PxgebCyoGiv8vAf4Bn//OAJgDcwTSCD0UQx/mI4UoXS8vKzMYvQYs/U7wst3kzbPEGsMRyrrUttus3OPZRNSZyJe5lLMWtji0EL9W9nU7rk7QQPdPSmcQTn4e2wdl+I7jVuM170Lqw+As45fk/twG0HDG2NNb9cYMKBrQMWhHvE3dUN5Kzi98F6sUIRZ4D1UEYPjA9+EEegch+775NgReDIUcAjDDK98fsSp6L4ETe/o69/nrvNZwzhnMXsgM0ZneNN0g1qzXuNd6y5a6f7FlsKmyOsjf/w010z8yQmpf5Wn0Q6cf/RFR97/YS9qD55PihdtQ37HhCN552D7VqtnP4yj20xneO49C90JeUqRT/zesHLILhPt59m39y/1c/GsGBg/DDSYOZw98DB8SByLSKYYoYirCKLkaQAjZ9erhCtJAyNXCocZJ0P7WuN/x557gyNKozTXGhblHsf6olbR/8f0v0Dc5OVlf9G9nTZYqiRQC84DZGNvl3ujYP9pm57Lywu2Q25fWFebw7QDv0QcQKK0xpj6lWE9SPC9iIIYatAL189j2b/Kp8+MInhbiFBUVKBM5D2cVWhljEooRyRa1FYoVDRazBynw+uCn2bbS08umyLLOm9tg4ZnczNqd2yPPSrxhtRixRrCn1PwQ6Sy8NfFYXHS4YEBCVC3OCYfk89ou36Pbd9f44PvxavJW4/3hp+dX3Lvcr/1AFl0cqzRoUbhPuUSRQ64zeBNOAn8Blvme7wj5iAudDl8K+xA5FyERRgs+DA4L/QeqCpURIBUIECkDh/UU7KXiQNSbyP/KitQl1xzXT9204RrbC8/UxvfAMrcKuNDZogYlGzMuOlcSbndglVEAQHkXnPTs6W/eYM7by1PWS+VK73btVOtP717v9vDu+48D9AihG48xijlcOgc+vz+CNxIouBuyETcFWAFfB5IEn/5TCMkRYgt7BjoI6QMGABAEMAb1BHsGFgYVAMb4ZPHm6Njg3dnh0zbRutKW023Qw81CznnNYsltxAfF19RK7uwA8RNKM4pKYE0iT0ZNlzTXFmwKi/8y6ePXTtlb5Pzn9eTf6g/1lvNX8hr92gBj+oABlhKUF0cYKSXyM9E20jSDNvcz/ieQH24fbBdgB4gEMgu9BG355v2GBff/HvxtApUBAvn4+m0BAvoZ7fnrO/Gi7hHlMOHG5QPmkd+w34vi4Np70wrV2dGIzQHYmeVA7Mf5PAyFFtUe2yUbIgIeBSLvHysU7wqqBhYEngEo/gb+AABT/D/7pwPUAyX44PW2+nb2lvMp+/QAdwUCEq0dAiFhJK0rbDGGLxglqRz9GygXKg0GDIMNpgbdA8wGrv8o9536bfq373DrSu+v75Tsl+lt6HPqGOuN6WDrqeyT6Wjp/Orc5mDiKuHM3UXc8eEF6LTrB/Kw+rQD7wy5Ei0T1hHOEL8OiwriBk0IMgw4DA4L/g3QEQYSuQ7hCREG2AKN/of8j/0r/Rr+qgTLCqYN/BK7GFYYKRZfGVoeAh6FGtgaRx0nGosRSgoDB0sEuv+i/Cz9pPzi+vr8+PyM9YXyR/fO9fXuGe+R8kzyRPJn9Mr1/vPe7ivssuwW6GniHeVp51Ll7OqS85rzB/Wc/cYBswBSApkGqAodC6oIyQrvDqsNvg0WErsRSw8qEWQRiQ3QCVcHhAeZCK0HqAkmDVQKRgh/DfEQVBF2ExETahIGFtIU5w38C1gM5AlvCpgMcwoECHEIjQgfB7wEXAPgBNoF8gMTAlcA0v3t/Bb9QPxt+9r5H/fz9fX0/fEf8FfvK+2Q60Tqxuez53fpXOkz6/DvV/KS9Az5GPt7+2n9aP5P/+0B+gJXA7kFLgcDBwEHfAYyB7MJQAqLCbAJgwgCB8YHUgl2CqUKpQq6DcIQJg+PDhER6hBQEfsUBBQmD0oOBw8BDs0M6QkeB6kIsAn8BWcCPAGQAK8AYAG0AU4B3v4n/AH8CPt+9wz2LvYU9ITy3PJI8Tbug+xA7MHs1uuJ6bbql+1C7J/r7+8z8unxM/Vh+Kf3DfhJ+if6jPhp+OH5Svv6+4f+JwPdBLIDFwXwB54HtQVdBaoF7QXxB7ULnA54EOkS6BN+EcIO/A29DUgNagyqCzINKw+ADbUKTAqYCa8HVgdRB8UF0QS4BHMD0gH4ALz/n/1K+1v5n/hp+Ov2C/Xi9C/11/NG8i/yv/Ge7wfuXO497xjwm/Dy77nv0vCT8H3vgfBj8VbwsvBs8rLyRPNN9Sj29fU399b5t/tl++D6nv0tAdQAzf+aAjQFgQTeBA8HMAc+BzgKHgw4C+ELDg7ZDSkM+gvqDBkNJgy1C3AMGwyqChILAAwOCtEHRwjABzkEjwLrAxIDGwDE/2gAl/7V/PX8o/wY+6P5h/mA+vr5C/if91b3h/UV9a/1hvSc8yf0E/QS9KX03/P68v3z6vRu9KX0hfYP+Cf4j/hD+kz7nvoC+sv6z/vD+7r7xvx//c39bv/oAJUAwgDkAc0BYAEJAr0CNwPrA3AEoATYBH4FFQacBTUF1QWtBeAEWwUBBscFvgXkBQIGDwZXBbAE2gSGBL4DYQMKA8wCaAJtAQwBGQFBAH7/P/9v/nL9rfz7+8b7Nvso+jf6a/qW+av5avr9+eH5nfp7+kL6wvra+sj60fpf+kX6w/rh+uX6Jftj+9X7IvwS/Gv88fz4/BP9qf0d/jX+iv4a/y3/Jf+V/8L/tv/1/+X/0P9GAHcAbgDHADwB1gElAs0B4QHxAR4BIQECAsABTAHtAXQCTQITAhwCNgLfAXYBgwE7AWEADQCBAOEAcACp/7b/OgAfANf/1v+l/5T/2f+5/0L/Bf/X/qz+s/60/qb+rP6r/sH+AP8L/9b+sv6o/oP+JP79/WD+p/66/jL/V//a/hH/x/98/+H+Ov+O//n+xP5y/3P/z/4I/6n/2v+o//T+0P6J/3j/jf+ZABwAGf8WAKsA5f8gANsAGQFrAZMBqwEIAkECSQIBAnABIAEBAdUATwDF/2IA3gDT/1n/pP8p/zz/wP9U/yX/Dv+V/mL/NwBp/y3/3/9t/6P++v6O/3P/QP9G//7+xf5M/+3/8v+2/9X/ewATAR8B3QDhAHcBtgH9AJQAuwB6AIAAxwBqAHUAOAFuAUYBJwHTAKkApwA+ALv/uv+2/z3/oP/nAA0BtgBrAdEBdwHJAY0CjwLUAb0BEgI3AcAAhAHQAPH/6AD4AG4A9gCvAH0AagFoAS0BEgEBACwAfAE/AZkADwH/AVUCdwEPAVEBTgDI/9oA9gAxAN3/9f+dALYAbQAMAacAkP+PAIwBvAAbABUA0QAKAoUBMQA0ACAAe//I/3cASwBV/5X+UP/QAAgBLACy/8T/YQA/ATQBlwBaADIAtgC/AQYBhv8sAJMBfQHjAFgAHP8j/qv+C/9+/v3+PP86/lX/WwBY/vz+XgEv/3D9V/8iAEYAnv9q/Un+wf/B/Vn9sf6J/j7/3P9E/2b/nv5N/joAvP9O/vr/hQCM/0cAbAD6/4IAPwDc/ywAzv++/3sAvgC5AGgAYwABAigDvgFMANYAgAENAdwAgQEhAisC4QDQ/lj+Lf8n/8n+ev5L/bz8vv2B/aP7lfsV/Ub90PyI/Ov7Q/wt/Tn9+/3W/vX9qf1D/rv9df0Y/n7+sv5q/rj+kgBvAa8AUgBPAEsAVQBEAPv//f69/iUABAF8AcABhQD9AOoCuwHdAD0CpgH0AXAEtgP1AdsCTwOYAhACWQHiAPEAdAFSAhoDCwQVBPUCHwPIA4MDKQTKBCQE9wPgA3QDhwNsAwwEBwV/A9kBwQIhAzYCIAKFAqgCJQICAakAaAFtAjEDiQLLAFAA+wAFAf4ApAE7ArMCzQI+AvUBgwFAARcDnwPqAJMA9gEqAf4BkgNcAiMDLwXqAzIDeANdAhADvwPpAagBRQJMAfcA9wDLAFsB+wBrAEwBigHTANcAaQHeASoCpAI4AmsAqQDdAscC4wFnAiwCGwI0A8ICdQHrAR8DlwOUAxsDJwJ8ASwB6QAJAQEAof2E/tsBtAFwAL0BmwKDAiAC0ABOAbICZAFmAAsBawBHAJUBfQG9AFwBEAJCAZL/5f7j/9sAWADm/x0BRAFB/+/+vf/p/jT/hAARADsAYQGaAYkCTwOKArgCTAOYAq8BbQCY/z8AFwB9/7MAZAFIAF4AgwGZAKT+jf7//v390/y1/M/9Qf91/4f/OgCKAA8CbQMiAS7/NwCFAEUAcgAPAKkAngHHAUYCSwG+/x0BRQIiAZAAKwGIArUC4AB0AVID4AGzAHEBvABOAJkBJgIqAQUAtwBoAl8CxAG4AdoAv/+G/wkAbwDGABsDSQUSBGcDGgSYAmABqgAr/pv93P6v/rj+vv5Q/6gCSgSxAjcCrQFaAOcAKwHy/uT86P0aAUsCuABp/+D+wP5X/nn80vuY/Zn+of4S/+z+kf1S/PX89fyl+VH4u/o++yj7CP0T/p7/eALUA1MDEQAf/eD+Nv4l+YD55vyt/fsAlAQdA5cBHAKAAtIC3wBp//AD8AYGA/EBgwTkAZ3+Af//+5r4OPycAFUBhgEiAhgFYQcJA+T+mP62+6n6/fyG+cb1tvlE/sf/lv/1/toB6wPuALX/H/86+7b6j/yp+rn4nPik+EL5IfmW+WH7NvyOAZIKvwkkA5EE8QYwAdL5e/Yg9y75yfiI+E77Iv0v//gDdwN9/cj+hgTjAZH8Hf4EAYAA4v4k/kD+w/uD+Rf+5P4m9uf1w/3c+zD3Vvmm+tT5LvgF9tz35vcv9Hr3rvvh+JL64P/9/QD6Wvnl+cD4JPPl72L0uvZb9Xn40/p4+KX56/wu+rr1GPao90v2ZPMS8rTz1fTk9BD5Jfx2+OX4N/1P+FHyK/Xo9yb4ffmb+m388vzN/DoAMf9B+3UCWwhvAOj8bwG9/ib53vhE+Ur5U/sW/wkDKAQaBVkKPQw7Bz0HWwpjBMb+3f+K+572/vkp/Fr87v35/rIFlAik/ab7AANZ/Yb4C/wp+TL41Ppc+JH48/XD8Dz4HPlq7Pju5vYL8qXwgPOP9dz6+fkX+NH8k/mQ9zEBXv+S9oH8lQJR/179NvxO/GP/d/9V/q79DfyLAe0JkAYPA3wM1BLaD2IP6w2LCZ4LzwxnBvMDlwgXD/QS6A3ZCTAQ+hAJCTsH4Qg1Ck4ODg9TDc4NoQtkCFAFx/yb9ar2ofg3+Jf5YP4mBPQG0gZnBZYCQQBL/gn6DvXO87f3MvmT8yfzavri+TDzCvGp8C3wb+/f7VXvlfG+9Xz/8AF9/cUCpgfQAbj+av+n/vP/9gASApUDeQBpAIwFuwM7AOcEhgsGEU4W6xnyHfAhESOBINUZvBIzDmUKdwYqAjcBhAahCpQMwRAXETEQPRRbE3MNbQuBCpIKighAAK3/3ARF/3T7+P/p/Dr3r/Yv9Tn0S/F47Wvz2PbA737wKvR67aHqfe3v6uPofekH6gvtLuzT6WDxTPcQ9jj+0wfyAwsBJgQ5Al/91veS9uH/WwIv+on84wDK/Er/RQGU/rgJ0xbzF/IZGRt7Gmsb/xCvB+oMCApkBbkP8BFkDfgUTxrdGAoXzxGIEvcTswhmAW8Atfmk+WL8W/WE9gwCgwWFAzYCjwGgAt3+j/ae8SXvGfHx9u/0yu+a9QX8Z/WX7Nbraetr6Jzp+euA6TPomu6p9fLx9+qm8gkA2//e+ub8DQFYA+f/DfmS+QD+wAAoBnYJpglHD8gWsxn1FRoO9w9+F0IR0gdKCzMS8hWEF28XqhlgG/sZNxfxDs0HxQp9C2cFfwPSBMkFowbyA30ATQGRBBQGhwOpAiwGeQMk+7n48Pao7fLmaetT763oZOf583n42e+d7VnxKO8G6Ajj/uJA4f7efeUi6kTpX/M//u38wf+xBn0FSQIKApUECwRy+2P8tQYKAmL7TwNyCOULvBbAHPwd0CI3KYcpYRnrB4ULHQ6lAIP+6QvkFJoZux4sIeYeARtnHGYbDQ1TAS4EEgSa+IjvA/Dr9DD5Jvvk+5X+1wM0BygEm/tV9eX1VvRx7ITo2+kK6jfq3Omv6OfoLeju6Znt+eff4OfifOKO3yDk0Ovj9HIA6Ax5GT8bkRQmFqkS7gC/+Kj6hfgw+5UGvBI4GTQbFyVlLBEetxK5GdQZMRIMEqQU2hdAGwUceByAGmgbLyMxISYXWhYJFC8IhP/F+cXxqOzX7SHyf/PK9acAxAmZB7kClADg/Qz44e/x6Q3of+lp6+zn+uPp5A/iGNzp1zrRVtFE3QPlBOgU8V39fwNq/O/11v2W/bbzWf9iEdkP4g/yHIIjZBiFCSIM/xEbB5wEdREZFP0XYCfJKSMfRx1GJQckTBInDHMbdx9sGJYbxBrOEngSgRCSBMX5Nv4/CyIFfvZS//8IFf9/+Pb1U/B/8v72SfW77X3novE/+DbmGd9D7DPsQuQo3+7WeNbV2YjX19jm2r/hPPLg8yjtmvfEAMgB0gcJCOwHNxN5GW8Waw9YCE8PVBZ6C9kHzBMBG1gcdhkwFg8ceR8OHGkd7B13HesiBCIZGZsUIxRVE00NAQWFCHMPegsWCXgLBQcpAPL7s/fd8wfxdPJE9oT1UvZY+O/vqOZk5SngldhB113WSNbn2/jgMN+y29rhJ+pY33HQFNkJ5YThqeYT+hYGXgy+FgAa/xAGEMEdVRuzAmQAnRdEFmcA8wIWFDQVSBJXGmMgbh9RJq4xHiq9GFwc2SUIFz8FkglqE8sU7xJxEZETzBhiGT4QSADn9sj5qPgR7wPsNPCZ9Xj5wPIC53flXehD55Dk4eFo5S3t6+ih2CjLh8fryIbCfrohxaHVDNuJ5/T81QcYEQskni7II8AVVhiFF7P9jOsE9lH4yOor78YAZgYECPIVIyd+KxssLjbUODcs4iYwJ5UY1QahA00FzwLlA/gNIBlnHY0fbSN6IrYbthPGB7H5OPOP8G/nHN+M4Q3o4+lU6Dfpxe2l717utu6967jlOePz2TnHLL7Dv7K8dLV1tqDGetou6I/9dBiVJrAzJ0LeON0hRBd+D7X5JuCT3Y7t1OwN57b6YQvtCbgUDybXKEMp7zNzQL06bymPKtoqoRB+/2oCAv81/+oJlxEBGEYeQCeXLjQiHBUsF4wLOPdL7wTlltx/3njd9d9Y5hTp3PHW8fnjQ+YV7Wrj0tm50rTOfM5gvmytfq7rrde2b9fr9rUVCTkVT9pVRkmQL2gf/wbY4RzVHNgj1wfgzOtt9ZoEqQ1PFCwelCARKF0zfzAAMVw1cSqDIcwd2BB/B0IF3QSiCQUMRRL4IYQmTiUWK6Ml8RemD54DyPY57j7lgeI24xLhweTN6hfuePKM8NfsQ/F+7cLdrtM/zVfC7rZbr3Ws3KofsPrHiOg1B9Us/VBYXvxYFE7hOUkW1O751Y/LQsYFysjYIulD+JgH4xELFrgcsydALKIqgDFSPUk6bCmrHZUaJxItAtP6r/9WBGoJ3hRXIAQoki2ILpUouh2wFNoOAAN381jrteZE4jfiPeHG3vLiZOoO7ZDqjOnZ7FHnXdaGzSrL3L9wtZ+0C7SFtMfDD+cVDtAosEJRXhlirEziMx4YCvUW2K3N9c+t0anZGfKzBKYCVQXZF0UiHhu8FlUjtzIfNW0yADFUKVge5BadDJT/F/1WBoQOXRPTHNco7i0AKiQhUxbiC1MFGQAc9TzqlOhx6OnkXOJa3qHdnud37/HqU+OD4jrlWtzpyIe+EbqOsi6y5LMYtnfRfwFSJtw6zU6xZTxoUkj3I6sLDvAf26zTiMh4xorcJPPO+Af6yAoCJS4rYSO5KOsw3TPyOc4z8SAaGywethaxBuH8/QIoDHwMxhHCGz0fQyfkLHYc7QrICzMNKwHF7JLh5Oh17D/hbtlM2XrgYu3y67nhWuQ150Th+tcixzi7L7ugtfCtuq87whrwzx32Mo9LtGh1bVFaHjaNEPD4tN6OxrjBe8FmzITo0PbZ+rQJohoOKMMpvSQ+MqE+PjfcNZwyiSDrFlURlQO5+cz5pwbzEMQLhhUMKzknVx4/Ik0aGQtcBocFh/u25w7izeqo36bPc9mE4//gw+Xt7Fnqj+Rj5PXhH88NviLBqLyCqLKpSMhD6wIJPyiYSLtd4GLTWEs7fhg/A3HvotMcwr/Hq9i84WHmYvXeBxEWmCEdI34ihi/KPB073zBfK+MvCSzYFvMHWQRGAKsAMgJPAmgNpx78KI4mihhSEwQYaAyC+OXvPenQ4UjdL9iJ1sTZO+M5773npdZv3h/thOLczi7JWs7+zGS+XraDv//Q2+1eDwMl6zuBWeBhikzwLRUWkgNk6l3QtMc+zH7WTejQ9Rj8NwofHJwksCXSJg0wtj6kQ8s8xDENJyQhGBam/Ijq8O/J/PEDaAkgFfkmcjBmKiEfzBQgDEwD5fHc3DzUxtWS1o3Wn9fq2mviJuqj6lfiTdvq4FXn+tlXxnbF48qzwWq388N65wYNTCeCP65XRWDKVXM9vhzJARPsMNHtvjjC29AQ33fpGPr7E4ohWSTeMrxAKj+5O6o86juMMQEglhcmDtz0ieee8JH1lvYEA84X+icCKn4pciu3HDQIxgFq87DYYs6702zSSsiyyvDhyu9i6OnnOe7Q6ODh9dw1zuu9/bq/vli6W7tM3c0NvCfhOKNWXmfoV4Y/6yzZD03pKNX20zPMu8Mz0x7udfjU/KcQ4yRsKjwxWT7yQRE9lT16PwEyzRnTDCcHGPny7U/voPX7AWAS7hpuHDEh7im0JWAMjvdu8s/k589Syk/PSNLR1iPiP+xJ6EPhAugJ7MDewNCNzVbOWsjguA6yLcYQ6xIKwR50OCdZHGfIVjw9AijcDwj0jd2ZzWzFVs9c5EntA+2u+bETvCYvKLsnPDQ1QfxDpT/0MwQrTSljGSP8bO0j8Wb43/p8/DsIBBkMIsMkMyCpEwoKPAGc7s7axNLq0HLNbdBc3MfjWOZm60jrION/2q3UeNEly8vBJ73ou3TJdPDyEJ4dwzijXj9m4ky/MyEpCROz6PvP9tDM0PrVLemo9tX7dQofIpEq6x+1IvozGTNUKrYwqTRQKXMdOxg9Cx/04O8RAPgAm/lyCP0e4iP4GhYVthF2ABPtjOfg2mTKwdC13IPcg97U6CH0avEr4rvfFOC/zMm8rbuRtg2yxb8W4sIJASfoQVxeaWpjYQ5MdTAHEm3x19clyDO758CS29PrzPP1CHwiTTIKMi8tVTfxO8AtJSyyM8IozBjCEcsJKPxL73DwlPzXAWgGjxXCIbAixR/jF34Dbet+4ObaO80/xg/ROuHw64vude4A8Xbv5udZ2kvEQrdBuiS1yKgPspHYoQisKEo7hlZgbptrJ1THMVgR2P6k6vfPHsSyyn/bJuwL8NT2tw7YIuErnjH2LyQzDkFbPzQt4iJOH30YPQpo9bXsZfT792P5WgMgDfgWgCL9IGYTZAa6+P3q2d9j0nfIeM3h25PlCOXE4uzoFO575GjU7ckww0W+NrsguNC8HNjlBTgooTIcQ9RirGiwSWUruBoRCUXyW9yd0VDSJNjs5xL1uPHB/RAgeSqFHu4hzDH6PbM/aDYeMCws0h+5EV/+sObW5ez0fPPu7dr8VRNyHRsbwRNUCUL8bfDo427Srcdp0ynp8OxF5MHpC/V47kvb98dvuEaxda7MqVOrucQf+tsq3TwhTbNsGndXXFs2FhkOAqXmRc+yyM3Faco15pH3dO4e+XcaniQBGcoZ8C2xPCk2tTVeRGM5jR5bH+UZpfHJ3Ejs8vBX5bPrRwkUH0sbaBcyHGQLTfFp7tflfMiIxu3jNewP3n3hzfB77CPbT9AwxD2yYav3sB+waLMa3l4cXzW1O0ZgnH5xa+1H2i2gD67uDtfxyFvAcsI82AXvL/DY9aoT9iYYIkIiZC1TNkU+DEIuOdEtPCwdKHQRZfYs7zzywunq4u3uLv7eB1sTrhViCiAEcANz95rg/9FW18vdnNZH2JDkZOLy3w7mF9ewvvm7lrxzsaOsNMBL7yUavysZScRxN3RwX0hPtC0dBxrzKd3Wx1nDw8lQ4O/zOO0b+Lob7hytC4sW/yqIOTtBiz6iRS1NfzqsJiIYufhb5ILlQNpV0RPm4QGjDzUSIBXpHa4WN/kf5bTbhcrcw7HOENQs17Lk9PCG8S7nRtglzEW9yKtgpgOwMcwh/EwjlDuRYP9/E3grXL1CqCWgAfbeX8w4x6fBLM2s7Ez4N/grEuEnnBqPEA4gmixWKiMsEjgAPfMzGS7/LOsY0vvl9kj3GuSW3170df29/jELVhCsBxj/yPf06g/VXMh91SzetdGX067oR+8j5DfZGNJfyFu6dK/RsYbJCvDFEhgz+1bqbp117W0XU+oxphPE8ZfW2cWuuxDHIdxH5IjzOg0bGn0hJif/IrYlODF6MX0reS0aNDUztiM2E30OdQUW8sbqne9+7dTuAQC6CasA0P20BZP8IOGO0/zZUtiOyxjN3tsY5NHl5OVN4HzW5c3BxVi80L5Q2tb6Zw/mLSlWjWeLZSdixFDFLC4JEvDe2mLFI7+l0VHkiOuW/fIWKR8jHughcCG9G2ccByOzJv0mzy3wOTI3piRCGXoS+f4j6sPj7uTE5MDmnPCh+Xf3A/Ys+b7w+OOE4Svf3Nfz0Z7T+N8T4k3TE9UN36rMTrnDxkTgkvLtAQodBEcMXs9YglrfWIk5PhvlCAnoNMsNy9nRM9Kh2JztxgskHE8ZDiDCLqApIx99ImEjzh/hIwMptygeJNQd1BjFDNj53/DR7afm4uU16kzqi+u+7PrqD+zS6p/kRuJJ4fXc29hJ11rb9d4P2PfS7dUi0Y3NQ9008BD92xNVMo9H4U/1UDFOAEBFJBgNn/vl4T3RAdUF1r/VyOU3+i8JYhT1GXQiQirgJNojuymqIcMfpC5nK6sckx8SIGEQ0AIJ+3r0Je7d5n7lBOd24mnioecY46DeHua26fDhtNxb4L3jzt5J2RXck92W1orRedYu5DX0BgGMEusqyDrDQz9Ox0nyNXsqax+yA7Xp6N/X3JzaM9gn3IDwagVECksQyh3kICkgGifoJhQgxCTxLbssGyUEH8kcNhcPBwj6Evgq8fjn++ky6Y7hcuOL52Lkc+PH4i7gOeGr3mfb1d+83ezXmt5K4DXW3tWe3mjrWPzlBD4SQTDAPoA9IUZfQr0v7it4IFkAivB+7lblqODp3nrgrvOaArABlQwSGwwb9yAvKLQeZhucJZsn6iImH/kcpx5yF60HfANo/43vH+rr7C7k79tn3uzhHeKb33HgOebN5Bjgu+Kp4NDZvNx831/Z3tR41fzfs/NN/GsBPxzMNSo3tzlQQnk7di6IJfgV4QIh9VTtwupS5Cndcuie+e35dfpWCNwRABMlFzMetyJaI/skeCv2LKYkUSFCJOwbbwytBQAAZ/Od6W/ko9+I3dHbddq43abfpd/X433k9eAs40Tj/dxH2g7YmdXF1//V/NnS8ckC0waBHeo2KzkfPkNHqjtVLeEnMRklB8X5ze1T7IrruOEL6Kn4Gfc0+D8HPwpZCWoS9BUzGM0fuiBPJCAuNStdJSInyx5LFGcTpgYe9Fny6u5V4nbfNt6F2UredeHS3Nfd/N4e3iDjDuCT1grbTN/J1zPWKtnv3k/zMgNEBiQZgjHeNf86CEN2OCIvyi8mIeAM+QP7+v305vIL6YnobvWw9dfz4v5XAioDCg96EkwQ7xgZHRIddyWMJa0elyLlIcsYSxe0D28Aj/4D+1Dr3eUe5LfaBNwk4AbYEtjq4GLggN8U4CLbMN2S4PHXQtQk2brc6eoU++39vw2OKtYxgDIZPrc7FDINMxgoMhNoDAMHQvyx97LxYO9a+sL7BfSn+9MCpv68A+8IiANbCOYRnhD3ExAbuxmcHOsgmRouGHAYeQ1dBqYEBPiQ7tXt2uMQ3Pnf1dtC1TrbOd7B2tjcl9563q7got3E2SjdIOCC5RLxkvcTAUQWmCL3JdoxizjtMxU0+y9HIYUZHhTHB/UAXv0M+Nv7zP5A+Hn7xwMh/2v8lwBF/TT86QG5AXQE1Q2mDzYSLBsVG+8YXx0oGCMOdg0oCJv8Wvjr8g3ro+tO6TPhFOMT5ubfu96Z4Qze0tyO3kHa79cP3d3hBubd7F/2HANnDi0WRiD1KM4qJC1ILzkp9iFCH34ZiBBdC/AJ3gj+BZcD9QWBBxUDxgDMAdD9Kvn4+Yz6cPoW/qwCrQZ9C8wPLRThFh4UfRG7EawM5gSpAnX/+/g5+K74BPM88M/yjfDe6kvpHOnF5p3jzOAN4Kbgwd8B4cLmdero7O/12v85A0oIPRKPF3kYOhubHJcahRgbFqYTQhJ4D2ANyw5gDhAMQA0FDfIICggcB30BXv/qAHz+Jv19ADYCwAOSB60IfQj/CWwJ6Ad8B0kEIgHfAWcA8/uQ+oT6Cfl599D0V/Jl8kjxOu7u7BHsh+oU6ijp0OdP6ELpJeso77rx//Mv+h0A+AKLBikKBQxjDfYMzQt8DIILbAkPCx0MQQp2C/ANzA2FDoAO2wu8C3UL+AYiBeQFLAMSAjoESQO1AqsFewb8BbcGigX1BEsG5wOfABMBCwCm/Rf+3/z/+U37iPzR+Zf4Hfmk9+b1jPQS8rDv7+2l7HbsB+zG68DuufLW8+L0qfgS/OP8e/1O/2QAXAB8AQED4gJbA5gF6AZNB0AIKQm0CnoMHAy2C1ENlw1RDLIL9gnlB9YH0wbeBJMFXwbyBaMHhghDBgQGOQdiBaoD4wPGArkBLwKIAcYAhgEWAVj/nf79/UH8AvrW94L2pvXm8ybymvE38WrwrO8T7/Luje938DnxufH38rz1P/gU+an5Gfvy/BD+c/09/V//ZABa/8wAsgN0BP4FjwhQCFQI7AoTCwgJGwktCc8Hjge3B64HwwhVCSQJJQo1CpMImAjICMUGUAbNB8MGjwTaBJsFUwRbApEBoQFoAML9l/zc/Kz7FvoX+nX5bveK9iX2CPTd8Urxs/Cp75Xv/O8d8ATxSPJO8mfyFvRY9fT00/Tm9Vz3nPhO+UL6Z/ww/tv+aQBqAvkC3QP/Ba8GMgYrB5AIewjmBxIIGQk4CmEKTgotCwMMDAz2C8cLwwsmDGULmwkbCS4J+AflBqcGqgV+BEgExANLAv8ALQD1/tX8mvon+df3F/Z/9OXyPPGH8Avwu+5I7hLvJe8G7/bvufDc8FzxMvIU87fz7POq9L31yvUC9nv3hPj4+BH6O/uZ/Kr+7/+bAGYCJwTyBEkGIQiQCfsKMwwQDQYOfw6iDnEP4w9MDxsPMA9+DsANdg02DcMMwgutCjQKQwmNB3EGbgWAA6IBJwCJ/h/9vPsZ+v/4PfgL99715PTb8wfzEvLe8CvwgO9h7ubt++2p7Z3tLu6g7lLvh/B48SvyNvO19Hf2w/d4+Kj5P/tT/HD9FP+cAP8BWANrBL0FcgfJCNgJ+AoEDEENdw7UDgIP1Q9pEEQQGRAYEAUQrA/bDgUOaw2hDLkLuwpmCU4IaQeZBaADwQLOAQkAmP5r/cT7IfrY+Ir35PXj80byN/GH75rt8OyP7HjrWOua7Hftsu1u7rvvsvAI8cLxJvOt863zEPWg9tj20Pc8+hD8k/3R/7ABJgMIBW4G/gbNBxMJWApCC/ALYg1ZDzUQYxDyED4RyBEuEycTKhE3EJIQ+w+xDvoNgg2NDBIL8gl6CScI0AU2BNoCbgBH/vr8MfsZ+XP37fV39NPyBvEk8HTveO3z6/3rOeuV6YTpv+rL62bsiuwa7bXu2e9b8MDxSvNB9O/1wPeI+OP5afw2/jP/0QAPAwEFQgZlB+gIGgr2CkUMEg0rDekOjxHvEW8RsxLgE4sTghMgFBMUZRPZEnIScRHGD68O9A0NDC8K2gngCF8G2QQsBD4C8v94/r38aPp2+BL3XPXl8vHwYfAx737sH+tr60/qxegO6jvsD+xl66Ds6e287TXuPfBg8XLxWPNX9mf3BfiW+s38Pv2G/iEB2ALmA7UFiAd5CF8J6wpODOQMuw2qD1kR3xGqEiMUchSJE38TRBTuE9gStxLGEpIRXxBSEJkPXg2qC98KKgnNBj4FxQN4AWf/Df5w/Ir6Kvnd9/H1KvQa88/xyu/f7X7sI+uB6TjoOehJ6QLqKOrV6vvrzey97RTvBfDM8IDylPTQ9dz2C/mO+7X8aP3B/9sCjQSOBVIH/Aj2CRQLCAxCDAsNAw9gEIwQ3RHCFM0VPRQLFNAVlxW2E4QTXBM8ET4Q8xBnD2AM7gtNDNIJ8wYRB3gH4AS9AeoAOwDB/YX7Nfr995r1jvQ0877wVO8Q74nty+oS6fnobukE6sTqQeu66xTtcO6M7h3vd/FD87nzVPXb9zT5cvqj/Ab+kf5bACQD9wS1BeoGDgmQCsIKcgsVDeENXw4qEKwR7REpEyYVDBXEEwoUsxTME9gS+xJlEtkQhBCnELsOeAxSDJALWAg5BlAG7QTaAWwADADr/RL7tfll+Jn1nvOM8yHy3O6t7RDu/esj6eboOuno6C7qy+uB6/DrYO6X72bvvPDg8rLzjPSn9mD4SPkW+2r9dv4y/1EBcQNFBF4FiAdDCf4Jqwq/C/MMBA4jD6AQABKwEkoTThQTFREViBQEFOQTshMCE24S8RG7EIkPJg8mDh8Mygr9CRYIzQV6BDUDGwEO/6T9MvxZ+n34xvYb9Z7zNfJ48KHuVe2H7GTrdekB6Nfoxuog6w3rGu0t79ju7u5N8ebyCfPC9Eb3mPfG96P6Rv06/eT9OQGtA8EDvASABz4JdglACtgL/Qy/DcwO4A/QEF0SLxSBFM4TcBRUFeoTVRIuE60T7hH5EGkRQRBPDj0O/A1GC/wI5wjtB+UEvAIjAsYARf4+/AP7YPn19h/1afQ88zjx0u+q7sbsZ+uR6r7oBeiS6nzsF+sV63bu8u+j7sbvz/I/8zfzFfZp+PL3zvhO/Bn+bv2m/lECPgTlAzkFjQgmCsMJeQpGDCUNzA1QD3MQFxGLEssToxPKE8MUYhQLEycTrBOaEl4RMxGmEIQP9w4wDkUMmgrcCY8IZwboBAkEYwJTAMv+CP3G+vb4QPc+9Qf0SvNg8fDusO0V7cvrDerX6A/p7uqX7G3sk+yR7qTvNe+O8DLzDPRL9Cr2JPjE+KL5rfsn/bv9bv/aAS8DaASGBlwIVQm/CUUKsgsTDZwNag6UD3UQOxGKERESqxMAFFUS6hEWE1ATbxKIEeEQUhDCD0sPJw5IDI8LSgsrCfgGbAaUBbkDrgGv/4H+iP0x+8b4i/dR9tb0X/Ny8e7vaO8V7o7rMOqC6tDqWuur7Nzscewz7v/vD+8/75DyRfSM8/f07fdM+Mz3LPr2/AD9Vf1RAL4CXgPpBBwHqQekBwkJNAvDDFINrw0SD9gQchHHETMTNRSGE8gSYxMLFCIT4hEvEjoS/w9YDhkPpg78C/QKaQuhCc4GPwYaBrUD2ABE/wb+SfwJ+hL4DveC9R/zFvJ28SfvPu3I7KnrEOo66TDpkOpH7CHs8esa7vvvRO9B7zDy+PPz8kb0Cfh2+HH3LPon/cP8F/1uAP8CzAIlA2wGOAm7CHMImQr1C9UL8gyuDhAPUg/MEG8SWhOdExITghIjE64ThRJeEXMRwhA3Dw8P6A5oDCYKtQo6CwUJTwaOBVkFcANwAEX+8PxD+yr5Z/fg9azzSPFs8Evwpu6E7I/rhOrN6Ovn5ug36yHsq+ok64TuV+/F7Vrvu/If85jyNvV5+Hv4Yviy+xb+A/28/bUB+gOoA4gEoAemCbMInQipC1ENWAxODcIPFBCsD6QQxhEdEhUSjBKYE0UTNxGPEJYRrBBXDlUOGw9PDUALKwuFCrMICQioB3cFwQJnAakA1v4y/JL6lflC9wL1qPRS89LvDO5U7iDt1eqX6eLoJ+g06O7pBuxJ65zpE+yg7wfvT+4W8TTzJfNl9OH2pfev9w76Qv0p/mD+YAAUA74EPAWHBpwJMguSCqULng3FDR0OhQ+wEIMRoRE3Es0TWBO6EQsSbRInEjMSexFuEeER0w9VDtwOIA0lC20LfgqmCBYHmQRGAx4CV/4A/CD8dfrx90D2kPQs8x/x9O6v7qjt5OqZ6V/p8uhx6HnnbegM69jqgeqt7VDvQO7B7x3zEvRJ87b0kPgO+rj40vka/UT+c/6TAFwDJwQNBFkGMgnjCI8IIQsuDYwNag6wD4MQrRDcEEcSaBPFEl8SChOrE6cTQRIGEbURTRHmDjYOYQ6nDDELDwvUCf0GogQSBDsD6v/1/IT8UvuL+Mz2kfWs8/PxjfAe72Dt0Oug6xTrtOhm537nMeev6Nrq6+mP6S7sWu1l7Xbv1PHr8lXzO/Rn9pf3yvda+qn8XPwi/qoB7AL+A90F+galCAgKCAoBCzEMcwzYDSsPmQ9tET0SoxA5EfsS2BFrEa4T3BP4ER8S2xIAEWIOxA3GDdALKQmnCKYIRwaqA4MCUgBi/QX89Ppn+SX4EPYJ9LTzavKC7/Lt6Oys6tXo2+cz5/DmLuYd5s7o4OrN6Y7qPu6v7kftgPBI9GDzgPPl9q/36fYG+Un7uvus/ET+WQA6A2IEEgQWBqsIpgh/CUoMGw2ADZoPMRBgEFYSYhK8EYUT1xIHEEoR4RKmEGoPUhDXDwoO1QyvDKoLEwn0B/sHVQZfBKsCeAAA/9L8E/ry+d34ofQx8/Lz2/EQ75DtquyP7GHrSunQ6NjnHebK5yzrnOtV6unqqO1l77junu9H84f0jfPw9T/5cvhN+Dj8R/6K/RH/LAKDBMAF2AUuCAsMTQsZCtgNmQ8CDqwPphJlE/USLRJFE68UuBICEjAUFROoEFwRhRFIDx4NPAweDKYKYQgCCM4H2gWdA78BVACt/ij8rPqV+QP3HfUo9KPyYfGq7xnuFe4l7L/o9Oc05+Hl8+Zm6KrpGeup6rTr8u4x76nvSvOg9Hz0Y/Yb+MD5evsz+1X7qv1c/+D/HAL4BSAHvQYPCssMrgtADeUP8Q9HEnQTbhGPEywU/RJDHY0lRR1PGEMb1xV7D7YPbA2ZCosKpQjoBy8I9gPUAB8CJgB0++T6HPsr9/nzx/SJ9GPxlO777DzsJ+ty6PzmPOfP5PHg39/+4E3i1eJO5LfoM+w27tLzVPnH+l/+AgQuBtcHnQoRC9MK9wtRDI4LdAtPDDINlA3TDVcOEA80D7wOTQ+5DysOZQ7qEI4QjA+sEXoSwRBHEOIQsRF7ElUSUBIDEuYP3Q0qDE8JPQftBWUCOv53/B37lvc/9JfzW/Pd8Q3wsu336xTsLev36Nnnwua95SblxOK24GHh1+Je5aDnZ+gy7erzDvZM+oICoQWUBswKLw6wEPsRPQ9hDscQyQ7kCsEKXQp7CBoJaQr8CCgIxApBDC4LyQy2D5APhw9sEKIPABBzEZsQVhCOEeIQBBBWEJQPuw6UDqsMignGBz8GtQK+/iv8LPld9W3yl+8D7XDrpegG5lPmrOVx4y/kaeUD5F/j3eNJ467iFePr5GDoLOxk8Mn1QftIAJIFggswER8UtRQrFmQXkxWFEicQbA3/Cc4GdgQlAwMDtgP6A2sE/AbMCbYKOQyyDmUP1A96EZYR1xDxEQ4Syg+UDzsRqxDqD7cQuw8bDtkNrwqDBb0DmQGl+yT3QvRM76frf+qa58rkGuW35IPiWeJc4xzjjOOG5LPjBuOy49DjMuUw6avspPC2903+JwPcCQQRVRXrF8QZyRo/G5MZmhU3EmEPsgpxBYgCkAGTAAcAXwFgA5wE6Ab3Cg0Ojg9FEeUSnBOPE6gSPxLdEnMRsw4zD4QQTQ6ADEUNBQwgCfsHNQYQAtL9wvlX9SfxcezA52LlEuRz4aTfq+C/4ZPgzt/g4S7kM+QN5Brl6uVw58rqxu3l8Oj2TP2WAeoGqg2LEhYWMBlMGpMaxxobGD4TYA91C6sGMgPCAI3+lP51AGwBqQK8BrkLnQ54EGkT9hUfFosVqxX8FFoTARIeEMYNrwz+C4cKcglhCJEGfwVCBI8Ap/wo+if2mvB37BPpR+WA4nPgU9663XbeWt5e3mDg++Jn5Avl++Xg50zqeeyU74z0HflS/NAAjwbHCk0OmBJkFRkWxxa4FtIUUxI8D34LcAgkBaQBOgFfApwB2QLHB2kKNwuRD0gUnhXFFhgYnRf3FrYVvBIPETcQHQ30CmcLDgq3B6AHaQYiA+UB4wCo/GH49PWS8j3u1Oqo51Tk3OFU4J3fAODE4DrhSuJS5O7l2eY56FbpwunZ63fv0PGB9Ir5cP2r/3IETQo8DVMPbBJ0FBQVjRRgEkEQZQ7iCukHcQc7BhEEugQKBz0IIAqwDbEQbhJDFKQWAhjxFksVCxU7FJgRLA85DcYK4AirByIGxwSBA7UBdQB4/2P9Yvtw+Z31s/HM73/tCOrZ58Xmr+VV5UHlt+Tm5BfmQudB6Fnp2OpW7H3s2+yp8Lb1OPh2+qH+DQJGBFMHDApkC5oMAA0cDOsLlgv8CJ4GPwZbBX4EAgZDBycHfAlHDaAO/Q8/E5YUShS/FYYWmBQJE/URVQ/8DLULmglrB0kGAQWwA+ECogFNAGb/pv2K+4/6T/ln9nXzEPJo8b3vee0l7WTuUe7h7WPv+PBu8Z/ySfRy9ez21fc/9xP3dPfC9iX2avYX9s717/Zj+LH5+fsj/w8CSgSjBvAJqQx4DYsOpxAoEVgQUBCFDzEN8AvdCwALGQpJCpQKUgoVCokKlQs7DBcMvAtDC4YKXQk2B+kEywNdAob/r/1+/ZP8G/vW+jT7gfsG/FP8U/yY/Oj8+vyu/IX7D/o1+Qf47PVb9OLzUvNk8gXyfPIr88vz1/RV9rX3HfmH+kH7CvzD/dT+wP66/4IBCQJiAuQDFQWlBcwGDAjsCCsKYAvwC5UMSw1gDUINEg0kDBALnQrvCZMIjAf7BiEGXAU3Bf0EdgSBBAoFMAX6BM0EnAR8BFYE0AM7A7ICjAEmAFH/Pv58/Dz7ifpu+YX4Sfik97X2ufYU97P2oPaV9x74qveQ99T3ZvcV99b3Z/gY+Pz3U/jg+N/5h/qI+nP7N/0G/n3+4P8pAdMBlwI1A4gD/wNGBJAEXAWiBTEFiwVGBi4GZgaHBw8ItQeqB1AI/wjWCBcIKwjICFgIdwdfBx4HNQayBV8FWgRYAxUD6gJZAsQBXAHxAJEAKQBm/6X+WP67/Yv89fvH+6f6SPnT+Hz4yPdt92n3cveM94X3rfcn+CX4/feY+Nj4VPi7+KH5a/lF+Sv61/or+8n7KPys/AL+/f5H/xkAAQEMASwB3QE5AhMC2AGeAZsByQHCAYoBRgH2ABABqgELAi0CtwJLA1YDcQMEBF4EOAQjBCIEuwMtAwcDAgOTAvABiwFcATsBJwEQAQAB9gCTAOP/mf+X/wX/B/4h/TD8gvt9+z37TvrF+fj5Lvpg+q766vpj+wf8Svyg/F/9k/0g/QP9Sf1o/RL9Tvww/Bf9Fv3s+zH8wP0E/oz9Hf7s/lP/0v8QAB8AjgCpAG8A+ABTAYIAIwCwALAAkwAWAfQARwB9AO8AsQCNAKIAewB7AKsA2QBfAY8BtAA8AAYBtgGWAQ0BYQBkAPEASQAK/1D/sv+I/hf+RP+A/7D+yv47/zH/nf8kAL7/YP/V//T/W/89/9v/7f8Z/73+VP9l/73+A//v/+H/k/8ZAE8AEQDBAGwBowAOANgALgFvACwAdABNACUAbgCAADkAIwBYAM0AawGKAQgBtACvAHYAXgB3ANr/4v7n/kb/7P73/sL/ff9x/uz+ZQCqAP3/i/9g/5T/2P9f//n+eP9A/xj+iP4fAN3/o/77/pX/Hf87//r/p/8f/5T/3v/E/0UAvQDDAFMBvQEoAUUBVwIgAikBtAGTAtUBmgBzAFABQwIQAjEBuQHxAocCzQFlAjgC9AA5ASwCXAFGAG0AbgAQAEwAjgB9AIkAVQBBAAgBOgEyAPn/kQAeAIn/6v+m/7H+xv78/iP+8P3t/hH/PP4f/oX+Xv72/cT9uf37/X7+uf5+/kX+Wf5R/hD+Vf5H//n/FQAmAHUA7QBdAZwByQH8AQYC7QEPAnACigI3AiQCjQLSAroC0QJZA8sDyAPhA0QELwTrAzIECAQLA8sCbQNWA38CQgKkAosCLgKPAvwCmQJjAqACZAIuApUCfAKXATABQQGMANn/awCHACf/w/7F/9T/Mv8q/0b/ef/s/93/af9p/9L/8/+5/7r/zP9m/yL/b//H/wIAMABSAIwAuAABAYcBnAF+AegBTwKAAqYCSwIXAqQCyQJeAn4CAAMzAxsDEAMuAz4DYgOrA74D4wMpBP4D0gPhA5oDiAPyAwkE0gN5AyADTwNkA9sCywI8AzsDCwMYAxQD0wKXAqgCpQJvAmAC9AFOAYcB2gFzAWgBpAFiAU0BlAGkAXoBNQEXARkB4QDRAAEB0ABaAAgA7/8RACQAIAA+AEcATAA6ANr/GgDkAKQA9v85ALsAygCwAKQA2QD7ALUAeQB+AMwAUgFSAd4AAgGeAcgBiAGcAesBtgGCAfYB8gF7AdIB/AFXAWIByAFZAfUABwH1AAYBMgHTAGUAkwDKAKcAtwDDAHkArgATAaIAgQAJAYcAyf8cAO3/N/+h//f/UP9f//3/qP8y/3n/m/+U/9//yv9R/zf/Pf9i/+v/3f82/0f/hf8u/0v/tv9I/9P+Nv+V/6r/8P/i/1r/jf+BAMsAaABhAJcAiQBxAGgAUQBgAHgAUAA+AEsAAQDk/3EAxACgAKAAfQBdAMEAygA/ABgALgBHAJkAUgCI/23/df/2/tP+0f4t/tP98v2U/Vz9yf2o/TH9eP2u/W79av07/Q39wP04/sb9x/0j/gX+Kf5z/gv+6v2j/vX+pv6T/p3+of4i/7X/jv9C/5v/DgApAFUAgwB3AKQA7QDXAMAAwACTAKcAwwB0AH0AjwDS/7D/jABXAHj/yv9LAAAAIwCVABYAkf/2/yQAz//D/7L/Z/87/+/+zf4B/6f+Fv4Y/uL9R/0e/WP9uv2w/Sf96/wg/UX9df2q/cz93v2t/cX9Yf5u/jb+o/66/iL+Cf5w/ov+YP5q/rr+2/7p/nj/KgBUAOz/c//f/wwBhAEnAe8AtwBTAHMABAEaAXsAzf+O/6n/xv+n/33/iv+Q/3z/qP/v/wgABgDx/w8AgwDDAMcAxgBuAAUACQD5/5P/V/9X/z3/7P6V/m/+bP5m/kP+E/4b/iT+6v3V/f39Lf5p/lz+Iv5H/lr+QP6G/pD+Lv5c/t7+5v63/pD+av6M/vb+Ev+r/nH+p/7X/g3/Qv8t/zn/ZP8v/xH/S/9t/2D/G//r/hn/Dv/s/lP/m/94/4v/gP8Y/yr/xf/X/1T/V//P/8z/hv9x/0r/MP9b/2//IP/I/r/+i/4c/jv+hv5B/tj9wP1G/of+hf2O/eH+R/60/Rr/3/4j/nb/Sv9I/nL/fv9d/h3/QP9E/rb+vv7+/dP+Q/8j/jH+w/4c/if+wP4g/g3+2f52/mD+Sv/x/oH+QP8e/7D+Qf/6/jP+yv40/2L+Iv6l/qX+mv63/iT+2P1R/i/+D/6M/jb+6P2W/nP+4f0t/g7+o/0a/mH+Cf40/pf+Uf4m/oj+Zv46/sv+j/4G/uD+Gf9T/tv+V/+v/pT+wv68/g//Kf/v/sz+tf6x/oz+hf6i/l/+hP7O/nz+zP7f/iz+1v4o/3D+H//3/kL+Rf9k/jb+DwEs/6j8ef9A/sL8ngFZAIr8ewBp/zz70f9VACn8zv9QANv7Iv/sABz9Af9QAMv8Nf7v/zH9V/58AAT+1P3G/yL+Sv0E/27+pv00/8/+Kv1x/pv/jP7D/jj/1v3o/Qn/I/4U/qL/8v7c/fv+E/84/hv/T/8n/pb+F/9D/p7+Wf/N/uL+Q/+v/tn+Wf/m/vj+Xf8C/wb/RP8H/xX/Qf9b/4T/6P50/ir/Xv8g/6//tf8W/zj/VP8Y/1v/c/8h/yP/M/8x/3n/df8T/zP/f/9B/yL/Wv86/yb/a/9Y/0//nv9b/wL/YP9o/xH/Vf+d/4H/gf97/3L/jP95/4H/tP+O/6L/BQC1/5L/TQAlAGL/3v9jAOv/0v8FAPD/JAAoANL/CgBHABYAOQBlADYAGwAlAFIAcgBNAEcARQAVAC0ASwA4AFsAUwARABEAGQAjAC8AFgBFAGAABgAfAF4ALABUAGYAAgAdACMAxf8vAJUAJwAXADcA1v/v/3sATQDX//v/OQAoACUAJgAcAEEAKADM/xQApgB+ADoAXAA7ACkAjgCFAEoAwADAABQATQCbADwAoADrADEAXADmAEcAEACIAG8ARQAiANr/FgB4AHgAZABAACkANwBNAHsAjQCAAIMAVwBFAGsAVwBXAGYALwAxAFIAUwB/AGYAOwB4AGAAMwBuAGQATgBQACIATwBtAEkAlwB9ACIAlQCHACAAiwBnAO//UQBnAFoAsgB4AEUAbQA6AGoAvAB2AI4AtABWAJQADgHsAO4A6wCBAHoApwB1AHMArQCeAJMAtQC5AL8AugB9AHcAogCkAL0A1gCoAJwApgBxAF4AnwDPALgApAC+AK8AlADSAPgAzACRAFAAZADGAPUA8gB5ANn/JADGAP0ADQGPAAUAWQDAAPAA7gBsADEARgBRALsAuwBwAHgA3f/2/xwBigAFANgAGQCj/4sA6v/l/9cAr/+B/8oABwDB/3IAcf9T/1kA3v+u/yQAmf9y/+7/xf+s/+P/qv9+/+j/LAD6/wYAGwD1/1MAiQAAAPH/BwDH/y4AWgDN//v/PwDs/wQAKwD6/w4ANQA9ADQA/P8DAD8AIgDs/+j/+/8BAOz/9f8TAAwACgARAA4AFwAOABAAOQBOAFsASQAnAF4AcQAmAFAAngB8AG0AXgBOALMAmwDx/0oA4gBqAE0AigDq/zYAcQHVAAAAwQCWACcACgGgALL/iACQAA8AHQHwALj/ZQDhAEwAoACvACcAegCcAFMAmwChAFwAnwDgANkA0ACwAJcAoQDSAAMB2AC1APQAAQHcAPMADgH+AOgA7AD+AOUAzADlAOIAzQDoAPYA3QDSANgA1wDcAP4A+QDLAOcA/gDPAOAA6wCtALUAzgDaABEB2ACbAPAA8gDjAB4BxACZAAABzwCqAOYAvADZAA8BuwDNAOYAkACzANIAuwDxAKgAcgD6ANMAegDeAMQAhgDiAOUAtwC4AJ4AzgD5ALkAvwDXALcA3wAGAe8A1gCvAL4A7ADNAL0A0AC4AMoA7ADYAOoA/QDRALcAsgCpALAApACRAKAAogCJAHMAZQBxAIoAiAB4AHEAgACrALcAlQCVAK0AkgByAIQApQC1AKkAmwCyAMYAyADbANMAuADMANcAwgDGAMcAygDaALUAlwCqAJUAhgCrAKUAlACcAIwAkQCoAJ8AnACQAHYAhQCLAIcAnwCFAGAAdAB9AJEAnwBoAGoAmgB9AIUAngBmAHcArACAAH4ApACJAIYAkQCMAK4AnwBmAHoAlwCVAJ8AhwB9AKQAmwCCAJQAlACEAJIAngCXAIgAfwCHAIoAhwCfALEAjgB0AJ4AswCAAHEAnACyAJoAawB1AMgAvQBiAH4AzgDGALEAnQBiAGMAvgDvALAAbACHAMYA0gCtAI8AogCpAI8AyAANAa0AMwBqAAwBYgHqACUAQQASAUgBnQAaAJUAMAHAAEQAywAeAYYAPAD2AKQB/gDX/xgANwFPAZcAKQAaAF4ACgFYAUoAbf/vADMCiQCZ//8A/gAKAH4AhAD3/1AAbQBWAJEAKQA+AP4AeQA+AB4BZgAo/8z/ngCkAI8Avf/p/uz/cQHBAPD+Y/9JAdYA0f4N/xQBRgF6/+P+wv/2/zUAnABK/3r+3/8sAI7/MgAXAHP/FwAaAJP/z/9T/0X/MgAq/4/+hgD9/8X9h//JATUAaf7+/lAAzQAPAMv+7/2z/u8ABQFj/sP95f8ZATkA2P46/44Akf9j/kMAVgEA/2r9Tf+sAbgAIP5W/kYAsABBAPb/i/8g/9z+if+8AGUA1v4m/iz/vACeAFP/2v4Z/z8AIAGP/zX+Tf7d/aP/KgK5/4T9CABAASwAP/+//XD+/QBCADD+kf51/yn/6/7W/63/u/3W/qcBKwDE/dn9kv6PAJoADv0k/RYAx/9r/uv92/48ATcAev1k/kwAKgFVAJz9L/6wABcAX/+M/kr9Rv8xADb+fv4l/4z+u/7u/o3/Gf+U/Qj/Vv8W/X/+3v8//pL9RP2B/qT/Zv17/gIA5/vE/BcB7P4y/dj95/01AJD/i/xB/sP/MP+l/vX8gf6UADn+1f0S/tb8uf/YAOv9/P3L/tb/qgA6/c786P+R/jH+7v/6/oL+rP2l/bEAbv/T/LD+rf7T/owAyv2M/Fr/0v+p/0f/Dv62/pD/tgBiAI/8rv3+AWkAmP7s/tH+egArAAr/7/+b/Rf+YAKR//f8FP8Z//UAegDc+0b+7AAFAHcB6P3K/NEC5QD8/+8Ckv3B/kYDEv80AaAAFf29BL3/wP0tCbj3LgelPuoD2qek7clQLjW/4eWux+rkVEAnJMCM3o8SOR5QOs8BW6Tl6VJUER7AzKvghAqLG4IT9ucm33ITmxw89hL01v7yCGEe6/6v2S8Iah4T8gLyqAOO+z4KxQmg78j8OgyR/+3+4v2q+s8G4wTA+iX+0/0mAgIPLAtc/4n/2ApVDx77YPD/B+QPVPpW9FcAXQblAAD58/3VBZMAlP0YAkYAg/48AvX+zvqQBOMGBvme/z8Khfi0BUAnEQCq3KsNRRzt9WT9MAV8+UYTpA7n5eICgiGM+Ir3zx/xCwfyZwYvDJkBZQPI/pf+fgowAiLzNP+PD78G7fXN+u0MJQrI92v5qAjrB6r+8f0r/9gAyQQEAZr9hADA+hP9bAr2+vvsCgPjBn/6v/zk8Ln4JBTb91jx3SNyCCbdcQ3vGSX05/3oAWj9ABaICfHw+ALcCZMEugVc94P4ZwYQA5cIlgDP6YAF/Rsy+j70TQhrA24H5wiJ+xAITAyH/ZoMkg1M91YKIRUs+icCIBWjBnL/mQFIA+YMlAae/xsHOf67/2QStQOG91YKcgroACAE0QL2BfsJWQMC/h78vQoSGKn+d/RSDNoHuwM+ELr+if0eF2kM2QCECnUEXwZiD7wF7gSmDPILTAdc/D0FSBxeDSn6+QomEIn/Sv9YD2sOWvMF9rYZlwpn6VwDlxTK+tz0bgBRBr0Cm+5Q8J0Dy/C14z/9ave03hjt0PS+5rLxgO8WzMfXRQBQ6pPGttTU5wHxyOrIx83SywGr7UPVHemH3JLsrhpf1babVvrgHn3N0L5w43XrCOs10Ny3BdZY6bPLL7Pet6jEIMMVu6OyQ537pXzPHLq7iBSppNZowMuh5qUqv9zQ075Qrr/FiNaexZ66QMNjzqHYh9jLygnNOt8D4PfceuUA5QHpRveQ8B/ko+yg/HMCevId7G4LKRJW8zz2HgsPCwkLEAYWALYKwAmW/vkDWAwgDbAHBAXKEuIY2g2TEDEfcSbYIXIbwidqMKQjRiZMMcwu/zKIMAotLERwRV4rpzMqSUNElTS+MJ5BI0EsJmArojl2KmcsOy6QGIghnC+1H18giSaTHwAmyCJdGzAvCjBGGRUbTSGzIaol8hH9BQIclBMb+iMItQkq9vH8kPeu60AAbvjK4df5Hvuy4v/xt/Cf4l3+3fx64gf4vAlYAfT+wPb7BGwekQnJ/SEVUxPADpsaMRUoEIEUgRMmFc0USRYJGwEUkRdbIjYYkhYcGk0QKCBAKRILxA5vJW0WqBVHHF0FiQw4IIQFkfllDEcESPvPBUEBqPm//aYABgcIA/TwpvixC8MCbvwuAk36lAKQFzAEPPHCDE0WPfxY+xkLfgo0B30D/wJJDm0KbPvAAREJKwaqCtsFdwBLDywOVwJUDuQP2QUHDw8Kt/0tDLkM+AHjD4UMlfp2Bx4OsgK0CBwJJv4mAN8A0wdNEIX0EuuyFLoSvO2m/e8OZP5IBTsMwf08BMALhwWbCq4EGf6vEtgTNADhAeoEkgrRGroMafhdCakXig81CbQICA4BDh8GBg9/GMEM6AmDEYkNCRGVHBYU1gZUD+saAhddE1oX6ReuFIMOIgv5F5Ef5g6dCOYVWhefEoIU7BKQEaYSdhR8G5EWoQjUFcInSxUDA7sOJxrFGOAPKAXpDswbmwkg/SsNVg8yBn8ITP9Y95ELcg9P7/DoVwkcEKH19PD5/7QAeP77/Rz2nPcd/+T8BPlF84zyePxg9x/uDPbf9M7zDQBp93Hvb/9D/nf45gJI+/H1yQgNCTP8owFPB0QGBAkoCY0GGghOC/sJiAhuDuEPrwdxBSYJ/A3cEsAKJALLCzgP6Ae/DvkQzAE2BrUZPQ6A+ZAILBYnBXgDlw8eA+v85gmBBGP9OwaR/0D1ygHXBsT5Q/rNAQD5ufOc/rMAWPi997j4AvZb9hv6Hf2G9KbpFvWQ/g3yHvPf/KzzEfFq997yU/bo/CH0Ju/o72vxSf4IAFjxHvNO+F7yWfuLAYbx/PEC/4D3EvUr+/Luiu/cAXD4V+kD8Sb0jfga/1zrfuFO+Ff9f+5X6ejpUvd8AdbsfOQ6+Q/3tugA9JH8UvSY8yf0cu1j8q79Sfed65vv0vc1/Kb8nO2c4pX3rwmh+Dbn+u8c/tf9Gfcx+vj7Z/Dy89gGCwCD8h7/uwE88oP2DgCz+cD4xvyf933z2/b7/B/9E/Ne8I/4lvUG7pLzl/eG8L7rhu7x8jX1yfPY6zvl9O9B/Yrz8uWf6T/wEvSF9ZXtsedV7S/10/h+9EzuTfJI9+H1mfbC9474oPtU+in3lfZ59+v9+vxY7nfwBwJPAQ744vfj9s/48wETBV3/Evoo/Q4Dy//U/ZMDVwHq/GL+g/q5/FQGoP3P87b9nQDP+sr8lvjE82X8T/yB8FzxtfnZ+Uj2mfSx9S/7dP9F++j2LPxaAMz80v3zBN4HEwNd+wj/CA0JD/QHcwZPA2YDkAx8DLMGMwkBCHoF9At8DP0H8A0/Ed8IMAZ1C8IMHg+0EhcJmACMD/watQw5A30KKwxpBxACZfpa+44DIABF88XuMfdlAAr8/e0r5iLrFPk4Aaz1J+Ve56z01PWZ7QzxUPds68XmHfiu94rriPiV/ZTtFfVfBLD+XP2k/1n/Tw3aEAMD7AjmEpENfRMHGpoSERdKHqcU2hG6HOQgqRrGEFgNZBdgIf8ZOAiZA3IPGBaLD2wD1/ib/AIHgv8d8p/xrPLr80n10ur64y/u1vOl6a/d/N4X6aDmpd2c33bdHNv86K3m1M4a0Yjou+1V4bvWp96j9TkADvuD+Dn/uAwjFBIVNR7WIYUdZiluMNcl4yo+LgkerCTTMxAiGBTFHdAe0xbSEdkOxw7ZCd8EaQhgAg/3YPtb/TL1uPYx+Rbw1+YJ5GzpbfDC6G3al9d72vXc3OFT3ibM4sMt1AjcscsmyW3Vic4k0TnwFfNo3Njs7AzwCVwFxBXZGJ8USScLM6Yd8hRELqo28CHVG3UmTSfTIR8fZh15G3AXxBUDF5kR9A6ZFwQWIQk6C6QWnRZfEWsQIQ2cART5qwJQDrYAfOjA4WzmR+hA5qvf4dbc0ErP9dLT1PXMSMWwyCHPOcyawKrAzN5P/+f3396J5fEBQhexKEMqnxHEDlEzjj1TIcAeQjGQKSQcUR3hEysLpxmAHfEFCfuiCVMSmQusBwsLAg57FMMdORorEhQcGyfuHj4WMxPPCDsCrwZLBvf5gef+2/TeAOKg3G/RJ8LnxXPYa8mjsK7Ay8uKvL68Xrlsu1L2kBvb6yXR/fddG9gznD/aJHoU8S09PdoxPyecIrIlRyh9E0n69QDUE7sPpv1h7uXnIfZYC0wMDQdzCqkKLxH+IfYo+S7CN2ksfx/JJ7Ir1yJGGf4HNvhO+Wv4LOY31KvSGdbD0ITIYL6ctJ+81cZYvDe40L8NueizDb9F2msH3w8r5yvq3BW4IrU1MU9zMDMVGTKGQfIwYCndJycfrwxr/4oIpAZ08hv4bfx34U7hPvuj+OD6FxdSF3MHIxg6LN0sXzdGQWExPyKhJTsr2CovGrr67OxY89HxueYf1xnGdsTyy37HM7vwsxW7WsrmxxO3B7GPtxrFANFT37IGhRzW94fwVyiwOsYw5UtESK4cVytkTa4uNhGnJBIjZP6I8rD9gfmK72XwhezX323h5feeBTP94wIgIGgp8h7vIjAuLjxsTRxC+iUjJRYuiSh0G6MAZeps8/n4AeACx+/EtNIV14XAZ600ujTMMM4fy3m+r634wbTnG9WHu475mjRUEeb44hZGIIUxzVcEQz0YaSWnOqctuRYPCyASYhC99tXqUerh46Ly4f7N58LesvKc/b4G+hN8GX4m7jTRL2wqBjYwRGlGiTxkL4IhQBb4GNQWafje4OnpMejuyinC0tW007K6NLjiwq++3MJ80DLIL73Mx3vRBcw4x7rkTCNBM/UEwft9HlwqaDvrU2A6iR6sLMojfgUCDk8fZxHi+P7iCdeG4435PP1s7U/g9+bp+3kNrxBxE50q4j0oMrwqOzoJRDFMhlC/NSgeyyamJIcRrAfF9h3iVeJu4Y3KXbk9xYjScMQWuqLC/LmNtgLUX9mdxc/NLNWEzIvXcfDwE6EtMRMrA+IkFil6JLhI20PrGx0huB3o/VIHLRhKAXntvOmy4tTgxOfF7q/wL/H19+79Q/59BCkZRzaZP3ot0SnGOXo8kz44RCk3CitpKNsZuQgN/vn3OvdO6OTReMs7xQrGJ9a5zCq4wb1Qwk7HDdaOzyTKBtVP0MPPNNVn1lkIFjizEgX7iRv4HY4lc0d+Nw4ipjOEJN3/Rf1sBgwQghL69AjUnc/Y4IP7tgEw7bzokfdM++D/+BO8JDQu3zrZOH8jcyfcRxJOjDrNLA0euBkNJXwUY+8M6HvzH+9m2f/FXsiJ0bTPLNCfyhK8g8cy20bQsscq08XUqNEj0QzMkuGjEkwiXQ34CE0S8hOTJm1DPTtjI4IpaiVDAFD9pxwiFdD8rv6U7g3Ws+4kB4Dytutg/5YBuv3LBz4S3hlGKNM7cDtpIisi9D5wPzMthy0yKjwcJxC+++Dv7/iJ9ybmxdQkxpvGXdE00obO+8f3wXzM9dBBxXbMBdjr0IHTGdHqwwnsxiYAHJ0FbRl+G3gY2TgcPCAhszQ9RrkX//ceCyUQXwcBCZ/3XuLy6mbzxe+Q8jD09Pw2DOQC8/tuEhggCSy8Q2o2gxxnLqA+BTTpMuUxySVgHUISegLO8qDoHe/H73/cB9Doxpa/ss2g0HDBscxk1pfDE8NSzhfGdMzs38LTvchI8pwdXxMeCc4e9x7yGco5Yj9AIXkueEL+HKoA/xCFEPz+twVvBrToTOAa+4j9T+Zn6wIB4gHP/1AIywoQEo8rIDhPKh4mPjIsNao1czj8K6ofzyQkII4FvPFa8CHvpOgp5FzXfsWkybXTzscvwpbMFMsNylXTmc0Twu7JGtU20HPTQPmZGwETLAgaFLAZhiTUOE4ywyc5Nbcz2xufDlAM5QveDfELIf+y7hDxtf9++GboQfChAaQITQd7AwwHgRHZH6Ewqy0iHl0oijdJLREmMCfHHwAhRiHsBr7wE/W99d/oAuF23TfVoM1YzSfMjsOEw2zQ0NEDyCrGFcTjwoPMeM6h1m3/pBYyBYoGwxghF5kgDzZUMZQudD78MjcWBhVqFxYMeRJqF97+rfSbAWX5qOsg8eb2+f5bBxIAm/3vBvQNjBtOJFce3iObLREqtyk0J6cePSSkKOYZpgoTAjP30eqc5jLqMeII1GrVvdIQxHbF+cy3yPjILcyNyNzJss8UzIHG8Niu/CIKmQYUDzAUvhLeHNgiSSQsMvU5/TEWJRkXthTpGIkSvw7qDs0INQkmBt7yLetw9ub+yP/t/W7/HQK3AGoHQxC2CwUPoxzfGk8WQhoCGAsXeBp1E2EImgH9/DD9VvpE7jfmSubh5WLjHt9M2jrZz9rA2tPXPtRN1TnaHtn305HbIO5J9yb33/oL/z8CnAv1EGQLaw2RGm4fRxx1GvgUZxDCE6ATWw+/ESYVSxOHDIgB5f1XAs0AFv+vAcn+i/5LA43/7/vF/08BHwQFCYYIRwmZDEcLUgfRAfP9twCjAk8Av/6T/Iz66/kx9w/1kPWF9tb4OPj48FHrIO2F8NHt4OhP7Bv0rfYK99r2s/bR+x8ATv5P/n0BAwVHCV0J6wURBoEI8gkbChMJ3QmRDOoNGw26CuIJggq6B2kFBghiCT8I1AhICRMHqgPtAuEEDwVFBn8J3wbXAjsEEgNNADsD6QRYAlUCogQnBTcEngXuBw0FFwOXB1oHzwIlBTEHggPxAfkA/P3g/sACLQOl/2/9Qv5F/QD8BP59/Nj4xfvB/XT6Sfvc/Rf9kv5GAMf93v3PA8cIOgh7BmoHowasBbsKwgwqCFML0xGJDdsIwwp0CfUHPAxrDQ0I5QW8CQ8JBANbBJgINQQIA6EIgwXCAB0Gfgj1AzwE0gddB2AFtAb0BzYFtQWYCbMF7ADSBH4F+ABXAbMBL//7/zUB8f4c/Ob7S/6u/lb8bPvz+l37dv2d+1T5+vy6/qD83f07/83+fwHdA4kBVv9jAcAEvQUgBm0GlwNxAqkGJQd8AwEG7wkYB+8EnwYsBfICWwVxBi4C1f+iAjgEwwKHAqQClAHZAgYE2gAKAXMHiAhPA14B2gHwAfYDMgUOA8IBvwPTBI8B0P6OAAEC8QF1Aaf8+/jo/Ev+zPm0+b382fs++ef4RfqD+tf6Ff2P/Hn6ufwf/nb8h/1i/mX9Kv8KAZ0AgADnAC0BJgAp/8IBvQPtAQsB1wCU/1v/0f+fAacD5gGhAMcCbALn/z8ACwMQBfsD6AEkAUYAGAEDAzMB0P9QAuACmwHeARkBX//e/54BwAAM/gr/AwHb/a/7Uf7a/kz9kP3w/dn9MP0v+yr6j/tt/dz8PPqL+Rf6XPkI+mz7+PrA+zL9ufvg+ST6bvu7/Pn8Pfyq+yz8h/05/UP8av5oAO/+W/71/0UAdv+F/0EAQACs/+j/0P/t/pf/oADp/37/BgBdAO0AygAo//X9W/5l/7n/Q/9N/6j/Zf8d/wL/Kv8CAFAA2v/C/wT/8/2j/l3/Q/5g/ar9vf1N/QP9+fzS/NT8/fw6/Gv7Pvz1/Dj8vPva++v7YPzw/BX9FP0i/XP9w/2p/cb9bP7y/ub+Vv74/Vn+6v42/y//4v7r/k3/V/8x/zP/T/+j/9X/c/8F/y//of+d/0z/dv/b/8b/d/9g/4f/s/+O/0j/Rf89//z+1P7l/vT+1v6y/sP+2P7N/sH+ov5y/mX+bv53/n3+dP50/nr+aP5o/n3+Yv41/kX+f/6c/pL+o/7i/vb+vv6g/sn+7P7Z/r7+1v7//gz/Gf8a//j+A/9D/1D/Of9A/1D/Zf+L/57/nP+w/9b/5P/a/+n/AQD5//r/BQDo/9f/9f/s/7n/nv+j/7T/sP+R/4L/gf99/4X/if91/17/W/9w/3T/Uf9Q/3D/Xf87/0j/X/9i/2D/b/+V/6n/rf/F/7//kP+M/6H/jv9z/3P/ev92/3n/m/+1/53/lf+2/8T/zv/r//v/AAD9//L/AQAJAO3/5P/q/+L/9/8UAAYA8f/x//X/4v/D/8f/0P+n/5v/uv+u/53/qf+a/4b/mv+7/9X/1v/L/9b/zf+z/7r/rP98/23/ev+K/5f/kf+c/67/kP96/5X/of+a/57/oP+k/6P/pv+1/5X/aP98/5D/hv+d/7j/rP+t/8f/1v/H/8L/5f/4/+v/AwAiABYAEQAOAPP/6P/u/+b/z/+n/5P/of+Y/3//ef9w/23/d/+G/6L/o/+D/5H/rf+d/6j/0P/C/6P/qv/G/9X/0P/W/9f/sf+y//X/AwDT/7T/o/+V/5f/lv+b/6j/qv+r/6X/of+4/8b/tv+w/8f/+/8oACcADADn/7D/pv/T/+n/5P/7/yEAJgAFAAAAIgAYAAAAJgBIAEUAUABHABYA7f/l/wAAEwD2/+z/BAD5/9n/vv+c/6r/5v8IABEACwD5//z/8f/N/9v/+P/g/8//2//V/8v/3v8AAPX/sP+v/xMAQgAZAAUA///m/+b///8XACAAAADR/7v/yv8CADgAHgDc/9L/+v8YABoABQD3//n/9P/g/9T/1f/Y/8v/q/+e/7//7v8AAOn/u/+w/8z/8P8IAPD/u/+y/7n/rP+m/5T/k//d/wgA4f/J/7r/kP+I/5v/lv+b/8D/wP92/2X/zP8FAAsAMwABAJP/iP+J/4r/vP+U/3X/z//J/6j/7f+9/4L/2v/H/5X/6P/T/7z/QAAhAIn/ov/i/+3/FwAeABkADQCe/2L/pf+0/7r//f/0/67/fv90/wIAngAkAIX/r/+R/1r/3f/+/5H/cf8u/1f/RQAfAJz/QQAAABb/yP8HACv/wv+5AIcANQCZ//T+JP8S/5/+sP46/xAAFgCG/zEAHQCx/qz/MQFtAHQAVQCR/j7/igBG/4D/NQCA/qf+BwBq/ykADwEH/7b+cwD6/3f/fQCVAPj/gv/z/pX+N/7l/fH9l/4XAFgAvP7a/hAAU//Y/lj/7/5p/8kAlQDv/7f/vP8LAZIBif9A/hr/fwB5AuYDsgP1AycEawEf/h/+lv9x/3H+If5p/or+Vf64/r3/GQCgALQBvAA2/7wADwKRANj/eQCuAAYBuQDN//P/IAAZAIwAOACbAA4CawGJABcAPP3B/BkAHwA5/zYBFQF4AAMC7gA//18AWwAk/+7+Jf/e/y7/9v3r/wgBdv/W/2wA3v/n/5j+df6H/xv9i/7lApD9Af2fDH4SfAYr/b75XPil+cf3Zvae+h36Z/XW9x78h/rR+Hr6cvt2+i36Xfov+bb48/kx+rL5SPqa+7j8Ifxa+iP6ffsE/Zr9EPxx+on7/f0//sT7DPs0/SD9Wvt9+wX8Fv11/q39Ov0t/a/7mPxq/Sb6dfnT+0T7Ivpv+s76HvtK+sP6dP0Q/TL7gPyB/Uv8Bf3XAO0Bff7w/i8CgP/r/TUB0ACOAPQBsv7l/nkDVAJxAXADjAGmAOYBnwC4ANcCmgPTArQB6wJMA3kBfgM2BOwBCwQjApr/3AY4BNkBPxw5KWQRSgrdFzEV9Q5wD8gK+wdVB0UAwvtT/0wC3gDaAYMHsgjuBuEKxQsyB+QJmw7jC8QJkAwyEAoS/A+NCysJ8ApPDVQKnAYYCeoKgAcDBX8E+gKeAl4FSAZgA+0EQQlGBrsDnwbHBJ0CQgU4BSwGIwhHBLsDKgcyBZ4EQQf+BlwGzQQmBZgJQgZDABgF1gdxA5AE+QYLBZYF0QcDBar/IQG4BbUBsP1EAWYAI/1v/sX7/fdZ+ID2dvWO9tX0x/MY8qnuQu7j7PjsEPL28H7t/PBq8v7xPfLM7cztG/NX8wr10vcE9RT1wPba9Lb0TPMZ8sz2xff+9Aj39/ea9WT0ffUK+rb7OPlZ+2/8x/ic+Qn53vKQ8//3BPS27KHoiePB3HraXdwZ3frdTODj4CDet9hj1/jaLNgL1ebaf9pT1OLUbs9sxaXHdc1T0iHctOSW7az2fve/92j7o/7mBkcMOQgjCIAJ3gKw+t3zxu/B76vwv/OJ8lftr/M49z3rTOt395T6bv/OBr0GcgiUCNsAufhl7xjqGOxM5obcvNoL2AzSfMuUwva/58SkxofDJcECxU7Je8Tqv4O/AL6AyZfiivX/A6UROhmHHrMdORfOFxYa5xqPIDwdhA5bBOv44Of83e/cEeOa7zf4QPop/Ez9G/zB/ewFxBG5IPsxYzlINaI0ITOLJx0htSVTKWgprSNUFQwF4vQ45sHecdvK3E7nvu3X51njbuK63YHedOZb6rXxBP5f+lvtuOtt6yvuagb0IUcuQTlBQqA/2DkhNNEuqDKXPKdB9T6fNfIooRviDC0C8AaQF0AhziL0Jw8p1CMgJSglzCVCPEBVlVqGXp5f0FONS4FEdjmFO2FE5kMsPIEsDRkcCeD7Y/cR+af5SAMtDWIFcvoN9v7ymPTP9rr6OAV5CNwEj/9K8VH1sxYjJ/kn1DyQTfNGDD/7Nm4rhiw8OSs8eS8WJowj9hQtAa74yvhtCFEeWhy2E9wbbR7XFqIUYRnfK2dD10woT1BJQDo9N+MyRh71HMovQDAfI6YXowac87nnEuRb42LjO+8E/TL0UeZ65UfgvNwt5mno0OZI8hf4V+o92d7XYOwgBuMTqx4eL0s8Wzl1I1ESNBrnJfEj6SDAHXwTHwkD/R7nWtl07CQKQQqoAIcNPxSIBpgClwZlDIcmmT9GPF40cDXELgwfoBEHD2kXDR9PHPcN4/zq8nzlmtHrzVPZ29++5O/nMd/51ODTHtS80f/T3d4x54njcd+a3DzN2cZg5WsHOwzJFcoyOzbxHIYQHg6FCtQWEyKLFlsOPg/p/8Xm/9ca3GLxFwEnAe8CxAd8BjL/ufTC+Y4Woy1/MhY1zjOdKscg8xLVAyQHpRq3HR8Kb/91/FPnXtLwzjzNX9bE6vLos9pZ2ZjVYs0my7HJG9In4xbkL9iD0SXM8cCQvVLX6futCpgYzS4+KE8TVBCwDKcJ+hUOIIQhFxjrAgn2veb20HXbbPE48O78XRDrAuD22Pyz+ugAhBkMLJgz2DYkNQ4oLBIxCkENBgk9DbsVwAmn+//yHN1myivLUdSZ27XceeK854HV98g50/LKfsT33oPkLNKN2MPb2sSrt43DS+CH/a8OvR2LJm8jgSAsEmYA+AyOHnIbhxhWDpr6PPKA5PXSQ9qn6sL28gISAuP+MwS+ANkAtw9SHJksSzuvMlsm4CEHFRIJRgUsAyMIfws9AsD14ueV2mTWo9V01ljdJ+Wu6Ufk2NVj0EXRcM3qz4TVUtXt2H3YbMwdwjG6dMAE4zf/JwdrGbEqYSfQHmYQ5gT8EosgWhjRESwOsAGv8hThq9Up32rwdPom/6wDYwwvDtwCPAJVE90jCjDWMzEtMyu4KDwXYAXeAekINA8ICdH+z/lo7bTdstYmzzjQ7OIy6Z/fA+JJ4yrUU8wH0NXO/tGj3sLebdIA0QHQ7r9bwiLn4AVrEQgf0ineKI0gkhFtCWYR8xm8HCIYLAcl+3z1LOLO1gvl/++E95kJMA5UBzUNdA/FCX8WdyxtM1IyfDNvLwEg1Q9NCeAFsQVjDdgM0gCf+svy8OC010Xc4+GB5LHmfev+7OTjtdrl18rVCdmZ4JLhLN/q3d7ZkNFAx1vKL+g9DLkcRiBMKR8zzynhFf4R6BjbHy8o6x30BLj/rPy85pbeYOep7AL7/QoNCZ8H8w+BFekZTyCCKEAylDbMNE0sSBxoFMgTcwiSALEIygpXASH5su6s4o/gwOUQ5uXh8+Vg8Yzx5+NP2gfb5twO26rYpteG2NzcrtskzcTFOtaH7e0A0RSJI7Es1TKGLBIdMhRdFhce0x75FGIMZQOJ9nPvw+Z+3crrWwIUBQ0HEhK1FHEWviB+JpQlLCsON9E1xCRUHL8b2Q+FBJMB4/xF/xsExfY45iLm8OuR6dfdLNvY68P0IOqR4enfS9+g3hzZWdRa1tPZXNqd0U7IFc8W2dbkCAENFeoaIy0qNRgm3CLjJeAeWR+KIcoZ3BCABX77ffZ97EXooPM0AH0KbRHoEZwYbSN5JFciRSYAMPg0bCn3Hr8ixx20DI0ELwZ2CdoG1/qb8dfvUe/Z7n3oIuBA5d/u6+uC4qng6ui460HgothQ28nchtyK1aPKSdHw3MjWydcB8voMiRd4GUYgoCr1KjglUiOvIf8igSN3Ff4G4gUeAQf3Hfa9+UH+FwlXFHEYXhrjIngtISwiJPEliit7Kb8leyOKHN8RFwtaCaEFlf8i/Tb6VfS48pzxK+tz6Kfroupu5L3haOUO5u3fGuBm5s/h/dcv2Tvc0tXq0ULXatfF1N/jU/eA/KEKlSCAIB8eCyipIQEX2R5SIBoWgRNREmMJBP2c+Nv/cwH0ASYSJBvbGF0kjSr6H4sgOSb5IGQfGCYjKZMfIxKhEP4Kzfug/44G6PiS9v0BKvx67jrouuhz7ujsXuXh41rjmeRE5fnYKdE33EfiLtjj0ALYed/y2eDVbtm33BDuEAQAA7AHVSLHKuIfNxqaFd0VbBydGEwNfgp+EsgSi/+99wcK3RKcD/wX9iCFJBQq2CaKGq8Wuh/rJcUdkxjyHugbehEsDNYC3P3uA8kAl/kI/Wf8pfLr6a3jmeFf49zjoeLS5NTs5O004tjcxuBW3yTbB9h52NXgSOP63srlFfDt9kUCHwb9AcoLuxnmExMIxQ0QGFYUIRCVEEoLkA5fFjAJfP9HDV8UphGgFHQX8B1MJSwgCBlwGjoieydbHREVPB1MHVQUQBD/BaX/tgTT/lr1o/dm+rr6N/X86dHo5emx5Ijmtumu6eLtFOu/4azeN90e3xnkeeA+3c/ijOWP4fDeaOav8D/x/PY+BA8ECwUcEEAMbwUTD+4TQw4hDjQUfhXSDHkJFQ7cB3oIJRrzGDkQ1BzWHtcRXhVkG3UY8Bs3IKAdrRnIFu0SQQjh/7MEeAPs+bv/wwXJ+L7wY/W18ADlNuWz7WfvUO408X3rzt9C5CPtk+OE3T3sqfHc4q/cfuAF3azfsetb68PqJ/0zCI/7d/OyAOAPfQ5jB7kMyRbYFvoNTAFb/O4GzA3eBrMH+BOyFhUPUwtFDK0OkhX7HHgdeh0NIk8gBhbVD3kQAxE2DwcMpAdEAin9hPiY8x/y5vWL9zP1OPdT/OP46+4E7j715/M27Dvsue/Z7bLoqOP14iTmnOTZ4GHkr+oV7ejuGPGS8Uf0N/oz/K/7/gDaBowHkwk4CtwDs//sAPwAXwE9BFIHNQn+CVYNeBAODCwJoRAmFzoWwxRbFgcZ3xYYDsoINg2NEbgLiQRJCLELSAT5/gL/gf3p/2UCFP46/M/7R/d79Wbyh+tj7J7wf+4k64rp9+iS6MLlUeJ/4FXlYPAh8ELqEPTo+Hjtle/J+Gj0gvU//SX6+/bU+Sz6TPq9+/39XwE8AhoEvgf/BnYIAQ79DWEO9xN7FOQQdRAeEcYQLg+TDZ0NmgyPDH0QcxHrDvoP9BA6D5kQfBGsC/YGDwnZB5j/9PwgAGD8o/df+9j88vcz9o/36fes9mX0L/aM+ZP1c/Di8SPzSO/V6P3m1u5p9fzxQe6U8OT1hfen8JrvCPyRADT7+/36AeEAOgKNAfwASQcbCk0JiQxxC8oGywitDHYMuQkjCFMLKQ5ZDnUSqxVWE5oTiRXPExwSWhHgEPkQtA6GC/wIrwRXAcr/uv3p/mMCFAKJ/2r9dvtW+of54Plu/HL+DP9C/0n9ofad7a7qXO4u7uTrzvBx92b4f/Tx7SDsJvJ59jL1ZPS2+DEB/ATu/jX4VPk0/2cB9fxc+xID0AkOB84AJQDyBQkKlgciBQYK+RP0FqcOAwyoFYYYhBHOD74RuBHREgwReAvpChsOeQy9Bz0H+grfDN0JMARJAaQDJwOD/Kr8HgTGA3v/mwD1/pT6tPvI+m31e/fG/IL4YfEw8V7y4fHC89vzjPCG84r6lPje8e3yGfqf/xYAvP1u/2gDfP8U96b2FvzZ/psBbQdKCvcIaQloCbAFIweaDnwPFQ3rEewUSBBXDusPlg8GEAQSKRQ4Fm0VIRMfEuEPxgy+CdEErAGCAmUCpP/E/B/9BwCP/4f+jAHrALH9XwBXAeb8Zfxz/Uj62fbw8zDwWe4C8KzyDvLK76vwqPFJ8ZPzKvWa9KX4hP5j/Y/4GPpNApUGuQJl/8EBowW/BA79b/lsAmwJYARkAtcKARF4DnkKfgyvE8gYJRfIEo4TOxdSEwAMKQ3PEHkQ/xPnGNUVYxCgDgQMMgdBBHMEnAS3AmgBiAGsAH//7v81AqIEXAQsBE8HCAiZBE4CAP/d+Eb1X/Qi88fxp/BM8vb2u/i79y35gPt7/Hb+gAHeA0QGEQg/BnAEBQkBDAEGBgVGDcsM9AXsCPEMYQkrCsQP3hBlE+0Z6xg/E+QVihgVEqkRoRmoGMgVdhyQHO0USRfGGaYQFA1YE4UROggxBfgEMQBS/nUBlf/6/JoD4ggJBSkDfgUPBAcBVABj/uf5Hfec9gjzsOyi6hrtxO8s8unz6vUU+WL4nfS29pH80fzc+XP7Cv/s/ST85f+BAoj/KP+UAiYDwgFDAdwCSQjVC0UI1AUwC8cQmw6TCfAL0ROSFeAQ5w+SEyEUbg+WCusJ/QvyDPQLqArtCUoIlAO2/W/7Df2Q/lz+9/7ZAh4HngWc/9X93gBr/8j5nfpL/x/7HPK77+juY+o86rvu0/DG87r44PeU8qvxkvZK/HX9cfo6+in+fP7W93vymvcVAv0EpgAXAB0GAQqaA8f5S/uXBawK7wipBloI2A1aDcsEVgT3DzMWlhAsDKgQlRWvEV0IfgO2BkYKTgUE/lr+dAAH/R34z/YQ+1MAUv9l/XwA/AGz/xb8a/cQ+J78/fcp7j/t1vB97fLldeQB6uru9+/77Z/sdPMZ/Ff5evVu+2r+d/st/RL+3fmv/AIEOP4N82f4MANu/9L7PgQVCWsIAAvBCW8GJA1jFF0OHAcRDXUU0w9tCi8NjA+pEJsRWgzqCRQQlA1qAmoBGwXw/7f5A/rB+qT5EPvR/PH66fskAqgCGf0P/oUCW/0d80LwwPDF7FfqGOv75/3n+fA19Enug+8I+AP6pPX19ND4pPlL+Aj82v+s/fb8IP2/9Q7xGvmA/4n81f6YB8MHxAMpCAAMLwmUCy4RXA4tCxEOvAutBpkLRg8AB38E5gzhDGoGIQeDBzEE+QMsAAL5efvlAKD8jvdH+pn9ivzx+vv6ifrn+NL2bfSU87z0GPTE8KPtxuqK54vmz+hU6rDq9u5a85/xyfFw9sf0KPGv9qz9G/2J+VL53/pZ9rPvcfWwAUgELgJkBGEHvgg8CAwFdAPuBr8KPQkAB2wKOw1DCz8MiA9lD2AQ2hHdDKkG/wWWBNX9Xvku+5b7r/gm92/0KPI/9dn1a/NS+A39VvnY9ur26PKY7mHtheuT5kHijuEI3ibZtt8/6Sjn9+aA7+PwNu397yTy+fLc+/YAsfcI9AD8zPdL7Jfxrvsw/Fb/kgL7/Q4A9wgRB8cBqgk/E1EPQwktC/MJWAXzB3YJXwY9CwwQrwiCAvwCgP8K+4P7WfvZ+T77zvra89Xtpu4M8WHzTviJ+876BfnX9HPumOkz5rnk3+YB6Yrn1+Ur5onjieB/5zvwQfD29VkAlPp484/8C/449en8/QniBlMDewd0Ayn8IADmBKcDNgl8Ef0OBAzID7gN6Qd7CwgTjRUmGHEcuxmkEUYP7w/pDD0NpBH0EBoM1QVZ/9X+//6p+P33UgCiAfr6p/iM+R72YPFq8Q/zBPM19CLzc+y66Cfq/+kx6vLrE+vO61vw9fCQ7171Nfv99vvzs/ok/yH/DwP3BQ8HrwvLCnIEhgUeCNAFSQj8DlkSPxM3EssPoA5NDxQSHRTAE3cWJhvHGUkUeRExEHgMlwjgB1cGFgJt/3X8Bfda9Kf0efQe9HHzQvOy8p/uCuta6knoFeds6Q/r6Omc5sHjK+MB4UveOeDd5EXq2+2j6/Hrt/OG91f3hP0QBAQEVAWQCAoFOgG0BWgHYQJeA3sH0QXyBeMI6gc3Cl4TMhe9EuYSHRkKFhMMHA3TEOsJcgccC+0Cz/iD+hH5YvHI8nD3YvQc8yf1k+/L6T/squoB5cfp+fB37OjkUOLF3qXZItiN2gHgc+ak5wXl1+eq62XnvuY68nv6BPzaA3oKcQbzBhwOnwpwA3UHyQvXCJsHsAe8BVgHRQpiB7sGUBEnGWkS7w6eGKMbmRMXEOAPVw2GDJUKwQR+/4z61fW29Ibz2u8L8kL55vXv6rTryvKS8PTrOuy87anu3umH4LfdB9/H3Z7ex+E2457jD+RE5UvlE+Um7mj+KAepCQASLxzXGkMSAxL5FQgSag2nDn0OpAqNBcwBvgOmCFELxg7rFYwbGBoOF6oY4RiaFxMaLRe0DsQMJgkY/K/yM/I99fb3WvbV8zr1evVO8QPtHu5P9CP3vfIA7BjnDuWP4SzbHNsi4nTl+OF43ezfeefe6Q3vtwDYD5AWtR2XH1wbDxubGuIVVRQYFicU8Q33BzUD+v/iAgQJTwvbEIUcNSD1GhYacR20HT4cGBw/GxoXJBBSCHAAFvg88ub06vs5/Ln4z/hk99Dy/fDS8Un14PoE+d3t8+We5FDhQ9wG3OffYuRE5pvjt+MH7Fv2tQJKEwMeviFyJy8ojB1YFtgamxyvFLEQXhMED/0FaAOqA2AG0Q8gFjIW3ht5IyQiciDsI0EhOxvXHdkeqRXrD3IPlgep+z33YPtIAID+BPlu9wr5WfiQ82jwhvOo9gL21PNP7sHpmuqV5y7gct/V48DlI+WH5wzySwI9EusbEh6MI80rkifmHrQfOiB9GzYV4QzFCAQJEwV/AUcFRA0cE7IUxxjuHlIgZyQjKu0lkCIdJZkeZxSPES0OCAmABmcAMfc39mP6Rfbe8iH7a/3E9/v7KfuP7Mvq9vFK6qTit+r48Hnq3uIk37fbL+Ef8Sn8PAe2HCwp1yMNHpQcVxsoGy8aCBiyFg8V2AyE/Lz0VPy9APkA/wvXGu4fxxvaFx8bfx5sHf0dBh99IHQhkxdLC5IK6wrUBl4CZfur+vUB0f2770zvrftK/LfuZesC8yDw3+bT4pnghOOw50TfvtSQ13/fSOSv7Br/vhN/HtAgPSBRHigfVh8cGb0VghnmFrgHaPhT9Fr1cvPH9XcAkgv1Ej0WxRZOGh0gfSHKHp4eeiKCIokb5BRQEMgKDwbBAukA+P4r+cL1fPiP92PzWvO28jTvCe3N6lPnj+WI5urldOBf3FDcstjK0SrQVNqG8CkF1w+dGw0niSSTG4MY7hgTG0IdTxmHEEIHaPpV66zlqeuY8x79GwnODNcKPxBDFDgQFBY3JhIqOSN/IdYeZRMsCdMGvAj1C4QM6Qbj/WD1sO+R7oTw9/Ll9bn31/Na6t3h19093fvf7+Kr4qzhk92a0oPLctF836Lz0QvEHNUiZSR2IVsYSRH9E4oaNRv3FSINqf+r8M/lQOIO6S34NwVOCiAMKw7DDW0LDw6MGbEnvS0PKTohyhogEn4HtANBCh0SqRPsDr0CePRf8M/wNOuo7M/6VgBw9Szp3OJU34vdM90i3WXffuIm3JHOLsus0ifdbfC8B94Vwh9mJpofeBOBEcEXohs7GQwVFhC8A0PxEOSa4uXoB/HY+2EHhAqFCAoKlgmlCHATtSOfKrsoRSRZHuQVMgwBB5MKBhM5F2USqwgY/6b2HvCu7D/uGPUB+xn6ZvJp537gk9+n3OnXidqF4ZngBNcvzyPO7NPi4tL15ARvFGQitiKhGqwVJBPDEwkXZBYjE6APQAbZ9jHq6uUu6LzvJvvYAbcD1wk0DFsFOgfcElEXrRluISMjChxmFo8Tjw6hCw0Q1RLZDTsJSgRP+lv0kPPL7/vuA/T58ifr++ZG5HfctNcl3EHentoE3EfdKtX70O/aseg78wr+IwrrEx8XCxMRDu8OQRLkEd8Q9RA/DWsHEgLM+Drwe/Lb+Zv7x/txAZcGFAR+/5L/AwR2C9ERnxSgGNwbBBiVEg8RdRBSEJ8RFxMsEmwLHQLb+1f2pvHs8XHzXPIw8k7y6Ou84Trg/OR44uTehuT059DjXuHx3wfgIukV9CX41/3BCNwMyQYJA6EGiwnTCcAK+gofDCsOUwlsAN7+wwGzAHb+HwBvBCAHZQU0AfT/ygP7B9EHRgcTDMsRLhBZCc4GEgq8C5UJMggqCWQKEAkABHn/Iv+i/97+Yv9rALb/H/9b/sf5MfVC9uT26vJp8h32hvWu8Xvwv/F58yT13/ex+539tv2U/RT8hfvi/Rr/6/6xAKsCvAIKAugAZv/n/58DUAVuAv8C2wcIB9AC5wPSBrQH3giACewIigkXCxgLEQpmC3EOsw7cDD4MIgygC28KWggJCPgJSgr5B2kFUwQeBBcCov7z/Yr/Z/6o+mL4V/dR9V/zT/Ku8RfynvJ28lvzbvQn9HP08fRZ9Dz1MPe99vD1Sfgy++f7Nf1oAOwBhgEeAkUDkQQzBicGvgXEB1YJ/QeaBnUHHAlVCSkJqQoBDDkMZg3oDUAMTwyYDr4ODw3lDP4Mhgr/BlAF9QQYBLwCeAEkANH+rf29+6n4tPbf9vj2NvZ79VP0+fKL8h7y//AG8XXyaPKz8GzwK/HX8Bjxz/KE9AL3KfqK+1b84/7SALL/bv42AM8CpgMuBCkFQAbMB40H5gSGBMEGggcwCOkKBg3jDWsOtAw+CtgL8w4RDq0MAg+aEAYOSAriB44GTAXvA7YDngShBH8CJv+x/Dz7Nfmw9w740vgK+fH3OvRB8CzvL+/Y7Vbt/O+r8j7yNvG+8b/y/fM/9cP24vkX/Ev7N/sP/R/+rP5e/9v/MgHDAsYCPQLPAksEXwUoBQkFBwezCfQJCQnICvwN4Q6VDjYPYA/GDrMOaw6dDbwNOg4ADdQKywkaCZsHRgYSBV8DDQLaALv+qfw4+1/5d/fx9gf3l/U48+zx6PAQ79ztbe4B8DDxjfHi8XzxSfBq8T70O/WI9uH5xvs8/Lb9wv5//or+OP/0/+cAUAIkA38C8gFgAkkCGAJaAw8FvAa0CaYMwQzkC14Niw5ODekNvRA9EfkQORINEWgNpwt1CpkHWwbZB1UI1gZTBYgDAgFK/2X+Gf1Q/O/8zvxj+uP3ZvbB88fwFPCu73vuZ+8n8WbwU+8W8JjwtvAt82b3sfkT+kz7jvyq/HL9mf7k/h0AUQL4AjcC6AEqAvwBpQF3AhcEsQV0BwwIIgeYB38JMQqLCnQMtw6RDzsPsQ6/DZUMtQxYDcAMWgyVDDQL6QjcB3QHFAcdB6UGVQUeBD4C4/7n+yD6PvjD9g/2evSR8nvxgO/G7A7sWO0R78jwdvHL8LbwgvGl8ZDy/vVm+RP7Qvyi/ID8mv1n/rD99/36/+8BuQJCAt8BRgJkAnwCiQN/BTgINgpCCiwKrgpHCmsJeQmTCl0M1g3aDckMLQx7DI4MWQwBDewN1w3DDPgKAQkXB7cEhwJQAWcAjP+3/lL9gft3+Q/3CPXh8xjzcvLF8a7wSO/Q7Zzso+wA7v7u/+6L7xDxgfJ/8xD0svQk9uX3aPkj+039fP9/AGQAjQFuAyoDggK4A9cEMwUiBXoDMAK8Az8F2ATqBW4JswvuC5wM0g3XDsEP9g4HDaQNkQ/5Dk4NvwwWDKQK9QjBB9kHbwjoB3sGaAWTBHgCD/+P/LP7nvp/+Jj2qfXG9NHyFPDY7b/s8uu36n7qzOyo7wjwh+4c7q/vyfGU8+T1Qvlv/HX9g/wj/DH9xP0w/TT9CP+hAegCmQJpAgoDmQNfA0EDPgV+CKsJ7girCKUIMgi7B6YHXgnSDLoO7g0JDWsNxQ07DfUM2A26DnYOLA1NC8kJ2AjjBggEFAMnBJYDEACZ/Oz6bPn49jP0XvJo8uDyavGZ7obswet769XqOut97ovx0/Dd7n/u0+4K8GDyIfRt9pT6wvyw+/X78f0M/pz9YP/0Ac8D7wS4BEcDaALAAroCggKyBA4IqgjYB5UIKAl7CH0IgwkxC7kNOA9VDn4NPw5qDjMN6wz3DUsORw2tCxIKxQhdB2wFmQPkAhMDGgL//jT8FftZ+Wj2bPTh83vzMPLW73ftBewx60jqcukp6gTtVu8N71/uJO8g8DHxU/O/9Sj47/o3/IP7+/sA/oz+6P2b/kUAbQFDAvECzAI5AjUCZAK2AmMEwwbCB9cHjwgwCbUIQQgZCY8KnQtsDD8N9A1CDnYN8AuqC/EM0A2LDRINqwyGCz8JzwZ7BQAF/QMgAocAnf8x/n77gvh29jf12fNW8p7xmvHM8JTuQ+xZ62/rM+tw6wTuXPH98VDwlu/68Inz7vVj9w75Afwj/sf9Vf3M/jAAyf9r/yYB7gN+BUkFLwR3A7oD5QOqAyYFLwhfCYQIfAhRCYoJfQmeCTkK2QtLDWENrA3RDqIOxQyqC2MMmg3yDXYN8gxfDOoKdggoBi8F6gSBA0wBTwDS/5/9XfoI+AL3lfa39Tv0cPNS8xry8O+d7m3uZO6+7VbtWe8V85v0MfME8p7yVvR79kT46/ly/Mv+P//V/l3/RgBQAE0A4AFgBMsF3wVWBXoEFQRoBIsENgVxBy0JBwkCCe8JaApaCmEKpQqgC/gMsQ1ZDoEP2g+WDvQMngy+DaoOJQ4gDY8MpguUCd0G2QRBBOgDYAJnABD/n/1f+//4Z/ed9sv1jfSf8zbzc/IM8YDvdu5W7k/uAO5v7/3yEPUs9DfzzfMZ9df2vvh0+vn8/v/xAO3///8sAfIARwDiAYAEXQXmBF4E5QMgBN0EgQQvBF4GAQkBCUEIIAkKCugJNQpPCzsM2wwzDSMNkw2yDq4OIw2CDKQNQg5FDSwMyQskC44JfQfRBfoEfgRQAyAB0/4Q/Ur7R/nw9zr32/UB9Bfz9/JN8vTwxu8w7wfv4O6E7sju0fCf85z0t/OG85v0fPVx9mr4wvrs/KD+5f5z/kL/cgARAIr/7QARAxcESgRnBC0EtgOSA7IDagSPBqAIdQjHB+MI5glqCY0J1gq7C3kMdA3BDZ4Nqg0iDVIMygzFDcAMOwqRCUcL2AthCckFIQMrAqYCqALtALr+pPzc+af3w/d6+Bv3EPTS8YLx6PGn8fDwJ/An71fuQe4m72fxuPO683Hy5PKW9IH1ZPZj+Kv6ePzP/Yf+1f5z/zMAOAAoAJMBcQO2A7ED3gRTBWcEAQQVBDoEwgXmB5gI3AgBCrgKjAr0CugLJgxNDLENVA/DD5cPNQ/hDYkMogz/DFgMzwu1C38KZAj4BsMF1gM/AmIBEgC+/mf+a/1n+lj3BvZi9WH0nfMP8+Lx//BV8e/wCe8Y7jPuuu1m7n7xWPTU9ODzYvMD9AP1aPZz+Eb6Tvy8/jv/bv5q/6QAKwCDADMC6AJEA7oE4wXKBbsF4AXzBDkECwayCLQJYApuC44LTgvaC9oMbw1yDQgO6Q7rDrQPEBDzDGoLuw3lDH8KTwxKDWsKrwerBScEYQN5AuEBUQCp/Qn9Zfx5+Xb3MPaa9DX0ffM78iTyy/H88DDw4u757rjvee7h7UbwjPN29Y31IvXd9Lz0FfZm+NP6k/02/lj9m/4BAPn/RwByADAB3QK9AyMFKgZtBJcDFgX9BQYHzgimCVQJIwlLCk0L9gr+CjMLdQtLDDYMRg24D+gO/Q1QD0oN2wpaDMoMtQvWCysLiwgzBcADzgOAAQr/Hf8W/yf/1f6w/AT7Jfja8+3yCvMp8sbyY/I38TTxn+917r/uCO3q7LjwNvQL9ib2Gvae94T34vbd+cH9bv9B/57/gQKlA3ABLQFjApAC6AKnAswCqgQPBaYDmgJqAoUDPwQPBF8FDAeuB60IdwngCTwL8AwsDncPYxHVEu8RhBAEEfIQBA95DtsOew1JDQoO7glSBRwGsAWEAnQBDgDt/aX7D/eN9LP0HvM88ZHu7ewQ7pzrqum96mTo0Opm7LXjrOUD6zPpPfas6z/Ded0QF1MDW+djABsMYAYBCtcI/hEAIokclxNUFlMXHg6L/Zj7ZQeSAjX5BP/QAJ78vft894P2X/7VAoH/PP3FBUoR4g7SCiIYsydRKccngCxwMSgz0DLGLPwlXCd2JOkU5gkVCCwBofNQ6R3m4OMj387d3d5Q3nPgK+I83sXaNNpi2tjcPeD/4PneNN9T4nnd3dBhzWXcV/k6EMgTdxl7J9YfGQbG+F/5o/4KBKkDDwIaA8z+tPHP5XDpn/nOBNsKtBUNH+gb+A1NAgsAr//c/y4Fzgq9D4cSsQtmBXgJkw3tEjIhvC17MIwtsyiBIVcUmwh9CS8N0Aq6CJ4E/v7//uX67/JB+LMBUQEeAXYBZPsx83zozeAl5VHnMOBn3jbgFNvs0XrLQc2+0W/QpNGX0+7MgdM881kMARDjFZ8luybsEaQDmQYKBw4ETgfiCM4FrwLl/Mz0FvIB+9EHgwo4CoEQhxBbBS76K/Q59LL3r/sGA0sKqwxvDb0NCw/MFOccbiTsKassEyosH4EWzRQwCykAdwQ8Cf8DBwHSApkDAwAQ/Nz/mAPHAXwCx/8q+Af3/fPI6Q7mb+mz69zntt4x3dThEd1B1k7YANqV1ufQCsfEwTjVofmXDOgOVBxZK4okIw5m+4X8Dgu3Dj8KZwpQCGMCqvgJ7HLtrPsVBYcKfw1eDeYMqwIc88fvmvKJ9T39CwNtBgIMMw44DU4O6xSPIDImQyfRLGYpshvlFloUaQr1BV8InQiPBm0DHABI/TL8L//fAaQCNwbYCDcGTADh98rwtOzf6dPrc+3K5zvlsugY58Xe/9Wl1jfeytcAyYHIDs7U1rfvXgf6D3YZsCOIIBkRYQJcAooKtQn5BzgNHwoF/ln3sfXg9I34RwLFDM0P7QvnCIEEaflU8CPz0vtGALUClwiHDdANCw4+EBUVvB/lKT0roylSKKcg6hadEaAKMgRhCNgOoArSAgkDPgflBND9hv7qB6ELsgVAArQDB/9o9LjuYe/w8ILw4u3G66npTOZ25VbgsNIK0tnfAd1Wyw3H3dSC65z87wGYDkgiYiSPGu8RiwaWA5cM7gyjBBYD9Aa1BUb5Ue7V9YUCCgV+B0EMbQ3MDX8HQfgK8T/3KP33/DX+SgZdDk0Psw34Db8RiBvVI8EjniKDJGslVCH/FKcJwQpODSoHXgK9A5QGBApvCxwIWwTiBCgIaAigAyf/7/+5AiX+L/LZ7GDwy+4S54jjWuRn4k7cb9q53OTVT81Nz3TKRsQS3f7/ZgkWDcAcmybaHvkLjQALBN0GfQjiDVgGofko/pIA+fFK7IL8fhDFFfYP7RDeE7sI0/o79ZXynvjcBkcMzgnnDDMTOBPhD2oURB+tJq8ssS+oKJwivCEjF/gIngYQB6gB7vzJ/CP/xf+g/g0AdQFcAIUBZgOwALT7kvde89nu5+vM6QXmMuVd6SroceA53D7bUtra2HrTns1gzBXUFOt1Af8HHRTVJfweTg1HCe4Ei/59AlcJTAzLCbkCi//u+uzxefUvAXMFQwvfE7YTeQ0VBPP5d/Zd9qr4kQI0DOUP4xEdESAPShA/EgMVnRoEIcYkuCJlH2ce+BZvDNMLqgyJB28GCweMAsj/L/8/+i70TvTr+rT/2f2I/Pj+zv1g9nztN+cz5Jjj/OOX4ZvdRN4a3rfVg83uy3vMXsusyx3bGvnNC+ERgRxKH1kWXBObDGD9Hv0QCXUNPAmoALn8O//Z+MHvvvWOAQIKtRC0EI8NWQsyA2D6X/jx+KL+CAkjDfALtgwfDtgNfQwUDt0VSh/SJeEoESjiIz8aig34B1QGfgB1/5MEnQNH/yX9P/j88+D1UPjx+PH7dv/B/U345fSM8eHpnuNG5APmYOMV4XHi2N9c2AXYBdug04/L6c7r1s7hCvKhA3QTpBlIFsIXoxbKByEBHgoqDmcMeAqqAz79bfmQ9J70RPnV/iYJjhBqDTQJqwetBOf/Y/mm+QEGjw06CCgF9wirC54M1w2cEJgYdSTdKtsmUSB1HmYccxUGDTUIXQngCgYFzPzy+XL5tPf49EvyNvQx+gH7GfYi9QT4Z/X37TLqr+lT6CXoQugW5PLdRNsu22/Xmc8+zFDOQNLF4AX4/QWJDWwXtBhMEmUOTwjIBM4LGxCUDEEJZQPq+4D3uvKD8pr6cQDNA3kKyg0RDCUKVgaXAiYEDAkIDVINSwtIDOANGQt2CooQPBbtGQ0hxycTKJQmEyWRHQ0UORD7C1wDPv/WAEL/Cvrg9hf1HvJI8GjwK/DJ8dP2A/lw9UzxJO+A7IrncePL5BbnS+St4AveDdkd1aXTFNLg1anjxPYwB3sOMBCPElkQ8wnFCM8Jdwr4D8oShwxcBXT/rPkF+FL41/mJAHcHEArsCgAKwwgACdoGtQQbCDYMHQ2lDUENYwxNDkoQGRAbEmEXIB0lI3smxiNCIJoe5hhkENoKeQYJAxICuP4l+bP28fSl8a/vme6Z7sXxl/RN83Xwn+8t7xrrCObN5aroq+r06iLoAeSA4IDa/NS2153h6O2Y+k8GNw8ZEZwN6QyCCz8GcgkBE2kTZxBAEYwLiAAZ/Ef8/vrb+owAigmCDIYIjgYWB3MFrQQUBzwKBw5fEk4UWBKID3EP1Q8nDkQPwhXeG8MeYiDmHvEYpBNmEcUNQAnnCDwJ2QTG/8781Pfs8IXtlu507yzvrPEa9HXxjO/V8J3tZOg56EjozOaT6NLpQua24aTe7NyS3vXlqPGz+80BkgeuC1MKigf+B7oJ+wq8DV8RuBD/C9EJ3Qj8Aw0AzQAmAh0EDwcXB2gF/ARJBYsGFQcLBuAIPw+1EbkQmxB2EFkQiBEqEgESrRNnF24afxpKGFEW2hRREm4PgA0FC+8HQQaWA7b9Afm/9rTyke497iTvA+8R7yXvAu9N7zPvlu0d60Lq/Otv7Ubtpu0F7pLr+ua15MboKvEf+Cr9LgIlBS4GMAe8BSYD5wXKC8ENqw3uDu0NgwkfBnkELgJFAfQERgr9C9UKOwr1CGAGdAY9CDcHpwc4De8Pmw3GDi8SHhEQEIESghO4EyMWyBaIFJATqBNOEq8PGA2zC/sJzQUKAgoAHfwR+IL39/Ur8ubx1vNx8wfzS/Pd8S/xsfI+82TyoPF88RDzcvSu8mzwc+/h7cvuGfSo96P4gvznAMsBZQKFAxUDBgSiB9EJyQlkCuQLOww+Cl8HuwXuBO8EIwdSCegIfwgsCVYIJQeSB58HkwfZCR4M5Qu8C1cN8Q65DxIQ4Q8BEJoRExM2EnEQ0w/dDowMiwqVCLMFwgN9Akn//vv0+mL5Zfb39Pb06vS+9ff2D/f29p/3EPhc9/31r/VX9pf1TvSu9Cf00fHL8aXzPvTM9X34yfj/+L77Q/0E/Wr+rQCMAqUEuQUOBg4H8Ab/BaIGoAZQBUwG1Qf9BuoGmAfgBesE5wa9B/AGZAeTCIgJKgrzCRcKJgvUC+8MJQ4HDTQMFw4pDuALugtECwAI2gZ9B7sEjAFzAWIAZv0F/Ej7jvnV+CT5afgd9/b2x/fi9//2Gfcq+M731PYC93H29vQt9Xf1n/OG8l3zsvMI9I31a/aJ9tn3sfls+l76Pvoq+or62/us/fL+zf8iAYICNAN8AzcDtQKAA08FYQatBt8GSAdJCKMILQfiBV4GrQdLCZwKrQrlChQMQgxcCxILIgtxC1cMdgxVC/cJVAjQBvIFlwQMA4MClgEOAF//tv2s+s/5I/qi+Pz3Ivmn+M/3jvi+9771K/Yb91z2MPbO9pf2H/ap9Qb17/Qh9Xn1O/Yr9tL16fYd93L1l/UV9xz3H/im+l77Hvzp/v//M/8HADYBbQGvAjgEbgTaBNkFLQYoBiUGUgZ9BxEJIAoGC0cLqwrGClILuwo1CvEKwwuGDFANjAydCqUJJwnMBzUG6QT0A6kDOAO7AQkArv48/eX7svpW+YD4aPgb+Jz3fPcX9zP2/PWy9gz3rfaQ9pX26vWJ9QT2y/Uz9fz1vPY19k72yfbs9XH1c/bq9vL2IviX+VP6B/sg/DL9xf1Y/pr/bwCdAPEBWwP9AnkDwgWHBnYGFgg/CRUJ5wmzCvkJqgleCrwK9wp3C+8LGgyDC8IKoQr8CccIugjWCJcHgQb0BY8ELgNhAvQAev+3/n79Bvxa+5b6bvm3+B740PdO+EP4lPft91/4kPcH9wz3Vvb39YH2Rfad9er1KfbG9fb1p/bT9pX2hvaw9sH21fZl9xn4gvhy+ej6e/t2+z78UP3y/eX+ZQCiAWMCGAMCBAUF6gWgBj4H9wf9CPgJWApQCoUKCQuBC7sL1Qv2CwsM6guVCyALhgrDCfgIJggHB74F3gQKBLQCiQGdAAz/lv0X/T38qfqw+Rb5Mfif9zb3dPYY9jn2+/V29S71N/WS9QD2MfYS9ov1D/VQ9dr1AfYs9qn2Hvdj94r3ovfG9wP4bPj0+H/5Wfp5+z780/zV/dX+ev89AAcBcQHcAbICvAOaBEoFHAYMB8oHjwiUCWMK8AqvC0kMTwxFDHQMaww7DDwMKgzTC1oLgwowCdAHkwZmBW8EggNZAkEBTAD7/mz9EfzC+p35+vhW+H/3G/f09oD2NfYv9gP27fUC9vD13fX29Rr2OvZD9mz2+fZ796b31PcA+P33G/h5+M74EvmM+Tv6v/ov++z7jvzF/F/9h/5f/wgABwHgAYMCVAMFBIcELAXNBYMGcAccCLwI4wn7CowLBQx5DNgMMw00DfkM5wytDD0M9QtgC0UKLgkWCOEG1wXLBJUDWALoAI7/qf6T/Sb8Lvti+jT5Pvix9w73fPY99hT22PWt9cD14fXO9c/1BfYq9hP2iPUV9aT1U/aa9tb3YfnA+Q/6WPpv+b34GPlp+RT6QvsX/PL81v0+/pH+xf4X/2QA7AESA20EagXJBUMGawZmBiUH9QdzCIgJ0Qp7CwsM0QwNDY8MTwy2DO8MqQxoDCMMfQt+CnYJiwhVB+8FKgVwBM0CLAH+/5L+Xf1a/Mz6mPkv+ZT4FfjB96H2uPXc9Zb1yvSn9Nv02PTX9LH0HvSE84vzpvMq82PzmPQs9dv1a/cp+Lr4SPr/+gf7vfvp+//7Wf2D/jr/hgBgAZkBTwInA7oDugR9BkAIGgmDCesJrglICYwJ8Qk8CnIKeQqbCh8KIgmOCaQK/Qo3DLINIw0/DAQMSgoVCLsHrgfcBscGgwaaBL0C/gAb/lT8Ovwi+yD6Xfqa+XD42/cA9hX0GPRN9AH0C/Qd9CH04/MW803ycPGA8F7wrfCV8JvwbfE18vnxZfKS9NH19vUL+OT6RPym/ZT/IgGfAgUEzgQ/BX4G1ggACp4JnQpBDOMLQAviCyUMowvHC8YM5wzgC/QLxwwvDGILaQvlCu4Jbwl9CWUJPQh2BwAIrwcAB1IHlwaVBd8FhQT5AWYBewDj/WD8X/tr+Tb4pfcx9gX1y/Te813yk/Hv8EzwMfDP713vtu/g72rveu7y7CDs7Osj66zr4O2l79/xW/Qt9fP1afeQ+M/62f1vAJYDKgYTB/YHjQgBCbwK/wtkDKANUQ4hDi8OOg0pDKcMbgxjC/ALzQw+DEkL0gq9CnkKJwpsCnIKTQpMC9sL2QqGCvgKlwoQCp4J7QiKCJsHcwX3AhkAdP1D/Br7Bflb91L2X/XW8x/xB+967prt1ewV7WXsOOvc6/LsNexq6pvp3OkY6UnnDOcV6RLs1e798ErzofWH9xb6i/yo/UYAQAXfCPIJWgqzC6MN+g3JDQIPLA/ZDrIQ4RBNDoQNLg1gC/UK7wqFCREJwgkECqwJ2QgWCa4KaAsCDOwNjA+6EMwRXBFoEDoQfg9kDp4N2wtACdoG9wMlAOr7V/hx9q70z/He7+Lu5uxF683qW+n55k7l3+Tf5SbnFOcu5mvlA+Wk5A/jquAw4FjjaukV7+zx0fTf+Xr9cv5dABEENAjyDEkR8hKaEggTLhRrE/oQ6g97EI4Q9g+pDqkL4wgvCOoGagS3A5YEnQUYB7AHxQeTCToLtwsVDcIOVBHHFTUYcBjZGSMa3BiOGEoWLhK0ENgOLgl5A17/GPtn9jfxh+yp6szqNulB5aTic+Io4ajeKt4j3xfgkuFi4trh++EA4q3fIN013fnfjeUJ7XbzRPie/EUAQANiBcIGTAqSELwVJhhJGKUWoBTIEVAODA26DLQLcQyFDE8IJQTxAjUCZAE4ATsCxgRaB78JQAzTDLwMcQ/gEqkUdhfFG3wegB8eIC8fTBxfGcsXOhbfEaMMJArtBbD9avdl8gnuBPB48PXod+XJ5SnhxN1m23XXCdu/39zcx90G4RDe3d3r3qzZCNgC3AzfJuYm8Xn5GQCeBHkG2Am1DSwQrxTvGm8eRR5EHG0YxhIxDgoLbQcLBikHugVeAhUAuv0F/Mz74fs6/pcDpAgbDBIPDRKHFDEWDxnwHfUhsiMcJSAoYipEJ3ghzB7HHNAYRBX4EB4LRQbVAKz46fAy7RXsH+h+4kTieuN53k3Zr9n/2gDbdtqJ2U7b8N+14sPhId6L2kTa+9lZ1yXci+y3+1oCEwZ7CW4MAxCNEnMU2xjnHtcioSDUGNERVgxkBugDngPWAYEC1QNcABH8gvki+P36MwCPBDIKRRBlFEoXgBmQG98dcCFKJtcneSdpK4gt2SffIfUeRxvXFo4SKQ5JCakD0P3/9nHws+x36fvlTOSs4rbgJd9S3bzclNsM2Sbaldxs3GDcuNz83r/gg9vy1zfYo9VJ4UL4Af2x/rMNuxD6DNMTuhShEzoeICRiIPMb1BX0ENoLxwIa/wYBxQCSAKP+xvij9oP5u/tY/WMC4Qp8EXMVlxmQG+UcRSLrJ2sqfCsLLDgtni12KrMkyh5NHH8bvRXwDh0LZgTL/DH3ce936vjqeen75XPjF+L94uPh2t3G23HaHds73+feLdr82AHcGd+P3HLWO9QB1GDbJvD+/JX8gAVBEfoRkxRTGNcVDBsaJ9gm+BvbFAESsgzBBcMAa/17/fz/nfyg9D3y5/XZ+VT8KwCVCBQSKBh0G4cc+x6kJUIqTCsOLbUtOS6UL/gqnSJqHk8bthYME0QOqgdsAsP9g/Z27q7qX+ol6eLnNOfR5FjjC+TB4OzZ+9l84BbgXdqa3C3hRt5/2wXbA9gO1hPVntd75vT3ugDVB9QMRg3tEQQXEBbgGOkhOiaQICsWYg+uCmkDiP/M//X94vx//M/3Z/PW8yj47f5TBTIMHxMNFqEZEh9mIBQkcysMLJorNS8ELb8n4iXvIT4c7xfaEh4OfQmtA57/mPtl9P/tZuuJ6tjpBOk+567l8OUz417cVNti3tvbuNqc3fbaFtnK3BzZ3NAM1Arb79Sh0CTmBQEgBnkIvhCZDqIShCEeHa4U4iKoK60fkBOmCy8EP/+u+zP5+fVF9YD7wfpi8DHxUfwBAw0IMQ4iFCscMCIQJFYmOSnTLPEwFTHALTkq0yW/IKwb3hXND14LyQmMBpv9yvWi8tnuwuzc7Bro+OS16ZLqxeMq3TPZftuW4XzfNtl32ubeIN992jjV7tUg2C7VKtPQ1jXj6fgkCEoKSAyEEBAWyx19HWcayCJsKZsiQhdUC8IBUv6e+wr4hvar9w76WfcM8rzzaPgI/mEIOw91EvMa9CK4JdwmWCgwLcYwOy+BL9Ar/CDXHc4bwQ86CnQMnQcvAR/9vPbh8Xfvyu3V7NzpdOkn7GvnfuFC4wDg0tcl2h7gwt2g2UDZPtvY3DzYtNGq0ujSws7y1wTvcABtCUwO5w3PEKgamx8WHkogWCdoKjohUw8uAjb+RPzr+Mz2f/eR+cD5CfYb8uz0jP4aCGMORxO+GcsheCWqJKMoBzA6MhAygjHMK0IlSyHsGKkP/A6KDqUGMAH5/2j6+fOq8XLvG+357J3sfekE5hfmJOS3273YrN263O/XYdjN2nLb8Njt1T7W+tRu0nDSddU65oP+eAgmDlkV8xIhGYAkwhspGg8sji2zIPcVoQef/UP6e/aC9sH29Pe1/B/3Ku+k9Df7LgH/DIsVBRvPIIkkwCYuJNYjwyzbMZYyKDK6JvAcRBzoEx0KzwcfBXcFUwR/+n7z3O8A7d3vWu5T6Gzqpu2z6kvk6NwO3Inf8t3T2hfaiNqa2sfYKNjV1DrOjNHs1PXOn9rs9oMFPAv8EXAUHRpAInohdR3bILspzirwHVIPSgTy+cj1yPQ68iv2ZPw9+sn1u/X9+An/2QY1D2kXjh/GJiQp7CZjJKgkxCl9LmwtbCrMJekeCBkUEIUG4AVTBwIEfwDy+8X1b/Dj667qlurN6JPq4uvv5eTfrt1g223Y0dYZ2fnbW9tB3K/cs9VZz+DP688Hz7jYZvCBBXALhw0VE+4UBhY6G8AeHSD9JAEq3CK0Dw0DRwCG+VfzTPZ8+f/6Hv5T+krxCPPm/nkG2ApvE5UaiB/gJrImGR8qItssEzDtLn8t9CfeIFoc7xXLCnEGPA1GDQUElwBM/PPxrO527Znnj+nf7zbtl+Yi4sLd1dnp2J7Ze9bL1Prc4+BN2JnTJ9KDy+/LDNPE15Dm/f/qDVQNwQ6iFV8XXRahHH4gsh6jJc0nsBaoCTUGOP3p9035/ffT+TT9rfky9XH1tvi2+/UBbw/SFC4TJCELK6ofUiBMLLIpmCkxMqkwACjHIDsd3RjFDBkHVwqABeUB/gHT9lPuMO4N6ArkseWe5djngecN4vveY9sb2czYyNOj1MDc9d7l373cy9HB0N7U7NMC4IX22ATYDZkTqRQ1FFsSbxMWFmEWyh1BJtcfCRV8DtMEzvs2+FX2N/dM/YwD7wEp/OL7P/wK+xsBWQkQD80ZgyNWJH8j2SNFIxEj1COvJgUqrSlvJQoeGxYQEK4IFQG4/Yb8m/tD+YTyT+vx5/jlneIo303gEeVN5k7kc+Gg3Kja8NuY2djX09y34dTff9pV2Dbaht5Q6Dn1O/67BrcQARVEFGYTSxKaEh0VJhglG9AaOBYWEXIKEgKY/CH60Pnb/DgA+QEAA2oBmv6s/t8AEwU0DAwTnxhVHkUi2CLaIHYfzCEjJP0iJiFfHhYaKRYQD2IFswBpAB3/Y/oQ8xzvTe4f6kPlxuLJ4Tnllecc4kvdc92D3ezdE99m4NDiXuNL4drdDdlI2A3dmOKq6174VgF2Bx0NGQ9iDyQRjhLdE+0Xqh0ZH/kZuBQ6EgUNQgXjAOz/cgDTAsoDbgGg/yT/x/7L/6oAhALhCS8SvBW6F4Ea7xxCHVYcGx8rIpAgNCFhItMbDhSGDrwHlQMIAVv9bPtf+M3zwO846UTl9OUt5Mvjv+Xr43XjsuOX393dZN7N3bjeeN2e3NTg3OCp3EndxOO98KT9sQNwC/0UThj2F7cUDxKrF78eQSDkHdgYHxdzF/EONwII/SkAaQVuBHH/e/+kAdwBmgGc/yEAyQd6EDsV+Rd+HOEiGSWAIpUhtSSeKVcqTCSTHzMf9BtgE5sJIgSkAycCrfyC9PntSO4Q7y/pE+Qs5I/l6OXw4sXfKuEc43Xis98J3Zvf9eKR4PDdAd3x3HDicOt79Q4COQwYErAVkhWCFC0UPRTyGDQeXR1VGusVog/VCgwENvvS94r6Bv/o/y38z/s5/9z/hv+2/xkB5gj7E+MaTR6DIZElyCf7JbIkgSV9JcUltCQvHxkZ+xMIDcoFuAAu/bz5IPZi8/jwyu056u3l/uK+5KjmoOPQ4NDiuuQO4hzd2NnK2gzgA+Tx4AnbJdqq3bThg+hn9SIFAxEhFZETCxPaFM8SdA4AERoZ0BzKGJsQZgi3AtH+DPm98vP0q/8FBaIBrf9nAYQCXAJyAloGHRAoG00hhyIwJf4pUimaJN0jdCVaJSUjYh41GrYXqxIXC3QDGf1G+bv1jfER78btOe3B62XnYeWY5Xfg2tr23PHhiOIl3sraWd3R4Dzgedwb1xPVWdiZ3JjjRPCh/lMKyg6pDPsMoxCGEIINvg4HFzIeDRokD5MH5ANyAE76m/O29OT9LQWbBP3+ePx+AB0EJgODAyQLdBg/I7QlkiNjIwAnsirOKAsj6yC/Iq0iGR4HFhkNwgZcA0D++/TF7SLuZvBt7Tror+Z+58Xl2+Cn3K3c3t8/4SfeLNo22nLdMd5s2kfXONgp2XfWAdXY3EHtm/yUBSMLSRAVFNUTLBC+DkUSzhbzF60VlhPREdsKxf6S9Sn0TfgD/J/8If53AjMGXQaUAhQAXwWlD14YpB2XIFAkhygAKXImryP5IBwfXR0KGyIZlRXQD+kJlQLk+sz1GPEV7I7pIupF7Ozruuf840PhrN0F29rZ7tlc29nb19s73YvdCtsm1zbUUtQ11tjZ3eMe9JIDVwzdDb8NXhHoFXkV7hBeEN8X4R7sG5USUgvJBj0AVPeg8rX2+f5VA+ECDgT2B2IHsAE4AOQHdxNwG5seVCJhKVQuKyp1H8kZsBxbHusZnhWxFeoWkhJBBl75QfP/8KjsleeY5+7rP+1n6VTjbtzM13nXcNc61pzXDdwj4EThQd+e2/rXqdUP1BTS0dR64pP2fAbODM4Miw7FEzkVRxDYDMgRDRvqHqMafBPgDMQFsvxv8yrwuvWX/UQBeQIFBW0H8AXmAgAF0QwQFTcbpSDGJkksUi1dKDQhGB0VHR4daho7FzUVMRIJDKQCVvjF8Obssuoo6eHodeki6crmYuLN3A3ZONka2ovYoddp2sjd291M2yTZEtla2TnWpdER1pPoVf5nCv0NnRFBFzUauhaBD0UNqxRlHWoc/xPmDc4K4AM5+HzvgfDN+BD/d/9XAA0GqgrnCO4F9QhuESMamB+vIswnTC9RMbEpBSFkHz8gzxx4F1gVbhUAE24LoQD690z0nPFf7IPoJeqy7QDtCecg4HfcC9sG2CTU9tTO273hE+FV3Wbcmd2122/UUs1e0M/gnfahB1MRfRcuHAgdhxirESIO0xEeGo0f+R1lFxAPVQXI+cfvnOzq8F34pP7lAi4HcQvPC7gHYwUpCscTixyFIzYrMDIONKEvzyeVIJUbkheKFCcUgxUuFaAQNQis/ir2ye4E6WDnUut+8Fnw2+uu6D3mPODO12/S0NOG2g3hEuOO4Sjg7t4g2pbRIstIzVrb7/HvBuMTJBuHH58fhhpLEy8PnREfGZMfjh8JGjASHwdF+WvuzeqT7drz4fqlAegHbAtaCocHCwjxDG0T0xqgIxcrCy8oMNQtnSc5IBEa2RULFJcT9RGfDnQLSQgtAt/4wu/e6SbpnOy/7qbsY+nd5vLjjeB/3BPXa9P41b/bn91g3HndMt+83BHXh9KO1BHiaPd8Cd8T6hvyI1smIiCQFpgQwBAFFBkVaBPHEesN7QO59zbwHO7Q7kXyMvlJAikLlxBcEOAN3A4hE10XxBs5IWgmcSqkLDErFSatHygZMxNaELkQ1g8RDAAJkQckBK78vvId6v3mLekD60vpIefF5rjl7OFG3MjWKtR11YnXSNhR2kDei99X3B7YzNVi2KDkn/g6CsQUIx04JY8nmyFIGFwRmw5LDlUNEAuPCboHiwEL+B3xeO/68NDzHvkRAjIM8xLiFDMV7xb1GCQashz1ICMkEyYUKG4o+CRrHkQXwxHeDpgNsQvlCJUHbweFBFz9XPRY7fjqEuuY6WLnNOe45xfmSeLB3SXZ+9Uv1qHXu9c22cXcFd2k2KrUatZT4NHwaALREIQcJiZHKfMiXRkSEwUPzwu7CmELzgtHCSACS/kG85HvJ+1Z7VL0rwDpCtIPphLfFb8YqxhyFkMYEh+oI54jISQEJzonByEKGHAR9g1wDO8KcAgCCAwKUAk2BEP9dvWd7lLr1+ox6pPo5uep5+fkT+Da29jXe9aO1wbXwNYu20zgTN8v2YXVNtoj50j4vgegEvwc/yYxKJsfhBYsEfYMhQiOBU8FPQVNAuj88PaW8qvwBfAU8rP4hgFKCnIR4xSeFl0ZMxvkGr8abRyDHuMeyB6ZHysf8hwRGvgVYxLiEIsO5wr7CIwIFQcnAxr9f/ae8HnsV+nT5crkP+dJ55Dj6+AW31vbldeF1pTXgtiu2afcwd7W3GPZsds76sz/Cw5/E6EbvCa+KA8ekREgDR4NswmGAxUAhAErAyv+dPVT8pP0ofVW9fn4wQJiDV4SchMSFgka9xrfF8sV4RdVGlobYB1cH2sfIh7ZGg4WyhIjEXIOCQtWCtILBApRBOn+cfme8tfsruia5cbkTuUg5TDkg+L93gDaGdfq13jYxdfn2qbhDuUZ4sfdUeEN8I8A9wjvDVQZcSYTJ5cboRLUEK8NdgX2/eT8DAD5/0D7JPhH+Uj6q/iZ+JH9LwQtCTgOrxMGGCYbLRwoG2oaaxlwF6EXaBpLHNUcjR2qHeEblhjVFAwRUA1gCt4Inge5BPj/Qvqm9C7wneut5Zni8eT25R7i2d9H4RfhHt6c26HbRN7J4MDgWOBS4ejhh+Q+7zD/dwp2EF0Y6iDmIYcaphGuC4kHjgLq/O35R/vj/c39q/sP+zz8ofwC/bv/gwNsB0ANQhNcFn4Y0BoIG+IZ9BhpF6UWOhjxGZwaBRv9Gv0awBqgFy8Sgg7eDCkKEwYnAhr+hPkq9VjwAOrW5Gzk3eUU47Xes+C15djjEN753Qbiy+LX30DeuOCl4xnjQeSP7zIBigwQEO8VUx+uIXQZ8Q7nCe8IvQSS/P749vyyABL/EPzg/Mf/7f///l4BZAX4CMINUxNGFzIZJBoGG+kanhg9FocW4hi1GpkaUBoOHOEdGBxCF8ETxhLXD1kJBgRfAUf9ivaf8JntMOul537lDeUp40nhsOFB4R/fyN674JDiPeMB5LHlp+Yi5l3lmeaG7kH8cAWdCGoQ7Bv9HUkV+Q3aDAcKTwGK+ZX4/vtZ/qH9Tf2PAE4EyQTIA5kERQfQCVQM6Q8rE9EV/hg7GqEY4RdUGCUYQxinGMQY1Bk8G90arxiZFmIVjhLKDD8HpAOU/+v4+/CC7IvszOq/5VHkYufX50rkU+Ls4p3hGd+F3xDheOEb44flOubY5XLlOOc/7rf3b/4+BIoN1hagGEMUZREmEIALwwPd/Dn6JvyT/Rz8Ov36AiEH4QbjBtcIXAkfCeoK4AzMDkATVxdgGK8Z9BuNHAwceRsdGoMYCRjOF7cVxhM0FX4VKBAjCwsKLAYO/b30/O887FjofuVy5C3lw+Z85wzndOaG5dnj3OH331nfUuC84Pfg0eM751vnYugI8VX8wAArA5IMRBXhE3gPEQ9ODpsJ/QKg/db7gfyT/Ez8Qf6hAosGWgiRCawKCQsfDIwNLw0SDuMSghYlFvQWsxrhHNkb8hn8GOIYUheXE8oRJROdEusOBAxeCmIHLgJf+8L00u/d6zHoMeVj46HjCOXp5Drkx+WS5mXjTOF145zjDuDd39fjHOZK5YXk6ehx89L6E/zmAigPnRLODrgOxA+UDG0HNgJX/vb8V/yE/Mr9yv6GAtgIIwpyCN0LZQ93DeELAA1+DisRHhP5EjMVqBnMG+wbRBtXGt8a/xn+FJkRrhIIEkUNvAiIBgcFGwEV+WbxBu9d7bzmUuEj4w/lPuLS4dflSucy5YzkbeYO59XjEOIb5o7nh+Py5HrprOg27ez4BfyJ/WkKIRLpDH4M+hFfEPEIkwLeAEYCov6d+T3+8gN0AhsFJgyyDL0MXRGeERkOQg4pECIR8xCaD1AS+hhIGuIXyBprHqYbQxdvFYkTihAyDWoJUQasBMYCNP+S+iD2d/K97rTpLeUO5OLj/OAI39ThVuT24uLiE+YW5wzllOTC5czlKOWB5JTk/Ojx8DT2cfp2BC8PgBFCEBwTuhQWD38HVQMpAIr8xPqP+oH76f+HBc4H3AkXD5gSjxHeD5UPwA8mD5kNEA4hEUcTqBWsGQgbMBu3HVoceRbzFMkUJw/+CWoI3AXwAgEAj/s7+cn3qfHH6wbrPelU5HLhMOFd4V7hS+Ec46Tmvech5wHpmep66MLnaOpL6VjmWOzD9cD2uPm0Bw0Qqwx8DlMVzhLZCtUGPARhAOn71/jP+lv+Bf94AkkJSgy0DpATuhMtEY8SKxITDj8N7A12DS8QVxPdE/4XuR2kHLgZKRunGsoUfg5sCosHGQOO/AP55fj29X7x1u8R7sDrzOp+53HjFuQ35MvgLuHh5M7lOuZ36IPqa+uq6gjrr+0n7CXqmfHy99318fv+CE0KYgjSD7sTGw+xC+UJeQeVA+78ZfvQ/yf+Yvz8BMwKDwobEBoW7BJWEoIVdBItDu8NLw5MD7kPmQ4kE88ZJhi7FVYaBBw6F40TyxBmDAkIXAKL+873J/bG8ojuVuxg7XTuFOty52jpZupg5fHi8+UA5inj8uPP5qHnIOfQ55/qquzo7Nbw2/fg+uL9lgVOCWsIRAxeDy8L8AhXCo0HkAM2AqIAawBPAQcAnQEqBykJQgpJD9cRTREjE5QTEBHeEDwRMhBSEXcSEhLvFDEYohbiFW8YEBjWFFMSHQ84C3wHegGQ+r72KfTZ78XrcepB6y3r0Oi958HpVupC6M/nxeg86JPnrucG56Xmiue455nnnupX8Jj0wfc1/tAFUQiwCOkM+w+1DPoIqwhkB1kDjv9u/o7/7/+e/3AC9waGCVYMyg/WEN4RxhM1ErAPZxAZEDsOrQ+qEXwRgRO0Fp4WKRZ/F00XPhX2Eg4Q6gw1CZcDLf5l+rP1qPCP7vHtGeyw6nDrhuya69zpm+pB7Prpa+aO58bpj+dA5Qnnu+i45zzoLe3t8iv2s/qGAg4HngcEDMwQ1w1GCgAMcAr8AwMBIAGP/1/9J/1WAKoEwgUxBxsNvxCVD7YQWxN0Eo8Qlg/yDu8PIRB+DnEQUBQEFOgTURcEGKoVHhURFAAQyQspCJADHP7Y+Dr16vKg76fsiOyO7LTqRuqN6/vq3+ni6vPqxOiX6PXpgujD5hbo7Ojj6Dbsv/D587n5ggDzAgMFgwpzDecLZgsSDGIKxgZXA+0B+gHc/1H9q/92Ax4EVQYoCy4NUQ5XEbgRbhBGEt0Sqw9gD0cSbBI5EXMSUxTjFMkU+xScFQ8VtBJYELgNRgloBC8ATvsk9qfy4/Dm7g7s6OoT7IrrPemc6Qnrx+l76Nnowehu6Pzn2eZG56Hooei46qnv4vKu9rz9/gEmA4cH6AtMC1gKgwsACzIIJQU/AwADDwK//9T/bAJMBCMGswjWCuENwBDgD/IOHRKaEzgQ1A7ZEUsTTRGsEM4TlBYRFR0TdxWGFw0UyA8PDzEN7AaIAEj9rvrm9X/w5e3a7b3svulu6DzqC+t56DXnEeqa6+boL+e86KjpU+iv5oLnxusJ70HvgPOI/HEA+v+ABNQK6QtQC0QMmgyzCwQJiAXRBHkEFQGx//IBqAJkA+MG9gggCqsNjA/oDoAQCRKXEH8QPxIWEl4ROxJ7EzAU7ROjE9AU+BSLEvsQTBAfDVIIUANI/l37vvim8rrtOu4W7sXp9eYR6b3rJekT5GHmfO1q65TjleW67H7q4+Oc5XntsPCd7WjvDfvPAmX/ef8hCVUO+AqBCYsM/Q3BCtAFjATbBeIDbQBJAL8BwwOjBhMHGAemC1QPfw3xDEIQ1BHRENEP7Q8PEk0TsRBPD0cSwBOpEUEQRhAXEHQOqQmRBBQDpwCO+R30cfOW8a3sFulT6J3oHeg65mDlfudk6VLoY+cu6a/qZOnY54roXurj6zPtZ+829EX6R/2O/mcDZQnECkcKuwyED48OIwtPCdgJewjoA/EBbwRmBZYDUAQ5CNsK8AqPC4gOGxHDEBcQuRGEEzwTQhKnEuYTnxPyEdcRuBJiERYP7g3NCyUIAgWIAef8Mfln9v/y2u+Z7YbrBuoN6crn/uY754fnk+eR57Xnm+ga6eznrefJ6fzq5+oW7avxMfaG+fz76P+DBV8IighBCwEPvQ5FDCUL/goxCjEHvwMeBAoGwgSuA1UG8whvCcsJAguBDdMPQA9YDrYQzRJnEWQQLhI5E5MRURBQEd0RGxAQDtIMsQofB3oDhgBj/RL5AfXk8sHwKe3j6q/qtOkO6LznPejD6P7oVegd6ErpY+nz5xbowemq6p3r3+1T8QT2DfrO+63+OASdB9oHxQlYDT4OTwzrClgLIwthCO8FOwajBgEGSgYIB8oHZgkXCu8J3wv5DYwNlQ0vDxwQ2BCQEUgRmxGAEtoR+hDuEAMQlg4aDSwKCgflBK0Bgf2W+j34fvUy81Xxxu8c73Tu6ey569Hr/ess617qrura6prpsehR6YnpcemV68nuCfGZ9IP5+vt7/bYBrgXNBmcITwurDFEMjwv2CtAK/wk6CI0HHghJCD4IYQivCLQJYArsCYwKhgwNDV0MGw3zDrYPXA+OD14QdxAJEMwPQg+2Dh8O1gu0CMoGZAR2AJT9Dvzu+XD3pfWg9LnzGPKA8LTvb+487YTtHu1f6yvri+sr6ljpBurw6f3pBez67k3y7/Wo+Aj7Z/6BAWcDWgWlB2YJVQp8CpUKGwuACrcIewhVCawIGgg+CdYJmQkdCnQKjgqHC/ILfAsSDCINgg3rDTgOSA6yDokOyA3hDeMNugx+CzIKVghzBi0EkwHP/1r+ivwD+4T57/e/9iT1O/Mr8gDxcO/47qvua+2v7Gvsm+tN63nrB+tC6+Tsme658NTzKvan92j6vv2s/0gBvwOmBZIGagfSB88HSAilCFsIYwgFCcAJTQpyCsIKXwvsChIKqgpJC5UKRQrNCjELkAt/C8gKtwoQC5oKEgpDCnoK6AlfCL4GtwVDBPMBGAAK/wn+z/xn+yz6J/nI90r2DPXO8wTznPKO8Z3wVvAk74ftVu1W7YTsZew17V3uo/CX84P1v/bo+Jj7Q/1T/hQAqAEVAn8CQQORAw8E/wRgBYkFZgaGBzkIiAgJCd0J6wlNCccJrwoPCi0J2QnnChAL3gr6Cl8LqguQC0QLEgv+CrEKxQl+CFIHLwbRBEsDIwJ5AVEAm/6b/bj82vpS+X34FPfD9Q/1AfQk847y5fBn70Lvie5N7Wvt1O2s7Z7u6vDb8oLzxfM89U73GPie+ML6IP31/TT+Qf+7AG4BpwHCAkEE7wSjBQMHDgh2CLoI7AhBCfEJqwoOC0AL8wsXDXsNKg1bDd4N0w03DW0MPwy9DEMMgQpACcEIkgeaBT4E+QMvAyYB+f///6v+Ifyz+g361fga9271ivT180fyevD272HvJu6l7YrtBe0Z7Vbu7+8/8SXy/fI09Hj1b/as94D58fqQ+6f8YP5E/+v/pAEdA6QD1wSYBnoH1QeKCJsJUQpICukKfAycDNkLCw2gDiIObw0qDh8P8Q5zDZAMhQ2gDbULzAoRC78JdAdEBtcFEQWWAwoCRgF7AJT+Zvzw+sn5OPg19qb0HPSN8xTyefCb7zTvle6X7b3siuz67ODtQu/w8Bjyh/Jw8xb1R/Z494f5CPux+1v9jP+JAPcAGgLdAycFZgVTBrgIvwkCCcgJqAvoC4oLTAxoDewN2Q3vDbMOPw8cD+EOcg4gDmIO+g3+DCsNIg3yCs8IhAgKCBUGPgSpAxQDTQFE/+/9rfwd+5v5Ifi59ov1a/Re80ny9PDf7xrv7u3d7Mns8+zE7FbtY+9w8dPxxfFg83P1IfYD9335kvs7/HD9w/8jARgB0gHEA80ECAWgBr8IFQnLCOwJPAs0C0oLvgz1DccNuQ2iDjoPFw8TDykP1A4sDskN8w3PDbsM0At4C0oKWwhJB8UGbwWYA0oCTwHH/+H9h/xj+6j5+/fK9jr1n/Pr8i/yj/BH7/3uZe4P7WHsxewH7VXtBO8P8XrxcfH88u70rPWj9gL5C/vP+yv9eP+MAJMA3wHtA64EIAUOBwIJKAn6CDUKdAtNC0kLqgz6DSkORQ7wDm8PhQ+hD6APLw+8DrIOhg7NDQINZwx4CwQKhAhHBxsG1QSfA4QCMQGB/8j9Mvx5+q/4Sfch9rb0Z/O88vPxa/Am78HuEO6+7ELsyuzs7B/tBO9W8anxUfHy8k71GPbD9jj5tvuS/IL9lP/vABcBGQIeBB8FYwXgBtoIOwnCCHYJxAoZCx8LGwxHDYkNjQ05DgoPXQ9yD2QP5Q5SDlMOdQ7JDasMGgzNC8QKIwnDB7EGigVTBP4CQQF7/zL+3fzJ+q34cPeA9ij12fPW8pzxYvDE7yjv6u0I7SHt9+xi7GntI/C38VzxrPGR8wf1rfVF96b5LftK/CT+p//n/5wA1AKbBMsEUQVLB+II5gi+CIAJbQr9CqALbwwaDdQNxg50D5UPkQ+dD20P+Q6zDsEOwA5EDk8NSQxuC1cKpgjjBsQF8wSUA6oB6/+K/in9ifu4+d/3PPYL9Tr0W/MV8pjwZu+a7rjtq+ws7EnsBeyk69nsYO+38GTwwPCY8in0F/Xy9lf5ffoz+1X9p/8xAGwATgJPBKAE4ASnBlMIVwgICNUI+QmICh8LTgxnDeMNLQ62DlQPlw+HD4sPaw/FDjoOXw5fDm0NKwxVC00KZgh1BmAFcgTeAh0Brf9L/qv82foL+Vn3xfWH9JbzQfJb8M/uBO4z7QDsCuuf6kvq6Olx6p3s0O4s7wnvSvDR8a/yUvT79tb4hvnr+pT9U/9Q/wgAXgLwAyME6gS9BicIcwimCKcJuApuC4kMug02DogOMw/mD0gQKRD2Dy0QORDAD2IPSQ/nDr0NJAwsC3UKsAi1BtIFBAVrA7IBIABm/nD8dPrj+Ib3mfXM8zDzlfK98OTuE+6C7bfs9et6637rv+tC7Ort/++M8FLwg/G08yv1PvZT+K36qPt6/Ob+NgG/ARACkgN6BYwG+AYlCKsJ2AmeCa8KEwzADGsNqg7FD7sPmw/gEL0RzBBJEA8RQhF/EPYP/g95D8gNaQzRC4gK7gjrB70GRwWuA/AB2QCZ/xj9Dfv4+Tn4E/aF9KPz+fKS8dXv3e4Z7kvtpezi663r3esi7ETu0fCY8CPw7/HP89P04fU8+OH7QP3h/JX/bAKDAY8BRATzBZAGQgeNCN0KngtcCscKoQz2DLYMQw6QEKoQmQ9sEDURYxCGEKcQbg+aD1kQuQ9pD3EOUQwGDCwMEQp1B94FfwULBZECuAAbAfT/Av2G+jz4M/fo9j71IvRF81fwle6j7mztp+wT7LXpn+nZ6/fruuwe77TuXe6S8YHzJfPm9Br4Cfop+2n8ev7JAHkBYwKtBUsHzgVIBiYJWQvoDNcM+wutDbIObA0jD2YRThCxEAUSYhHcEegQDxAWGGgedBfVETMTrQ/7CsAKEglvCAAKmwZXAk4BT/0b+Ub5E/jH9d71E/Qu8a3wFu7m6Xvpz+jP5CDj4uQV5mjlmuOo5J7q+O6X757yivZy90/51/tt/N3/4QSfBekGLgqnCJAGMgkTCsYIQQqrC8wMYw9+DlsMFg/AD4sLPQyOEP8Q9xGiFZMWbxYKGBIY9BYuF6UWWBWdFbMV7RO9EecOhQpvBq0DjgCe/Gn5k/c09oLz1O4F6xjqBelk5h7lsuR74qLgtuEj43HhIN713VXgduBQ4VPoZ/Ad9NX25/k2+/L7iP3/ANYGswprCq0KfgxpDBgLjgp0CrkKqAtQDd0O+w3YCuQI7AjoCCkJ+guDEJISnhEhErEUQxVyFCMWRRluGtYZvRjXFkcVJRWME8wOYgr1B1AFwQGi/Uv5F/br8qftpehJ5pjkhOJ24dng/d7O3MbbMdtp2yrdjd0y3DndyeAu5yXyPPmP9/f4DQAXAkMBgARfCcoOqRLlEPQNsAxQCmMKOw1JDJMKiA3qD88M7AbrAswCgQUDCp8NDw2iDDYQkhIxEh4T+BUnG84fYR5vG/4bVxtGGTIYtBQhEFgN7wgOAxT+pviG9IPzuPGt7AznIOT54cHcg9g72Wfa3tom3GnbD9oO2lfZw9qr3rfjtPD2/mL+nPgR/NIBXAWhCJILyRG8FlQTHQ9aDNsHOQokEagQfw16DGcK+gg4BrwCOQVUB5oGVAxRD3UHigRfC5gSVRhnGdoXFByiHt4ZMBjcGT0aCx2gHEETygnDA0v+n/zO/Jv4HvM18Mjre+OZ3Jbb7dy23G3cQ9vP1hjT/NTn2WbbstnV3BXjp+K85ND0fQH4/m3+5QWDCeEIoAo+EI4VhhSHEq0TNQ0LBXIL4xEHC6sGNAnACEkFjgCDAOkHWQmdBvMLrQxWBdoHURBvFR4bMhxtGgUeuhyEFxwbpx1pGxAdQhihDBoJYwap/oX7n/lk9oD1hu624rTe0N+k4AvgtdnR1cHb89w11QrVAN023w/cTtyT3iTgMeoU/i0HAf0K9i8BCw4CDLMGnw6CGOMURg26CMsBTgIbELgVRQkY/jEA2gXMA879pQDwCgoO0QgxBboDYwQkDa4XTxdeEpAWgB/kIEMbWhlLH3Uj5R7KGLcVgxElDa0KtgRW+gf1ifdl9UXrQOg366vjyNkn3Dzgydyh17DXRd+F4S3Xi9Wx3wrf99pX4RPpNvb9BSsBjvRp+V4EBg2zE6IP0AyhE/QQ6wdKB3YHJQt8FFYQWwI8/gICoAddCvsFKAUFCt4ILwbhCEUMVRHZF3wY/RNpExccTiXkIrwcjB5jIUwfWhtsFlgTjRLeDcIEDvvl9BT3dvlF8Lvl9OWG5iff0tg22Zbc1d9Z39fYG9Ob1UDdleJy4Wnc6Nzt5evxjf67Aur2vvIJBc8PgwhMCEIPGBLIEksKjv/CBXwPyg+8Dq8FOvvdA8gMCwZuA9cGNAd0CAMGcAPkC6YT2RNlFEcTixUUH8EfTxorH/gjEiAbHe0aYxeQFtwUVg8wB8f8lfgr/aX6r+0p53nqverH4oTa3drb4M3iV9912hrXN9kt4K/kn+GM22XdBeZS7Hr3HgZGAXPz+vuFDEYNIAsJEM4UshRJDBQCLANLDLISRRK1CNP8Pv0DCDMMzwdUBmMG8QL6AggHwgn1DiQUfxFPDMQMVhUpISgjfhxCGuQayBuIH+IdhhZbFFsTXgyKA2H81/lg/HX7uPFb5c7gruVy6Kfjwd9P3zvdCdpV2c3b3N3G3d3fcOC+2EbVd+Lh9wgIMAVt8ZHuOAanFTcUGhNxEJMPlhTsDSUClgkjFw4WYgpp/HT5CAfXD10JBAIo//T+bQPJBvUFfwlwEPMPlQnmB9MQsSHnKXgenxJdFxchdyW8IwMcbxeMFpUP0AhnBfT+E/+uAqX0guHc4ibuIu4N4+Paudww34rcRtzw3QfcwNyA4u3hudrV277k2uxm/GgLTABE7oT5XhHCGGsUmw+UDmsQjQ7LCmsKqAsmDh8OSQWt+xf9YgawC+IGz/7l/FUA9QTtB0sHiQgxDh8P4QoMDTgXBiHII2UdgRVSF3kg5SQZIBQYSBMgEKEKdgXKAWT87/g0+JzvFeK/4IvoPuiC4ITbHNqY2nzcAt7j3u7dNtxX38Di3d+J39TlDPGKBBsLXPWq7FIF5Bb7FIIRuwy+DHMRGAx4CGAOYQ2LC00NywJZ+bICIg2ICycEVv5oAIAFQwZiCbIOmQ3lCwMPtRD/E00eYiOSGxcVyRnJIesijBsIFmMY5BVACysFTwEv/B/+1v2W72viSOOc6efp7OKH3PjZitjc24rhGd8k2o/cp96A2yTdM+Vh5ifk5vSRC8ABquqp9QkRRBbwD/sNSAtpCmwO/hB2DiAIiwcmEM8OCQBv/f4IeA3FCL4CDv+VAjQKzw3LC/IG1geNEZAXRRaPF9kaDBxOHTsd5ByOHw0fuhkUGDcX6Q7pBWMDKgKV/lv5xfIS7fboaOfN6Tnn3tzQ2QjfiN8K3TXbY9lf3EbgL9863g/e9N5y5nXzzgEDBVX1fO8gBBsURBOsEKsLzwn+DzQO+AjCDV8PmwtfC1wFi/6mBToNZwoCBkQBf//yBjAM3QnOCWsKwAp7EGsTABOPGoQfexlvF2YaSBtXH3wgCxnzE3cPdQdBBhQGO/67+tP4y+3H6P3tVevc4x3iVuCs3ljfR95n3y/gjdoA3Mfjod6a2YDjoOfF5W/0XQXw//Pysfd6CRcT2RADDz8QCw9IDOYLmQ3oDS0OOhFKDr8CRwCYCl8Pegp+BuEGygj2CcILsA7DDuAOfhQFGH4U7xOkGhMgth41GiwZfxuAGpoW0hWIFOoMZARAANP9kPtD+Z30kO0v55XkwuQz47fgeeAx3zXcity23sfdEtzX3hjk0OR64TDgsuOY8FgD6gYF+Vj0SwB8C8EPrBC6DoMMNwwADBYL9QqhDZ8SXBKVBzH/qQZcEPsMlwjyC54M8QnXC5YPXhAaERAX9B3AGVkQJxSUH88h6B30GmgX1RQaFVgVWRIQC2sEVAIK/t71bPPt9NPw3eqW5/zioN+d4dzj5eKt39zbVNzN33neB9z832LkU+NP4DffUudb+xkHufzw8l364AMMCaUOwQ28CQQNXw6GCNAEcQVBDH4VJhCaAhEDdQpCCx8Logt2C+kN9g5SDZMOUxE1FSQb2hn6ES0TMBysHsAboBqUGTEXlBQ8EUgOIwwSCXIFKgC597Txg/H98Afu+Ov75yPhU9/443Dm8+Ke3bHbDN8+4nPgN9824qvj5eGV4O7ijO7g/ooB/far9KT9+QRUCZILkgkpCuoNFQu/BSgGgwjPDBUR/wrdAq0GKwy1C1MMagw/C8kN0Q+6D+UQfhBVEXkW/xZKE8kU0BdLF78WCBdaF+MWlxMnEMENZQgrA7YCgAHM+4/1zvAv7vftauyT6MLlauQs5Rbnd+Ng3XLge+ez5pLjieSZ5M3iS+Ph5t/sTPP196v6M/ps+M78SgYwClwIGQrCDTUMrQmmCo0J3gZ9CkEQXw4HCQ0J3AvRC9oL6Q/hEh0QoA69Ej4TPg5sD1kWhBelFCcVnhWWEuIQexP6FQIUgRCRDo0J6wB7/TkA6AAx/dv2h++D7Afu2usy5urloerU7InpWeKD3cvg9+at6LLnz+YB5w3pDegV5JLnU/Dz8hb1N/2hADz9Lf5oAkgDdwQ/CesOnhHNDdgH+wd6CqQKSw4dE6UQXg1xEEISuA5DDNkOWRQpF5gU+xFzElcSWRLNFDUVZBJWEvQU6BN8D6ANyQ2gCb8CrgHoBBADNfyR9jzzV/FP8KXu9uzE61LqY+qB6hnmteGY453mNeal5f3leOYG5wDmreWu6LnpYOhe7NfzcfiC/CMANAAnAcIFjAkRC0QMAA9BE1UTZQ6mDSMR/hBIEFgSiBLBErYVARZUE3ARnxByEw8XAhMPDqgR2xSzEtgRPRDwDFgO6g9sDLcJNgiABl0I5gc9AUz+Qv0k9gjzzPYU9EnuYe+W75/qaOeE5g/mAObd5IHlR+j75gjljOf/5kzkr+kl8PLtv+uQ733zvfWB+MX7FwAVB6YQHhbJENQKOBBYFXMPlgqpDSQRKxN7E48P6QxVD7QRURHLDsANOxRcG8UXaxFYEccQMQ9VETsRqw4vEUkU+xH3DeMJkAcJCiILLAeFBBEDUv/a/N76H/Y48yLzhvHM77bunuxM7KHsielC58LoUOrL61jskelJ6a/t6u4M7UDt4e3y74X0OfV581z2Mvot/En/L//3+/f+MwU7BrAFAgagBT8ISQvGCCYHkQqODA4NCQ75Cx0LABCSEvgPXQ96EDkQ4xCxEdwQbhATEDwPPQ80DdoIyAi4C9oJeQWfBHgEywF6/9f+p/3R+xH7VPqs9y31EvWO9JLxIO9K7ynwwO9p7s/tze2x7PDrXu3o7W/sPO2H8PLxpfAb7xLw4fMn9j717/XE+Pn5I/sy/YP8NPsD/oIBcwHeABEDNQYyB9EGDAivCUMJoglGDFwNBQ39DSUO3wxZDVIOCA2/CxMN1Q+wEC4OMAxSDT0NuQozCokK8QioCEAJJgZKAssBCgEf/rz8zf2m/o/9CPs++ar4IfcT9d30MvU99Lbz7fNi8s3vme+K8WjyQ/EX8O/wb/PM9Br0SvQJ9gT2bvR59DL1U/Vn98D6aPtz+gv7U/xI/YX+MP8N/8v/awGbAkwD9gPqBKQGngiaCZwJ2AnHCiwL6wl2CL0IdQnSCLMIrAoFDBILewpgC4oLsAo0CoIJHgh3B/0HUAhvB9gFrwS4A+YBFABZ/6v++/0X/mr9X/sk+vL5CPoz+yf8H/v/+fX5pfkf+XH4XfeS92X4Lvfq9dv22PeH+N357PlU+Vj6ofpR+bj5RPuM+7b71PvU+l76Nfsk/Cb9Of52/zYBegEwAE8B2gNvA2QCiwPqA1oDQgR1BBoDbAM8BVAGwAZgBuIFNgdbCE0HAwe3ByIGbwSUBWwGggVuBdYFogXdBaYFoQQKBegFGAWIBIwEKQNBApwCNwGw/84A/gD0/oT+2f59/df8d/0Z/dv80/1r/on+iv7i/Zv96/0m/S38dvxn/I/7rfs1/NX75fty/Wb+6Pz++jv7AfwZ+xX6TfrL+rj7D/1F/fn8vv2I/pD+p/66/un+9f/2APAAwgB7AfsC8ANyAzADOgRTBAsD0AI3A68C3QJYBK4EAAQMBUEHdgf6BbwFRgZhBUYEWAQ+BDYEKQVEBZkEgwWqBi4GmQVcBb4EOgTXAksAB/+2/rL9p/1g/uz9av4oAKn/W/7s/q3+I/3V/EL8ivoG+vL5BPnw+F/5PfkT+kf7BvsX+zT8aPxi/ND8x/uT+p77Dvwt+sH5PftB+/36dPwu/Rj96f61AE0AUQBOAVcBgAHKAY4AHACNAY4B1AAhAj4DWwOkBFsFYwR8BAIFLwQDBGwE8gN9BJ4F1AS3BKoGzQahBaEGkgeCBh8GRwYgBYUEyQRCA1EB8gHvArkBZQB1AIEAEgBu/z/+iP0X/jr+CP3J+0b7xvvY/JT8cvtX/ET+FP7L/Ib8nvyT/Ir8yPtm+qH54PlM+vT5kvm0+lr8qPxx/HX8Ffwk/K782fuk+jb7LPw5/Gr8+fwF/uL/JgGRAZACNQPVAiEDJQOVATsBQgKMAfsAtwJGA3UCtQPaBNkDHgRfBa8EgAS6BRIFDAQTBTkFOgSwBN8EGASrBOsErgPTA1EE8gKXApYD8QIvAtoCygI3Ah4CdgEMATcBSwBt/2T/Zf4D/jL/Zf74/KH+sf8U/u39s/7g/br9Hv7r/E788fyI/Ob75vu2+2X8Y/3W/Oj8YP5k/h3+SP8U//H9xv4k/7X94f39/kn+D/52/7P/N/8/AEMB+gAhAQACJQLaAeQBtgE6ATABlAHiAQMCWAJOA2MEuQQABdIFywXcBOQERAVKBDwDQQMHAzMC5AFTAuUCHgNEA+wDSASRA+wCfwIgAdj/u/8y/8v9OP2W/bL9c/2F/UX+Iv9x/6b/7v/R/6r/Sf/w/d384Pxl/GX7JvsW+yH7ufuC+6n6Ffu/+2H7X/v0+0j8ufzi/JH87fxU/Rb9nP0f/kv9e/3t/q/+KP6l/7EAoQC6AckCiQIPAwgEYwOcAgUD5wIUAvAB9wGjAeEBjwLCAtQCdAN+BEgFOQUSBfsFswbxBYcFIQa/BQQFhgVvBVwEogQyBTcEnwP7A3gDkAIBAh0BZwADACj/wv7c/vv9Z/05/lz+5v2k/kv/C/9U/7X/Wv8S/7P+B/7O/TD9vPsx+3L71/oL+g36IPoH+lj6G/uf+4H7v/vS/CT9p/wG/T/9Vvw1/LD8J/wp/CT9GP0x/bj+o/8vALwBdgKEAs8DRAQ8A4cDhgNVAaUAlwF2AIv/EgGcAYEBqgNWBRMFAgZwB2EHcAdFB9sFhQWxBfID0AJrA7oC9wEMA+QCygH0ArQD7wElAaYBAAEtAG7/mv2O/N38R/xO+0/7bPvb+9P8yvyK/Kz9if4s/tX9Wf2t/Jz86Psv+qn5HvrU+dX5mfq++gX7J/xp/Pr7hfzb/PX7bPtv+976lPoU+y77RvuB/OH9eP5D/3cA8wC+AOUAPgHPAAwANgDAAGkANABhAacCKAMxBNIFsgYbB+IHSgiuB9AGbQbxBXYE2AKhAuMCDAJSAe0BpQIBA8gDZwRaBIEE0ARYBEEDNQI9AfP/Lf7C/Fz88vvR+kf67fq1+1z8O/3b/Sn+yf5f//z+/f1p/QD90/td+r35bfm6+IL45PjV+Cb5uvqk+0H79/t7/T39dvwg/Sv9w/uZ+3H8yfv5+gr8PP1k/RX+g/+TAHcBawIFA24DtwOdA40DkwM+A0kD8gPUA10DXASQBUcFSAVlBo0GEwa4BvkG0QWCBS4GlgWOBOAEQAXHBLEEAAXxBPAE9wSFBCEEywO7Ao0BuwBM/6b9+/w7/NL6ffoD+6H6f/qk+/L7OPuz+2f8cPui+vn6W/r4+MD45Phv+Gb4pPiX+Cn57/m2+bv5g/pJ+rL5Uvp6+qb5OPpT+7/6mfpO/Dj9Bf3b/ez+FP+n/5QAhwBdACEB2QHwAS8CKQNbBNcEFgVcBqkHhgeYB8kIwwiYB94HYggVBz0GCAfUBrAFLQYqB3UGtgV1BsYGrwUWBW4F4gR+AxUDHAPeAXQAZQA0AM7+7v0m/sv9wvxt/JH8D/w4+wr7PPvI+vT54/km+o/55vhE+Z35KvkA+VD5PPki+Wj5MvmX+Kj4BfnM+J/4HPmR+ab59fmR+gX7a/sI/Ir8tvwG/bz9V/6R/vf+xv9sAMgAfgGPAkkD0wPDBKgFJwb2BhoIiwhuCLcIFAnhCIsIXggDCIgHRQchB9YGaAZFBogGYAajBZQFQwYLBvYEgQRjBKEDrwLWAasAnf8G/yj+3Pz2+6r7WPus+iD6Qvp/+h76yPnp+ZL58fjr+IX4Ufcq9973J/cK9q/2b/e19nH2Ovcl9472Avdl97P2jPZ+99b3mfdv+Ob5k/ox+9H8gP5p/2EA4QEuAwAE8AQiBugGMQf4ByMJVgkPCfIJwgrUCS4JHQoxChcJPAnOCQwJ6wgfCv8J3whMCQEKDQktCHwIMQjcBuUFXQVpBCsDKQJMAUEAJP9z/gL+C/3e+3r7Rvse+vX45vi1+In33fb79kf2OPVh9YT1YPTX85L0ffS08wL0f/Qj9GP0T/U89fX09fX89hH3cfeF+H75d/rF+xL9ef5gAG0CBwRZBQsHHQmDCs8KLAsgDHkM+AvWC/ELTwu1Cu0KzQr2CegJhgoaCjcJkQlDCsgJIAk0CeUIBwi/B5kHiAZ/BU4F1QSqA90CagJiAQsACv8N/t/8xvug+lD5M/hP90j2OPVK9GvzyPJd8sDxH/H08ObwrfCr8Mzw7fCD8TXyZfIY8630gPXG9WH3U/kQ+mf7Af6W/5AAIgPKBdkGRwifCrsLEQxRDTQOsA1tDckNTg1aDCEM7QsNC3sKlwpvCvYJ9wlDCkIKPAprCnMKWgpVChwKqwlOCbgItQfEBt8FlARIA0AC8AB9/3/+jf1B/Av73fle+BD3F/bB9EDzQvJn8WHwu+907/bude5h7oXupe7P7gvvb+8E8JPwJ/Ec8lXzfvTL9Yb3d/mB+8j9FgAwAmMEvAagCAAKZwuVDPkMEw1SDfYM4gsqC7YKgQkmCK0HRwdkBiAGngavBqEGcgdeCKMIIgkSCmwKWwq6Cg0LuQplClYK6gkxCb8ITAhWBzkGVAVGBLcCFQHI/1v+Y/x1+hH5nfe+9Sf0B/Oz8V/wsO8f7znu1u0h7gHukO3l7YfudO5t7jPvx+/D73Dw/vEj8wv0/PWK+Jf6yvzr/+sCHgWIB1QKPgxGDXsOaw8jD14O4g3vDDMLpQl4CPMGTAVQBMIDBwNzAn0CzwILA4UDXQQRBY8FYAZfB9UH+weACAgJ+QjCCNgI3winCGwIHwitBz4HpQaiBXsESQO5Adr/8v3h+5P5Rvf89LnyzPAu77Ltouwh7Mvrues57MnsFe207afuL++B70Lw+fBI8fvxTvOE9M/1/PeP+s78a//aAgoGdQj7Cp4NSQ8zED0RoBGMEEAPiQ4JDWoKWgj8BuEEnQKlAR8BAwB//yQAqADlAO0BQwPwA7EEAwbbBg4HsQeRCKUIVAiPCOwItghaCGwIighFCPMH4QedB+sGQwaeBV4EvQJeAcP/bf0v+135Evd39JXyBfES753tJu277E7swOyg7Sbu2u7t743wzvB38UfyxPJa82P0pvUe9+f4Cvug/XMAJQP4BSYJBAw9DlMQEBLJEvYSDBNbEtEQSg+IDe8KbwixBrQEUQLHAP7/8/5F/sP+aP+Y/14A2QHnAqwD5wTzBUoGxAZ8B4YHOgd4B5wHCwetBvIGCAfcBhQHbAdPBxsHKQf1BhYG7ATYA4wCmwBX/jD84Pk199f0AvMQ8S3vOu7g7UXt5exG7ajtvu1L7jbvne/M757wrPFH8hTz0vTn9rz4APsk/k8BKQRwB/AKlg24DzsSQxTWFNoU7RQYFEIShBCqDuYLCQn+BvMEYgJfAF//e/6u/bj9Lf5f/vH+PgBBAbkBrgL5A4UEvASKBTgGHAYkBq0GxwaIBusGkweeB5gHLwizCKoIswjeCGcIdge7BroF0wPRAUYAM/5D+8T4APfK9Dzyl/C377Du0u2v7c7txu3m7UPule7y7rPvyPDM8c7yZfSN9oH4WfoN/VcAKwP+BYYJrQzKDg8RgBOCFGEUqRSmFB4TMhHID6YNoAo/CFsGvwNFAQsA6/4u/VT8vPzg/LL8Zf14/vv+s//+AMgB/QGkAoADxgPgA0IEdQRqBKsELAWGBdAFXQYxB/oHZQixCEIJsAl6CQ4Jsgi/ByoGrgQOA6EAD/4I/Nb5IPfg9E/zmfEH8HDvKu947kju9O4f75zuxe5c7zLvFe8K8AfxjvH68mz1l/e4+dH8ZQDYA3cHAQvdDXkQGxPfFG0VgxVcFXkUwhKXEDMOjgugCJwF6QKjAJj+0fyV++n6lvqF+tf6jPth/DT9H/4L/7z/VQADAX4BtAH1ASUCGAJOAuICIwMvA9cD2wSFBToGTwcTCGEI3ghhCUcJyAg4CDUHrAUSBEUC6v9y/VP7FPl89jD0ZfKl8BvvK+5u7bLsf+yp7HfsL+xA7DrsP+z+7PftwO508D/zvvUr+MH7p//kAoQGmQqaDdsPhhJ0FLEUoBSbFEgTDxE3D+EMXwlABgsEPQHm/bX7lvpL+SD42Pfw9wz4sfiz+Wj6IvtJ/Dz9pP0w/hf/wv8QAGwA9gCSASkCvAJ0A1QEDwXFBdkG8weJCPUIgAmqCWAJIQmtCIwHPwYmBaUDigGo/zb+dvxG+mz4Avdd9Z/zh/K58XnwZu8d77LutO0c7dzs++s968zrrewZ7XHuO/EJ9Lz2kPoR//cCxgZHC3EPVhKwFNMWyRd5F9oWvhVOE0oQuw3hCjAH5AOFAQf/hPwz+6j6zPk9+cj5ifrF+jD7Jvzz/Fj9z/1M/mL+Yf7i/oL/of/E/5wAsgGCAooDAAVIBlYHqgj0CZsK7Ao+CxULJQoVCVAIOAdyBcADnAJUAZ3/Vf6x/br8VPtS+pr5iPhp95n2hPUF9NXy6fFq8IXuHe3v61jqROm96cnqjut27UzxXvX4+J79PQMkCIUMPRENFTIXARl7GgcaGRhLFh8UxBBGDUUK5QZdA/MAcv/A/Tj81fsx/FH8VfzL/Ff9ZP09/VL9RP29/EP8L/wU/Of7ZPyQ/Y7+dP8xAYADVQX/BioJAwvqC9oM9Q3IDXcMmwvMCqcIIgatBFcDQgGt/xr/Wf5w/X79AP7B/UX9T/0h/Tz8VfuH+hT5J/d+9crzavHz7hrtS+sa6dvnjujc6dHqEe148Rv2RPqS/54FVQpfDiQTxhbYF4wYwhkCGSEW3RMpEvYORQv6CM0GtwO3AVYBYQDM/oj+AP9+/rv9pP1K/U78h/sE+076hfkK+Sn5zvl9+nb7Yv2Y/10BdgP2BawH7gipCrYLWAsZC0ILOwpUCBEH5AXlAyECPAEdAJT+wf2o/Vn95PzS/OL8sPwy/Df7xvln+Bz3SvX78ubwMO9S7Tnrield6AjnMOaI5xvqsOsi7gH0OPrt/YcCfQlzDvsQ8RSSGE4YYReKGL8XdxP8D0YOcwvpB6MF1wPKAZUASgDc//7+C/6S/Yz9pfzH+vT5/PmT+N32Q/fn9zP3/PfF+lD8Tv2XABYEWAW2BkoJkgpkCqwK2Qq9CUQIOAcUBoAE6gLjAToBJAD7/sP+ov5j/U78dvw//Nz6+fkK+m753Pez9hn2HPXf8+DypvFG8FzvIe5O7F3rweoe6V3p7+wC7zvvE/QS/PH/kwJpCT0PyxD7E4wYMRi3FX0WhxZoElYOSAzFCdcGsgSsAuAA9/9s/wn/gf4P/RL80vyC/Kn5IfgW+Zr4wfZB9+D4CPlP+uX9GQC+AHEDGQd2COgINwrVCmoKGQoECdgGQQU+BJkCuwAg/9j9nf2b/UX8PvsH/Dz8FPsG+3X7UvqM+WL6Mvqv+E74ffif99320fYb9uf0ZPTD89/x8O8f78XtOOvq6tvtde+E7+rzgPuv/8gC2QkyEEASQxWiGYwZuxYrFiUVvBA3DJIJKweSBGkCCQGcAEEAuv8bABwAIP71/O391/xP+Vj4k/mq+Df3mvif+l37T/0dAQYEagUzB6gJBgtRCr8I6QcYB8kECwJEAFn+Hvxl+zn7eflR+Nr56vqN+eX4DvpR+nX5e/nw+Yb5+/hE+Z75D/lg+Mb4L/ko+MP24fV+9LTy3/B27tHtpvCS8nnyzPYB/54DpQZsDQkTTRTwFlYaXhgrFAoTghHODDAIUQWEA3sCRAFjACQBogEkAQoCeQKg/5n91P4o/pv6r/l++9f7mPts/dj/NAG1AhwF/gbQBmsFJgU+BegCk/9b/qX9cfvR+Zr52fja90n4Mvno+FL4FvlO+hL6FfmO+UD79PvA++D8v/7p/r7+WAAhAXP/e/7+/qX9HPp59zX2FPSN8cDxXPRW9qn49v0oBGIIGwzaEHgUVRVYFYkVthPzD14NnAtOCC4FogT8BCMEDAOGA70EOQSLAvcBQQH//mz9Ov1s/I37Svz6/Yf/yQAYAuADRgU0BYsE5gMfAjv/qvx7+uP3ePU29IDzpvKx8q3z1fO18zz1Bvfy9mL2Q/fb+I754/nQ+7r+ywCNA6sH2AlPCm8MbQ4mDVoKPAhNBkwDY//h/Ej8dfum+8X+jAGTAocFAAq1Cx4LhAtLDFALxQk+CWEIKwewB/gINAluCTcK3grsCmMJ8wZhBWIDLQAM/vf8ePu8+nP7MfxD/DL8pvwM/cr7GfnY9mT1fvNZ8QDxu/EF8XXx6fTP9Y/zgvSH9qP0uPLN8gryy/EW82z01veh/UoCHAddDuoTyxVbGDkbXxnUFOERug1tB9oCIP8X+5r5d/lV+R37Jvzi+9z+agH8/74A9AKDAawBvgT6BMEFDwp7DEwNSQ88D3oNigx7CYIEPQJMAV/+6vsg/Cv9Ov6z/68AUgHIAhAE5wMwA4cC3AG6AYwBYQBc/0L/F/9H/2oABwCE/Rn9P/+P/m36Hfgi+T/68PiV9vj2fPnx+bP5fPuW/N784v42AAIABgHJAVoB1AFzAc7/IQDx/+j8GvwV/vf97vyQ/eL+xgHoBN4DSwKFBbYHkwQlAlwC8gFbApED8wKpAy0HAAmmCdsLngwuC9YKPQt+CmYIgwWoBOkGogeTBFMCzQNiBQ4DIv9R/gj/UP35+tr5Gfiv9r/1vPEf7lLv8+2l6B3qeu6D61Dqse6C6hzgdd3S3aHYJtH1z9bfAfid//EDXCKJQIg+6DYJOzgyChsJCaz4XORB1fLR+dn04Efd2uPX/l8LXv8g/3wMtgo2AgUFQQi/Bx8O5xjcHjYdgRiIGYoZBAkL9Kft8eli33Dc3uKY6KXyhQO8D7ET+BXIGVsbVRNWBTkA/wJBABL8yP+uBGEG9giYCCkCffxr+uX4Avfj9Mr2rAHhDW8S8hUDHj4j8iFWHfUUMgrXAlX+x/eq8G7u3/Ja+hr+NfwF/NoBXgWEAAT7H/sQ/Sf/fwHS/878TwBZBJT+RvRh7jXsLuq35Brdit2E5n7qYejs6cPsgOyx7FnrFOg27fb6dQZiEMQdYSqsMng0gCvKHLYQjAMA8mXjGtwd21Tgu+ee7Xb2YgOgDDEPTg8UD3wOkA2KC2kJ1QmEDI4O+A2MClMFff9k+Tfz7u2o63HudvXV/f4Fcg3hE0UZYRuuF3ERQg1SCV0Dif4Y/Yb9CP+3AVAETgUGBb8FXAfJBYEBlAFeBngHqgOTAv0EdANr/HD2CPSt8Jjrweku60rrqett8LH19/WO9CT2MvZ+7o/jDt5C3BHYdNZF4OnxTgKsEYojDjNsOAE0ZitFH2ENXfqV7Q3mD+CH393nTvIm+Aj9ZQXyC6wK1gZ6CJkMmwz8C68QRRbPFZcRFw5qCI79svJw7W/rFuqy7Xv4JgTwC8ASvRnJGxkXKxFdDd8ICQNVAPwByQMoBFkFrgZaBaECZwGDAG7+Tv6UAlkH7QgsCkUNmw3zB6IAbPvd9czumepw68Lttu+981f5F/yP+0H7p/qj9knxgu7Q62jlPd9+3ozfu93K3hHqs/qmB6ISeiFeL84yeSyAI9sYCQqN+t7vWuk75afmce749VL5k/3ZBQ8MrgsgChkNShHtERERrhGlERIPnQsxB3v/k/Y48rTywvI78m33KQOKDZQR/hKyFRsXbRNyDAMHwQTLA3oC+wBtAAgBWwFXABj/If9sAFsCAAVBCPMKVwz6DIYMTQmRA//9ofkL9V3wJ+4J72vw6PC08e7y/PLv8Ubxy/Ca7wLv1u+17g3pK+OJ4fPgXd7k31TsS/8MD8Qa9id2M6wzWCh6GcwKv/sW7m7louL64+PpOPSn/Hv/wALGCV4OIQ2pCwwPvhMTFCUSjhGGDgwHLgDD+szyReus6yLzi/ma/VAGaRPoGsAZ9hbSFdMStgz2BoUDGgH7/64AbwBL/kD9Z/7i/0IAJgF5BQgLuw2NDyES7BGHDfwGRQDq+bnyteza6wnuuu8r8pr1sPc59930P/L+75Du5O7y71vxaPP68pXuV+gN4jbeUN2238vqB/3WDf4coCq/MUUx8SbfE5oCTvW56IThdOBt5JDv7/o0AbsGvgqTDLkOxQ1ODL8QKxV/FDwSHQ8lCjECTPct7x7sjuvE74X5+wPnDMcU1xo/HKYXLhFFCywEEP5i+7P6mvtG/eP+EgGHAVYAeQF8AyAFVAkLDmwQvhH3Ee0QtAxjAg346PP/8BHs2+kf7oL2Ivzn/Q8BaANXAEj6lvKt6hbnQ+fX53/nXucJ60ntiuWb3IbcauCH52f1DQc/GuUqITP/MiEp8xZlBVb0xeKK24DfbeUl7uD6nwVfC14Nbg4rDwANqgvzEJMWiRS0Dz8NIQhE/jf1Uu+87Ejv3vXI/jcIyg46FKgYthW5DmILNAjrAsD+WPwa/cr+j/z2+eX52fkj+xj+XQGjB1IQnRafGKEXchV5EFQHv/6w+W72x/QI9Rz3ZvkH+d730PZY8y/xM/Ju8THw9PFH9Nbz9e6D6Q/oauZy4q3fuN764A/mA+vh8xUDdhMoIF4lAyZBJoQepw6hAbn2A+1l6vfrxe6b8/r4BQHSByAHMglAEjUWNxWBFqUX5xV4EDoIOQEP+/D0tPL+8yr2ZPsIBOUKBQ4cETIUzhOCENYLXgd2BQ0D6f4v/jb/O/4H/jP+FP72/z4BKgKEBtcKaAxIDA4JNgXkAy4B/vv2+Dr54/kQ+en30PeH99H1wfM58+3zBvQL9MfzAvEM7kbtFuzf6VzndORV43rj4eKM5PvrGPqXCyoZZSGBJlcmPCAFFTIGDPoj8y7vU+647430wv28AnwBWAO9CGINFxG8EswUcBiDF4cR6gmOABT5Hvac9DP1SPr1AeYJQBCcEksReA+KDZsJ+QW9BEcEcgW6BsgDPgCK/93++f0O/CH7tAGQCHQGAQTVBZIFyALl/tr7af0vANsAzQAw/jj6Wviv9O/uQ+7r8fLyfvHP8TPziPKt70nsJuoe6jPrX+wj7KfqQ+yZ8H3zN/lCBRMRXhiEHDgeEhyWE3AHF/1x9Lfueu/W8zr4Kv2hAwwLcw68DJoNexHMEQEPJgyOCloJIQTS/Kn5c/m6+o/+UgL7BcsL7RAHEvEPVg1WC8cIPgXcARsAbwBKAZUCCATIA2UFmAm8CJQEuAMkA90BqwDI/ff9gAG+AlUEEgV7AQUBSQOhAHj8FfoD+Rz5FvU47mnsQu0J7Obp3uhc6+vu8e5A7ejrr+vx7FLskOpq68jv/vkoBoYNJRXDHeIe5hjbDq8DhPxa9RnulO/V9Rr7GAKaBxYLsA8AEU0QvRFgERYQgQ/pC3QH5AJ1/Fr5oPmB+X78VQJgCP0PvhWcF8YXmROgDIsHkAEW/E/7g/up/IUAeAKjA78F4APnAWcFvghdCfQIdAd9B1QF1/vT9A/1CfRr8wb4Bf4pBEEHbwKD+2z3ufN/787pu+bi7AL0bPPN8ur1tvZ49HnyVvJB82bzlvMd8yzwUO9T8+z3Bfx8AtsLihTpFmETuA4XCdwCKv6h+s36jf9GA+cF+ggPCOgFLAgKC7AMuQ/8EycZ4BrOFd8Q+AzHBGv+GP3p+3j+pAU2Cv8L2AxJDZMO9wtjBrUF/AXhAwIEPwKz/Nz42/Q88HztjOtE71T4Hv1Z/7YBUgAk/hH5KO4z6O3nDuXi4hniZuI158PnCeID4kDmPetf9Ab9JgZWEicX+xT7EkUM2gPe/5v6RvXB9L32BvvN/en8KAFnCIoJWgoJD7oSIhRhEtINeAgeAfT6IfkE+NH5lAFJCRYOGxEQEm0SBhFEDWcLsgrSCUULIgsXB/8DJwIcAXYCvQMGBvELsRBVEdkPvw3fDIcKTwPH/bH+iAAfADv/Tf6n/dn9MP7Z/I75c/gP+8D69/Tx8Vr1VPe/84vw3vAJ8WXvM+0/6r7nxOml7tnt/Ohw7GD2EPk89r35jAL5BhgGfweECoUHUQNzBKUCy/z1/WcEnAaKBMoEJQtVEG0NiApCDH8Mjwv+CZ4FiASyCIkLAgzRC6sMLRCoEJ8LvQhlCl4MPwxLCekGxwf+BmcC5P67/v0AmATKBk0GwwU1BjoEnf3X9azy6vR191b4KvuE/5sAYfxb9D7uze137oPu8/G49uX3bvS+7tLqP+eY48Tmve1p8M3z4vkB/Pr55fa/9or6M/x3/rYFjQnrCRsMFQpGBFIAsP37/rACLgWjC2cSPBJgEJwNNwkJCIsGIwWdCdUNOQ+lEPUN4wlhCDcGvwY7CgIM6g+gE0ERTA3oB9IAQf5j/W/8KgAbBI4E5ANwATv/Kv1m+Cb3afpg+4/9ZQIvAu789/dv9dvzX/Dx7jPyuvKv7/zuc+4k7ATsqO/19MT4dPr5+jb4i/JG7sbsWe6l8h33PvznAiIH4wWBAj4C+gIAABj/rATUB2MFLwaGC88MJgivBvAK1gq2BjcJcQ5nDX8K9ArgC6MKIAqFDH0MKgmkCjwOkguCCCULwQxRCKwDrAWACekHEgdvC0sMNQf4AmMAAPyu9kL1zPfg+Ej65v8XAwEA2vzz+3b5yPTb8275Hf1Z+uP2K/Nk7frpQuqI6+PsG/At9tr3WfIk8iX5zPn78ljve/OE98Hx8etX8sn5JvpB/GkDhwsRD0cNhg39DA8HvQW8B8MDhwFJBeYHIQZqAcYCHwvODI4LHhBtEK8MsQxqC98HiQReA6YI5AtmCeMMbhGADjcL3AcjBFEDMwAD/nIAmP4N+9L7H/yo/M79vP9HB8cKxwNr/07+0/f27yHr2+pX7mTxPfa6+7f8u//nBKUBYPon+MX2mfFC7HLr/ute6XrpXu797ijtxPOP/kkAevsN/aIC0QAB+736Cv96AbL/dv4DAcUDPwVsBEwBRgQHDeIP0gwbCogJSAorBoD/mQDwBEsGAwjoCMgJ8gtHCxIMpw6QC10Kiw/5EPgNbAoYCCUJmAahAFIBXAPwATYC9f/P+rz44fZv9vH5c/3IAvcHgQf5BpAFpv1R9gjyyu0k7qTyCfdK+Q/2dfIB8zvwe+wU8a35u/9BAtYBcwCX+mbv1Og86fPquu2o8ODy+PZJ+279u/04/eT/zQWwCd0KTAlFBB0AS/65+8X5YP1KB8MO5wxNCqINNQ+1CjoFAQS4BuwHTAfNB/gG1QWKBrwFlgYODMYPUBDTD4AOpw0oCosFrwZ6B6MEBgY6CBIGHwId/YH7rfvJ9IHuL/Gg997+jAAx/M7/JAgsCCMDG/45/Wr/Sfmc8Pjvfe7O67ftL+4q7vPxHPkdAq0Cvv1dA80Gwfj26UfmTeYP5Kzj2+yp9fH0X/znC2sLiwPzC/YZJxWRAi7+Hgd+AbLzn/ZTAEwB+AKKCzkQQgzSDIUU4BFKCMgKzA8VB738rv+7Bd4A3f0WCt0SFw3yCqAQFxCuCMMFKAleBvr9HwDyBegATfxP/3AAkPxo94z2e/hr99P6ygKcAs//UwC4/Ar5j/k/+u77ev0IAMUDyP2B8oHuEOuV5+Tp2ur86yfz7PrN/9X+nfpq/Jr9f/kw+fT3XfOD9en3ePPq8sf7NQWEAsT6DgWYFqMS8QRyA74GMwWlAsQEWQjlBYED/ARm/jz1wfobB5gMgw5LEp0WhhWrDo8Kkwn8Bx0JHwl4A5YAIQM2BQIHoglFDGoNzQpCCBMHZgFI+5P67PkT+Lr3Wff190v5+/mo/Hn/LAF6BOYEPQJIA1kD0fxZ9BPvpu9W8JLq1OcZ7vP0Uvl++736sPlW99H0lvSP8E7sW/Jt+nr5I/SY8zr6+/2m+oj9NwaNBmkCTgMiBjgFRwGEAj4J8gnkBnYJPAuUBgEBKv8eAqcF5gQqAuAAJARMDLUPAAsUCigRtxU8EawJsAfkCd4IRQVuBKwFeAbYBvgFcQRCBS8HowatA9v/yfwy+lr2N/UG+Uz7pfvi/lQCWAIt/kf5R/u4AKYBqwB5/bf2BvJu7sbqXeq96uPt0fWo+7L/cwEi/Y77ufuz8grpZuh67fnxIO8w7o/43v7Z/SoC7wiWEOsXmxTkCg8EpQFXAqn7zPMq/iAL7wcEArcBKQX0CgQPkBOOE+AL0Q00EzMHZ/u7AbwMhQ5OB9QFjw25C0AEnwYrCVMIVwrWCRkGsQImAi4FrwAs92f5Lf/T/LP54veq9y77//23/yP/cvsY/aoAif3Z++L+YwDZAC7+rPQC6rbnF++n8rzrjuq79ID5bvQH8UP0YPpS/7oBvv/w+Y/4Iv11/Ef2nvfD/7YCvQFvBV8L0QxlCu8IGQolC1cLUQyHCxsHagKOAB4CVQNMAY4C6QkiDwoP2A4sEloU1w6ICTIMEA3FCRoKHwm1AsX+5gKlCkcMKAprDewNmgUaAGoAJv+2+kP3CPhs9xL1Gvrg/vv7jf7RBsoHvAG7/Cf/hwLN/H33SvdX86/w/fI282zxNPAV8/j3A/Ux8er08fcQ+oX77/id+vD9Lvwp/SH+E/zZ/hAC8gIvBDkD0wXpCDID/QLzDDwQzAptBeUH7g2hCN8BFgaXB7MGFQpsCPQFsQk+DkoQvwoFBfYLvBCICgwItwqiDAkMewgUCRkMowtEDdAMvAXoAdoB1wGnAYv9VvxxAbsAOfvK+MT3M/kS+0D5u/iO+zz/VQK+ATj/PP5e/UP8ovl49GjwKe7l7ETtuOxA697sJPKL+NX7Kvpk+Uj+bwOzAvH/OP+Z/Xf8Dv77/dT+rgXPC4YKwAOU/kAAJwQPCOMOLhGyCiIEVQL9AwYGQAgeDXsNpwfWBkEJLgqiDbsPGxB7Ec0N5Ak9C3MKJgm0CdYHowXoAuQBXgYyB2oE7AXhBXEC8P3d+J/50/p99/T4Vflk9N/18/nn/HgD/AblB1wIggGy+Vr16u/D7Czqsucz6eDmJuS66cvuHfQ+/bkAIf92+r313vpS/577OP1Q//76rPr9/dABigeyCxgO7ArEAkID9wlZDYQQJxADC+4HXQakB+8JKwffB1MNUww1CQEJGwn3DEQREg8rCosH/ghgDLMMbwsyC+sK4gmfBV//Qf13/yUC/AG+/Yj6Y/vx+xz7CPts+jP6fv22/gb4KfO199b77fh99OL0/fki+2v2RPRu85/xGfNX8kntku0p87b1kfKO8IT0xPSU8X33sP1E/Pn9vAHqAjYExgQZCLELmwm5CvULZQUoBRALognMBsMHrwkvClwH6gfJCgsKqg7nEy4PRgxODFEJewp4C+kIzQjSB6gHGAcQADABKgwCDlkKmwhIBToEbwVMBZEBl/ri+1cAHPhm8e70CvWJ9AH4Qvrg+crzNvDc9nf5hfbA9/X2kPTy9B3yb+0U7NbvkPUm8kPpfehX7ob3AP/n/E76hP3B/xwCngNaAl4GeA3cDuMKAwRGAdgH5Q7+DqgK3gaDBkwHEAgACk4LOw3UD28NVAhIB0gK+Q77EEANmwh9BooFTAcBDFgO1gzkC9QKoQZlA7IDegRWBHcBpPyg+nr5mfZB9r35Uv5XALX8X/b38RHyqvXk9LDuyOqe6TXpkug/53brmvF075vszO3j7IPvvveG/Nf7x/jp+D79/f7pABsF4QSyBCcHvAQgAHL/MARPCrsHCALtAnYCqQF+BUAFLgUeCwoMigfxBKIE7AdZDPkN2wt8BcAC6QaPCI0H7AfZCCMMdQ1aCsUJFwuaDd0Q/AuVBeUHCwg4BD0FjwaGBQ4EZwDd/DP7D/wx/4L92Pjt+Er3VvIk8/z0ePGH8MT0CfVH71zsnO4A7n7pzOfO5+fkC+Mg5/HtYvP999P80QHcBVkIbAv1Dc8MIAvnCckFDQIeASn/ofsU+TL6RP4w/+r8Ff3sADQHhgu4CvQIgAd2BzwMjw1KB3QFAQlrB8YBkP+yAecDoATPBQEHsgfUBxIHPQgACuoJzQp/CEcDIAVDB1cDaAJEAWH+wwGmBCgFwwjhB6sExwajCD4JYggjBf8EeQEW+N70cvTZ8of0+/Cc6YXpi+t07A7tEuvQ61fs2efF5wbp9eTh5a7rN/CI+Y8F9ApQCpIJuAvZDgwRuBBuC+MF3QIr/lj7YftU+YL6mv15+ZD1Ffn6/gIFyQeuBWcGTwurDLMIjAWhBvMH8AZ9A+39l/3nATn/APzuAd8FHwUGB24FZf+u/4EGiQqcB18DWgIsAC3+EQFwAbL9+v9aBMoA+/vW/mIFrQg3B/ED2wGNAC8AuAFWASz/YQIxBhoAN/j0+V3/XP+h+cbz5vKr8/XxU/Hn8fnvlu7L7xzvTux/6j3oveVo5b/mDO8aAFIJTgbZB7gMWQ1eE5QauBapEBkNPATF+lr6MgGZA1D7JfRF9RX35fw4CR4OswtwDqsRMQ7lClYMng3SCywJ5gUDAdj8ffsd/hsDLQNj/r/8R/0+/osCbQNd/nX+4wLWAUX/bQCYAJn+4Pw/+h/4Kfj89jz3IPw+/Hb3kPlh/BD6o/8RCswJhAO6AHAAYABZ/+39+fo595b5wvuv9BHx8fUp+ZP7Vvs69t/2afsX/Bb7dfaR9Cb7u/rE9Bn3jfcC9Pf14/dT+yYDCgZxB2cKWgjtCKEO4g0sCgwMbg6kC1QGJgQzBf0EygJiAJH+IP2u/igHpA0hCXgFswkfDGYKUQlzC2gN9ghFBQoGlwFT/pkBWgBy/eL7HPiQ+hb9B/jk+U785PON8Nvy0vE88+Hy8+x65yPjHeNi5YfiD97j2Q3XktTg0mPxrCmCLav/6PS2DQUfBSupK2QYAgj8BOwAi/Oj6/L6WQuX+/reXtuw6+H6qQnJEvAH1P3gCzsZfhRIE5wbzRtsDOD6Tfgh/lQBCwWf/zvwQe7B9qT6EQGvByAHAAYrBb4EIgjCDB0R4g7eAlX6cfkS+08AOQKB/RD6e/aN8333hf2VAhoGQgP6/c/8vAGrCt8LWgTQAd0CfwF2AQEA9Pxe/vD+BPvw+HP5lftLAMIBCv3u+U/81//kA6YIIAn9Ba4EAgSaA2MGygelA2oAjgKtA2YAIgCkA34BCv0uAJ0Dlf/c/A//ev6z/cIDjwenAvQB1wZDA039WACZAZP75fnZ/Pv50fQc+Nv9svxX/QUDqAKi/gn/CQF0AxQFrQI+/2X8lPtT/jn9B/pV/yQFiQJK/0v+nf49Ay4HlgU/AxYBivwh++D/4AIMAan+yPyS/Xb/N/3c/gkGGwV0AFb+d/h2+oUFZQSq/swAh/+L/T3/jv2w/uoBdP7d/LQAogEf/rz6Bv6FAh//v/6oBFYFHwRsBBYEcQTBAQsHsxrwGwAFj/urA20LMRBXDFIAmPjJ+SL+W/uv9fj7GwVaA4T+Sfum+mIBBggJB3IDMgBQ/OP4Z/W68GjvSvKI7sTkL+HO4f3lAuyQ5J3dS+by5LXokhDpJ6EPmf5CCB0SiRdfGh4V/gXV+a/9eP2v77/vyviy8bjlCeTT6/n1afn8/TUFEgKGAegLdQ65C3cOCQ9CC/UE8v/ZAj0FygGQ/sb3EvHF9d37M/k3+KL9r//6/dgBXAYPBfcIehDYDLYEbAJ8AicD1wEk/cj46fS29En5xPs4/roCkgQfBdUCaP/cAuMFQwb0CS4Fk/zxALgDxP4Q/wD+EvsU/uz9Tvrb+e35FPwN/ev5n/xEA+wFPQbeAWX9igAYAwAE+QafAnv7o/zu/BX6CP6FAmT+PPm2+kr+9/7I/uYA1gQrBX3/Qf0ZAsIDYQJABIsEGgOUA7QB4//iAYkAefxg/N37sPmE++j83/n++dH9Uf6k/nEBBAECAAsDWAS1Ar8BWP8b/nMChwWkAfT7mPrV/Y8ASv8v/ez84/0pANYBPAGxAVQDNQIrAdMCGwL5/wQCPAT0AkkBy/5N/UkBQwSDAV4AZwFRAN4AlAKBAYABWgL3AAgCzQO/AaUCQgWZAggCJQWsBdMJpQ8sDLIHJwuSDq0MjwhhB4QIzgT0/2AA7/45+0n8dvwk9zvzLvUo+bf5d/gU+Bb10PGB88T16PN+733tie7D6q/lGucA5Xjh/+Xn6cL9GSYDI+7yYe7kFJskNyMcIAEL+vaa+zQFpv+d9FH22P2r8qHeGOK79ZP/wAJAAxj4q/AdAaYVsRZND5UMMAsqCAEF/AUqChsJKwSo/l/0oO8I+kIDwwBl++T32PcF/d8DWwg4CEAG9Ab7BfoB5gJdCGoKLQZx/ib5nvkE/soB9f+P+4b7nP3n/t4ArwI5BdAHMAYgA9oClQTVBwQJ3gT4/l77NPwq/5X+I/wF+/n6CP4cAGD9R/60AwEFfgMrA5MDUAScBLwFzAYQBHAAEP9L/0IBJAGq/v/+B//A/TP/Tf8W/6cC2AJCAAAC5gOIBCUGVAUIBCUFaAWUBJIDiwL3AtAC5wCP/9z/HALVAvH/sv8BAqYBzwKBBRIE1wJnBLsEPwaLCbAIZgVPBv4IhAc4BcoG6QdiBi0GxQdsCugMRwusBtoDVwX6CWwJ7AEA/sb9Xfwc/kz/5PoW+cf6lvkh+OP4Zvrs+8/7Xvn+9MXyovf0+3r3AfEQ7v/r4OmT6AvpGurS6ePp2u0x/NcPHRF7AmMCGA9KFeIYnRnoDzMG9QTEBL8AL/0q/ij/XPqN9Nn0W/rKAIUFNQbYAbj+tgN2C+wN0wuaCH8GRAU2BOwE3QTRAiYDZgLF/Q79YAH2BKoF5QOEA34E0QOaBd8IcwjTB4EHFgXVAtcBpQQjCIIEwAA+AqgCDwQHBykHlAa7BG4EPAlBCooH6gYvBdAFRQa4/4H8Y/09/CL9oPid8tj3evjK9Tv9pvmi78n1AvjF8QnzUvJo8/r6hvjE9Cb47fWt9m3+Gv4E+xv9IAAmBdgHAAWMBRAIVgamBv4IhQX1AecE4AUaAjoBYgIXAzYFygW9BL8EUASbBSAI4gYDBkoIwAkuCowIoQZ9CJEIJQbpBiUHxwZvCAYGOgGQAK0CWwajB9wDbgJoAxQBLQANAr0Ae/6d/2z/gfrL92/7cv7Z+1j12O+c8Qj37PcS9vzy8++O8ov07e8i7nnxN/Ty9OPwhex68CP4Ff5NAXf+lPv+/+oF6Qg2Cm4Jogf5BdoECQXtBNUEgQUJAw3+gPxN/40DGQbZBJgBs/++AfgGWgnRBtIEigX1BQAFeQRDBboFAwXBA6gBwgDaA6AHqgeCBEoBqwHdBBQGTQVoBNwCswLxAx0DsALsBM0EXwHO//YAygGNASMBZf98/Aj9zADbAL79EP4ZAMD9yPiF96b5yPlq+Iv4Nvfg8/jzp/cX+kL51vXQ8pjzAPeR+Yb6OPrP+Lj4k/vG/Wv9Ff7R/+H/bP+w/l/96f18/6cArQJgAk3+2Pzn/ygD3ASiBCQDtwK3AxsFEwZjBt8GKQeQBhkGbwaEBxsI2QYHBpgGegY4B2sILQavA0wEtQOmASICXQNUAtkAnwBAACsAPQL2Aqr/0v1bANECCgIj/7v98v21+z/5rvnJ+Ib3oPms+mX5k/nc+rz80P3k+8v6Zfxs/MX6Afpi+fn30vYk91r30/Xa9ZH5OP3B/Qf8pfqG+wH+pwBdAnoB4f3X+1kApQaGBX4B/gGTAUIABAXKCHoE6gBHBF0IXgeSBKoEKwQNAiAFAwrlBvMA5gHzBD0C1v45AkAHrQYdBEoEZAXpBYIHnAn1BxkENgU/CAgFh//N/l8BjQIjAJn8h/pp+sb+WgN7/zL5EPmN+zD/jAJUAKn8PPz7+6f8WP5E/cD78/ul+zf87/1F/cL7Kf0h/yT+Ffta+P34Sf1A/qH5N/eD+I76af/BArv/O/6WATUDfQKvAc4ABQFwAckAQv9E/Hv7PQBWBK0DKAPxA9EC7wGHBCQHpgW1AlICmgJiAGT+QQCiAlkCnAO9BnIFlgHAAV0DMALRATEEaQMz/pL9XwOEBWgCMgE3Ae//WwB3ASj/WvxL/voBGAHv/UX+8f/G/hT92v3H/uz8Xvvj/YMAjv+7/tD/IQDP/wYAKP/E+9X4efqa/Yj8Uvpb/EMAVwHE/jH7s/om/nUB4wB3/Qz7E/w7/9r/Svza+kX/1gJtAan/HABbAbgCCQMsAYD+yv2W/0AA9P0E/Uf/NQDu/m//igG7AgcEAQVdAg/+CP6QAokFxQLL/R/8UP0X/xwBPwFb/0P/nwBoAGv/HP9//9oAkALpAuEAD/51/Z7+nf53/QL9G/11/B/8BP60/93+b/77/oL+nf/HAooDJgED/iH82/wU/kr+U//K/wH++vw2/fn87v0jAHwBfgLyAej9//qE/F3+pv+pAUsAQPy5++f82/xt/vP/G/+o/uP96/yv/8YCkAIkAnb/Jfqx+pT/GAAZ/zwA6f/c/dz7UfvQ/tgCogIFAUP/w/zF/fMASACB/vv+KP4P/OP72/xK/mkA7AAn//v9xP5cAOkBtgJhAoQBIwBI/kT9mv3u/ikBiAIIAd/9zftl/MP+NACy/z/+LP14/Sj+dP4dANgBcQCI/sn+Qf74/Bz/AANjAvD9ePx4/tn+T/4IAFEBd/9x/Vv+PwAeAGcAgQPHA1z+R/sA/g8AQwDQAfcAffuA+Fv84AFXA4ABvgBbAWAARACAA8QEnAJTAtUCbADM/aL9tf5b/5f/lQCYAMn9Hf3JAWUF/QOJAkwD7AFX/h3+1QBbAd3/gP4D/TP8CP2o/xoDuwOhAXYBrAJTApcBGQF9AHsAeQCv/2f+Qv1p/dD+KABEAGP+l/yB/cv/dgGsAWgAAgDfAIEBjgIOAhT/Ev+uAWMBEAAaAOb/NQACAfcAbAD//on+dQG1A/gBPf/2/YH+iADXAYUA/P0w/kEBsAG1/lT9MP5k/wYBvgGCAFj/SwAcA7IE1gLd/77+df8qAKH/zP5j/o3+agBLAS/+VvzB/nIAVAFVA18CK/9j/+wAhf88/hsASgKMAksCiwGL/7j+9wAMBD4EmgBH/n8BawQ1AmUAVQFKAe0BggS7AwP/U/3CAc4GGgb1ATMB8wKtAr0C4gRSBBABjwCtAb0AlgBPA9IELwPXAYEClQLlAEEAJQKcAzACAAAEAG0BIQL2Ak4E0wMEAhoCSQPXArsB8gEgAy8EOgSkAqAAHgAqATUDjQVtBVECpQADAikDFwNIA9oDugNZAlsBDAJdAu8BRgMGBUAE3AIXAxQDFQKUAvsDDANmAf4BqALFAbUAFwB+AbEEJAXOAvcBbgIfA78E/wSMAtYAsQGFAjgBWv95/0UBzgJWA8ACfAEVAR0CQANpA8kC8QGGAR8CyQK/Ab7/N/+sAKQCggP1AnACpAKeApACEQMgA7EC6gIjA10CVgGYAAkARgCkAcsCHwKVAOEAygImA3EBVwDrAN4BXgJQAkwBFwBjAOcBJgNwAwgCHQDNANsC4QJmAsgCvAE0AFsBtwOgAzkBPQAEAhgD6QExAZUBaQHXAKkAtgDHABABEQLpAgkC2ACXAcMCawIQAscC4QLNASYBeQHXAaIBRwGiAQ8CXwHaAGoBdQH/AAMBhQATAOIA9gC8/5f/ZQDQAIcBVAITAn0BiQHYAQ4C+gFkAe0AJAFAAagAAACc/1n/4P8sAVgBp/80/n/+if8VANX/Vv/v/3gBBQI3ATAAR/8i/5YAAAJPAfT/YwCBAegAbf/t/tT+uP7M/50BAgKtAJ7/+P9xAOH/WP8AAEsBJwLqAcQAkP/Y/iv/ywBsAsICTQL+Ae4BgAFhAHr/i/9JAEcBzAFGAWsABgAfAG0AdwB4ABQB+gGNAksCHgFfAKUA0gD+AHwBZQFQARgCUQJeAe8AiAGNAagAgwADAXIAdv9O/13/Xv9K/+X+CP+b/5P/kf/E/1//OP+1/8r/kv96/wr/ov47/yoA4/8i/5L/6P/f/jn+qf4+/97/9v85/8X+qf6U/vn+Uv81/0//r////97/D/+D/tT+R/+O/8r/9v8oAB4AqP8r/zj/8/95ADMAAwDQ//f+q/5L/53/kf9H/63+x/6c/xUAIQC6/9T+gf4w/6H/QP8K/xT/tP6+/vP+hv1k/P39aP/N/nn+eP7s/R3+hP7Y/Wv96v0p/hH+Ev6n/R39hf0T/qn9U/1v/SD9H/2B/Sz9C/2A/Tb97Pxq/Wf9M/2v/aL9zvyL/ML8h/xl/Bf9qP1j/TP9Qv0h/WD90/3Z/ev98f2W/Y/9sf1r/Xn9FP5T/tf9O/03/Yj9jf2I/Zz9if2R/br9qP0q/Xz8lfxs/Yv9Iv1g/dL93f2U/Sj9S/3D/bv9v/3z/aL9eP33/XH+tf6g/gr+tf30/Tz+cf7O/vT+Yv63/cP93P2l/fX9Xf4P/ur9LP7x/XH9Zf3F/Qf+zP15/WP9S/1m/c792f2H/Xz90v0u/gD+Wv2D/d/+o/9l/oT8P/xN/e39Iv52/hH+DP3W/IX9D/4l/tf9W/1s/T3+t/42/o/9Tf0e/Vr9UP7i/kn+fv1y/bj9n/1p/Xb9Xf0l/X39+P3p/cH9dv3G/IP80fwD/Wz9Bv79/Yn9PP0J/Qz9S/2Q/cX9tv2V/c79y/0t/d38If05/Rb9R/2s/bD9gP2j/cz9r/25/e397P3O/c/9DP4w/tX9jP2j/Y39lP37/fX92P1a/oP+5v2T/bn9uP22/Qf+Nv72/cD9nv0+/Tf9wf0K/gv+Hv7n/Zz90f0t/jD+8f3W/Qv+F/7H/bj9Hf5f/if+4/0E/j7+Ov4e/vj98v0n/if+FP4//jP+J/5w/jD+uP0c/pb+hP5j/hr+6v1N/oL+Vv52/n3+K/5A/qD+iP5O/nz+j/5R/nP+yv6i/m7+fP5E/vb9Hf57/qr+lv6F/r/+2v6X/nH+j/6+/v/+Kv8O/9X+u/6//rD+nP7M/gn/+v7Q/r7+sf65/vX+KP8A/8T+2/7q/r3+tP60/oz+jP6b/nz+bf6F/qr+xf6p/nz+cP50/pb+zv7q/uz+vf51/mj+Yf5f/r/+9v61/rb+6P7F/rL+1f7m/hX/Tf8o/+z+8v4Q/yL/E//n/gb/YP9W/xv/N/8o/9T+Ff+I/1b/Mv+N/4//NP88/2X/Pv80/13/Ff+2/jf/1P9f/97+WP+3/17/Pv+F/4H/V/97/4//Sf8+/57/wv+E/2T/j/+3/5n/a/+R/9b/4P/X/9P/yP/Q/9z/3P/i/8T/rP8QAJUAmQBTAC8ANwBUAFYATgB6AJsAggCBAIsAZABSAFgAPwBNAIsAkABvAGcAagCDAKAAfQBfAJ0AwQB9AGsAzADWAFsATQC0AKoAaACMAJQASwBDAEsAGwAhAEIAKAAqAEUAKQAgAC8AFAArAGcANgAKAGsAlwA9ADsAoQCmAHsAtgDpAMEAvQDlAN4A2QD8ACIBVQFrAUABOwFyAXMBRAE1ATABJAFEAYkBlgFlAVYBawFcAUcBQgEfAQMBIgFBAToBMwE5ATcBJwEZARQBFwFAAWsBNQHxADYBggE2AeQA+QDyAMwACAFXASIB1AABAVEBTgEvATYBRAE8ASwBMQFTAVgBHwETAVIBRAEAATQBdgEwARABawGFAUQBPwFwAX0BZwFVAVwBewGMAXUBbwGkAb0BhQFvAZEBfwFcAYoBzQHDAXUBQgFlAX8BXAFzAbQBiQFKAXwBkQFFAUABeQFsAVsBcgFiAWUBlwF6ATYBSgF/AZoBjQFQAU4BhgFdAQ4BHAEvARsBFgEWAREBDgH7APoAGgElAQQB/gBBAVgB/gDPAAEBBQHuAA0BMAE3ASYBKgF4AZIBOAE2AZ0BogFeAVIBXwEwAfAAFQFbATQBLQF/AWMBGQE2AUEBMwFIASYB8gD9AP0A7gDkANcA/QALAdAA3gARAfcABQEyAQsB/gALAccAwgAiAR0B3gDzAPgAvwC8ANgA0ADhAPkAygCiALkAuQCMAG4AZgBrAHkAiQCrAMwAzgDEALkAsQC/ANIA0ADDALkAvwDaAOAAvACgAL0A9QAHAfYA6gDtAAkBLAEXAfYAHQFGASYB5wDIAOoAGwEFAeEA/wAVAf4A/QD4ANwA8gAVAfUA0gDmABIBOwEyAeUAuADSANcAvQDIAOgA8wDoANMAzQDaANEAuADGAOEAugCSAMQA4QCtAMAADAH3AMsA5QACAQQB8ADaAPoAAgHSAO4AJwH8ANcA9wD7AO0ADQEeAeoA0gAQAR0B4wDaANcAxgD0APgAygDyAO4AoAC0ANAA2AArAREBsADuAPoAiwCpAN8AowCYALAAuQDSALIAjwCqAI4AdgC6AMYAlACNAHgAWAB0AJIAfQBvAIAAawA4ADwAUQBQAGoAXAAqAFcAgABOAFIAZQA6AEAAUAAiAAsA+f/s/xQAGgAYAEkAOAAMACIAFgASAFIAOAD6/0AAjQBhAB8ADAANAAwAJABVAFQAKQArAEMANAAVABQAMgA2ACEAOgBfAEsAKQAhADEATgBOAEUAYQB1AIAAqAC6AKoAtwDGAKkAfACDAMwA5QCYAHoArQCuAJ8AugCnAJIAsQCcAI0AvgCOAGoA8gAAAX8AvQAIAa0AwwAJAccAtgDHAJgApACnAIwA1QDaAI0AzQDpAIYAkQC0AIMAlgC+AKQAkACDAIYAkwB7AIAAeQASAPz/UwBdAEAAVABSADYAMQBdAJ8AfAAdAD4ApAB+AAYAEABmAEgAGQBTAE0AAAAQADUAHgAQAAYABgAIAOP/5v8RAPz/5//y/93/7v8DAMb/o//R//D/5P/G/9f/EgAIANj/0//f/+//4P+///b/CgC6/9X/DAC8/7L/CQACANz/6f8CABAA7v/W//P/8////yUABADm//T/4f/m//f/0//f//X/xf+6/8P/t//O/7T/f/+x/9b/w//j/+7/1f/v//z/8f8AAP3/8v/1/+3/3P/B/7//5P/L/6b/yf+9/4z/ov+g/4f/u//Y/7z/0P/1/9f/mf+P/6v/pf+s/93/2P/L/+f/tP9v/5T/t//C/+j/0/+o/7//xf/A/+P/4v/N/9b/zP/H/+7/AwD+//r/2f/E//P/CgDY/8f/7f/s/+r/BwAAAOP/0f+z/6j/uP+9/7X/m/+B/5D/kP+D/6H/ov92/3v/mv+h/5L/fP+W/7D/fv90/7X/w/+v/7D/vf/O/7j/pP/a/+7/xv/L/8z/sP/K/+X/1v/T/83/tP+w/8D/x/+4/6//rP+E/2v/if+S/53/vv+a/3r/pf+d/4D/qv+7/7D/0P/Z/8z/2P/W/9P/3//H/73/5P/1//D/9P/2/wYAEwABAAMAEwD5/+v/FQAqABAAAgAAAOr/2v/k/+H/z//Y/+X/1P/S/+r/6f/e//D/AQDz/9T/4f8eADMADAD8//j/6v8LACsACwAAAAkA4v/b/w0AAQDr/xMABADd/ygAXAAVAAAAEgDq//H/HgAAAPf/JQAYAPT/BAAyAEUAGAD8/yUALQAdADwAKgD2/xAAOQAxAA8A6v/8/yYAHAAVACoAJAATAAkAHQBVAFYANQBKAEoAKQAqAB0ACwA3AFwAXgBdAD8AHAAkADYAPgBJAE8AQAAmACYATABmAFIAQABsAJEAWgA3AHYAfABEAGoAnQByAGAAjwCoAKQAjgBqAGwAjQCWAIcAdQBWADcAPABYAHEAkACYAHkAbgB3AFcASQB0AH8AZQBqAGcATgBZAGIAWABzAHwAWQBlAHgAUwBTAHMATwAfACgAPgA6ACoAKgAyACUALQBPAEAAHgAlACwAJgArADcARwA8ACAAJwAbAOf/6v8QAP//8v8UAA8A8f8VADoAFQALACcADQD7/w0A+v/u//3/9f8JACAAAAD6/wEA7P/y//D/7f8bABwADAAqAAcA5f8YAA8A5//3/+3/6v/w/8r/2f/k/5v/m/+//6P/uP/Z/8j/x/+Z/2v/x/8RAOn/yv+7/6z/tf+y/6b/nv+O/5b/oP+J/3//kv+p/7D/nP+N/5D/kf+M/3//hv+U/13/Lv9U/1r/Of9J/1L/M/8f/yj/Pf8h//X+FP8k///+Fv89/zf/MP8b/xX/Of9G/0j/Sv9E/3T/gv8t/x//WP9Z/2b/eP9h/3X/lf+O/3//U/9F/33/df9N/3L/ff9Y/23/if95/3L/gP+R/47/b/9V/1//iP+P/2b/ev+v/2z/F/9G/4X/cv9Q/0T/Rf9G/0b/aP+B/1//U/90/2b/SP9b/2j/Uv8+/zT/Mf82/y7/Hf8e/yL/HP8y/1j/Uf88/0v/Uf9J/1L/SP9J/3X/ev9L/zf/Sf9t/2j/Nf9V/4n/Uf85/1L/If8t/3j/S/8a/zf/Mf8//2r/X/9v/3//Pf87/3v/Yv85/1//cP9J/0P/Xv9V/z7/Vv95/47/k/99/4v/vf+6/6b/kv9o/3v/mf9t/3H/lv+F/4n/gf9R/23/nP+k/7n/mv90/5v/jP9x/7j/2v+//8f/0v/I/67/rf/Z/7z/gP+x/9n/0v/6//v/5f/w/8v/xf8DAPj/6/8YAAAA1f/Z/8v/wv/J/7b/ov+f/7f/zf+8/73/xv+d/5j/yf/R/8b/z//g/+r/1f/L/+P/5f/i/9v/v//e/wQA0P/B/+b/tv+F/7j/AAALANr/x//y//X/5f/5/+v/3f8KABEA0f+3/9X/1f+7/9H/2P+X/5f/5P/p/8v/u/+k/83/+v/A/6j/w/+b/5v/0/++/7f/+v8AANL/0P/b/9n/7P8PAAgA2v/i/xEAHQA5AGwAYwBRAFUALAAfAFEATgAvAC0ACAD//zoASwBNAGsAUgA/AHAAbwBeAIsAjABPADcAQABJAEUAHgAFABsAKAAoAD4ASgA2AEgAbgBKAB0ANwAxABMAOgBLABcAAgAgAEoASAAHAPz/KgAlACEAOwAtACcAPQA2ACQAEwAIABEACAAAABkACADl//b/+f/Y/+L//v/m/8P/1f/m/9n/6P/m/7T/s//L/8P/4f/x/77/tv/I/7z/yf/Q/7z/v/+1/7P/0f/H/6//rf+e/6z/tv+X/8D/AADW/7j/6//q/67/pP/N/9r/zP/c/9v/vP/e/wgA7P/s/xUAFgAIAPz/0f+1/87/9//2/8X/o/+s/9D/9P/t/9D/vf+t/8X/8//P/5n/o/+f/5r/uv+0/6f/0//j/9L/7v8JABEALgA5ACYAKAAnACkASgBHACwASgBLAB0AMQBDABsAGQAJAND/6/8aAP3/4v/k/+v/8v/K/7P/5f/y/9L/1P/q/wMAAQDU/9P/7//X/8//6f/q/+b/0f+3/9///f/O/63/uv/W//j/8//f/wEADwDf/9X/7//2/xUAMQAYABcAIwABABsAVAAgAAAAMwAvACEALgDz/+P/JwALANP/AAAmABsADgD+//7/AgAAABIAEwABABkAHADx/+j/8//1//P/z/+9/+///P/A/6j/1f/r/8j/sf+8/7P/rP/K/9f/x//B/9P/9//1/8b/1v8PAP7/3v/2/woAEAAFAN//7f8hABgAAwARAAAA4//w//3/AAAMAAYA7P/u/yEAPQAOAOT/+f8RABYAJgAkAPz/8f8eADkAMwBDADkACQAaAD8AHQAYAEsAPQAJAAAACwAJAOf/z//o/+j/3f8VACgA7//r/wwA///+/woA8//z/x8AOAA/AEQAMQAoAE4AbABfAEoAQgAzABgAEQAhABAA9v8BAPn/1f/k//f/5v/m/+P/1P/p/wAAAAALAAYA7//x//3/8//Z/9L/+/8ZAAAA+P8YABMA+f/4//L/3P/S/8//1f/m/9//0v/X/7f/if+S/6P/tv/E/4D/XP+k/6H/e/+r/5n/aP+T/4z/Zv+L/4T/Y/+B/4n/iv+d/4z/hP+R/5P/l/+B/3//qP+j/5n/qP+f/7v/uv9z/5f/0P+r/7L/m/9o/8f/9/+1/83/0v+k/8n/zP+x/9L/3//s//f/7/8pADcA7v///yMAGAA7ADMACwAvAF0AjgCZAF8AcgCZAHsAmACnAH8AnACjAHkAcgBrAI8AmAAuACcAUwAvAHsApwAdAAoATgBBAFIARwAqAFYAOgAQACIA//8aAFsAKwAtAFcAOgBMAEYAEgAaAPX/9v9MABkAAQBNAP3/2v9DACkA+f8FAAEASwBWAAsAVQBnAP3/LgBmAD8AXgBYAB4APwBdAFYAZwBxAGkAQQAcAEEAbwBzAEcAEwBIAHsAVAByAI4AWgCEAJkATgBrAIUAUQB5AI8AZwCWAK8AlQC6AMYApgCQAH8AowC6AH4AfQCrAIoAbQB/AIIAfwBqAFIAbgB3AFAAUwB6AHgAWQBdAHkAcgBaAFwAWwBWAGYAbgBMACQAIwA9ADYAGwAsAEIAGgDx/wsAPgA+ABgADAAaACcANQAyAB0AIQAVAOX/CABWADUAEAA8AC4AGgBXAFEAJABCADkAIQBTAE4AHgA2AD8AJAAZAAgAHAA5ABAAEQBQAEYAJAApABQA7P/h//X/EAAPAO7/xf/M//n/5P+l/7L/1P/U/9z/3f/m/+z/qf+C/7z/4P/u/wIA5P/e/wwA/P/X/+//+f/b/+H/BAAFAPb/9P/s//f/HQArAC8ANgAcAB0AMwASAPP/6v/V/+D/7P/a/9j/w//A//P/4/+8/9b/y//D/+T/vP+r//X/BAD1/wUA+P/y/wEA9f/s//3/EwAOAOb/4/8DAAIAAgD6/9X/2v/q/+v//f/g/7r/5P/5/+H/7v8KAB8ADQDi//r/FQDx//z/FwDy/9r/4v/r//X/4v/W/+X/4//n//T/2P++/8j/4f/o/9b/8/8fAPn/6v8ZAA8A+P/v/8X/zf/r/8r/yP/V/6//q//I/8z/zv/V/+r/6/+0/67/2//P/8j/5f/X/8z/2v/Q/8//5P/h/87/yv/c//T/AwABAOT/4P/5/+v/7v8bAA4A7P///w0AEAAKAO7///8qACAABAD+/+//1P/d/xMAGQDg/+H/+f/c/73/n/+b/8v/wf+u//b/BgDj/wYADgDo/+//7P/f//b/BgARAAwA6//k/+z/5f/p/8//mf+G/4j/gP98/5L/uf/I/+L/DgDu/8L/7v8AAO//9f/K/7P/6P/i/8j/4v/G/6X/xv/O/8//1P+o/6n/2f++/6f/zv/R/8X/1//G/53/l/+e/5X/kv+i/6n/of+X/4H/gP+W/4j/gv+k/43/cf+j/6//jf+l/7f/n/+N/3r/kP/E/7X/pv/S/9j/0P/v/+z/2//t/+f/4f8KACUAIgAxADoAIwAEAOf/2//5/xsAGwAXACkAMAAsACQAGQA2AFYAKwANACUA///P/+f/1f+o/7//yf/F/9z/xv+3/9n/x/+0/93/3f/Q//H/9P/l/+H/tP+R/7z/9f/n/6b/kP+f/37/av+X/5z/av9g/3z/kf+Z/6f/uf/D/9j/6f/M/7//3//f/8r/zf/Q/+b/BAAFABkAIwD0//j/MAAlAP///f8ZAFIAYAAuACgASABDAEAAUABSADwAGgAdAFYAigCeAI4AZQBdAGQAWgBqAHIAQwA0AFcAVwBEAE0AWABUAFsAYwBQAFEAdwBrAEgAVgBMADkAcwCQAGIAYgB7AHIAcgBuAFMARQBQAHAAdgBHADcAVQBkAG4AfwB9AGsAVQBRAGoAdgBzAHgAcQBfAE8AQwBLAGUAdABxAHAAiQCdAJsArQC1AJgAogC+ALQAzQDzAOAA2QDbAMQA2QACAfgA8gAKAQMB3QDaAPUA5ADKAOkA6gDGAOEA9wDZAOEA9ADpAPMA/gD4APAA5gAKATwBIgH2APgAAgHuAMsA3QAMAeQAswDgAPoA5gDkANYAxAC3AKcAxQDiAM0AyQDKAL4A0QDVANcA+ADbAKEAlQCJAJ0AvACNAIAAsACmAKcAvQCIAHUArQC5AKgAtAC7AJgAZwB4AKcAkABxAIIApwDFAKUAiAC+ALkAfQCdALIAogDSANIAkACEAIMAhgCWAH8AiACcAHIAdQCWAHwAfACKAHoAjQCUAIEAnACbAHcAgQCJAH8AeQB0AIUAggByAJ0ApQBlAGIAfwB2AG0AXABiAIMAfwCDAIcASAAxAEIAAADL/+j/7P/Z/9v/2//f/9X/xf/W/+P/yv++/8z/w/+r/7T/xf+s/6X/0f/K/4j/ev+U/4n/e/+Q/5j/g/+G/5n/kf+B/4P/iv+A/3n/kP+d/4j/j/+g/4j/k/+9/6T/ff+O/5P/g/+N/6X/rv+u/7P/u//S//X/5f+z/7j/yf+s/6z/xP+3/63/w//e/+v/0/++/+X/AADf/8//5P/p/9n/vf+x/8j/wv+m/7T/tv+n/87/4f/M/97/3//R//H/5f/L//H/6v/X//z/3v/E////5/+y/+X/7//A/9H/6f/t/wEAAgD5/wgAFAD8/9f/0P/M/6r/nv+t/6z/rf+s/57/nf+c/5D/i/+M/5L/f/9Y/23/j/9s/2L/iP+H/3r/cP9M/0f/W/9O/13/h/92/23/lP+Q/3T/cP9k/3D/i/9q/1//lf+k/5z/rv+z/6//pf+a/63/qv+U/6f/p/+F/4D/fv9//4z/h/+N/5b/h/+B/3b/gP+t/5f/gf/B/9P/q/+Z/4T/kv+r/6T/sf+h/5T/4f/p/8X/7v/H/5n/5//q/83/9v/u/wMABACZ/8n/KQDX/7r/tv+F/8//wf+m/3kAKQAM/9b/PQCo/nv+AwCRABoAkP+H/wIA6v+I/9D/3/+I/8T/+v+l/6n/BgD1/6P/pv/p//P/nP9M/4f/7//E/27/jP+T/2H/gf+a/3T/gf95/0H/Yf+F/0X/FP8o/1T/av9G/z7/cP9s/1H/Zf9d/0X/Uf9T/1X/Wf9H/1H/a/9s/4b/lP9t/3D/j/9//2//Zv9u/5r/jf92/7j/uf9j/1n/Xv86/z7/SP9R/17/L/8i/0f/IP8S/0b/K/8S/z//Pf8u/yr/Bf8X/0z/Rf88/0b/Qf8//zf/Pv9k/2b/S/9N/17/aP9b/1H/a/9q/1D/ZP98/3//gv9j/1f/hf+n/7P/rv+F/4r/wv/N/7P/l/+U/7L/qf+P/67/zf/c//X/7P/W/9T/1P/d/9T/vP/S/9z/yP/n/wEA7//n/9H/w//k/9//xv/g/+v/3v/d/9P/1P/c/9z/5P/f/9v/9P/x/+X/9f/y/wcAOQAbAP7/LAA2ABwAIwAnABsADgAFABQAKgA5AFAAVwA8ABEA+v8UACoAGwAaABEA9f8JACsAIwAOAPj/9P8DAPD/5v8FAP//9/8VABcADwACAOn/FQA6AAAA+/8UAOv/AAAaAML/t/8GAPH/y//u//z/8//l/9X/2//P/8j/5//h/9H/6P/h/9z/AgAAAOH/5//+/wUA5P/P//7/DQD2/xIAHgD1//f/EAAJAP7///////T/9f8RAAkA4//4/x0ACQDz/wgAJAAPAPj/FQAbAP3/EQAlAAAA/f8bACQAHgATABcAIQANAP////8DACcALgD//wEAHQAFAAAAGAAVAAcA/f8FABEA//8MACoA9v/M/+3/+v8DAB0ADAANADgAQgBDAFMAQwAsAC8APQBNAFEASQBEADwAJQAIAAMAGQAnACMAFwAJAA0AGQASAAwABQD9/xEAHwD6/+X/+P/0/+r/+//+/+3/6v/v////GQATAAYAMABHAB0AEwAmABsAFQAPAPr/AAAaACsAHQD+/x4AUwA5ADUAWwBJAEwAXAAgAB4AWgA/ACQARABTAGIAXgA/AE8AVQA/AFYATgAfACoAQQBVAHEAVQBJAG0ATgAmAEgAVwBLAEQAJgAWACYAJwAjACIAIQAuAC8AHQAZACsAQgAzAAgAGAA+AB4ACAAZAAIAAAAwAB0A+f8pAEQADAD1/xkAMgAsACIAKgA4ADYAMAApABQACQAZACEAEAAIABgAIAAMAPz/BQAIAPT//f8hAAwA6f8SACkA//8YAE4AQABEAEoAFQAVADkAIQATABYADAAnADIAHgAwAC4ACgAMABAAEgAfAA0AEgArABYAHgA7ACEAJwA/AA4A8f8FAPz/5f/c/+v/CwD2/8L/z//s/+f/6P/9/wwABADn/97///8kACwAGQAJAAIAAgACAP//FQA9ADkAFAAPACcAHwD5/wYAJQD+//3/PAAbAOv/FwAOAO7/EgADANj/7P/o/+H/+v/w//D////t//b/AADr//7/+//A/9D/DQAPAPj/8/8AAAMA9f8HACQAHAA3AGIARwAqAC8AFgD//yEASAA6ABEAAQAQAB4AIwAvADkAMAAiACsAOQA7AEMAPQAdABYANABTAG0AewBwAFwAWgBpAHAAbQBtAHAAjwC8AKoAhQCkAMUAtgCwAKwAngCkAKQAlACaAJ4AlACbAKAAlwCkALcAsQCoAJwAhQCGAJYAlACeALIAtwDFAMMAmwCWALAAqACZAJkApgDSAN4ArACcALcAsQCcAJoAnACcAJsAkQCAAIUAmQCLAHMAfwCAAG4AeQCAAG0AdACGAHgAbABmAFEAWgB5AGMASABiAFoAJQA9AIIAgQBdAFUAUgBSAFwATgAuADcAVgBPAEkAUwA1ACIANgAlAB0ARAA1AA0ADgAFAAQAGAAEAPT/BwATABoAEAD2/wUAFAD6/wQANgA4ABUAEgAiABgAFwAtABsAEQBAAFsAawCAAGQAWgBtAEgAOwBpAGoAWABlAGYAUgBDAFYAXwA2AEIAZgA1AC8AbABeAE0AaQBdAEUAMAAsAFoAYQBPAHAAXwAfAB4AMgAoAAYA/f86AE0AEwAPABIA8//+//T/2v8AAAsA+f8IAAAA8P/5//D/6v/X/7f/yv/V/8v/6P/e/8D/2v/d/9b/5//b//P/IwAAAOP/9P/i/9//3f/C/97/7v/O/+r/BwDt/+T/0/+9/8v/v/+1/9P/wf+m/7v/sv+a/63/uf/H//X/DAD7//b/EgAVAOX/4P8PAAMA5f/9//X/yf/M/97/4v/f/9L/5P8BAPT/5v/h/8X/uP+x/5z/nv+Y/4P/n/+6/5r/dv92/5j/uP+v/5L/d/9q/3//hf93/4z/kv97/5P/qv+B/2T/h/+u/5//jv+n/6L/lv/D/7b/cf9v/3r/fv+Q/13/Ov90/2//S/9p/2f/a/+e/4D/Vf94/27/V/+L/5D/Sv87/1n/U/9G/03/Rv8w/yX/Kf88/zn/GP8Y/zn/UP9U/yf/Gv9//7f/eP9f/3H/df+L/5n/of+v/5z/pf+6/4z/nP/m/63/XP+B/6T/k/+D/4j/rP+z/4f/dv9//33/bv9d/3f/l/98/3b/n/+X/3n/hv+Z/43/df9y/3f/Zv9s/4z/gP9c/1n/cv+G/2r/Pf9U/3z/d/9n/0v/P/9j/3H/ZP9t/2v/dP+Q/3D/XP+D/3b/cv+y/7D/kP+1/7X/nf+9/8f/vP/F/6H/f/+Z/5H/ev+h/7X/g/9d/3f/o/+U/23/gP+Y/4r/mf+z/6b/r//Y/9r/vv/B/+b//P/h/8v/4v/t/93/5f/1/93/x//W/+P/4P/0/wcAAAAKABoABwANADUAMwAlAC8ALQA9AFoARgAlABgACgAQABUACwAuAEsAKwAzAGUAXABDAGMAlACIAEsAQgBhAEIAHQAyAD4APABRAEkAKAAjADwAVABMADMALgA1ADoAPABMAHkAggBnAIwArgB+AHIAjQB1AFsARwA0AGgAnQCPAJsAqgCKAI0ApgCoALcAtgClAMUAzgCrALwAyACmALUAyQCtAMAA4AC2AJEAhwBmAGUAhQB8AGoAdwCQAJ0AlACmANkAxgCHAIsAmgCBAIEAkwCUAJMAkQCaALAAuwDIAOcA8wD1AAUBAgHsAO0A7QDIAKgApgC4ANEAzQDAANsA2gCpAKkAswCNAIsAowCVAIAAaABoAI8AhABkAIcApACjAJ8AegB5AKgAhwBLAF4AagBIAEIAWwBeAEgAPwBKAE8AQwAoADUAagBbADMAZwCBAEYAPwBTAEAAQQBJAEwAdQB2AD0APQBfAD8AFAAoADUAAADi/xAAMwAmACsARgBLAEcALwD6//7/PQAsAOz/AAAdAPr//P8WAP7/4v/g/9z/5f/t/9z/0//n/+3/3v/Y/9n/6v8JAO3/u//U/+v/5f/+/+z/yf/w/+n/s/+7/73/0v/5/6r/jv8DAPr/cv9i/7v/4P+O/3P/4//f/4b/t//B/4n/tP+n/2//rf+2/3n/i/+m/7z/xP+I/4r/zv/A/5v/p/++/8f/s/+9/9P/mf+B/7j/qv+P/6//oP+N/7r/xf+m/7L/yf++/7r/0P/T/8z/4//8//D/z/+9/8n/1P/b/+z/2v/C/+P/6P+9/8D/zf++/9D/1v+s/6f/wP+v/6r/z//M/7P/1v/s/9f/5//s/8v/x/+9/6//uf+f/4//p/+h/7P/uv+C/6L/0f+I/33/pf90/3T/lP92/4//q/99/3v/hf9S/yf/F/8c/yr/If8n/0D/XP97/3D/YP9//3z/Wf9T/0r/Vv96/3T/YP9k/23/eP92/3j/jv+f/7T/uv+i/63/tv+S/4v/kf95/2b/af+X/7//nv+Q/6j/lv+S/5X/Z/9b/27/eP+Z/5L/av9z/3L/af+G/47/m//L/8v/o/+T/6H/rP+S/4j/of+N/3n/p//J/8L/t/+8/9f/1f+2/7b/u/+y/7j/wf/R/97/1P/V/+D/3//S/67/qf/P/83/0f/q/7n/l//K/8//rP+8/93/9v/v/8T/sP+4/7f/uP/A/87/z//C/8v/vP+D/4b/yP/l/8z/rf+8/+z/5v+6/7n/xf+u/5f/pf+u/5P/kP+x/7D/rf/R/9z/0v/Z/8H/pP/F/9z/s/+k/8H/wf+0/8X/z/+8/5v/f/+N/7z/0v/N/8L/tv+9/+H/EAAYAPT/9P8VAAIA7f8GAAgA+P/7//D/2//O/8n/1f/Y/9D/3P/o//r/IQApAA4ADgAsAD0AJQAPAC0ARgA4ACwAHwAPAAcA+/8LACoAHgAZAC0AMgBIAFMAGgD5/wkAAgD//wIA7////yEACQD4/xYACADa/9//+//0/9X/0v/2/woA+P/g/9j/5//z/9z/4v8GAM7/h/+0/8P/gP+Q/9H/xv+c/4//nf+w/8f/5P/c/8H/6P/+/7X/h/+n/7D/iv90/4z/of+Q/4H/f/9x/2b/Zf9n/2r/Zv9j/13/V/9x/33/af9+/4//g/+j/6T/cP+E/6f/nf+2/73/hf9r/4L/of+u/53/m/+h/5P/pf/E/77/zP/t/9r/tv/H/+H/vP+k/9j/3f+b/6H/5v/6/9b/wP/b/+L/wv/P/+P/z//m////2f/S/+7/+P8FAP7/2f/R/+f//f/2/+H/8/8DAPP/8f/2//n/AwD+//r/+v/q//H////2/wEACAD7//f/3v/T//b/7v/J/7n/nv+r/97/3P/J/8r/zf/k/+z/3v/k/93/zv/U/9j/6v/5/+T/5v/y/9j/yf/U/9r/0v+0/7X/z//G/8X/1v/X/9r/yf/F/wYADwDZ/+7/8P+v/8D/BgAVAAkAAQD9/+//0v/N/9//8v8UADAANQA6ADoAMAAeAAEAAgAYAAIA1//b/+7/4v/i//r/6f/R/+X/3//P/+j/0v+n/93/CQDZ/8L/5P/s/+T/AQAZAP7/6/8DAAgAAQAQAA0A+P/v//L/AQAAAOP/7/8gACwADQD2/wIAEQALACcAQAAmADMAVgBCAEQAWQAzAB4ANgA8ADkAJQAGACEATgBJACwAGwAcACwAMgA3AEEASgBeAF8ASABOAFUAQwBeAHYANwAXAFoAcgBLAF0AcgAzABAAYwCXAFwAUQCMAHMANQBGAFwARAA/AFcAYQBFACkAOwBdAGcAVAAqAC8AXQBpAIMAngBnAFEAjQCOAGoAWwBBAE8AbAA7AAgAEgApAEwAZwBhAFUAVgBeAFcASQBYAFUAQQBmAGwALQAxAEcABADp/xwAGgDh/97/EgAnABQAEgAqAEsAUgAqADAAZABOAC4AXABnADEAKgBVAG0AZgBwAJ0AnwBtAGIAegB6AH0AmACTAG0AfACvAKAAewCLAJUAhgCDAH4AcwB2AIwAnACHAIUApwCbAHEAZQBlAHMAfwB7AJEAlQBzAIEAnQCSAJAAeQBWAHQAmgCUAJMAoACmAJsAkwCbAIUAagCGAJIAhACSAIQAUABAAFwAdgBkAFsAlACjAG0AYQByAH8AggBdAGwAsgCqAJEAmwB3AHEAngCVAJgAzQDZANIA0gC2AKYAsgCvAKcAugC0AHgAaQCWAIoAcwCfALAAogC4AMMAuQCnAJEAqwC/AIMAXgB2AHsAfACDAG4AYABhAEQAKwA7ADkAGgAiADkALgAyADoAEgD+/xUAJgBAAFYASwBHAFwAdQB+AF8AQwBQAFsAWQBjAG4AVgAnADYAfACCAGIAZQBlAG0AdgA7AAMAAwD7/wEAJQAoABUACgAXAD4ANQAYAEAAYQA5AB0AIwAXAP//9v8FAAsA+v/8/w0ACADw/9r/4/8CABIAEADz/8X/z//2/+3/6f/7/+7/8P/+/9//0P/i/93/1//V/7z/vP/b/93/y/+6/6z/uv/T/83/vf/N/+L/3v/g//P/3/+y/7//7f/4//v/AQDr/9f/5v/0/9//uP+m/7H/uP+s/5v/i/+F/5r/sv+q/5n/pf+i/4f/jP+U/4X/nv+q/3X/ev+8/77/rP+y/5n/l//R/+P/w//O//L/9f/3//7/4P/O/+D/0//N/+//5P/P//X/8P++/8T/3v/f/9//3//q//L/5f/n//f/AAALAAUA/v8LABAAFQApAC0AMQAtABcALQBIADAALAA5ACgAIAAVAAkAIgAfAAUAKwA7AAQA9/8RAAUACAAuABoA4//2/x0A/v/2/ygAJgAWAD4AQAAYABAADQAcAEsAPQAMACEAQAAqABYAEQAUACwALgAPAAYADAAFAAQAFAAvADEADwAAAA4ABQDt/+//7//S/8z/8/8IAP7//P/0/+n/CQAdAAgACwALAPH/AQAUAPD/3v/4/wQA/P/2/wAACAAFAAYAAwD7/wMAAADk/9v/5//y//n/7f/Y/8z/zP/c//D//v/r/7z/0v8IANv/sf/f/9r/rv+7/8H/tP+7/7D/o/+v/7r/wP/B/8D/u/+v/73/xv+n/6b/s/+h/6b/qP+N/6P/tP+F/2z/fP+G/4v/fP9p/3L/hv+I/2//aP+G/4X/ev+b/5f/d/+S/6T/hf99/4f/f/9s/13/Wf9f/3H/hP99/3f/i/+c/5f/gP98/5j/o/+o/6//iP98/7L/uf+t/9j/5f/H/7f/qP+l/6//xP/v/wAA7//m/9b/wf+3/6X/ov+x/7j/w/++/7n/0P/O/87/9P/l/8T/6v8IAAYAAADs//L/AADz/wEACgD0/wIABgDj//H/AADf/9v/9f/o/9D/4f/1/9v/z//n/+P/7v8QAPb/2f/w/+n/6P8CAO//6P8HAP///f8kACMAAADi/9v/+f8KAPb/+v8PAP//8P/8/+v/3P/4//X/6P8bACsAAwAeAEkAMgArADwAMAAXAA8AJgBBAD0AMwAiABYANwBAABkAHwA5ACoAFgAQABcAFgD9/wcAIQADAPr/HAAmACsAIAD3/wMANQA0ABwAFAAVAAwAAAAWACAAAwANACUA+//P/9H/0v/Q/9v/7f/z/93/yf/L/9L/3f/h/9z/0/+3/6r/tf+m/6L/v//T/+//8v+1/7D/4v/Y/9H/6P+7/4b/o//R/8P/rP/Q/+3/2f/l//b/2f/p/wEA1//I/93/1v/W/8//z//+//f/wv/I/8D/of+7/+H/+/8HAOH/yf/V/8b/t/+2/6b/sf/O/9H/zP+7/6f/qv+2/9P/4/+8/73/8f/g/7j/z//l/+b/8v/v/8f/qv/O/wIA8f/T//T/DgD5/+T/7P/y/9n/tv+7/9r/6v/f/9X/7P/+/+T/3v/y/+b/4//y/9z/xP/Q/9b/wP+p/6r/u/+3/6T/oP+e/5z/tf/a/9f/qv+V/6X/sf+9/8r/xv/M/9r/zP/C/7z/pv+k/7H/pP+g/7X/tv+e/5L/lf+h/7H/sP+N/2r/dP+Z/6v/sf/D/8f/sP/F/+f/wf+r/87/t/+l/97/4f+6/9L/9f8GAAsA8f/9/xcA7f/c////8v/f//H/AAAbADUANQA0ADYATABeACoACgA9AEgAGwASAAQA2f/I/9j/5//g/8X/v//U/9//2f/S/9n/5//n/9//4P/W/8T/0v/u/+j/1v/J/7T/uP/R/8T/vf/V/8L/xP8IAAYA1//7/xMA2v+r/5v/qv/W/+P/4//6//f/6///////3v/M/87/1P/Z/+T/6v/b/93/+//1/8r/uf/K/9T/tv+Y/8X/+f/s//P////F/7z/+f/X/5T/xP8DAPn/4P/e/+z/8f/h/+z/AwDo/8b/2/8AAA8ABgALACkALQAYABAA/P/k/+X/4f/k//T/4f/M/9H/yf/G/83/u/+8/9n/1P/O/+T/6//k/+v/9P8AAAwAAADs//L/AQD+//P/9P8CABkAHwAZABwABwD4/yoAQQAKAAAAIAAYABUAFwAHACIAQAAVAOz/+/8TABUABwAMAAsA5f/t/yoAHwDv//n/AgD7/wkAFgAkADEAFAAMADYALAD5//b//f/4/xIAGwDu/9v//f8LAPz/5//P/83/6v/9/wAABQD4//L/GQA6ADQAMgAvABMACAAhACgACwAIACgAJwD//97/2f/w//H/xv/F/+j/0//J/+7/2//A/+j////2/wAABQD9/+7/4v8HACgAEAAeAEoALQAEAAsABQD+/w8ACgDr/+P/9P/5//D/9P8CABUAKQAjAAkABQAOAB4AQgBIADUAQABEADAAHwD7/+v/EgAYAAIAHAAkABMALgA7ACIALAA0ABEA9v/r//D/DgAbABIAFAAKAPv/EwAhAP3/3//g/+H/5f/w//7/CwD//+P/5v/9/wAA7P/X/9j/4f/c/+D/9f/0/+r/9P///wQA///l/+b////y/+D/5//l//f/DwD0/+r/BQDu/9n/+//2/8//vP+2/9n/6f+u/7H/8f/f/8r/5v/a/9j/7P/E/6n/t/+g/5b/vv/S/8z/wv/F/+n//v/v//L/AAD7/+D/0//r//f/5P/0/wsA//8FABMA6v/U/wEAIgAaABYAHwAcAAwACQAFAPP/8/8BAPn/5P/i//n/FgAWAAwALQBRAD0AHQAdACAAIwAqAB4AIgBTAFAAHwA7AGUAUgBtAJoAdgBXAGcAaABgAFQAUgBwAG0AUwBbAE0AOwBiAHEAVwBLADsAOwBQAEgAQABBADcAOAAjAAAAGAAvACAAKAAjAAkADgD//+7/EgAXAPD/5f/X/9v/EgAaAPD/AQAhAAUA+P8KAAAAAAAlAB8AAAAIAAMA9P/7/9X/sv/g/9//qv/E/+P/xv/H/97/7P8AAPD/0//l//X/8v/7//j/+f8JAPf/3f8JAD0AJQD5//3/AADe/9L/8//9/+D/zP/R/+P/+P8IAB8AMgAZAO//6v/q/9X/5P8IAAUA/P8AAAAAFQAnAA0ADAAsAB0ADgArACQAAwAbAEcAPwAjACUAJQALAPD/5f/w/wEA9P/S/8//3f/c/9r/7v8KAAQA5P/q/wIA+P/h/9D/u/+l/5P/pf/M/6//fP+W/7z/qf+b/7z/6//x/9j/2//l/97/7/8AAP//CQD+/+b/AAAOAPr/CgAXAO3/0f/V/8P/m/+e/83/zf+q/73/y/+q/6j/tf+u/6//l/9//7X/4//G/6//sf/H//D/1/+l/9L/+f/E/8D/9//m/77/zv/Y/8H/pf+R/57/uf++/73/sv+t/9j/6v/E/9P/8P/J/77/5//0//D/3P+z/6//xP/D/7T/rP/N/+T/pf98/67/wP+0/8P/s/+e/6X/kP+b/9b/w/+U/6n/qf+L/5j/oP+d/8T/5v/j/+X/3//P/9z/8P/1/wMABADo/+z/CAD1/83/2P/1/+f/vf+h/6f/sv+1/8f/1//K/77/wP/L/9v/zP+r/7r/zP+t/57/n/95/2D/fP+O/3H/WP+D/7L/iP90/7H/sP+Q/8X/6v/e//D/8f/g//j/AADk/9H/zf/f/+T/vf+u/8r/6P/+//r/6//o/9r/4/8AAPf/AQAiAAYA+/8ZAAgAAAAJAOb/6/8WAP7/6/8eAEkAPQAWAB0AVgBqAHIAiwB0AF8AfAB+AH0AqwC7AI0AbgCAAI8AfwCTAMYAwwCwALkAqQCSALAA4QDjAMMAwgDIAJsAigCdAH4AcwCSAIIAfwCRAHkAhQCeAJEAsgC7AIsAqwDBAJUAxADvALsAyAD0AMgAoACpALAAoACKAKIAvwCmAKQAuwCnAJUAmQCYAK4AzgDBAJ0ApQDKAL0AqADPANwAwgDMANEAygDNALsA1gALAeAAywD2AN0A1AABAe4A4QDvANAAygDHAKUAxgDjAMsA5gDzANYA8AD5AN4A8QD1AM0AtwC/AOQA8ADDALkAwwCzAL0AwQCxAMMAwwCvAMQAxAC3AOEA+QDaAMgAyAC7AK8AxgDjANUAugCpAIkAeQByAFYASQA4ABkANABQACMADgAtADIAGwAIABkAMQAMAOf/BAAIAOL/8/8dABAA+f8QACcAGwAfAC8AJwAdAAwA6//t/wMAAgAGAAoA9//6/wUA6P/X/+f/2f/I/9T/xv+1/8//zv++/+f/+v/K/7P/vv/F/8T/vf/R/9P/kP9x/5H/j/97/2r/Vv97/5z/df9p/4f/mf+q/5r/cv99/47/b/9g/3f/g/92/2z/af9i/2r/b/9T/z3/S/9d/0b/Bv8L/1P/Qv8f/1r/XP8t/1P/Zv9L/1v/Uv83/03/Y/90/4T/gv+f/7n/n/+c/73/2P/m/9L/uf/H/9n/6v8AAPr/6f/Z/8L/u//L/+X/9P/q/+X/4P/F/8H/0//W/9r/0v+6/6//nf+p/+X/3/+p/7L/v/+n/6H/pf+u/8D/vv+//8P/q/+i/7b/uf++/8v/vf+t/7z/2//w//j/+P/r/+b/AAAQAPj/7P/8//3/+v/4/+r/+P8UAA8AHAA2ABgADAA1ADIALwBSAD0AIAA1ADUAMQBCAD4APwA5ABIACgAJAN//x//d/wAADADu/+r/DgAPABEAOgBPAFQAVgBMAEkANgAqAE0ASQAfADUASQAoABQAFAAfADEAIQAYADIAMQAcACYALwAkACMAMQA4AD0APAArACkAPgA/ADUAJgABAAMAMQBEAEYAPQAhAC4ARgAuAEIAdgBgAEEARAA9AEgAWABBAD4AVwBCAC4ATgBIACYAUgBzADEAHABOAD8ANABmAF0APwBQAEQAMAA7ACUAIgBWAFMAKQA3AEQAIgAnAFoAUwAiAC0ATAA9AEYAZABGACIAMwBLAEcANAA9AE0AIgAPADoAGQDt/yAAIwD2/wIA5v+5/9j/2P/b/xwABAC//+L//P/j//L/7//N/9X/5//j/9z/0f/K/83/3P/t/9j/uf/K/83/sP+8/8n/tP/M//D/zv+o/7L/xP/W/9n/xv/Q/+z/2f+z/6r/sf+l/4//nv+4/6P/kv+g/6H/sP/N/7//rP+2/7j/uf+0/5//mP+a/57/ov+N/4H/k/+Q/4f/i/9+/4P/jP99/5H/pv+K/5n/xf+0/6P/sP+o/5f/if+M/6z/vv+6/6r/if99/3//Wf9J/2v/b/9p/4T/h/90/4r/q/+t/6//uv+o/4X/lf/P/+D/wv+1/6n/j/+q/97/zf+q/6//pv+Y/6f/rv+r/7L/u//C/6b/gf+n/8j/kf93/5D/f/91/5b/jf9o/3X/jf9+/3//pP+o/4X/cf9y/4z/rf+q/6X/rP+U/5L/sv+T/1r/XP9x/3//jf+I/4r/ov+r/5n/ff96/5r/r/+o/4//ev+E/4b/Zf92/57/gf9r/37/av9Z/2v/UP8q/zz/Wf9z/4j/i/+R/4P/Z/+K/6P/dv94/5b/c/9k/4T/iP+X/6//k/96/3//c/9q/4D/nP+m/5X/iv+c/6X/n/+l/6z/r/+x/6//u//U/9//5P/s/+//5//R/8n/4v/v/+L/4P/Y/8v/4P/l/8z/2v/s/+j/AAASAA0ALABLAEMANwAvADsAUAA+ADwAXwBSAEEAWwBgAGIAbwBhAGYAfwB9AIEAfgBeAGAAdgB2AIAAfwBsAJQA1QDTAKsAlACKAIwAngCfAIsAjACTAIkAggCMAKAApACMAI8ArwCiAIYAggB1AHgAkACGAG8AYgBkAIwAlQBeAFMAZwBNADoAPAA5AFAAZgBfAFsAQAAiAEIAUAAfAA4AHQAWABsAJQAdADAARAA6ADoAKgD+//n/BwD+/wAABwAMABoAAwDi//r/GgAWABAAGgAhAAkA8f8UADwAPgBSAFQAJAAHABIAMQA+ABUADgAxAAoA5/8YAB4A7//z/wcAAwABAA4AKQAvABMADwAeABMACAAOABIAKABEADEAFQAtAEEAKwAcABAA//8MAB4ACgDu/+7/BgAMAPj/7v/N/6r/4/8=\" type=\"audio/wav\" />\n",
       "                    Your browser does not support the audio element.\n",
       "                </audio>\n",
       "              "
      ],
      "text/plain": [
       "<IPython.lib.display.Audio object>"
      ]
     },
     "execution_count": 28,
     "metadata": {},
     "output_type": "execute_result"
    }
   ],
   "source": [
    "#sample sounds\n",
    "import IPython.display as ipd\n",
    "import numpy as np\n",
    "import random\n",
    "\n",
    "rand_int = random.randint(0, len(speech_datasets[\"train\"]))\n",
    "print(speech_datasets[\"train\"][rand_int][\"target_text\"])\n",
    "ipd.Audio(data=np.asarray(speech_datasets[\"train\"][rand_int][\"speech\"]), autoplay=True, rate=16000)"
   ]
  },
  {
   "cell_type": "markdown",
   "metadata": {},
   "source": [
    "Then we prepare `input_values` using processor and labels using `target_text`."
   ]
  },
  {
   "cell_type": "code",
   "execution_count": 29,
   "metadata": {},
   "outputs": [],
   "source": [
    "def prepare_dataset(batch):\n",
    "    # check that all files have the correct sampling rate\n",
    "    assert (\n",
    "        len(set(batch[\"sampling_rate\"])) == 1\n",
    "    ), f\"Make sure all inputs have the same sampling rate of {processor.feature_extractor.sampling_rate}.\"\n",
    "\n",
    "    batch[\"input_values\"] = processor(batch[\"speech\"], sampling_rate=batch[\"sampling_rate\"][0]).input_values\n",
    "    \n",
    "    with processor.as_target_processor():\n",
    "        batch[\"labels\"] = processor(batch[\"target_text\"]).input_ids\n",
    "    return batch"
   ]
  },
  {
   "cell_type": "code",
   "execution_count": 30,
   "metadata": {},
   "outputs": [
    {
     "data": {
      "application/vnd.jupyter.widget-view+json": {
       "model_id": "14db5d440d634aa09bc8581f1e46d6e7",
       "version_major": 2,
       "version_minor": 0
      },
      "text/plain": [
       "  0%|          | 0/198 [00:00<?, ?ba/s]"
      ]
     },
     "metadata": {},
     "output_type": "display_data"
    },
    {
     "name": "stderr",
     "output_type": "stream",
     "text": [
      "/home/saad/anaconda3/envs/wav2/lib/python3.7/site-packages/transformers/feature_extraction_utils.py:169: VisibleDeprecationWarning: Creating an ndarray from ragged nested sequences (which is a list-or-tuple of lists-or-tuples-or ndarrays with different lengths or shapes) is deprecated. If you meant to do this, you must specify 'dtype=object' when creating the ndarray.\n",
      "  tensor = as_tensor(value)\n"
     ]
    },
    {
     "data": {
      "application/vnd.jupyter.widget-view+json": {
       "model_id": "c7cdf2c19cf645cb99b09a6dc8f05c65",
       "version_major": 2,
       "version_minor": 0
      },
      "text/plain": [
       "  0%|          | 0/1 [00:00<?, ?ba/s]"
      ]
     },
     "metadata": {},
     "output_type": "display_data"
    },
    {
     "data": {
      "application/vnd.jupyter.widget-view+json": {
       "model_id": "7aea36d924b04961be4189039fba4457",
       "version_major": 2,
       "version_minor": 0
      },
      "text/plain": [
       "  0%|          | 0/22 [00:00<?, ?ba/s]"
      ]
     },
     "metadata": {},
     "output_type": "display_data"
    }
   ],
   "source": [
    "prepared_datasets = speech_datasets.map(prepare_dataset, \n",
    "                                        remove_columns=speech_datasets.column_names[\"train\"], \n",
    "                                        batch_size=16,\n",
    "                                        batched=True)"
   ]
  },
  {
   "cell_type": "code",
   "execution_count": 31,
   "metadata": {},
   "outputs": [],
   "source": [
    "# credentials = pd.read_csv('../data/rootkey.csv',header=None)\n",
    "# aws_access_key_id = credentials.iloc[0,0].split('=')[-1]\n",
    "# aws_secret_access_key = credentials.iloc[1,0].split('=')[-1]\n",
    "# s3 = S3FileSystem(key=aws_access_key_id, secret=aws_secret_access_key)  \n",
    "# prepared_datasets.save_to_disk('s3://sagemaker-studio-g2rfihg7k9q/wav2vec2-large-xlsr-th/', fs=s3)  \n",
    "# !aws s3 ls --summarize --human-readable --recursive s3://sagemaker-studio-g2rfihg7k9q/wav2vec2-large-xlsr-th/"
   ]
  },
  {
   "cell_type": "code",
   "execution_count": 32,
   "metadata": {},
   "outputs": [],
   "source": [
    "# credentials = pd.read_csv('../data/rootkey.csv',header=None)\n",
    "# aws_access_key_id = credentials.iloc[0,0].split('=')[-1]\n",
    "# aws_secret_access_key = credentials.iloc[1,0].split('=')[-1]\n",
    "# s3 = S3FileSystem(key=aws_access_key_id, secret=aws_secret_access_key)  \n",
    "# prepared_datasets = load_from_disk('s3://sagemaker-studio-g2rfihg7k9q/wav2vec2-large-xlsr-th/', fs=s3)"
   ]
  },
  {
   "cell_type": "code",
   "execution_count": 33,
   "metadata": {},
   "outputs": [
    {
     "data": {
      "text/plain": [
       "Dataset({\n",
       "    features: ['input_values', 'labels'],\n",
       "    num_rows: 3156\n",
       "})"
      ]
     },
     "execution_count": 33,
     "metadata": {},
     "output_type": "execute_result"
    }
   ],
   "source": [
    "prepared_datasets['train']"
   ]
  },
  {
   "cell_type": "markdown",
   "metadata": {},
   "source": [
    "## Training"
   ]
  },
  {
   "cell_type": "markdown",
   "metadata": {},
   "source": [
    "### Data Collator"
   ]
  },
  {
   "cell_type": "code",
   "execution_count": 34,
   "metadata": {},
   "outputs": [],
   "source": [
    "import torch\n",
    "\n",
    "from dataclasses import dataclass, field\n",
    "from typing import Any, Dict, List, Optional, Union\n",
    "\n",
    "@dataclass\n",
    "class DataCollatorCTCWithPadding:\n",
    "    \"\"\"\n",
    "    Data collator that will dynamically pad the inputs received.\n",
    "    Args:\n",
    "        processor (:class:`~transformers.Wav2Vec2Processor`)\n",
    "            The processor used for proccessing the data.\n",
    "        padding (:obj:`bool`, :obj:`str` or :class:`~transformers.tokenization_utils_base.PaddingStrategy`, `optional`, defaults to :obj:`True`):\n",
    "            Select a strategy to pad the returned sequences (according to the model's padding side and padding index)\n",
    "            among:\n",
    "            * :obj:`True` or :obj:`'longest'`: Pad to the longest sequence in the batch (or no padding if only a single\n",
    "              sequence if provided).\n",
    "            * :obj:`'max_length'`: Pad to a maximum length specified with the argument :obj:`max_length` or to the\n",
    "              maximum acceptable input length for the model if that argument is not provided.\n",
    "            * :obj:`False` or :obj:`'do_not_pad'` (default): No padding (i.e., can output a batch with sequences of\n",
    "              different lengths).\n",
    "        max_length (:obj:`int`, `optional`):\n",
    "            Maximum length of the ``input_values`` of the returned list and optionally padding length (see above).\n",
    "        max_length_labels (:obj:`int`, `optional`):\n",
    "            Maximum length of the ``labels`` returned list and optionally padding length (see above).\n",
    "        pad_to_multiple_of (:obj:`int`, `optional`):\n",
    "            If set will pad the sequence to a multiple of the provided value.\n",
    "            This is especially useful to enable the use of Tensor Cores on NVIDIA hardware with compute capability >=\n",
    "            7.5 (Volta).\n",
    "    \"\"\"\n",
    "\n",
    "    processor: Wav2Vec2Processor\n",
    "    padding: Union[bool, str] = True\n",
    "    max_length: Optional[int] = None\n",
    "    max_length_labels: Optional[int] = None\n",
    "    pad_to_multiple_of: Optional[int] = None\n",
    "    pad_to_multiple_of_labels: Optional[int] = None\n",
    "\n",
    "    def __call__(self, features: List[Dict[str, Union[List[int], torch.Tensor]]]) -> Dict[str, torch.Tensor]:\n",
    "        # split inputs and labels since they have to be of different lenghts and need\n",
    "        # different padding methods\n",
    "        input_features = [{\"input_values\": feature[\"input_values\"]} for feature in features]\n",
    "        label_features = [{\"input_ids\": feature[\"labels\"]} for feature in features]\n",
    "\n",
    "        batch = self.processor.pad(\n",
    "            input_features,\n",
    "            padding=self.padding,\n",
    "            max_length=self.max_length,\n",
    "            pad_to_multiple_of=self.pad_to_multiple_of,\n",
    "            return_tensors=\"pt\",\n",
    "        )\n",
    "        with self.processor.as_target_processor():\n",
    "            labels_batch = self.processor.pad(\n",
    "                label_features,\n",
    "                padding=self.padding,\n",
    "                max_length=self.max_length_labels,\n",
    "                pad_to_multiple_of=self.pad_to_multiple_of_labels,\n",
    "                return_tensors=\"pt\",\n",
    "            )\n",
    "\n",
    "        # replace padding with -100 to ignore loss correctly\n",
    "        labels = labels_batch[\"input_ids\"].masked_fill(labels_batch.attention_mask.ne(1), -100)\n",
    "\n",
    "        batch[\"labels\"] = labels\n",
    "\n",
    "        return batch"
   ]
  },
  {
   "cell_type": "code",
   "execution_count": 35,
   "metadata": {},
   "outputs": [],
   "source": [
    "data_collator = DataCollatorCTCWithPadding(processor=processor, padding=True)"
   ]
  },
  {
   "cell_type": "markdown",
   "metadata": {},
   "source": [
    "### Metric"
   ]
  },
  {
   "cell_type": "markdown",
   "metadata": {},
   "source": [
    "We use word error rate with space as word boundary. We created those spaces using `pythainlp.tokenize.word_tokenize` (2.3.1). We also use character error rate without word boundaries."
   ]
  },
  {
   "cell_type": "code",
   "execution_count": 36,
   "metadata": {},
   "outputs": [],
   "source": [
    "wer_metric = load_metric(\"wer\")"
   ]
  },
  {
   "cell_type": "code",
   "execution_count": 37,
   "metadata": {},
   "outputs": [],
   "source": [
    "# wer_metric.compute(predictions=['สวัสดี ค่า ทุก โคน'],references=['สวัสดี ค่ะ ทุก คน'])"
   ]
  },
  {
   "cell_type": "code",
   "execution_count": 38,
   "metadata": {},
   "outputs": [],
   "source": [
    "cer_metric = load_metric('cer')"
   ]
  },
  {
   "cell_type": "code",
   "execution_count": 39,
   "metadata": {},
   "outputs": [],
   "source": [
    "# cer_metric.compute(predictions=['สวัสดี ค่า ทุก โคน'],references=['สวัสดี ค่ะ ทุก คน'])"
   ]
  },
  {
   "cell_type": "code",
   "execution_count": 40,
   "metadata": {},
   "outputs": [],
   "source": [
    "# cer_metric.compute(predictions=['สวัสดีค่าทุกโคน'],references=['สวัสดีค่ะทุกคน'])"
   ]
  },
  {
   "cell_type": "code",
   "execution_count": 41,
   "metadata": {},
   "outputs": [],
   "source": [
    "def compute_metrics(pred, processor, metric):\n",
    "    pred_logits = pred.predictions\n",
    "    pred_ids = np.argmax(pred_logits, axis=-1)\n",
    "\n",
    "    pred.label_ids[pred.label_ids == -100] = processor.tokenizer.pad_token_id\n",
    "\n",
    "    pred_str = processor.batch_decode(pred_ids)\n",
    "    # we do not want to group tokens when computing the metrics\n",
    "    label_str = processor.batch_decode(pred.label_ids, group_tokens=False)\n",
    "\n",
    "    wer = wer_metric.compute(predictions=pred_str, references=label_str)\n",
    "\n",
    "    return {\"wer\": wer}"
   ]
  },
  {
   "cell_type": "markdown",
   "metadata": {},
   "source": [
    "### Model"
   ]
  },
  {
   "cell_type": "markdown",
   "metadata": {},
   "source": [
    "We use the pretrained `facebook/wav2vec2-large-xlsr-53`. The training script is `scripts/wav2vec_finetune.py`."
   ]
  },
  {
   "cell_type": "code",
   "execution_count": 42,
   "metadata": {},
   "outputs": [
    {
     "name": "stderr",
     "output_type": "stream",
     "text": [
      "Some weights of the model checkpoint at facebook/wav2vec2-large-xlsr-53 were not used when initializing Wav2Vec2ForCTC: ['project_hid.weight', 'project_q.weight', 'quantizer.weight_proj.bias', 'quantizer.codevectors', 'project_hid.bias', 'quantizer.weight_proj.weight', 'project_q.bias']\n",
      "- This IS expected if you are initializing Wav2Vec2ForCTC from the checkpoint of a model trained on another task or with another architecture (e.g. initializing a BertForSequenceClassification model from a BertForPreTraining model).\n",
      "- This IS NOT expected if you are initializing Wav2Vec2ForCTC from the checkpoint of a model that you expect to be exactly identical (initializing a BertForSequenceClassification model from a BertForSequenceClassification model).\n",
      "Some weights of Wav2Vec2ForCTC were not initialized from the model checkpoint at facebook/wav2vec2-large-xlsr-53 and are newly initialized: ['lm_head.weight', 'lm_head.bias']\n",
      "You should probably TRAIN this model on a down-stream task to be able to use it for predictions and inference.\n"
     ]
    }
   ],
   "source": [
    "model = Wav2Vec2ForCTC.from_pretrained(\n",
    "    \"facebook/wav2vec2-large-xlsr-53\",\n",
    "    attention_dropout=0.1,\n",
    "    hidden_dropout=0.1,\n",
    "    feat_proj_dropout=0.0,\n",
    "    mask_time_prob=0.05,\n",
    "    layerdrop=0.1,\n",
    "    gradient_checkpointing=True,\n",
    "    ctc_loss_reduction=\"mean\",\n",
    "    pad_token_id=processor.tokenizer.pad_token_id,\n",
    "    vocab_size=len(processor.tokenizer)\n",
    ")"
   ]
  },
  {
   "cell_type": "markdown",
   "metadata": {},
   "source": [
    "We do not finetune the feature extractor layer."
   ]
  },
  {
   "cell_type": "code",
   "execution_count": 43,
   "metadata": {},
   "outputs": [],
   "source": [
    "model.freeze_feature_encoder()"
   ]
  },
  {
   "cell_type": "code",
   "execution_count": 44,
   "metadata": {},
   "outputs": [],
   "source": [
    "training_args = TrainingArguments(\n",
    "    output_dir=\"../data/wav2vec2-large-xlsr-53-ur\",\n",
    "    group_by_length=True,\n",
    "    per_device_train_batch_size=16,\n",
    "    gradient_accumulation_steps=1,\n",
    "    per_device_eval_batch_size=8,\n",
    "    metric_for_best_model='wer',\n",
    "    evaluation_strategy=\"steps\",\n",
    "    eval_steps=500,\n",
    "    logging_strategy=\"steps\",\n",
    "    logging_steps=100,\n",
    "    save_strategy=\"steps\",\n",
    "    save_steps=1000,\n",
    "    num_train_epochs=60,\n",
    "    fp16=True,\n",
    "    learning_rate=1e-4,\n",
    "    warmup_steps=1000,\n",
    "    save_total_limit=3\n",
    ")"
   ]
  },
  {
   "cell_type": "code",
   "execution_count": 45,
   "metadata": {},
   "outputs": [
    {
     "name": "stderr",
     "output_type": "stream",
     "text": [
      "Using amp half precision backend\n"
     ]
    }
   ],
   "source": [
    "trainer = Trainer(\n",
    "    model=model,\n",
    "    data_collator=data_collator,\n",
    "    args=training_args,\n",
    "    compute_metrics=partial(compute_metrics, metric=wer_metric, processor=processor),\n",
    "    train_dataset=prepared_datasets[\"train\"],\n",
    "    eval_dataset=prepared_datasets[\"validation\"],\n",
    "    tokenizer=processor.feature_extractor,\n",
    "    \n",
    ")"
   ]
  },
  {
   "cell_type": "code",
   "execution_count": 46,
   "metadata": {},
   "outputs": [],
   "source": [
    "# torch.cuda.empty_cache()"
   ]
  },
  {
   "cell_type": "code",
   "execution_count": 47,
   "metadata": {},
   "outputs": [
    {
     "name": "stderr",
     "output_type": "stream",
     "text": [
      "/home/saad/anaconda3/envs/wav2/lib/python3.7/site-packages/transformers/optimization.py:309: FutureWarning: This implementation of AdamW is deprecated and will be removed in a future version. Use the PyTorch implementation torch.optim.AdamW instead, or set `no_deprecation_warning=True` to disable this warning\n",
      "  FutureWarning,\n",
      "***** Running training *****\n",
      "  Num examples = 3156\n",
      "  Num Epochs = 60\n",
      "  Instantaneous batch size per device = 16\n",
      "  Total train batch size (w. parallel, distributed & accumulation) = 16\n",
      "  Gradient Accumulation steps = 1\n",
      "  Total optimization steps = 11880\n"
     ]
    },
    {
     "data": {
      "text/html": [
       "\n",
       "    <div>\n",
       "      \n",
       "      <progress value='11880' max='11880' style='width:300px; height:20px; vertical-align: middle;'></progress>\n",
       "      [11880/11880 3:27:35, Epoch 60/60]\n",
       "    </div>\n",
       "    <table border=\"1\" class=\"dataframe\">\n",
       "  <thead>\n",
       " <tr style=\"text-align: left;\">\n",
       "      <th>Step</th>\n",
       "      <th>Training Loss</th>\n",
       "      <th>Validation Loss</th>\n",
       "      <th>Wer</th>\n",
       "    </tr>\n",
       "  </thead>\n",
       "  <tbody>\n",
       "    <tr>\n",
       "      <td>500</td>\n",
       "      <td>2.825200</td>\n",
       "      <td>3.309466</td>\n",
       "      <td>1.000000</td>\n",
       "    </tr>\n",
       "    <tr>\n",
       "      <td>1000</td>\n",
       "      <td>2.583700</td>\n",
       "      <td>2.823800</td>\n",
       "      <td>1.000000</td>\n",
       "    </tr>\n",
       "    <tr>\n",
       "      <td>1500</td>\n",
       "      <td>1.814800</td>\n",
       "      <td>1.421954</td>\n",
       "      <td>0.844166</td>\n",
       "    </tr>\n",
       "    <tr>\n",
       "      <td>2000</td>\n",
       "      <td>0.855900</td>\n",
       "      <td>0.552761</td>\n",
       "      <td>0.525232</td>\n",
       "    </tr>\n",
       "    <tr>\n",
       "      <td>2500</td>\n",
       "      <td>0.628000</td>\n",
       "      <td>0.339862</td>\n",
       "      <td>0.427130</td>\n",
       "    </tr>\n",
       "    <tr>\n",
       "      <td>3000</td>\n",
       "      <td>0.515400</td>\n",
       "      <td>0.251664</td>\n",
       "      <td>0.362939</td>\n",
       "    </tr>\n",
       "    <tr>\n",
       "      <td>3500</td>\n",
       "      <td>0.435400</td>\n",
       "      <td>0.188251</td>\n",
       "      <td>0.308438</td>\n",
       "    </tr>\n",
       "    <tr>\n",
       "      <td>4000</td>\n",
       "      <td>0.377100</td>\n",
       "      <td>0.152009</td>\n",
       "      <td>0.285830</td>\n",
       "    </tr>\n",
       "    <tr>\n",
       "      <td>4500</td>\n",
       "      <td>0.347700</td>\n",
       "      <td>0.121236</td>\n",
       "      <td>0.254744</td>\n",
       "    </tr>\n",
       "    <tr>\n",
       "      <td>5000</td>\n",
       "      <td>0.302600</td>\n",
       "      <td>0.095221</td>\n",
       "      <td>0.240210</td>\n",
       "    </tr>\n",
       "    <tr>\n",
       "      <td>5500</td>\n",
       "      <td>0.277900</td>\n",
       "      <td>0.080152</td>\n",
       "      <td>0.217602</td>\n",
       "    </tr>\n",
       "    <tr>\n",
       "      <td>6000</td>\n",
       "      <td>0.272000</td>\n",
       "      <td>0.070285</td>\n",
       "      <td>0.202665</td>\n",
       "    </tr>\n",
       "    <tr>\n",
       "      <td>6500</td>\n",
       "      <td>0.245400</td>\n",
       "      <td>0.059291</td>\n",
       "      <td>0.193379</td>\n",
       "    </tr>\n",
       "    <tr>\n",
       "      <td>7000</td>\n",
       "      <td>0.233800</td>\n",
       "      <td>0.050548</td>\n",
       "      <td>0.189342</td>\n",
       "    </tr>\n",
       "    <tr>\n",
       "      <td>7500</td>\n",
       "      <td>0.199000</td>\n",
       "      <td>0.046510</td>\n",
       "      <td>0.180057</td>\n",
       "    </tr>\n",
       "    <tr>\n",
       "      <td>8000</td>\n",
       "      <td>0.188700</td>\n",
       "      <td>0.040466</td>\n",
       "      <td>0.174001</td>\n",
       "    </tr>\n",
       "    <tr>\n",
       "      <td>8500</td>\n",
       "      <td>0.186800</td>\n",
       "      <td>0.032845</td>\n",
       "      <td>0.165523</td>\n",
       "    </tr>\n",
       "    <tr>\n",
       "      <td>9000</td>\n",
       "      <td>0.168700</td>\n",
       "      <td>0.032138</td>\n",
       "      <td>0.165523</td>\n",
       "    </tr>\n",
       "    <tr>\n",
       "      <td>9500</td>\n",
       "      <td>0.161400</td>\n",
       "      <td>0.027830</td>\n",
       "      <td>0.160678</td>\n",
       "    </tr>\n",
       "    <tr>\n",
       "      <td>10000</td>\n",
       "      <td>0.138400</td>\n",
       "      <td>0.026009</td>\n",
       "      <td>0.159063</td>\n",
       "    </tr>\n",
       "    <tr>\n",
       "      <td>10500</td>\n",
       "      <td>0.156800</td>\n",
       "      <td>0.023451</td>\n",
       "      <td>0.159063</td>\n",
       "    </tr>\n",
       "    <tr>\n",
       "      <td>11000</td>\n",
       "      <td>0.152700</td>\n",
       "      <td>0.022769</td>\n",
       "      <td>0.156237</td>\n",
       "    </tr>\n",
       "    <tr>\n",
       "      <td>11500</td>\n",
       "      <td>0.139800</td>\n",
       "      <td>0.022410</td>\n",
       "      <td>0.156237</td>\n",
       "    </tr>\n",
       "  </tbody>\n",
       "</table><p>"
      ],
      "text/plain": [
       "<IPython.core.display.HTML object>"
      ]
     },
     "metadata": {},
     "output_type": "display_data"
    },
    {
     "name": "stderr",
     "output_type": "stream",
     "text": [
      "***** Running Evaluation *****\n",
      "  Num examples = 341\n",
      "  Batch size = 8\n",
      "***** Running Evaluation *****\n",
      "  Num examples = 341\n",
      "  Batch size = 8\n",
      "Saving model checkpoint to ../data/wav2vec2-large-xlsr-53-ur/checkpoint-1000\n",
      "Configuration saved in ../data/wav2vec2-large-xlsr-53-ur/checkpoint-1000/config.json\n",
      "Model weights saved in ../data/wav2vec2-large-xlsr-53-ur/checkpoint-1000/pytorch_model.bin\n",
      "Feature extractor saved in ../data/wav2vec2-large-xlsr-53-ur/checkpoint-1000/preprocessor_config.json\n",
      "***** Running Evaluation *****\n",
      "  Num examples = 341\n",
      "  Batch size = 8\n",
      "***** Running Evaluation *****\n",
      "  Num examples = 341\n",
      "  Batch size = 8\n",
      "Saving model checkpoint to ../data/wav2vec2-large-xlsr-53-ur/checkpoint-2000\n",
      "Configuration saved in ../data/wav2vec2-large-xlsr-53-ur/checkpoint-2000/config.json\n",
      "Model weights saved in ../data/wav2vec2-large-xlsr-53-ur/checkpoint-2000/pytorch_model.bin\n",
      "Feature extractor saved in ../data/wav2vec2-large-xlsr-53-ur/checkpoint-2000/preprocessor_config.json\n",
      "Deleting older checkpoint [../data/wav2vec2-large-xlsr-53-ur/checkpoint-8000] due to args.save_total_limit\n",
      "***** Running Evaluation *****\n",
      "  Num examples = 341\n",
      "  Batch size = 8\n",
      "***** Running Evaluation *****\n",
      "  Num examples = 341\n",
      "  Batch size = 8\n",
      "Saving model checkpoint to ../data/wav2vec2-large-xlsr-53-ur/checkpoint-3000\n",
      "Configuration saved in ../data/wav2vec2-large-xlsr-53-ur/checkpoint-3000/config.json\n",
      "Model weights saved in ../data/wav2vec2-large-xlsr-53-ur/checkpoint-3000/pytorch_model.bin\n",
      "Feature extractor saved in ../data/wav2vec2-large-xlsr-53-ur/checkpoint-3000/preprocessor_config.json\n",
      "Deleting older checkpoint [../data/wav2vec2-large-xlsr-53-ur/checkpoint-9000] due to args.save_total_limit\n",
      "***** Running Evaluation *****\n",
      "  Num examples = 341\n",
      "  Batch size = 8\n",
      "***** Running Evaluation *****\n",
      "  Num examples = 341\n",
      "  Batch size = 8\n",
      "Saving model checkpoint to ../data/wav2vec2-large-xlsr-53-ur/checkpoint-4000\n",
      "Configuration saved in ../data/wav2vec2-large-xlsr-53-ur/checkpoint-4000/config.json\n",
      "Model weights saved in ../data/wav2vec2-large-xlsr-53-ur/checkpoint-4000/pytorch_model.bin\n",
      "Feature extractor saved in ../data/wav2vec2-large-xlsr-53-ur/checkpoint-4000/preprocessor_config.json\n",
      "Deleting older checkpoint [../data/wav2vec2-large-xlsr-53-ur/checkpoint-2000] due to args.save_total_limit\n",
      "***** Running Evaluation *****\n",
      "  Num examples = 341\n",
      "  Batch size = 8\n",
      "***** Running Evaluation *****\n",
      "  Num examples = 341\n",
      "  Batch size = 8\n",
      "Saving model checkpoint to ../data/wav2vec2-large-xlsr-53-ur/checkpoint-5000\n",
      "Configuration saved in ../data/wav2vec2-large-xlsr-53-ur/checkpoint-5000/config.json\n",
      "Model weights saved in ../data/wav2vec2-large-xlsr-53-ur/checkpoint-5000/pytorch_model.bin\n",
      "Feature extractor saved in ../data/wav2vec2-large-xlsr-53-ur/checkpoint-5000/preprocessor_config.json\n",
      "Deleting older checkpoint [../data/wav2vec2-large-xlsr-53-ur/checkpoint-3000] due to args.save_total_limit\n",
      "***** Running Evaluation *****\n",
      "  Num examples = 341\n",
      "  Batch size = 8\n",
      "***** Running Evaluation *****\n",
      "  Num examples = 341\n",
      "  Batch size = 8\n",
      "Saving model checkpoint to ../data/wav2vec2-large-xlsr-53-ur/checkpoint-6000\n",
      "Configuration saved in ../data/wav2vec2-large-xlsr-53-ur/checkpoint-6000/config.json\n",
      "Model weights saved in ../data/wav2vec2-large-xlsr-53-ur/checkpoint-6000/pytorch_model.bin\n",
      "Feature extractor saved in ../data/wav2vec2-large-xlsr-53-ur/checkpoint-6000/preprocessor_config.json\n",
      "Deleting older checkpoint [../data/wav2vec2-large-xlsr-53-ur/checkpoint-4000] due to args.save_total_limit\n",
      "***** Running Evaluation *****\n",
      "  Num examples = 341\n",
      "  Batch size = 8\n",
      "***** Running Evaluation *****\n",
      "  Num examples = 341\n",
      "  Batch size = 8\n",
      "Saving model checkpoint to ../data/wav2vec2-large-xlsr-53-ur/checkpoint-7000\n",
      "Configuration saved in ../data/wav2vec2-large-xlsr-53-ur/checkpoint-7000/config.json\n",
      "Model weights saved in ../data/wav2vec2-large-xlsr-53-ur/checkpoint-7000/pytorch_model.bin\n",
      "Feature extractor saved in ../data/wav2vec2-large-xlsr-53-ur/checkpoint-7000/preprocessor_config.json\n",
      "Deleting older checkpoint [../data/wav2vec2-large-xlsr-53-ur/checkpoint-5000] due to args.save_total_limit\n",
      "***** Running Evaluation *****\n",
      "  Num examples = 341\n",
      "  Batch size = 8\n",
      "***** Running Evaluation *****\n",
      "  Num examples = 341\n",
      "  Batch size = 8\n",
      "Saving model checkpoint to ../data/wav2vec2-large-xlsr-53-ur/checkpoint-8000\n",
      "Configuration saved in ../data/wav2vec2-large-xlsr-53-ur/checkpoint-8000/config.json\n",
      "Model weights saved in ../data/wav2vec2-large-xlsr-53-ur/checkpoint-8000/pytorch_model.bin\n",
      "Feature extractor saved in ../data/wav2vec2-large-xlsr-53-ur/checkpoint-8000/preprocessor_config.json\n",
      "Deleting older checkpoint [../data/wav2vec2-large-xlsr-53-ur/checkpoint-6000] due to args.save_total_limit\n",
      "***** Running Evaluation *****\n",
      "  Num examples = 341\n",
      "  Batch size = 8\n",
      "***** Running Evaluation *****\n",
      "  Num examples = 341\n",
      "  Batch size = 8\n",
      "Saving model checkpoint to ../data/wav2vec2-large-xlsr-53-ur/checkpoint-9000\n",
      "Configuration saved in ../data/wav2vec2-large-xlsr-53-ur/checkpoint-9000/config.json\n",
      "Model weights saved in ../data/wav2vec2-large-xlsr-53-ur/checkpoint-9000/pytorch_model.bin\n",
      "Feature extractor saved in ../data/wav2vec2-large-xlsr-53-ur/checkpoint-9000/preprocessor_config.json\n",
      "Deleting older checkpoint [../data/wav2vec2-large-xlsr-53-ur/checkpoint-7000] due to args.save_total_limit\n",
      "***** Running Evaluation *****\n",
      "  Num examples = 341\n",
      "  Batch size = 8\n",
      "***** Running Evaluation *****\n",
      "  Num examples = 341\n",
      "  Batch size = 8\n",
      "Saving model checkpoint to ../data/wav2vec2-large-xlsr-53-ur/checkpoint-10000\n",
      "Configuration saved in ../data/wav2vec2-large-xlsr-53-ur/checkpoint-10000/config.json\n",
      "Model weights saved in ../data/wav2vec2-large-xlsr-53-ur/checkpoint-10000/pytorch_model.bin\n",
      "Feature extractor saved in ../data/wav2vec2-large-xlsr-53-ur/checkpoint-10000/preprocessor_config.json\n",
      "Deleting older checkpoint [../data/wav2vec2-large-xlsr-53-ur/checkpoint-8000] due to args.save_total_limit\n",
      "***** Running Evaluation *****\n",
      "  Num examples = 341\n",
      "  Batch size = 8\n",
      "***** Running Evaluation *****\n",
      "  Num examples = 341\n",
      "  Batch size = 8\n",
      "Saving model checkpoint to ../data/wav2vec2-large-xlsr-53-ur/checkpoint-11000\n",
      "Configuration saved in ../data/wav2vec2-large-xlsr-53-ur/checkpoint-11000/config.json\n",
      "Model weights saved in ../data/wav2vec2-large-xlsr-53-ur/checkpoint-11000/pytorch_model.bin\n",
      "Feature extractor saved in ../data/wav2vec2-large-xlsr-53-ur/checkpoint-11000/preprocessor_config.json\n",
      "Deleting older checkpoint [../data/wav2vec2-large-xlsr-53-ur/checkpoint-9000] due to args.save_total_limit\n",
      "***** Running Evaluation *****\n",
      "  Num examples = 341\n",
      "  Batch size = 8\n",
      "\n",
      "\n",
      "Training completed. Do not forget to share your model on huggingface.co/models =)\n",
      "\n",
      "\n"
     ]
    },
    {
     "data": {
      "text/plain": [
       "TrainOutput(global_step=11880, training_loss=0.819796867563267, metrics={'train_runtime': 12457.5357, 'train_samples_per_second': 15.2, 'train_steps_per_second': 0.954, 'total_flos': 2.8627340719717073e+19, 'train_loss': 0.819796867563267, 'epoch': 60.0})"
      ]
     },
     "execution_count": 47,
     "metadata": {},
     "output_type": "execute_result"
    }
   ],
   "source": [
    "\n",
    "trainer.train()"
   ]
  },
  {
   "cell_type": "markdown",
   "metadata": {},
   "source": [
    "## Inference and Evaluation"
   ]
  },
  {
   "cell_type": "markdown",
   "metadata": {},
   "source": [
    "We load the test split, re-splitted from the official Common Voice in order to 1) avoid data leakage from random sampling done on the official splits and 2) increase training set size according to [ekapolc/Thai_commonvoice_split](https://github.com/ekapolc/Thai_commonvoice_split)."
   ]
  },
  {
   "cell_type": "code",
   "execution_count": 3,
   "metadata": {},
   "outputs": [
    {
     "name": "stderr",
     "output_type": "stream",
     "text": [
      "Reusing dataset common_voice (/home/saad/.cache/huggingface/datasets/common_voice/ur/7.0.0/22f498ef791fb449d0ba8185660e0dd2cee815f02b179584bf3fa87098086dac)\n"
     ]
    }
   ],
   "source": [
    "test_dataset = load_dataset(\"../scripts/th_common_voice_70.py\", \"ur\", split=\"test\")\n"
   ]
  },
  {
   "cell_type": "code",
   "execution_count": 4,
   "metadata": {},
   "outputs": [],
   "source": [
    "from transformers import AutoProcessor"
   ]
  },
  {
   "cell_type": "markdown",
   "metadata": {},
   "source": [
    "Load pretrained model and processor to process the test dataset."
   ]
  },
  {
   "cell_type": "code",
   "execution_count": 5,
   "metadata": {},
   "outputs": [
    {
     "name": "stderr",
     "output_type": "stream",
     "text": [
      "Special tokens have been added in the vocabulary, make sure the associated word embeddings are fine-tuned or trained.\n"
     ]
    }
   ],
   "source": [
    "processor = AutoProcessor.from_pretrained(\"../data/wav2vec2-large-xlsr-53-ur/checkpoint-11000\")\n",
    "model = Wav2Vec2ForCTC.from_pretrained(\"../data/wav2vec2-large-xlsr-53-ur/checkpoint-11000\")\n"
   ]
  },
  {
   "cell_type": "code",
   "execution_count": null,
   "metadata": {},
   "outputs": [],
   "source": []
  },
  {
   "cell_type": "code",
   "execution_count": 25,
   "metadata": {},
   "outputs": [
    {
     "data": {
      "text/plain": [
       "'</s> <s> [PAD] [UNK] | \\u0600 \\u0601 \\u0602 \\u0603 ، ؍ ؎ ؏ ؐ ؑ ؒ ؓ ؔ ؕ ؛ ؟ ء آ أ ؤ ئ ا ب ت ث ج ح خ د ذ ر ز س ش ص ض ط ظ ع غ ف ق ل م ن و ً ٌ ٍ َ ُ ِ ّ ْ ٓ ٔ ٖ ٗ ٘ ٪ ٫ ٬ ٰ ٹ پ چ ڈ ڑ ژ ک گ ں ھ ہ ۂ ۃ ی ے ۓ ۔ ۰ ۱ ۲ ۳ ۴ ۵ ۶ ۷ ۸ ۹'"
      ]
     },
     "execution_count": 25,
     "metadata": {},
     "output_type": "execute_result"
    }
   ],
   "source": [
    "\" \".join(sorted(processor.tokenizer.get_vocab()))"
   ]
  },
  {
   "cell_type": "code",
   "execution_count": 26,
   "metadata": {},
   "outputs": [],
   "source": [
    "vocab_dict = processor.tokenizer.get_vocab()\n",
    "sorted_vocab_dict = {k.lower(): v for k, v in sorted(vocab_dict.items(), key=lambda item: item[1])}"
   ]
  },
  {
   "cell_type": "code",
   "execution_count": 27,
   "metadata": {},
   "outputs": [
    {
     "name": "stderr",
     "output_type": "stream",
     "text": [
      "Unigrams not provided and cannot be automatically determined from LM file (only arpa format). Decoding accuracy might be reduced.\n",
      "Found entries of length > 1 in alphabet. This is unusual unless style is BPE, but the alphabet was not recognized as BPE type. Is this correct?\n",
      "No known unigrams provided, decoding results might be a lot worse.\n"
     ]
    }
   ],
   "source": [
    "from pyctcdecode import build_ctcdecoder\n",
    "import kenlm\n",
    "ken= \"../data/model_with_lm1/language_model/urdu.bin\"\n",
    "# ken= \"../urdu_saad.arpa\"\n",
    "\n",
    "decoder = build_ctcdecoder(\n",
    "     labels=list(sorted_vocab_dict.keys()),\n",
    "    kenlm_model_path=ken  # tuned on a val set\n",
    ")"
   ]
  },
  {
   "cell_type": "code",
   "execution_count": 28,
   "metadata": {},
   "outputs": [],
   "source": [
    "from transformers import Wav2Vec2ProcessorWithLM\n",
    "\n",
    "processor= Wav2Vec2ProcessorWithLM(\n",
    "    feature_extractor=processor.feature_extractor,\n",
    "    tokenizer=processor.tokenizer,\n",
    "    decoder=decoder\n",
    ")"
   ]
  },
  {
   "cell_type": "code",
   "execution_count": 29,
   "metadata": {},
   "outputs": [],
   "source": [
    "# processor.save_pretrained(\"../data/model_with_lm1\")"
   ]
  },
  {
   "cell_type": "code",
   "execution_count": null,
   "metadata": {},
   "outputs": [],
   "source": []
  },
  {
   "cell_type": "code",
   "execution_count": 30,
   "metadata": {},
   "outputs": [
    {
     "data": {
      "application/vnd.jupyter.widget-view+json": {
       "model_id": "25fd0745e13641a0be5b06d248994c11",
       "version_major": 2,
       "version_minor": 0
      },
      "text/plain": [
       "0ex [00:00, ?ex/s]"
      ]
     },
     "metadata": {},
     "output_type": "display_data"
    }
   ],
   "source": [
    "def speech_file_to_array_fn(batch, \n",
    "                            text_col=\"sentence\", \n",
    "                            fname_col=\"path\",\n",
    "                            resampling_to=16000):\n",
    "    speech_array, sampling_rate = torchaudio.load(batch[fname_col])\n",
    "    resampler=torchaudio.transforms.Resample(sampling_rate, resampling_to)\n",
    "    batch[\"speech\"] = resampler(speech_array)[0].numpy()\n",
    "    batch[\"sampling_rate\"] = resampling_to\n",
    "    batch[\"target_text\"] = batch[text_col]\n",
    "    return batch\n",
    "\n",
    "test_dataset = test_dataset.map(speech_file_to_array_fn)\n",
    "inputs = processor(test_dataset[\"speech\"][:4], sampling_rate=16_000, return_tensors=\"pt\", padding=True)"
   ]
  },
  {
   "cell_type": "code",
   "execution_count": 31,
   "metadata": {},
   "outputs": [
    {
     "data": {
      "text/plain": [
       "Wav2Vec2ForCTC(\n",
       "  (wav2vec2): Wav2Vec2Model(\n",
       "    (feature_extractor): Wav2Vec2FeatureEncoder(\n",
       "      (conv_layers): ModuleList(\n",
       "        (0): Wav2Vec2LayerNormConvLayer(\n",
       "          (conv): Conv1d(1, 512, kernel_size=(10,), stride=(5,))\n",
       "          (layer_norm): LayerNorm((512,), eps=1e-05, elementwise_affine=True)\n",
       "          (activation): GELUActivation()\n",
       "        )\n",
       "        (1): Wav2Vec2LayerNormConvLayer(\n",
       "          (conv): Conv1d(512, 512, kernel_size=(3,), stride=(2,))\n",
       "          (layer_norm): LayerNorm((512,), eps=1e-05, elementwise_affine=True)\n",
       "          (activation): GELUActivation()\n",
       "        )\n",
       "        (2): Wav2Vec2LayerNormConvLayer(\n",
       "          (conv): Conv1d(512, 512, kernel_size=(3,), stride=(2,))\n",
       "          (layer_norm): LayerNorm((512,), eps=1e-05, elementwise_affine=True)\n",
       "          (activation): GELUActivation()\n",
       "        )\n",
       "        (3): Wav2Vec2LayerNormConvLayer(\n",
       "          (conv): Conv1d(512, 512, kernel_size=(3,), stride=(2,))\n",
       "          (layer_norm): LayerNorm((512,), eps=1e-05, elementwise_affine=True)\n",
       "          (activation): GELUActivation()\n",
       "        )\n",
       "        (4): Wav2Vec2LayerNormConvLayer(\n",
       "          (conv): Conv1d(512, 512, kernel_size=(3,), stride=(2,))\n",
       "          (layer_norm): LayerNorm((512,), eps=1e-05, elementwise_affine=True)\n",
       "          (activation): GELUActivation()\n",
       "        )\n",
       "        (5): Wav2Vec2LayerNormConvLayer(\n",
       "          (conv): Conv1d(512, 512, kernel_size=(2,), stride=(2,))\n",
       "          (layer_norm): LayerNorm((512,), eps=1e-05, elementwise_affine=True)\n",
       "          (activation): GELUActivation()\n",
       "        )\n",
       "        (6): Wav2Vec2LayerNormConvLayer(\n",
       "          (conv): Conv1d(512, 512, kernel_size=(2,), stride=(2,))\n",
       "          (layer_norm): LayerNorm((512,), eps=1e-05, elementwise_affine=True)\n",
       "          (activation): GELUActivation()\n",
       "        )\n",
       "      )\n",
       "    )\n",
       "    (feature_projection): Wav2Vec2FeatureProjection(\n",
       "      (layer_norm): LayerNorm((512,), eps=1e-05, elementwise_affine=True)\n",
       "      (projection): Linear(in_features=512, out_features=1024, bias=True)\n",
       "      (dropout): Dropout(p=0.0, inplace=False)\n",
       "    )\n",
       "    (encoder): Wav2Vec2EncoderStableLayerNorm(\n",
       "      (pos_conv_embed): Wav2Vec2PositionalConvEmbedding(\n",
       "        (conv): Conv1d(1024, 1024, kernel_size=(128,), stride=(1,), padding=(64,), groups=16)\n",
       "        (padding): Wav2Vec2SamePadLayer()\n",
       "        (activation): GELUActivation()\n",
       "      )\n",
       "      (layer_norm): LayerNorm((1024,), eps=1e-05, elementwise_affine=True)\n",
       "      (dropout): Dropout(p=0.1, inplace=False)\n",
       "      (layers): ModuleList(\n",
       "        (0): Wav2Vec2EncoderLayerStableLayerNorm(\n",
       "          (attention): Wav2Vec2Attention(\n",
       "            (k_proj): Linear(in_features=1024, out_features=1024, bias=True)\n",
       "            (v_proj): Linear(in_features=1024, out_features=1024, bias=True)\n",
       "            (q_proj): Linear(in_features=1024, out_features=1024, bias=True)\n",
       "            (out_proj): Linear(in_features=1024, out_features=1024, bias=True)\n",
       "          )\n",
       "          (dropout): Dropout(p=0.1, inplace=False)\n",
       "          (layer_norm): LayerNorm((1024,), eps=1e-05, elementwise_affine=True)\n",
       "          (feed_forward): Wav2Vec2FeedForward(\n",
       "            (intermediate_dropout): Dropout(p=0.0, inplace=False)\n",
       "            (intermediate_dense): Linear(in_features=1024, out_features=4096, bias=True)\n",
       "            (intermediate_act_fn): GELUActivation()\n",
       "            (output_dense): Linear(in_features=4096, out_features=1024, bias=True)\n",
       "            (output_dropout): Dropout(p=0.1, inplace=False)\n",
       "          )\n",
       "          (final_layer_norm): LayerNorm((1024,), eps=1e-05, elementwise_affine=True)\n",
       "        )\n",
       "        (1): Wav2Vec2EncoderLayerStableLayerNorm(\n",
       "          (attention): Wav2Vec2Attention(\n",
       "            (k_proj): Linear(in_features=1024, out_features=1024, bias=True)\n",
       "            (v_proj): Linear(in_features=1024, out_features=1024, bias=True)\n",
       "            (q_proj): Linear(in_features=1024, out_features=1024, bias=True)\n",
       "            (out_proj): Linear(in_features=1024, out_features=1024, bias=True)\n",
       "          )\n",
       "          (dropout): Dropout(p=0.1, inplace=False)\n",
       "          (layer_norm): LayerNorm((1024,), eps=1e-05, elementwise_affine=True)\n",
       "          (feed_forward): Wav2Vec2FeedForward(\n",
       "            (intermediate_dropout): Dropout(p=0.0, inplace=False)\n",
       "            (intermediate_dense): Linear(in_features=1024, out_features=4096, bias=True)\n",
       "            (intermediate_act_fn): GELUActivation()\n",
       "            (output_dense): Linear(in_features=4096, out_features=1024, bias=True)\n",
       "            (output_dropout): Dropout(p=0.1, inplace=False)\n",
       "          )\n",
       "          (final_layer_norm): LayerNorm((1024,), eps=1e-05, elementwise_affine=True)\n",
       "        )\n",
       "        (2): Wav2Vec2EncoderLayerStableLayerNorm(\n",
       "          (attention): Wav2Vec2Attention(\n",
       "            (k_proj): Linear(in_features=1024, out_features=1024, bias=True)\n",
       "            (v_proj): Linear(in_features=1024, out_features=1024, bias=True)\n",
       "            (q_proj): Linear(in_features=1024, out_features=1024, bias=True)\n",
       "            (out_proj): Linear(in_features=1024, out_features=1024, bias=True)\n",
       "          )\n",
       "          (dropout): Dropout(p=0.1, inplace=False)\n",
       "          (layer_norm): LayerNorm((1024,), eps=1e-05, elementwise_affine=True)\n",
       "          (feed_forward): Wav2Vec2FeedForward(\n",
       "            (intermediate_dropout): Dropout(p=0.0, inplace=False)\n",
       "            (intermediate_dense): Linear(in_features=1024, out_features=4096, bias=True)\n",
       "            (intermediate_act_fn): GELUActivation()\n",
       "            (output_dense): Linear(in_features=4096, out_features=1024, bias=True)\n",
       "            (output_dropout): Dropout(p=0.1, inplace=False)\n",
       "          )\n",
       "          (final_layer_norm): LayerNorm((1024,), eps=1e-05, elementwise_affine=True)\n",
       "        )\n",
       "        (3): Wav2Vec2EncoderLayerStableLayerNorm(\n",
       "          (attention): Wav2Vec2Attention(\n",
       "            (k_proj): Linear(in_features=1024, out_features=1024, bias=True)\n",
       "            (v_proj): Linear(in_features=1024, out_features=1024, bias=True)\n",
       "            (q_proj): Linear(in_features=1024, out_features=1024, bias=True)\n",
       "            (out_proj): Linear(in_features=1024, out_features=1024, bias=True)\n",
       "          )\n",
       "          (dropout): Dropout(p=0.1, inplace=False)\n",
       "          (layer_norm): LayerNorm((1024,), eps=1e-05, elementwise_affine=True)\n",
       "          (feed_forward): Wav2Vec2FeedForward(\n",
       "            (intermediate_dropout): Dropout(p=0.0, inplace=False)\n",
       "            (intermediate_dense): Linear(in_features=1024, out_features=4096, bias=True)\n",
       "            (intermediate_act_fn): GELUActivation()\n",
       "            (output_dense): Linear(in_features=4096, out_features=1024, bias=True)\n",
       "            (output_dropout): Dropout(p=0.1, inplace=False)\n",
       "          )\n",
       "          (final_layer_norm): LayerNorm((1024,), eps=1e-05, elementwise_affine=True)\n",
       "        )\n",
       "        (4): Wav2Vec2EncoderLayerStableLayerNorm(\n",
       "          (attention): Wav2Vec2Attention(\n",
       "            (k_proj): Linear(in_features=1024, out_features=1024, bias=True)\n",
       "            (v_proj): Linear(in_features=1024, out_features=1024, bias=True)\n",
       "            (q_proj): Linear(in_features=1024, out_features=1024, bias=True)\n",
       "            (out_proj): Linear(in_features=1024, out_features=1024, bias=True)\n",
       "          )\n",
       "          (dropout): Dropout(p=0.1, inplace=False)\n",
       "          (layer_norm): LayerNorm((1024,), eps=1e-05, elementwise_affine=True)\n",
       "          (feed_forward): Wav2Vec2FeedForward(\n",
       "            (intermediate_dropout): Dropout(p=0.0, inplace=False)\n",
       "            (intermediate_dense): Linear(in_features=1024, out_features=4096, bias=True)\n",
       "            (intermediate_act_fn): GELUActivation()\n",
       "            (output_dense): Linear(in_features=4096, out_features=1024, bias=True)\n",
       "            (output_dropout): Dropout(p=0.1, inplace=False)\n",
       "          )\n",
       "          (final_layer_norm): LayerNorm((1024,), eps=1e-05, elementwise_affine=True)\n",
       "        )\n",
       "        (5): Wav2Vec2EncoderLayerStableLayerNorm(\n",
       "          (attention): Wav2Vec2Attention(\n",
       "            (k_proj): Linear(in_features=1024, out_features=1024, bias=True)\n",
       "            (v_proj): Linear(in_features=1024, out_features=1024, bias=True)\n",
       "            (q_proj): Linear(in_features=1024, out_features=1024, bias=True)\n",
       "            (out_proj): Linear(in_features=1024, out_features=1024, bias=True)\n",
       "          )\n",
       "          (dropout): Dropout(p=0.1, inplace=False)\n",
       "          (layer_norm): LayerNorm((1024,), eps=1e-05, elementwise_affine=True)\n",
       "          (feed_forward): Wav2Vec2FeedForward(\n",
       "            (intermediate_dropout): Dropout(p=0.0, inplace=False)\n",
       "            (intermediate_dense): Linear(in_features=1024, out_features=4096, bias=True)\n",
       "            (intermediate_act_fn): GELUActivation()\n",
       "            (output_dense): Linear(in_features=4096, out_features=1024, bias=True)\n",
       "            (output_dropout): Dropout(p=0.1, inplace=False)\n",
       "          )\n",
       "          (final_layer_norm): LayerNorm((1024,), eps=1e-05, elementwise_affine=True)\n",
       "        )\n",
       "        (6): Wav2Vec2EncoderLayerStableLayerNorm(\n",
       "          (attention): Wav2Vec2Attention(\n",
       "            (k_proj): Linear(in_features=1024, out_features=1024, bias=True)\n",
       "            (v_proj): Linear(in_features=1024, out_features=1024, bias=True)\n",
       "            (q_proj): Linear(in_features=1024, out_features=1024, bias=True)\n",
       "            (out_proj): Linear(in_features=1024, out_features=1024, bias=True)\n",
       "          )\n",
       "          (dropout): Dropout(p=0.1, inplace=False)\n",
       "          (layer_norm): LayerNorm((1024,), eps=1e-05, elementwise_affine=True)\n",
       "          (feed_forward): Wav2Vec2FeedForward(\n",
       "            (intermediate_dropout): Dropout(p=0.0, inplace=False)\n",
       "            (intermediate_dense): Linear(in_features=1024, out_features=4096, bias=True)\n",
       "            (intermediate_act_fn): GELUActivation()\n",
       "            (output_dense): Linear(in_features=4096, out_features=1024, bias=True)\n",
       "            (output_dropout): Dropout(p=0.1, inplace=False)\n",
       "          )\n",
       "          (final_layer_norm): LayerNorm((1024,), eps=1e-05, elementwise_affine=True)\n",
       "        )\n",
       "        (7): Wav2Vec2EncoderLayerStableLayerNorm(\n",
       "          (attention): Wav2Vec2Attention(\n",
       "            (k_proj): Linear(in_features=1024, out_features=1024, bias=True)\n",
       "            (v_proj): Linear(in_features=1024, out_features=1024, bias=True)\n",
       "            (q_proj): Linear(in_features=1024, out_features=1024, bias=True)\n",
       "            (out_proj): Linear(in_features=1024, out_features=1024, bias=True)\n",
       "          )\n",
       "          (dropout): Dropout(p=0.1, inplace=False)\n",
       "          (layer_norm): LayerNorm((1024,), eps=1e-05, elementwise_affine=True)\n",
       "          (feed_forward): Wav2Vec2FeedForward(\n",
       "            (intermediate_dropout): Dropout(p=0.0, inplace=False)\n",
       "            (intermediate_dense): Linear(in_features=1024, out_features=4096, bias=True)\n",
       "            (intermediate_act_fn): GELUActivation()\n",
       "            (output_dense): Linear(in_features=4096, out_features=1024, bias=True)\n",
       "            (output_dropout): Dropout(p=0.1, inplace=False)\n",
       "          )\n",
       "          (final_layer_norm): LayerNorm((1024,), eps=1e-05, elementwise_affine=True)\n",
       "        )\n",
       "        (8): Wav2Vec2EncoderLayerStableLayerNorm(\n",
       "          (attention): Wav2Vec2Attention(\n",
       "            (k_proj): Linear(in_features=1024, out_features=1024, bias=True)\n",
       "            (v_proj): Linear(in_features=1024, out_features=1024, bias=True)\n",
       "            (q_proj): Linear(in_features=1024, out_features=1024, bias=True)\n",
       "            (out_proj): Linear(in_features=1024, out_features=1024, bias=True)\n",
       "          )\n",
       "          (dropout): Dropout(p=0.1, inplace=False)\n",
       "          (layer_norm): LayerNorm((1024,), eps=1e-05, elementwise_affine=True)\n",
       "          (feed_forward): Wav2Vec2FeedForward(\n",
       "            (intermediate_dropout): Dropout(p=0.0, inplace=False)\n",
       "            (intermediate_dense): Linear(in_features=1024, out_features=4096, bias=True)\n",
       "            (intermediate_act_fn): GELUActivation()\n",
       "            (output_dense): Linear(in_features=4096, out_features=1024, bias=True)\n",
       "            (output_dropout): Dropout(p=0.1, inplace=False)\n",
       "          )\n",
       "          (final_layer_norm): LayerNorm((1024,), eps=1e-05, elementwise_affine=True)\n",
       "        )\n",
       "        (9): Wav2Vec2EncoderLayerStableLayerNorm(\n",
       "          (attention): Wav2Vec2Attention(\n",
       "            (k_proj): Linear(in_features=1024, out_features=1024, bias=True)\n",
       "            (v_proj): Linear(in_features=1024, out_features=1024, bias=True)\n",
       "            (q_proj): Linear(in_features=1024, out_features=1024, bias=True)\n",
       "            (out_proj): Linear(in_features=1024, out_features=1024, bias=True)\n",
       "          )\n",
       "          (dropout): Dropout(p=0.1, inplace=False)\n",
       "          (layer_norm): LayerNorm((1024,), eps=1e-05, elementwise_affine=True)\n",
       "          (feed_forward): Wav2Vec2FeedForward(\n",
       "            (intermediate_dropout): Dropout(p=0.0, inplace=False)\n",
       "            (intermediate_dense): Linear(in_features=1024, out_features=4096, bias=True)\n",
       "            (intermediate_act_fn): GELUActivation()\n",
       "            (output_dense): Linear(in_features=4096, out_features=1024, bias=True)\n",
       "            (output_dropout): Dropout(p=0.1, inplace=False)\n",
       "          )\n",
       "          (final_layer_norm): LayerNorm((1024,), eps=1e-05, elementwise_affine=True)\n",
       "        )\n",
       "        (10): Wav2Vec2EncoderLayerStableLayerNorm(\n",
       "          (attention): Wav2Vec2Attention(\n",
       "            (k_proj): Linear(in_features=1024, out_features=1024, bias=True)\n",
       "            (v_proj): Linear(in_features=1024, out_features=1024, bias=True)\n",
       "            (q_proj): Linear(in_features=1024, out_features=1024, bias=True)\n",
       "            (out_proj): Linear(in_features=1024, out_features=1024, bias=True)\n",
       "          )\n",
       "          (dropout): Dropout(p=0.1, inplace=False)\n",
       "          (layer_norm): LayerNorm((1024,), eps=1e-05, elementwise_affine=True)\n",
       "          (feed_forward): Wav2Vec2FeedForward(\n",
       "            (intermediate_dropout): Dropout(p=0.0, inplace=False)\n",
       "            (intermediate_dense): Linear(in_features=1024, out_features=4096, bias=True)\n",
       "            (intermediate_act_fn): GELUActivation()\n",
       "            (output_dense): Linear(in_features=4096, out_features=1024, bias=True)\n",
       "            (output_dropout): Dropout(p=0.1, inplace=False)\n",
       "          )\n",
       "          (final_layer_norm): LayerNorm((1024,), eps=1e-05, elementwise_affine=True)\n",
       "        )\n",
       "        (11): Wav2Vec2EncoderLayerStableLayerNorm(\n",
       "          (attention): Wav2Vec2Attention(\n",
       "            (k_proj): Linear(in_features=1024, out_features=1024, bias=True)\n",
       "            (v_proj): Linear(in_features=1024, out_features=1024, bias=True)\n",
       "            (q_proj): Linear(in_features=1024, out_features=1024, bias=True)\n",
       "            (out_proj): Linear(in_features=1024, out_features=1024, bias=True)\n",
       "          )\n",
       "          (dropout): Dropout(p=0.1, inplace=False)\n",
       "          (layer_norm): LayerNorm((1024,), eps=1e-05, elementwise_affine=True)\n",
       "          (feed_forward): Wav2Vec2FeedForward(\n",
       "            (intermediate_dropout): Dropout(p=0.0, inplace=False)\n",
       "            (intermediate_dense): Linear(in_features=1024, out_features=4096, bias=True)\n",
       "            (intermediate_act_fn): GELUActivation()\n",
       "            (output_dense): Linear(in_features=4096, out_features=1024, bias=True)\n",
       "            (output_dropout): Dropout(p=0.1, inplace=False)\n",
       "          )\n",
       "          (final_layer_norm): LayerNorm((1024,), eps=1e-05, elementwise_affine=True)\n",
       "        )\n",
       "        (12): Wav2Vec2EncoderLayerStableLayerNorm(\n",
       "          (attention): Wav2Vec2Attention(\n",
       "            (k_proj): Linear(in_features=1024, out_features=1024, bias=True)\n",
       "            (v_proj): Linear(in_features=1024, out_features=1024, bias=True)\n",
       "            (q_proj): Linear(in_features=1024, out_features=1024, bias=True)\n",
       "            (out_proj): Linear(in_features=1024, out_features=1024, bias=True)\n",
       "          )\n",
       "          (dropout): Dropout(p=0.1, inplace=False)\n",
       "          (layer_norm): LayerNorm((1024,), eps=1e-05, elementwise_affine=True)\n",
       "          (feed_forward): Wav2Vec2FeedForward(\n",
       "            (intermediate_dropout): Dropout(p=0.0, inplace=False)\n",
       "            (intermediate_dense): Linear(in_features=1024, out_features=4096, bias=True)\n",
       "            (intermediate_act_fn): GELUActivation()\n",
       "            (output_dense): Linear(in_features=4096, out_features=1024, bias=True)\n",
       "            (output_dropout): Dropout(p=0.1, inplace=False)\n",
       "          )\n",
       "          (final_layer_norm): LayerNorm((1024,), eps=1e-05, elementwise_affine=True)\n",
       "        )\n",
       "        (13): Wav2Vec2EncoderLayerStableLayerNorm(\n",
       "          (attention): Wav2Vec2Attention(\n",
       "            (k_proj): Linear(in_features=1024, out_features=1024, bias=True)\n",
       "            (v_proj): Linear(in_features=1024, out_features=1024, bias=True)\n",
       "            (q_proj): Linear(in_features=1024, out_features=1024, bias=True)\n",
       "            (out_proj): Linear(in_features=1024, out_features=1024, bias=True)\n",
       "          )\n",
       "          (dropout): Dropout(p=0.1, inplace=False)\n",
       "          (layer_norm): LayerNorm((1024,), eps=1e-05, elementwise_affine=True)\n",
       "          (feed_forward): Wav2Vec2FeedForward(\n",
       "            (intermediate_dropout): Dropout(p=0.0, inplace=False)\n",
       "            (intermediate_dense): Linear(in_features=1024, out_features=4096, bias=True)\n",
       "            (intermediate_act_fn): GELUActivation()\n",
       "            (output_dense): Linear(in_features=4096, out_features=1024, bias=True)\n",
       "            (output_dropout): Dropout(p=0.1, inplace=False)\n",
       "          )\n",
       "          (final_layer_norm): LayerNorm((1024,), eps=1e-05, elementwise_affine=True)\n",
       "        )\n",
       "        (14): Wav2Vec2EncoderLayerStableLayerNorm(\n",
       "          (attention): Wav2Vec2Attention(\n",
       "            (k_proj): Linear(in_features=1024, out_features=1024, bias=True)\n",
       "            (v_proj): Linear(in_features=1024, out_features=1024, bias=True)\n",
       "            (q_proj): Linear(in_features=1024, out_features=1024, bias=True)\n",
       "            (out_proj): Linear(in_features=1024, out_features=1024, bias=True)\n",
       "          )\n",
       "          (dropout): Dropout(p=0.1, inplace=False)\n",
       "          (layer_norm): LayerNorm((1024,), eps=1e-05, elementwise_affine=True)\n",
       "          (feed_forward): Wav2Vec2FeedForward(\n",
       "            (intermediate_dropout): Dropout(p=0.0, inplace=False)\n",
       "            (intermediate_dense): Linear(in_features=1024, out_features=4096, bias=True)\n",
       "            (intermediate_act_fn): GELUActivation()\n",
       "            (output_dense): Linear(in_features=4096, out_features=1024, bias=True)\n",
       "            (output_dropout): Dropout(p=0.1, inplace=False)\n",
       "          )\n",
       "          (final_layer_norm): LayerNorm((1024,), eps=1e-05, elementwise_affine=True)\n",
       "        )\n",
       "        (15): Wav2Vec2EncoderLayerStableLayerNorm(\n",
       "          (attention): Wav2Vec2Attention(\n",
       "            (k_proj): Linear(in_features=1024, out_features=1024, bias=True)\n",
       "            (v_proj): Linear(in_features=1024, out_features=1024, bias=True)\n",
       "            (q_proj): Linear(in_features=1024, out_features=1024, bias=True)\n",
       "            (out_proj): Linear(in_features=1024, out_features=1024, bias=True)\n",
       "          )\n",
       "          (dropout): Dropout(p=0.1, inplace=False)\n",
       "          (layer_norm): LayerNorm((1024,), eps=1e-05, elementwise_affine=True)\n",
       "          (feed_forward): Wav2Vec2FeedForward(\n",
       "            (intermediate_dropout): Dropout(p=0.0, inplace=False)\n",
       "            (intermediate_dense): Linear(in_features=1024, out_features=4096, bias=True)\n",
       "            (intermediate_act_fn): GELUActivation()\n",
       "            (output_dense): Linear(in_features=4096, out_features=1024, bias=True)\n",
       "            (output_dropout): Dropout(p=0.1, inplace=False)\n",
       "          )\n",
       "          (final_layer_norm): LayerNorm((1024,), eps=1e-05, elementwise_affine=True)\n",
       "        )\n",
       "        (16): Wav2Vec2EncoderLayerStableLayerNorm(\n",
       "          (attention): Wav2Vec2Attention(\n",
       "            (k_proj): Linear(in_features=1024, out_features=1024, bias=True)\n",
       "            (v_proj): Linear(in_features=1024, out_features=1024, bias=True)\n",
       "            (q_proj): Linear(in_features=1024, out_features=1024, bias=True)\n",
       "            (out_proj): Linear(in_features=1024, out_features=1024, bias=True)\n",
       "          )\n",
       "          (dropout): Dropout(p=0.1, inplace=False)\n",
       "          (layer_norm): LayerNorm((1024,), eps=1e-05, elementwise_affine=True)\n",
       "          (feed_forward): Wav2Vec2FeedForward(\n",
       "            (intermediate_dropout): Dropout(p=0.0, inplace=False)\n",
       "            (intermediate_dense): Linear(in_features=1024, out_features=4096, bias=True)\n",
       "            (intermediate_act_fn): GELUActivation()\n",
       "            (output_dense): Linear(in_features=4096, out_features=1024, bias=True)\n",
       "            (output_dropout): Dropout(p=0.1, inplace=False)\n",
       "          )\n",
       "          (final_layer_norm): LayerNorm((1024,), eps=1e-05, elementwise_affine=True)\n",
       "        )\n",
       "        (17): Wav2Vec2EncoderLayerStableLayerNorm(\n",
       "          (attention): Wav2Vec2Attention(\n",
       "            (k_proj): Linear(in_features=1024, out_features=1024, bias=True)\n",
       "            (v_proj): Linear(in_features=1024, out_features=1024, bias=True)\n",
       "            (q_proj): Linear(in_features=1024, out_features=1024, bias=True)\n",
       "            (out_proj): Linear(in_features=1024, out_features=1024, bias=True)\n",
       "          )\n",
       "          (dropout): Dropout(p=0.1, inplace=False)\n",
       "          (layer_norm): LayerNorm((1024,), eps=1e-05, elementwise_affine=True)\n",
       "          (feed_forward): Wav2Vec2FeedForward(\n",
       "            (intermediate_dropout): Dropout(p=0.0, inplace=False)\n",
       "            (intermediate_dense): Linear(in_features=1024, out_features=4096, bias=True)\n",
       "            (intermediate_act_fn): GELUActivation()\n",
       "            (output_dense): Linear(in_features=4096, out_features=1024, bias=True)\n",
       "            (output_dropout): Dropout(p=0.1, inplace=False)\n",
       "          )\n",
       "          (final_layer_norm): LayerNorm((1024,), eps=1e-05, elementwise_affine=True)\n",
       "        )\n",
       "        (18): Wav2Vec2EncoderLayerStableLayerNorm(\n",
       "          (attention): Wav2Vec2Attention(\n",
       "            (k_proj): Linear(in_features=1024, out_features=1024, bias=True)\n",
       "            (v_proj): Linear(in_features=1024, out_features=1024, bias=True)\n",
       "            (q_proj): Linear(in_features=1024, out_features=1024, bias=True)\n",
       "            (out_proj): Linear(in_features=1024, out_features=1024, bias=True)\n",
       "          )\n",
       "          (dropout): Dropout(p=0.1, inplace=False)\n",
       "          (layer_norm): LayerNorm((1024,), eps=1e-05, elementwise_affine=True)\n",
       "          (feed_forward): Wav2Vec2FeedForward(\n",
       "            (intermediate_dropout): Dropout(p=0.0, inplace=False)\n",
       "            (intermediate_dense): Linear(in_features=1024, out_features=4096, bias=True)\n",
       "            (intermediate_act_fn): GELUActivation()\n",
       "            (output_dense): Linear(in_features=4096, out_features=1024, bias=True)\n",
       "            (output_dropout): Dropout(p=0.1, inplace=False)\n",
       "          )\n",
       "          (final_layer_norm): LayerNorm((1024,), eps=1e-05, elementwise_affine=True)\n",
       "        )\n",
       "        (19): Wav2Vec2EncoderLayerStableLayerNorm(\n",
       "          (attention): Wav2Vec2Attention(\n",
       "            (k_proj): Linear(in_features=1024, out_features=1024, bias=True)\n",
       "            (v_proj): Linear(in_features=1024, out_features=1024, bias=True)\n",
       "            (q_proj): Linear(in_features=1024, out_features=1024, bias=True)\n",
       "            (out_proj): Linear(in_features=1024, out_features=1024, bias=True)\n",
       "          )\n",
       "          (dropout): Dropout(p=0.1, inplace=False)\n",
       "          (layer_norm): LayerNorm((1024,), eps=1e-05, elementwise_affine=True)\n",
       "          (feed_forward): Wav2Vec2FeedForward(\n",
       "            (intermediate_dropout): Dropout(p=0.0, inplace=False)\n",
       "            (intermediate_dense): Linear(in_features=1024, out_features=4096, bias=True)\n",
       "            (intermediate_act_fn): GELUActivation()\n",
       "            (output_dense): Linear(in_features=4096, out_features=1024, bias=True)\n",
       "            (output_dropout): Dropout(p=0.1, inplace=False)\n",
       "          )\n",
       "          (final_layer_norm): LayerNorm((1024,), eps=1e-05, elementwise_affine=True)\n",
       "        )\n",
       "        (20): Wav2Vec2EncoderLayerStableLayerNorm(\n",
       "          (attention): Wav2Vec2Attention(\n",
       "            (k_proj): Linear(in_features=1024, out_features=1024, bias=True)\n",
       "            (v_proj): Linear(in_features=1024, out_features=1024, bias=True)\n",
       "            (q_proj): Linear(in_features=1024, out_features=1024, bias=True)\n",
       "            (out_proj): Linear(in_features=1024, out_features=1024, bias=True)\n",
       "          )\n",
       "          (dropout): Dropout(p=0.1, inplace=False)\n",
       "          (layer_norm): LayerNorm((1024,), eps=1e-05, elementwise_affine=True)\n",
       "          (feed_forward): Wav2Vec2FeedForward(\n",
       "            (intermediate_dropout): Dropout(p=0.0, inplace=False)\n",
       "            (intermediate_dense): Linear(in_features=1024, out_features=4096, bias=True)\n",
       "            (intermediate_act_fn): GELUActivation()\n",
       "            (output_dense): Linear(in_features=4096, out_features=1024, bias=True)\n",
       "            (output_dropout): Dropout(p=0.1, inplace=False)\n",
       "          )\n",
       "          (final_layer_norm): LayerNorm((1024,), eps=1e-05, elementwise_affine=True)\n",
       "        )\n",
       "        (21): Wav2Vec2EncoderLayerStableLayerNorm(\n",
       "          (attention): Wav2Vec2Attention(\n",
       "            (k_proj): Linear(in_features=1024, out_features=1024, bias=True)\n",
       "            (v_proj): Linear(in_features=1024, out_features=1024, bias=True)\n",
       "            (q_proj): Linear(in_features=1024, out_features=1024, bias=True)\n",
       "            (out_proj): Linear(in_features=1024, out_features=1024, bias=True)\n",
       "          )\n",
       "          (dropout): Dropout(p=0.1, inplace=False)\n",
       "          (layer_norm): LayerNorm((1024,), eps=1e-05, elementwise_affine=True)\n",
       "          (feed_forward): Wav2Vec2FeedForward(\n",
       "            (intermediate_dropout): Dropout(p=0.0, inplace=False)\n",
       "            (intermediate_dense): Linear(in_features=1024, out_features=4096, bias=True)\n",
       "            (intermediate_act_fn): GELUActivation()\n",
       "            (output_dense): Linear(in_features=4096, out_features=1024, bias=True)\n",
       "            (output_dropout): Dropout(p=0.1, inplace=False)\n",
       "          )\n",
       "          (final_layer_norm): LayerNorm((1024,), eps=1e-05, elementwise_affine=True)\n",
       "        )\n",
       "        (22): Wav2Vec2EncoderLayerStableLayerNorm(\n",
       "          (attention): Wav2Vec2Attention(\n",
       "            (k_proj): Linear(in_features=1024, out_features=1024, bias=True)\n",
       "            (v_proj): Linear(in_features=1024, out_features=1024, bias=True)\n",
       "            (q_proj): Linear(in_features=1024, out_features=1024, bias=True)\n",
       "            (out_proj): Linear(in_features=1024, out_features=1024, bias=True)\n",
       "          )\n",
       "          (dropout): Dropout(p=0.1, inplace=False)\n",
       "          (layer_norm): LayerNorm((1024,), eps=1e-05, elementwise_affine=True)\n",
       "          (feed_forward): Wav2Vec2FeedForward(\n",
       "            (intermediate_dropout): Dropout(p=0.0, inplace=False)\n",
       "            (intermediate_dense): Linear(in_features=1024, out_features=4096, bias=True)\n",
       "            (intermediate_act_fn): GELUActivation()\n",
       "            (output_dense): Linear(in_features=4096, out_features=1024, bias=True)\n",
       "            (output_dropout): Dropout(p=0.1, inplace=False)\n",
       "          )\n",
       "          (final_layer_norm): LayerNorm((1024,), eps=1e-05, elementwise_affine=True)\n",
       "        )\n",
       "        (23): Wav2Vec2EncoderLayerStableLayerNorm(\n",
       "          (attention): Wav2Vec2Attention(\n",
       "            (k_proj): Linear(in_features=1024, out_features=1024, bias=True)\n",
       "            (v_proj): Linear(in_features=1024, out_features=1024, bias=True)\n",
       "            (q_proj): Linear(in_features=1024, out_features=1024, bias=True)\n",
       "            (out_proj): Linear(in_features=1024, out_features=1024, bias=True)\n",
       "          )\n",
       "          (dropout): Dropout(p=0.1, inplace=False)\n",
       "          (layer_norm): LayerNorm((1024,), eps=1e-05, elementwise_affine=True)\n",
       "          (feed_forward): Wav2Vec2FeedForward(\n",
       "            (intermediate_dropout): Dropout(p=0.0, inplace=False)\n",
       "            (intermediate_dense): Linear(in_features=1024, out_features=4096, bias=True)\n",
       "            (intermediate_act_fn): GELUActivation()\n",
       "            (output_dense): Linear(in_features=4096, out_features=1024, bias=True)\n",
       "            (output_dropout): Dropout(p=0.1, inplace=False)\n",
       "          )\n",
       "          (final_layer_norm): LayerNorm((1024,), eps=1e-05, elementwise_affine=True)\n",
       "        )\n",
       "      )\n",
       "    )\n",
       "  )\n",
       "  (dropout): Dropout(p=0.0, inplace=False)\n",
       "  (lm_head): Linear(in_features=1024, out_features=95, bias=True)\n",
       ")"
      ]
     },
     "execution_count": 31,
     "metadata": {},
     "output_type": "execute_result"
    }
   ],
   "source": [
    "model.to(\"cpu\")"
   ]
  },
  {
   "cell_type": "code",
   "execution_count": 32,
   "metadata": {},
   "outputs": [
    {
     "data": {
      "text/plain": [
       "4"
      ]
     },
     "execution_count": 32,
     "metadata": {},
     "output_type": "execute_result"
    }
   ],
   "source": [
    "len(test_dataset)\n"
   ]
  },
  {
   "cell_type": "code",
   "execution_count": 21,
   "metadata": {},
   "outputs": [
    {
     "name": "stdout",
     "output_type": "stream",
     "text": [
      "Prediction: ['سبندر میں اس امید سے گودے کہ جلد مدد مل جائی کی مگر مدد ملنے تک دو پاکستانی لا پتا تھے', 'نہیں یہ ہماری بصریت ہے اور نیازی دیکھ رہا ہے', 'طیفا پیش کر کے حاقد کیا خان کہیں گے تو سیاست میں نظر نہیں آوں گا', 'ان میں جنگ ایک اہم موڑ پر ہے لیکن پہلی بار دوری میں ہونے والے عمل مذاکرات میں ایک باریک روح کی امید پیدا ہوئی ہے پاکستان کے وزیراعظم عمران خان نبی جب صدر یوکرین کے صدر سے فون پر بات کی عما کی بات کی لیکن کیا صدوقان روس اور یوکرین کو جنگ ختم کرنے کے لیے راضی کر سکیں گے']\n"
     ]
    }
   ],
   "source": [
    "import torch\n",
    "with torch.no_grad():\n",
    "    logits = model(inputs.input_values,).logits\n",
    "\n",
    "predicted_ids = torch.argmax(logits, dim=-1)\n",
    "\n",
    "print(\"Prediction:\", processor.batch_decode(logits.numpy()).text)\n",
    "# print(\"Reference:\", test_dataset[\"sentence\"][:3])"
   ]
  },
  {
   "cell_type": "code",
   "execution_count": 33,
   "metadata": {},
   "outputs": [
    {
     "name": "stdout",
     "output_type": "stream",
     "text": [
      "Prediction: ['سبندر میں اس امید سے گودے کہ جلد مدد مل جائی کی مگر مدد ملنے تک دو پاکستانی لا پتا تھے', 'نہیں یہ ہماری بصریت ہے اور نیازی دیکھ رہا ہے', 'طیفا پیش کر کے حاقد کیا خان کہیں گے تو سیاست میں نظر نہیں آوں گا', 'ن میں جنگ ایک اہم موڑ پر ہے لیکن پہلی بار دوری میں ہونے والے عمل مذاکرات میں ایک باریک روح کی امید پیدا ہوئی ہے پاکستان کے وزیراعظم عمران خان نبی جب صدر یوکرین کے صدر سے فون پر بات کی عما کی بات کی لیکن کیا صدرغان روس اور یوکرین کو جنگ ختم کرنے کے لیے راضی کر سکیں گے']\n"
     ]
    }
   ],
   "source": [
    "import torch\n",
    "with torch.no_grad():\n",
    "    logits = model(inputs.input_values,).logits\n",
    "\n",
    "predicted_ids = torch.argmax(logits, dim=-1)\n",
    "\n",
    "print(\"Prediction:\", processor.batch_decode(logits.numpy()).text)\n",
    "# print(\"Reference:\", test_dataset[\"sentence\"][:3])"
   ]
  },
  {
   "cell_type": "markdown",
   "metadata": {},
   "source": [
    "### Infer a few examples"
   ]
  },
  {
   "cell_type": "code",
   "execution_count": null,
   "metadata": {},
   "outputs": [
    {
     "name": "stdout",
     "output_type": "stream",
     "text": [
      "Prediction: ['گری ایکسپیکٹیشن بچا دکھنزتہری اور اور پی کا سید عرفان علی بجلی جیو ڈر یو ڈور سی عرفان علی ڈار کا میں اپنی امی ابو اور پان چھوٹے بھائیوں سے ملنے آیا جج کے روس تا میں جہاں وہ سب دن تھے بہاں کا ما اور خوف نا تھا آسمان کے با دنوں کی لا سے ان تھی اجر کے بی ھے موجود یا رام کا دو تھا پھیلا ہوا دلدلی لا ا مک مل خام موچی میرے امی ابو اور ان کے گرد پانچ چھوٹی چھوٹی میرے بھائیوں کی قبریں دل خوف زدہ ہوا اور میں رونے لگااسی وقت خبر کے در ان سے ایک شخص نے مجھے سختی سے پکڑ لیا چھٹی شیطان اپنی آواز بند کرو بنا اپنا گلا کٹوا لو گے مجھ سے اس شخص کی حالت بے حد خراب تھی ہٹے پرانے کپڑے جن پر کی چڑ لگتی تھی بی شد زد کر نے والی ان تھیں کا تھا ہوا جس چہرے پر سختی میں گلا ک نے کے خوف سے ڈر کر بولا مجھے چھوڑ دے مجھے نہ آ ہی برا نام کیا ہے جن میں ھو اس نے مجھے پکڑ کر الٹا کیا اور جب وہ میں ہار ڈالا جہاں سے صرف ڈبل روٹی کا ایک چھکڑا ملا جو اس نے بے صبری سے کھا لیا مجوزہ ڈر کے بی و رہا تیرے گال جو موٹے تازے ہیں انہیں کھا جاؤں میں نے اس قبر کے بد تھر کو جہاں بیٹھا تھا سختی سے پکڑ لیا تاکہ وہ آدمی میرے گال نہ تھا سکتے اور ا ا ہی سے کہا کہ بجھے چھوڑ دے ماں کی در ہی تے ری واں میں نے قبر کی طرف اشارہ کیا عہہوہ تمہارے بوبھی مر چکے ہیں شاید ہاں اس نے دل میں ہم در دی محسوس کی اور بو لا میرے دل میں ابھی خیال آیا ہے کہ ہم دونوں ایک ساتھ رہ سکتے ہیں خیر تم کس کے ساتھ رہتے ہیں اپنی بہن کے ساتھ وہ جو کی بیوی ہیں وہ لوہار ہے لوہار اس کی ان ھے میری ان کھو کو اور میری خوف زدہ آنکھ اس کی تھو کو دیکھ رہی تھی وہ لوہار ہے تو تم جان دے ہوں گے میرے پیر کی زنجیر وہ کس سے کاٹا جا سکتا ہے مجھے یہ چیزیں دم لا کر دو گے اس نے بجے جھ کے لیے خبردار کسی کو نہیں بتانا تم نے بجھے دی کھا ہے بد کل سبھا یہ چیزیں مجھے ملنی جا ہیں میرے باد طاقت ہے کہ تمہارا دل اور جگر نکال لوں انہیں بقا کر کھا جاؤں ای شخص جو ہماری بار دیں سو رہا ہے اسے ہر چیز کا علم بھی ہو جاتا ہے اور تمہارا دے اور جگر بھی اس کے ہاتھ میں ہیں جو کمرے کو بند کر لو گے تو وہ پھر بھی تم تک بہن جائے گا اور دل اور جگر نکال لے گا مگر میں نے اسے ایسا کر نے سے ملا کی ہوا ہے ا کیا تم میرا حکم مانو گے ہاں ہاں جناب کل لوہا ار نے کا سامان بھی اور کھانا بھی کل صبح میں یہاں دوبارہ موجود ہوں گا میں خوف زدہ تھا اور جا تھا تھا کہ وہ شخص خوش ھو کر جے چھوڑ دے اس نے سردی سے بچنے کے لیے ہاتھ جسم کے گر جمااور قبروں کے درمیان غائب ہو گیا ماہوار بے خوف نا تھا تو میں گھر کی جانی ھا کا جہاں ایک اور ای انی میری منتظر تھی پیارا جو میرا انتظار کر رہا تھا اچھے تمہاری بہن بہت خو سے میں ہیں بہت مرتبہ تمہارا پوھاھیر اوس بڑھا تو تمہیں ڈھونڈنے باہر چلی گئی جو اور میں بہت ری بھی طالب تھا گہری بہ کا وہ بہت خوب ر تھا سے من صفحے جےرے پر نیلی آنکھیں خوب صورت بال بہت خوش مزا اقت ور مگر بے پور عمر بھی زیادہ نا تھی جبکہ میری بہن مسز جو سے جی سال بڑی تھی بال اور ان کھیں تو ان کی کالی تھیں مگر وہ بہت تھی جادہ لمبا کا جرچڑی اور سخت ملا ہر وقت ایک اپرن ان کے ساتھ موجود ہو تھا جانے کیوں اسے اتنا پسند کرتیں ان نے مشہور کر رکھا تھا کہ وہ میری ب ترین پر بری کر رہی ہیں جب کے مجھے لگتا کہ بہ جو اور میری دونوں کی پربریش کر رہی ہیں کیونکہ میرے ساتھ جو کی بھی شامت اتی تھی جو نے مجھے دروازے کے پیچھے چھپنے کے لئے کہا مگر مسز جو مجھے دیکھ چکی تھی بندر کے بچے میرا خون ور رہا ہے کہاں تھے تو جلدی بتا دو ورنہ میں کسی کی پرواہ نہیں کروں گی نہ تمہاری نہ جو کی سب کے مزاج ٹھیک کر گی مجھے مار پڑ رہی تھی مگر جو مجھے بچا تا رہا اور وہ تھا کھا کر بیٹھ گئی جو اگر تھے بہت صحت مند تھا مگر اپنی بیوی سے وہ بھی خوفزدہ تھا شادی میں شاید مرضی بھی میری بہن ہی کی تھی جو جی سے خوش مزاج کیسے ایسی تیز مزاج اور سے محبت کی شادی کر سکتا تھا مسز جو نے میز پر کھانا لگایا تو بجھے اس شخص کا خیال آ گیا میں نے تو اس کے لیے کھانا اور اس کے پیر کی زنجیر کاٹنے کا سامان بھی حاصل کرنا تھا اپنے سے کا کھانا بہتر بو کھو نے کے با جود چھپا لیا جو چلنے کی آواز آئی یہ کیا تھا میں بولا جب قیدی با جا تے ہیں تو کے فرار کی کلا دی جاتی حد توپ چلا تھر کل بھی ایسا ہی ہوا تھا آج بھی کوئی با تا ہے میں نے اس بارے میں مزی پوچھا تو مسز جو غصے میں آ گئے ہر وقت ی لڑکا بولتا رہتا ہے سوال پر سوال کیے جاتا ہے ایک کے باد ایک درجن با جو پہاڑیاں ہیں ان کے پیشے دل در کے لا کے میں جہازوں میں قیدی رکھے جاتے ہیں اور قیدی اس لئے قید کئے جاتے ہیں کیونکہ وہ برے کام کرتے ہیں ان سے قتل ہوتے ہیں چوریاں بھی وہ کرتے ہیں اگر میں جواب نہ دیتی تو لوگ باد تے بناتے کہ بہن میں ایل میں ضعف نہیں کیا اب بہت ہو چکی جاؤ اور سو جاؤ میں اندھیرے میں اپنے کمرے تک تو بہن گیا مگر مسز جو کے خو نا کر قادر میرے ذہن میں گونج رہے تھے شدید خوف میں لگتا تھا کہ میں مجرم ہیں مسز جو کی چیزیں میں نے چوری کی ہیں اور اب مجھے بے ی گی کے جا میں پہنچ جا آ جائے گا میرا بس تر تھا اندھیرا تھا اور اس شخص کا خو جو میرا دی اور جگر نکال کر کھانے کی طاقت رکتا تھا گھر میں جوری کر کے اسے چیزیں نہ پہ جا تھا تو میری بہن بھی بجھے اس سے نا ب جا سکتی تھی بن کے اس جا اور خوف کو محسوس کرنا مشکل ہے جو میرے اوپر گزر رہا تھا ما رات پریشانی میں کروٹیں بدلتا رہا جیونکہ میں بہت بڑا گناہ کر چکا تھا مین ا تھی تو محسوس کرتا کہ دل دلی آپ سن رہے ہیں چال جکنز کے عزیم نوگریٹ ایکس پکٹیشن کا ارجو تر چبا کتاب اور دنیا کی بہترین کتب کے ادوترا ہم سن نے اور پڑھنے کے لیے وزی کریں جی ڈبلیو یو ڈار سید عرفان علی ڈاٹ کا جب یو ڈبلیو بھی ڈاٹ سرور فائر فائر فائر ڈان علم دوستوں کا شکریہ']\n"
     ]
    }
   ],
   "source": [
    "import torch\n",
    "with torch.no_grad():\n",
    "    logits = model(inputs.input_values,).logits\n",
    "\n",
    "predicted_ids = torch.argmax(logits, dim=-1)\n",
    "\n",
    "print(\"Prediction:\", processor.batch_decode(logits.numpy()).text)\n",
    "# print(\"Reference:\", test_dataset[\"sentence\"][:3])"
   ]
  },
  {
   "cell_type": "code",
   "execution_count": null,
   "metadata": {},
   "outputs": [],
   "source": []
  },
  {
   "cell_type": "markdown",
   "metadata": {},
   "source": [
    "### Evaluate on test set"
   ]
  },
  {
   "cell_type": "markdown",
   "metadata": {},
   "source": [
    "We evaluate the test set on WER with PyThaiNLP 2.3.1 word boundaries and CER without spaces."
   ]
  },
  {
   "cell_type": "code",
   "execution_count": null,
   "metadata": {},
   "outputs": [],
   "source": [
    "def evaluate(batch):\n",
    "    device = torch.device(\"cuda:0\" if torch.cuda.is_available() else \"cpu\")\n",
    "    inputs = processor(batch[\"speech\"], sampling_rate=16_000, return_tensors=\"pt\", padding=True)\n",
    "\n",
    "    with torch.no_grad():\n",
    "        logits = model(inputs.input_values.to(device),).logits\n",
    "\n",
    "    pred_ids = torch.argmax(logits, dim=-1)\n",
    "    batch[\"pred_sentence\"] = processor.batch_decode(pred_ids)\n",
    "    return batch\n",
    "\n",
    "wer_metric = load_metric(\"wer\")\n",
    "cer_metric = load_metric(\"cer\")"
   ]
  },
  {
   "cell_type": "code",
   "execution_count": null,
   "metadata": {},
   "outputs": [
    {
     "data": {
      "application/vnd.jupyter.widget-view+json": {
       "model_id": "1ca9bad890954ca39e95b810135257cd",
       "version_major": 2,
       "version_minor": 0
      },
      "text/plain": [
       "  0%|          | 0/43 [00:00<?, ?ba/s]"
      ]
     },
     "metadata": {},
     "output_type": "display_data"
    },
    {
     "name": "stderr",
     "output_type": "stream",
     "text": [
      "Process ForkPoolWorker-105:\n",
      "Process ForkPoolWorker-106:\n",
      "Process ForkPoolWorker-110:\n",
      "Process ForkPoolWorker-107:\n",
      "Process ForkPoolWorker-109:\n",
      "Process ForkPoolWorker-108:\n",
      "Process ForkPoolWorker-112:\n",
      "Process ForkPoolWorker-111:\n",
      "Traceback (most recent call last):\n",
      "Traceback (most recent call last):\n",
      "Traceback (most recent call last):\n",
      "Traceback (most recent call last):\n",
      "Traceback (most recent call last):\n",
      "Traceback (most recent call last):\n",
      "Traceback (most recent call last):\n",
      "  File \"/home/saad/anaconda3/envs/wav2/lib/python3.7/multiprocessing/process.py\", line 297, in _bootstrap\n",
      "    self.run()\n",
      "  File \"/home/saad/anaconda3/envs/wav2/lib/python3.7/multiprocessing/process.py\", line 297, in _bootstrap\n",
      "    self.run()\n",
      "  File \"/home/saad/anaconda3/envs/wav2/lib/python3.7/multiprocessing/process.py\", line 297, in _bootstrap\n",
      "    self.run()\n",
      "  File \"/home/saad/anaconda3/envs/wav2/lib/python3.7/multiprocessing/process.py\", line 297, in _bootstrap\n",
      "    self.run()\n",
      "Traceback (most recent call last):\n",
      "  File \"/home/saad/anaconda3/envs/wav2/lib/python3.7/multiprocessing/process.py\", line 297, in _bootstrap\n",
      "    self.run()\n",
      "  File \"/home/saad/anaconda3/envs/wav2/lib/python3.7/multiprocessing/process.py\", line 99, in run\n",
      "    self._target(*self._args, **self._kwargs)\n",
      "  File \"/home/saad/anaconda3/envs/wav2/lib/python3.7/multiprocessing/process.py\", line 297, in _bootstrap\n",
      "    self.run()\n",
      "  File \"/home/saad/anaconda3/envs/wav2/lib/python3.7/multiprocessing/process.py\", line 99, in run\n",
      "    self._target(*self._args, **self._kwargs)\n",
      "  File \"/home/saad/anaconda3/envs/wav2/lib/python3.7/multiprocessing/process.py\", line 297, in _bootstrap\n",
      "    self.run()\n",
      "  File \"/home/saad/anaconda3/envs/wav2/lib/python3.7/multiprocessing/process.py\", line 99, in run\n",
      "    self._target(*self._args, **self._kwargs)\n",
      "  File \"/home/saad/anaconda3/envs/wav2/lib/python3.7/multiprocessing/process.py\", line 99, in run\n",
      "    self._target(*self._args, **self._kwargs)\n",
      "  File \"/home/saad/anaconda3/envs/wav2/lib/python3.7/multiprocessing/pool.py\", line 110, in worker\n",
      "    task = get()\n",
      "  File \"/home/saad/anaconda3/envs/wav2/lib/python3.7/multiprocessing/process.py\", line 297, in _bootstrap\n",
      "    self.run()\n",
      "  File \"/home/saad/anaconda3/envs/wav2/lib/python3.7/multiprocessing/process.py\", line 99, in run\n",
      "    self._target(*self._args, **self._kwargs)\n",
      "  File \"/home/saad/anaconda3/envs/wav2/lib/python3.7/multiprocessing/pool.py\", line 110, in worker\n",
      "    task = get()\n",
      "  File \"/home/saad/anaconda3/envs/wav2/lib/python3.7/multiprocessing/process.py\", line 99, in run\n",
      "    self._target(*self._args, **self._kwargs)\n",
      "  File \"/home/saad/anaconda3/envs/wav2/lib/python3.7/multiprocessing/pool.py\", line 110, in worker\n",
      "    task = get()\n",
      "  File \"/home/saad/anaconda3/envs/wav2/lib/python3.7/multiprocessing/process.py\", line 99, in run\n",
      "    self._target(*self._args, **self._kwargs)\n",
      "  File \"/home/saad/anaconda3/envs/wav2/lib/python3.7/multiprocessing/pool.py\", line 110, in worker\n",
      "    task = get()\n",
      "  File \"/home/saad/anaconda3/envs/wav2/lib/python3.7/multiprocessing/queues.py\", line 354, in get\n",
      "    return _ForkingPickler.loads(res)\n",
      "  File \"/home/saad/anaconda3/envs/wav2/lib/python3.7/multiprocessing/pool.py\", line 110, in worker\n",
      "    task = get()\n",
      "  File \"/home/saad/anaconda3/envs/wav2/lib/python3.7/multiprocessing/process.py\", line 99, in run\n",
      "    self._target(*self._args, **self._kwargs)\n",
      "  File \"/home/saad/anaconda3/envs/wav2/lib/python3.7/multiprocessing/queues.py\", line 354, in get\n",
      "    return _ForkingPickler.loads(res)\n",
      "  File \"/home/saad/anaconda3/envs/wav2/lib/python3.7/multiprocessing/pool.py\", line 110, in worker\n",
      "    task = get()\n",
      "  File \"/home/saad/anaconda3/envs/wav2/lib/python3.7/multiprocessing/queues.py\", line 354, in get\n",
      "    return _ForkingPickler.loads(res)\n",
      "  File \"/home/saad/anaconda3/envs/wav2/lib/python3.7/multiprocessing/pool.py\", line 110, in worker\n",
      "    task = get()\n",
      "  File \"/home/saad/anaconda3/envs/wav2/lib/python3.7/site-packages/torch/multiprocessing/reductions.py\", line 110, in rebuild_cuda_tensor\n",
      "    torch.cuda._lazy_init()\n",
      "  File \"/home/saad/anaconda3/envs/wav2/lib/python3.7/multiprocessing/queues.py\", line 354, in get\n",
      "    return _ForkingPickler.loads(res)\n",
      "  File \"/home/saad/anaconda3/envs/wav2/lib/python3.7/multiprocessing/queues.py\", line 354, in get\n",
      "    return _ForkingPickler.loads(res)\n",
      "  File \"/home/saad/anaconda3/envs/wav2/lib/python3.7/site-packages/torch/multiprocessing/reductions.py\", line 110, in rebuild_cuda_tensor\n",
      "    torch.cuda._lazy_init()\n",
      "  File \"/home/saad/anaconda3/envs/wav2/lib/python3.7/multiprocessing/pool.py\", line 110, in worker\n",
      "    task = get()\n",
      "  File \"/home/saad/anaconda3/envs/wav2/lib/python3.7/multiprocessing/queues.py\", line 354, in get\n",
      "    return _ForkingPickler.loads(res)\n",
      "  File \"/home/saad/anaconda3/envs/wav2/lib/python3.7/site-packages/torch/multiprocessing/reductions.py\", line 110, in rebuild_cuda_tensor\n",
      "    torch.cuda._lazy_init()\n",
      "  File \"/home/saad/anaconda3/envs/wav2/lib/python3.7/multiprocessing/queues.py\", line 354, in get\n",
      "    return _ForkingPickler.loads(res)\n",
      "  File \"/home/saad/anaconda3/envs/wav2/lib/python3.7/site-packages/torch/multiprocessing/reductions.py\", line 110, in rebuild_cuda_tensor\n",
      "    torch.cuda._lazy_init()\n",
      "  File \"/home/saad/anaconda3/envs/wav2/lib/python3.7/site-packages/torch/multiprocessing/reductions.py\", line 110, in rebuild_cuda_tensor\n",
      "    torch.cuda._lazy_init()\n",
      "  File \"/home/saad/anaconda3/envs/wav2/lib/python3.7/site-packages/torch/cuda/__init__.py\", line 207, in _lazy_init\n",
      "    \"Cannot re-initialize CUDA in forked subprocess. To use CUDA with \"\n",
      "  File \"/home/saad/anaconda3/envs/wav2/lib/python3.7/site-packages/torch/cuda/__init__.py\", line 207, in _lazy_init\n",
      "    \"Cannot re-initialize CUDA in forked subprocess. To use CUDA with \"\n",
      "  File \"/home/saad/anaconda3/envs/wav2/lib/python3.7/multiprocessing/queues.py\", line 354, in get\n",
      "    return _ForkingPickler.loads(res)\n",
      "  File \"/home/saad/anaconda3/envs/wav2/lib/python3.7/site-packages/torch/multiprocessing/reductions.py\", line 110, in rebuild_cuda_tensor\n",
      "    torch.cuda._lazy_init()\n",
      "  File \"/home/saad/anaconda3/envs/wav2/lib/python3.7/site-packages/torch/cuda/__init__.py\", line 207, in _lazy_init\n",
      "    \"Cannot re-initialize CUDA in forked subprocess. To use CUDA with \"\n",
      "RuntimeError: Cannot re-initialize CUDA in forked subprocess. To use CUDA with multiprocessing, you must use the 'spawn' start method\n",
      "  File \"/home/saad/anaconda3/envs/wav2/lib/python3.7/site-packages/torch/multiprocessing/reductions.py\", line 110, in rebuild_cuda_tensor\n",
      "    torch.cuda._lazy_init()\n",
      "  File \"/home/saad/anaconda3/envs/wav2/lib/python3.7/site-packages/torch/cuda/__init__.py\", line 207, in _lazy_init\n",
      "    \"Cannot re-initialize CUDA in forked subprocess. To use CUDA with \"\n",
      "  File \"/home/saad/anaconda3/envs/wav2/lib/python3.7/site-packages/torch/cuda/__init__.py\", line 207, in _lazy_init\n",
      "    \"Cannot re-initialize CUDA in forked subprocess. To use CUDA with \"\n",
      "RuntimeError: Cannot re-initialize CUDA in forked subprocess. To use CUDA with multiprocessing, you must use the 'spawn' start method\n",
      "  File \"/home/saad/anaconda3/envs/wav2/lib/python3.7/site-packages/torch/multiprocessing/reductions.py\", line 110, in rebuild_cuda_tensor\n",
      "    torch.cuda._lazy_init()\n",
      "  File \"/home/saad/anaconda3/envs/wav2/lib/python3.7/site-packages/torch/cuda/__init__.py\", line 207, in _lazy_init\n",
      "    \"Cannot re-initialize CUDA in forked subprocess. To use CUDA with \"\n",
      "RuntimeError: Cannot re-initialize CUDA in forked subprocess. To use CUDA with multiprocessing, you must use the 'spawn' start method\n",
      "  File \"/home/saad/anaconda3/envs/wav2/lib/python3.7/site-packages/torch/cuda/__init__.py\", line 207, in _lazy_init\n",
      "    \"Cannot re-initialize CUDA in forked subprocess. To use CUDA with \"\n",
      "RuntimeError: Cannot re-initialize CUDA in forked subprocess. To use CUDA with multiprocessing, you must use the 'spawn' start method\n",
      "RuntimeError: Cannot re-initialize CUDA in forked subprocess. To use CUDA with multiprocessing, you must use the 'spawn' start method\n",
      "  File \"/home/saad/anaconda3/envs/wav2/lib/python3.7/site-packages/torch/cuda/__init__.py\", line 207, in _lazy_init\n",
      "    \"Cannot re-initialize CUDA in forked subprocess. To use CUDA with \"\n",
      "RuntimeError: Cannot re-initialize CUDA in forked subprocess. To use CUDA with multiprocessing, you must use the 'spawn' start method\n",
      "RuntimeError: Cannot re-initialize CUDA in forked subprocess. To use CUDA with multiprocessing, you must use the 'spawn' start method\n",
      "RuntimeError: Cannot re-initialize CUDA in forked subprocess. To use CUDA with multiprocessing, you must use the 'spawn' start method\n"
     ]
    },
    {
     "ename": "KeyboardInterrupt",
     "evalue": "",
     "output_type": "error",
     "traceback": [
      "\u001b[0;31m---------------------------------------------------------------------------\u001b[0m",
      "\u001b[0;31mKeyboardInterrupt\u001b[0m                         Traceback (most recent call last)",
      "\u001b[0;32m/tmp/ipykernel_20448/1283925317.py\u001b[0m in \u001b[0;36m<module>\u001b[0;34m\u001b[0m\n\u001b[1;32m      1\u001b[0m \u001b[0mmodel\u001b[0m\u001b[0;34m.\u001b[0m\u001b[0mto\u001b[0m\u001b[0;34m(\u001b[0m\u001b[0;34m\"cuda\"\u001b[0m\u001b[0;34m)\u001b[0m\u001b[0;34m\u001b[0m\u001b[0;34m\u001b[0m\u001b[0m\n\u001b[1;32m      2\u001b[0m \u001b[0;34m\u001b[0m\u001b[0m\n\u001b[0;32m----> 3\u001b[0;31m \u001b[0mresult\u001b[0m \u001b[0;34m=\u001b[0m \u001b[0mtest_dataset\u001b[0m\u001b[0;34m.\u001b[0m\u001b[0mmap\u001b[0m\u001b[0;34m(\u001b[0m\u001b[0mevaluate\u001b[0m\u001b[0;34m,\u001b[0m \u001b[0mbatched\u001b[0m\u001b[0;34m=\u001b[0m\u001b[0;32mTrue\u001b[0m\u001b[0;34m,\u001b[0m \u001b[0mbatch_size\u001b[0m\u001b[0;34m=\u001b[0m\u001b[0;36m8\u001b[0m\u001b[0;34m)\u001b[0m\u001b[0;34m\u001b[0m\u001b[0;34m\u001b[0m\u001b[0m\n\u001b[0m\u001b[1;32m      4\u001b[0m \u001b[0;34m\u001b[0m\u001b[0m\n",
      "\u001b[0;32m~/anaconda3/envs/wav2/lib/python3.7/site-packages/datasets/arrow_dataset.py\u001b[0m in \u001b[0;36mmap\u001b[0;34m(self, function, with_indices, with_rank, input_columns, batched, batch_size, drop_last_batch, remove_columns, keep_in_memory, load_from_cache_file, cache_file_name, writer_batch_size, features, disable_nullable, fn_kwargs, num_proc, suffix_template, new_fingerprint, desc)\u001b[0m\n\u001b[1;32m   2125\u001b[0m                 \u001b[0mnew_fingerprint\u001b[0m\u001b[0;34m=\u001b[0m\u001b[0mnew_fingerprint\u001b[0m\u001b[0;34m,\u001b[0m\u001b[0;34m\u001b[0m\u001b[0;34m\u001b[0m\u001b[0m\n\u001b[1;32m   2126\u001b[0m                 \u001b[0mdisable_tqdm\u001b[0m\u001b[0;34m=\u001b[0m\u001b[0mdisable_tqdm\u001b[0m\u001b[0;34m,\u001b[0m\u001b[0;34m\u001b[0m\u001b[0;34m\u001b[0m\u001b[0m\n\u001b[0;32m-> 2127\u001b[0;31m                 \u001b[0mdesc\u001b[0m\u001b[0;34m=\u001b[0m\u001b[0mdesc\u001b[0m\u001b[0;34m,\u001b[0m\u001b[0;34m\u001b[0m\u001b[0;34m\u001b[0m\u001b[0m\n\u001b[0m\u001b[1;32m   2128\u001b[0m             )\n\u001b[1;32m   2129\u001b[0m         \u001b[0;32melse\u001b[0m\u001b[0;34m:\u001b[0m\u001b[0;34m\u001b[0m\u001b[0;34m\u001b[0m\u001b[0m\n",
      "\u001b[0;32m~/anaconda3/envs/wav2/lib/python3.7/site-packages/datasets/arrow_dataset.py\u001b[0m in \u001b[0;36mwrapper\u001b[0;34m(*args, **kwargs)\u001b[0m\n\u001b[1;32m    516\u001b[0m             \u001b[0mself\u001b[0m\u001b[0;34m:\u001b[0m \u001b[0;34m\"Dataset\"\u001b[0m \u001b[0;34m=\u001b[0m \u001b[0mkwargs\u001b[0m\u001b[0;34m.\u001b[0m\u001b[0mpop\u001b[0m\u001b[0;34m(\u001b[0m\u001b[0;34m\"self\"\u001b[0m\u001b[0;34m)\u001b[0m\u001b[0;34m\u001b[0m\u001b[0;34m\u001b[0m\u001b[0m\n\u001b[1;32m    517\u001b[0m         \u001b[0;31m# apply actual function\u001b[0m\u001b[0;34m\u001b[0m\u001b[0;34m\u001b[0m\u001b[0;34m\u001b[0m\u001b[0m\n\u001b[0;32m--> 518\u001b[0;31m         \u001b[0mout\u001b[0m\u001b[0;34m:\u001b[0m \u001b[0mUnion\u001b[0m\u001b[0;34m[\u001b[0m\u001b[0;34m\"Dataset\"\u001b[0m\u001b[0;34m,\u001b[0m \u001b[0;34m\"DatasetDict\"\u001b[0m\u001b[0;34m]\u001b[0m \u001b[0;34m=\u001b[0m \u001b[0mfunc\u001b[0m\u001b[0;34m(\u001b[0m\u001b[0mself\u001b[0m\u001b[0;34m,\u001b[0m \u001b[0;34m*\u001b[0m\u001b[0margs\u001b[0m\u001b[0;34m,\u001b[0m \u001b[0;34m**\u001b[0m\u001b[0mkwargs\u001b[0m\u001b[0;34m)\u001b[0m\u001b[0;34m\u001b[0m\u001b[0;34m\u001b[0m\u001b[0m\n\u001b[0m\u001b[1;32m    519\u001b[0m         \u001b[0mdatasets\u001b[0m\u001b[0;34m:\u001b[0m \u001b[0mList\u001b[0m\u001b[0;34m[\u001b[0m\u001b[0;34m\"Dataset\"\u001b[0m\u001b[0;34m]\u001b[0m \u001b[0;34m=\u001b[0m \u001b[0mlist\u001b[0m\u001b[0;34m(\u001b[0m\u001b[0mout\u001b[0m\u001b[0;34m.\u001b[0m\u001b[0mvalues\u001b[0m\u001b[0;34m(\u001b[0m\u001b[0;34m)\u001b[0m\u001b[0;34m)\u001b[0m \u001b[0;32mif\u001b[0m \u001b[0misinstance\u001b[0m\u001b[0;34m(\u001b[0m\u001b[0mout\u001b[0m\u001b[0;34m,\u001b[0m \u001b[0mdict\u001b[0m\u001b[0;34m)\u001b[0m \u001b[0;32melse\u001b[0m \u001b[0;34m[\u001b[0m\u001b[0mout\u001b[0m\u001b[0;34m]\u001b[0m\u001b[0;34m\u001b[0m\u001b[0;34m\u001b[0m\u001b[0m\n\u001b[1;32m    520\u001b[0m         \u001b[0;32mfor\u001b[0m \u001b[0mdataset\u001b[0m \u001b[0;32min\u001b[0m \u001b[0mdatasets\u001b[0m\u001b[0;34m:\u001b[0m\u001b[0;34m\u001b[0m\u001b[0;34m\u001b[0m\u001b[0m\n",
      "\u001b[0;32m~/anaconda3/envs/wav2/lib/python3.7/site-packages/datasets/arrow_dataset.py\u001b[0m in \u001b[0;36mwrapper\u001b[0;34m(*args, **kwargs)\u001b[0m\n\u001b[1;32m    483\u001b[0m         }\n\u001b[1;32m    484\u001b[0m         \u001b[0;31m# apply actual function\u001b[0m\u001b[0;34m\u001b[0m\u001b[0;34m\u001b[0m\u001b[0;34m\u001b[0m\u001b[0m\n\u001b[0;32m--> 485\u001b[0;31m         \u001b[0mout\u001b[0m\u001b[0;34m:\u001b[0m \u001b[0mUnion\u001b[0m\u001b[0;34m[\u001b[0m\u001b[0;34m\"Dataset\"\u001b[0m\u001b[0;34m,\u001b[0m \u001b[0;34m\"DatasetDict\"\u001b[0m\u001b[0;34m]\u001b[0m \u001b[0;34m=\u001b[0m \u001b[0mfunc\u001b[0m\u001b[0;34m(\u001b[0m\u001b[0mself\u001b[0m\u001b[0;34m,\u001b[0m \u001b[0;34m*\u001b[0m\u001b[0margs\u001b[0m\u001b[0;34m,\u001b[0m \u001b[0;34m**\u001b[0m\u001b[0mkwargs\u001b[0m\u001b[0;34m)\u001b[0m\u001b[0;34m\u001b[0m\u001b[0;34m\u001b[0m\u001b[0m\n\u001b[0m\u001b[1;32m    486\u001b[0m         \u001b[0mdatasets\u001b[0m\u001b[0;34m:\u001b[0m \u001b[0mList\u001b[0m\u001b[0;34m[\u001b[0m\u001b[0;34m\"Dataset\"\u001b[0m\u001b[0;34m]\u001b[0m \u001b[0;34m=\u001b[0m \u001b[0mlist\u001b[0m\u001b[0;34m(\u001b[0m\u001b[0mout\u001b[0m\u001b[0;34m.\u001b[0m\u001b[0mvalues\u001b[0m\u001b[0;34m(\u001b[0m\u001b[0;34m)\u001b[0m\u001b[0;34m)\u001b[0m \u001b[0;32mif\u001b[0m \u001b[0misinstance\u001b[0m\u001b[0;34m(\u001b[0m\u001b[0mout\u001b[0m\u001b[0;34m,\u001b[0m \u001b[0mdict\u001b[0m\u001b[0;34m)\u001b[0m \u001b[0;32melse\u001b[0m \u001b[0;34m[\u001b[0m\u001b[0mout\u001b[0m\u001b[0;34m]\u001b[0m\u001b[0;34m\u001b[0m\u001b[0;34m\u001b[0m\u001b[0m\n\u001b[1;32m    487\u001b[0m         \u001b[0;31m# re-apply format to the output\u001b[0m\u001b[0;34m\u001b[0m\u001b[0;34m\u001b[0m\u001b[0;34m\u001b[0m\u001b[0m\n",
      "\u001b[0;32m~/anaconda3/envs/wav2/lib/python3.7/site-packages/datasets/fingerprint.py\u001b[0m in \u001b[0;36mwrapper\u001b[0;34m(*args, **kwargs)\u001b[0m\n\u001b[1;32m    411\u001b[0m             \u001b[0;31m# Call actual function\u001b[0m\u001b[0;34m\u001b[0m\u001b[0;34m\u001b[0m\u001b[0;34m\u001b[0m\u001b[0m\n\u001b[1;32m    412\u001b[0m \u001b[0;34m\u001b[0m\u001b[0m\n\u001b[0;32m--> 413\u001b[0;31m             \u001b[0mout\u001b[0m \u001b[0;34m=\u001b[0m \u001b[0mfunc\u001b[0m\u001b[0;34m(\u001b[0m\u001b[0mself\u001b[0m\u001b[0;34m,\u001b[0m \u001b[0;34m*\u001b[0m\u001b[0margs\u001b[0m\u001b[0;34m,\u001b[0m \u001b[0;34m**\u001b[0m\u001b[0mkwargs\u001b[0m\u001b[0;34m)\u001b[0m\u001b[0;34m\u001b[0m\u001b[0;34m\u001b[0m\u001b[0m\n\u001b[0m\u001b[1;32m    414\u001b[0m \u001b[0;34m\u001b[0m\u001b[0m\n\u001b[1;32m    415\u001b[0m             \u001b[0;31m# Update fingerprint of in-place transforms + update in-place history of transforms\u001b[0m\u001b[0;34m\u001b[0m\u001b[0;34m\u001b[0m\u001b[0;34m\u001b[0m\u001b[0m\n",
      "\u001b[0;32m~/anaconda3/envs/wav2/lib/python3.7/site-packages/datasets/arrow_dataset.py\u001b[0m in \u001b[0;36m_map_single\u001b[0;34m(self, function, with_indices, with_rank, input_columns, batched, batch_size, drop_last_batch, remove_columns, keep_in_memory, load_from_cache_file, cache_file_name, writer_batch_size, features, disable_nullable, fn_kwargs, new_fingerprint, rank, offset, disable_tqdm, desc, cache_only)\u001b[0m\n\u001b[1;32m   2490\u001b[0m                                 \u001b[0mindices\u001b[0m\u001b[0;34m,\u001b[0m\u001b[0;34m\u001b[0m\u001b[0;34m\u001b[0m\u001b[0m\n\u001b[1;32m   2491\u001b[0m                                 \u001b[0mcheck_same_num_examples\u001b[0m\u001b[0;34m=\u001b[0m\u001b[0mlen\u001b[0m\u001b[0;34m(\u001b[0m\u001b[0minput_dataset\u001b[0m\u001b[0;34m.\u001b[0m\u001b[0mlist_indexes\u001b[0m\u001b[0;34m(\u001b[0m\u001b[0;34m)\u001b[0m\u001b[0;34m)\u001b[0m \u001b[0;34m>\u001b[0m \u001b[0;36m0\u001b[0m\u001b[0;34m,\u001b[0m\u001b[0;34m\u001b[0m\u001b[0;34m\u001b[0m\u001b[0m\n\u001b[0;32m-> 2492\u001b[0;31m                                 \u001b[0moffset\u001b[0m\u001b[0;34m=\u001b[0m\u001b[0moffset\u001b[0m\u001b[0;34m,\u001b[0m\u001b[0;34m\u001b[0m\u001b[0;34m\u001b[0m\u001b[0m\n\u001b[0m\u001b[1;32m   2493\u001b[0m                             )\n\u001b[1;32m   2494\u001b[0m                         \u001b[0;32mexcept\u001b[0m \u001b[0mNumExamplesMismatchError\u001b[0m\u001b[0;34m:\u001b[0m\u001b[0;34m\u001b[0m\u001b[0;34m\u001b[0m\u001b[0m\n",
      "\u001b[0;32m~/anaconda3/envs/wav2/lib/python3.7/site-packages/datasets/arrow_dataset.py\u001b[0m in \u001b[0;36mapply_function_on_filtered_inputs\u001b[0;34m(inputs, indices, check_same_num_examples, offset)\u001b[0m\n\u001b[1;32m   2372\u001b[0m             \u001b[0;32mif\u001b[0m \u001b[0mwith_rank\u001b[0m\u001b[0;34m:\u001b[0m\u001b[0;34m\u001b[0m\u001b[0;34m\u001b[0m\u001b[0m\n\u001b[1;32m   2373\u001b[0m                 \u001b[0madditional_args\u001b[0m \u001b[0;34m+=\u001b[0m \u001b[0;34m(\u001b[0m\u001b[0mrank\u001b[0m\u001b[0;34m,\u001b[0m\u001b[0;34m)\u001b[0m\u001b[0;34m\u001b[0m\u001b[0;34m\u001b[0m\u001b[0m\n\u001b[0;32m-> 2374\u001b[0;31m             \u001b[0mprocessed_inputs\u001b[0m \u001b[0;34m=\u001b[0m \u001b[0mfunction\u001b[0m\u001b[0;34m(\u001b[0m\u001b[0;34m*\u001b[0m\u001b[0mfn_args\u001b[0m\u001b[0;34m,\u001b[0m \u001b[0;34m*\u001b[0m\u001b[0madditional_args\u001b[0m\u001b[0;34m,\u001b[0m \u001b[0;34m**\u001b[0m\u001b[0mfn_kwargs\u001b[0m\u001b[0;34m)\u001b[0m\u001b[0;34m\u001b[0m\u001b[0;34m\u001b[0m\u001b[0m\n\u001b[0m\u001b[1;32m   2375\u001b[0m             \u001b[0;32mif\u001b[0m \u001b[0mupdate_data\u001b[0m \u001b[0;32mis\u001b[0m \u001b[0;32mNone\u001b[0m\u001b[0;34m:\u001b[0m\u001b[0;34m\u001b[0m\u001b[0;34m\u001b[0m\u001b[0m\n\u001b[1;32m   2376\u001b[0m                 \u001b[0;31m# Check if the function returns updated examples\u001b[0m\u001b[0;34m\u001b[0m\u001b[0;34m\u001b[0m\u001b[0;34m\u001b[0m\u001b[0m\n",
      "\u001b[0;32m~/anaconda3/envs/wav2/lib/python3.7/site-packages/datasets/arrow_dataset.py\u001b[0m in \u001b[0;36mdecorated\u001b[0;34m(item, *args, **kwargs)\u001b[0m\n\u001b[1;32m   2067\u001b[0m                 )\n\u001b[1;32m   2068\u001b[0m                 \u001b[0;31m# Use the LazyDict internally, while mapping the function\u001b[0m\u001b[0;34m\u001b[0m\u001b[0;34m\u001b[0m\u001b[0;34m\u001b[0m\u001b[0m\n\u001b[0;32m-> 2069\u001b[0;31m                 \u001b[0mresult\u001b[0m \u001b[0;34m=\u001b[0m \u001b[0mf\u001b[0m\u001b[0;34m(\u001b[0m\u001b[0mdecorated_item\u001b[0m\u001b[0;34m,\u001b[0m \u001b[0;34m*\u001b[0m\u001b[0margs\u001b[0m\u001b[0;34m,\u001b[0m \u001b[0;34m**\u001b[0m\u001b[0mkwargs\u001b[0m\u001b[0;34m)\u001b[0m\u001b[0;34m\u001b[0m\u001b[0;34m\u001b[0m\u001b[0m\n\u001b[0m\u001b[1;32m   2070\u001b[0m                 \u001b[0;31m# Return a standard dict\u001b[0m\u001b[0;34m\u001b[0m\u001b[0;34m\u001b[0m\u001b[0;34m\u001b[0m\u001b[0m\n\u001b[1;32m   2071\u001b[0m                 \u001b[0;32mreturn\u001b[0m \u001b[0mresult\u001b[0m\u001b[0;34m.\u001b[0m\u001b[0mdata\u001b[0m \u001b[0;32mif\u001b[0m \u001b[0misinstance\u001b[0m\u001b[0;34m(\u001b[0m\u001b[0mresult\u001b[0m\u001b[0;34m,\u001b[0m \u001b[0mLazyDict\u001b[0m\u001b[0;34m)\u001b[0m \u001b[0;32melse\u001b[0m \u001b[0mresult\u001b[0m\u001b[0;34m\u001b[0m\u001b[0;34m\u001b[0m\u001b[0m\n",
      "\u001b[0;32m/tmp/ipykernel_20448/1894478011.py\u001b[0m in \u001b[0;36mevaluate\u001b[0;34m(batch)\u001b[0m\n\u001b[1;32m      7\u001b[0m \u001b[0;34m\u001b[0m\u001b[0m\n\u001b[1;32m      8\u001b[0m     \u001b[0mpred_ids\u001b[0m \u001b[0;34m=\u001b[0m \u001b[0mtorch\u001b[0m\u001b[0;34m.\u001b[0m\u001b[0margmax\u001b[0m\u001b[0;34m(\u001b[0m\u001b[0mlogits\u001b[0m\u001b[0;34m,\u001b[0m \u001b[0mdim\u001b[0m\u001b[0;34m=\u001b[0m\u001b[0;34m-\u001b[0m\u001b[0;36m1\u001b[0m\u001b[0;34m)\u001b[0m\u001b[0;34m\u001b[0m\u001b[0;34m\u001b[0m\u001b[0m\n\u001b[0;32m----> 9\u001b[0;31m     \u001b[0mbatch\u001b[0m\u001b[0;34m[\u001b[0m\u001b[0;34m\"pred_sentence\"\u001b[0m\u001b[0;34m]\u001b[0m \u001b[0;34m=\u001b[0m \u001b[0mprocessor\u001b[0m\u001b[0;34m.\u001b[0m\u001b[0mbatch_decode\u001b[0m\u001b[0;34m(\u001b[0m\u001b[0mpred_ids\u001b[0m\u001b[0;34m)\u001b[0m\u001b[0;34m\u001b[0m\u001b[0;34m\u001b[0m\u001b[0m\n\u001b[0m\u001b[1;32m     10\u001b[0m     \u001b[0;32mreturn\u001b[0m \u001b[0mbatch\u001b[0m\u001b[0;34m\u001b[0m\u001b[0;34m\u001b[0m\u001b[0m\n\u001b[1;32m     11\u001b[0m \u001b[0;34m\u001b[0m\u001b[0m\n",
      "\u001b[0;32m~/anaconda3/envs/wav2/lib/python3.7/site-packages/transformers/models/wav2vec2_with_lm/processing_wav2vec2_with_lm.py\u001b[0m in \u001b[0;36mbatch_decode\u001b[0;34m(self, logits, num_processes, beam_width, beam_prune_logp, token_min_logp, hotwords, hotword_weight, alpha, beta, unk_score_offset, lm_score_boundary, output_word_offsets)\u001b[0m\n\u001b[1;32m    324\u001b[0m             \u001b[0mtoken_min_logp\u001b[0m\u001b[0;34m=\u001b[0m\u001b[0mtoken_min_logp\u001b[0m\u001b[0;34m,\u001b[0m\u001b[0;34m\u001b[0m\u001b[0;34m\u001b[0m\u001b[0m\n\u001b[1;32m    325\u001b[0m             \u001b[0mhotwords\u001b[0m\u001b[0;34m=\u001b[0m\u001b[0mhotwords\u001b[0m\u001b[0;34m,\u001b[0m\u001b[0;34m\u001b[0m\u001b[0;34m\u001b[0m\u001b[0m\n\u001b[0;32m--> 326\u001b[0;31m             \u001b[0mhotword_weight\u001b[0m\u001b[0;34m=\u001b[0m\u001b[0mhotword_weight\u001b[0m\u001b[0;34m,\u001b[0m\u001b[0;34m\u001b[0m\u001b[0;34m\u001b[0m\u001b[0m\n\u001b[0m\u001b[1;32m    327\u001b[0m         )\n\u001b[1;32m    328\u001b[0m \u001b[0;34m\u001b[0m\u001b[0m\n",
      "\u001b[0;32m~/anaconda3/envs/wav2/lib/python3.7/site-packages/pyctcdecode/decoder.py\u001b[0m in \u001b[0;36mdecode_beams_batch\u001b[0;34m(self, pool, logits_list, beam_width, beam_prune_logp, token_min_logp, prune_history, hotwords, hotword_weight)\u001b[0m\n\u001b[1;32m    597\u001b[0m             \u001b[0mhotword_weight\u001b[0m\u001b[0;34m=\u001b[0m\u001b[0mhotword_weight\u001b[0m\u001b[0;34m,\u001b[0m\u001b[0;34m\u001b[0m\u001b[0;34m\u001b[0m\u001b[0m\n\u001b[1;32m    598\u001b[0m         )\n\u001b[0;32m--> 599\u001b[0;31m         \u001b[0mdecoded_beams_list\u001b[0m\u001b[0;34m:\u001b[0m \u001b[0mList\u001b[0m\u001b[0;34m[\u001b[0m\u001b[0mList\u001b[0m\u001b[0;34m[\u001b[0m\u001b[0mOutputBeamMPSafe\u001b[0m\u001b[0;34m]\u001b[0m\u001b[0;34m]\u001b[0m \u001b[0;34m=\u001b[0m \u001b[0mpool\u001b[0m\u001b[0;34m.\u001b[0m\u001b[0mmap\u001b[0m\u001b[0;34m(\u001b[0m\u001b[0mp_decode\u001b[0m\u001b[0;34m,\u001b[0m \u001b[0mlogits_list\u001b[0m\u001b[0;34m)\u001b[0m\u001b[0;34m\u001b[0m\u001b[0;34m\u001b[0m\u001b[0m\n\u001b[0m\u001b[1;32m    600\u001b[0m         \u001b[0;32mreturn\u001b[0m \u001b[0mdecoded_beams_list\u001b[0m\u001b[0;34m\u001b[0m\u001b[0;34m\u001b[0m\u001b[0m\n\u001b[1;32m    601\u001b[0m \u001b[0;34m\u001b[0m\u001b[0m\n",
      "\u001b[0;32m~/anaconda3/envs/wav2/lib/python3.7/multiprocessing/pool.py\u001b[0m in \u001b[0;36mmap\u001b[0;34m(self, func, iterable, chunksize)\u001b[0m\n\u001b[1;32m    266\u001b[0m         \u001b[0;32min\u001b[0m \u001b[0ma\u001b[0m \u001b[0mlist\u001b[0m \u001b[0mthat\u001b[0m \u001b[0;32mis\u001b[0m \u001b[0mreturned\u001b[0m\u001b[0;34m.\u001b[0m\u001b[0;34m\u001b[0m\u001b[0;34m\u001b[0m\u001b[0m\n\u001b[1;32m    267\u001b[0m         '''\n\u001b[0;32m--> 268\u001b[0;31m         \u001b[0;32mreturn\u001b[0m \u001b[0mself\u001b[0m\u001b[0;34m.\u001b[0m\u001b[0m_map_async\u001b[0m\u001b[0;34m(\u001b[0m\u001b[0mfunc\u001b[0m\u001b[0;34m,\u001b[0m \u001b[0miterable\u001b[0m\u001b[0;34m,\u001b[0m \u001b[0mmapstar\u001b[0m\u001b[0;34m,\u001b[0m \u001b[0mchunksize\u001b[0m\u001b[0;34m)\u001b[0m\u001b[0;34m.\u001b[0m\u001b[0mget\u001b[0m\u001b[0;34m(\u001b[0m\u001b[0;34m)\u001b[0m\u001b[0;34m\u001b[0m\u001b[0;34m\u001b[0m\u001b[0m\n\u001b[0m\u001b[1;32m    269\u001b[0m \u001b[0;34m\u001b[0m\u001b[0m\n\u001b[1;32m    270\u001b[0m     \u001b[0;32mdef\u001b[0m \u001b[0mstarmap\u001b[0m\u001b[0;34m(\u001b[0m\u001b[0mself\u001b[0m\u001b[0;34m,\u001b[0m \u001b[0mfunc\u001b[0m\u001b[0;34m,\u001b[0m \u001b[0miterable\u001b[0m\u001b[0;34m,\u001b[0m \u001b[0mchunksize\u001b[0m\u001b[0;34m=\u001b[0m\u001b[0;32mNone\u001b[0m\u001b[0;34m)\u001b[0m\u001b[0;34m:\u001b[0m\u001b[0;34m\u001b[0m\u001b[0;34m\u001b[0m\u001b[0m\n",
      "\u001b[0;32m~/anaconda3/envs/wav2/lib/python3.7/multiprocessing/pool.py\u001b[0m in \u001b[0;36mget\u001b[0;34m(self, timeout)\u001b[0m\n\u001b[1;32m    649\u001b[0m \u001b[0;34m\u001b[0m\u001b[0m\n\u001b[1;32m    650\u001b[0m     \u001b[0;32mdef\u001b[0m \u001b[0mget\u001b[0m\u001b[0;34m(\u001b[0m\u001b[0mself\u001b[0m\u001b[0;34m,\u001b[0m \u001b[0mtimeout\u001b[0m\u001b[0;34m=\u001b[0m\u001b[0;32mNone\u001b[0m\u001b[0;34m)\u001b[0m\u001b[0;34m:\u001b[0m\u001b[0;34m\u001b[0m\u001b[0;34m\u001b[0m\u001b[0m\n\u001b[0;32m--> 651\u001b[0;31m         \u001b[0mself\u001b[0m\u001b[0;34m.\u001b[0m\u001b[0mwait\u001b[0m\u001b[0;34m(\u001b[0m\u001b[0mtimeout\u001b[0m\u001b[0;34m)\u001b[0m\u001b[0;34m\u001b[0m\u001b[0;34m\u001b[0m\u001b[0m\n\u001b[0m\u001b[1;32m    652\u001b[0m         \u001b[0;32mif\u001b[0m \u001b[0;32mnot\u001b[0m \u001b[0mself\u001b[0m\u001b[0;34m.\u001b[0m\u001b[0mready\u001b[0m\u001b[0;34m(\u001b[0m\u001b[0;34m)\u001b[0m\u001b[0;34m:\u001b[0m\u001b[0;34m\u001b[0m\u001b[0;34m\u001b[0m\u001b[0m\n\u001b[1;32m    653\u001b[0m             \u001b[0;32mraise\u001b[0m \u001b[0mTimeoutError\u001b[0m\u001b[0;34m\u001b[0m\u001b[0;34m\u001b[0m\u001b[0m\n",
      "\u001b[0;32m~/anaconda3/envs/wav2/lib/python3.7/multiprocessing/pool.py\u001b[0m in \u001b[0;36mwait\u001b[0;34m(self, timeout)\u001b[0m\n\u001b[1;32m    646\u001b[0m \u001b[0;34m\u001b[0m\u001b[0m\n\u001b[1;32m    647\u001b[0m     \u001b[0;32mdef\u001b[0m \u001b[0mwait\u001b[0m\u001b[0;34m(\u001b[0m\u001b[0mself\u001b[0m\u001b[0;34m,\u001b[0m \u001b[0mtimeout\u001b[0m\u001b[0;34m=\u001b[0m\u001b[0;32mNone\u001b[0m\u001b[0;34m)\u001b[0m\u001b[0;34m:\u001b[0m\u001b[0;34m\u001b[0m\u001b[0;34m\u001b[0m\u001b[0m\n\u001b[0;32m--> 648\u001b[0;31m         \u001b[0mself\u001b[0m\u001b[0;34m.\u001b[0m\u001b[0m_event\u001b[0m\u001b[0;34m.\u001b[0m\u001b[0mwait\u001b[0m\u001b[0;34m(\u001b[0m\u001b[0mtimeout\u001b[0m\u001b[0;34m)\u001b[0m\u001b[0;34m\u001b[0m\u001b[0;34m\u001b[0m\u001b[0m\n\u001b[0m\u001b[1;32m    649\u001b[0m \u001b[0;34m\u001b[0m\u001b[0m\n\u001b[1;32m    650\u001b[0m     \u001b[0;32mdef\u001b[0m \u001b[0mget\u001b[0m\u001b[0;34m(\u001b[0m\u001b[0mself\u001b[0m\u001b[0;34m,\u001b[0m \u001b[0mtimeout\u001b[0m\u001b[0;34m=\u001b[0m\u001b[0;32mNone\u001b[0m\u001b[0;34m)\u001b[0m\u001b[0;34m:\u001b[0m\u001b[0;34m\u001b[0m\u001b[0;34m\u001b[0m\u001b[0m\n",
      "\u001b[0;32m~/anaconda3/envs/wav2/lib/python3.7/threading.py\u001b[0m in \u001b[0;36mwait\u001b[0;34m(self, timeout)\u001b[0m\n\u001b[1;32m    550\u001b[0m             \u001b[0msignaled\u001b[0m \u001b[0;34m=\u001b[0m \u001b[0mself\u001b[0m\u001b[0;34m.\u001b[0m\u001b[0m_flag\u001b[0m\u001b[0;34m\u001b[0m\u001b[0;34m\u001b[0m\u001b[0m\n\u001b[1;32m    551\u001b[0m             \u001b[0;32mif\u001b[0m \u001b[0;32mnot\u001b[0m \u001b[0msignaled\u001b[0m\u001b[0;34m:\u001b[0m\u001b[0;34m\u001b[0m\u001b[0;34m\u001b[0m\u001b[0m\n\u001b[0;32m--> 552\u001b[0;31m                 \u001b[0msignaled\u001b[0m \u001b[0;34m=\u001b[0m \u001b[0mself\u001b[0m\u001b[0;34m.\u001b[0m\u001b[0m_cond\u001b[0m\u001b[0;34m.\u001b[0m\u001b[0mwait\u001b[0m\u001b[0;34m(\u001b[0m\u001b[0mtimeout\u001b[0m\u001b[0;34m)\u001b[0m\u001b[0;34m\u001b[0m\u001b[0;34m\u001b[0m\u001b[0m\n\u001b[0m\u001b[1;32m    553\u001b[0m             \u001b[0;32mreturn\u001b[0m \u001b[0msignaled\u001b[0m\u001b[0;34m\u001b[0m\u001b[0;34m\u001b[0m\u001b[0m\n\u001b[1;32m    554\u001b[0m \u001b[0;34m\u001b[0m\u001b[0m\n",
      "\u001b[0;32m~/anaconda3/envs/wav2/lib/python3.7/threading.py\u001b[0m in \u001b[0;36mwait\u001b[0;34m(self, timeout)\u001b[0m\n\u001b[1;32m    294\u001b[0m         \u001b[0;32mtry\u001b[0m\u001b[0;34m:\u001b[0m    \u001b[0;31m# restore state no matter what (e.g., KeyboardInterrupt)\u001b[0m\u001b[0;34m\u001b[0m\u001b[0;34m\u001b[0m\u001b[0m\n\u001b[1;32m    295\u001b[0m             \u001b[0;32mif\u001b[0m \u001b[0mtimeout\u001b[0m \u001b[0;32mis\u001b[0m \u001b[0;32mNone\u001b[0m\u001b[0;34m:\u001b[0m\u001b[0;34m\u001b[0m\u001b[0;34m\u001b[0m\u001b[0m\n\u001b[0;32m--> 296\u001b[0;31m                 \u001b[0mwaiter\u001b[0m\u001b[0;34m.\u001b[0m\u001b[0macquire\u001b[0m\u001b[0;34m(\u001b[0m\u001b[0;34m)\u001b[0m\u001b[0;34m\u001b[0m\u001b[0;34m\u001b[0m\u001b[0m\n\u001b[0m\u001b[1;32m    297\u001b[0m                 \u001b[0mgotit\u001b[0m \u001b[0;34m=\u001b[0m \u001b[0;32mTrue\u001b[0m\u001b[0;34m\u001b[0m\u001b[0;34m\u001b[0m\u001b[0m\n\u001b[1;32m    298\u001b[0m             \u001b[0;32melse\u001b[0m\u001b[0;34m:\u001b[0m\u001b[0;34m\u001b[0m\u001b[0;34m\u001b[0m\u001b[0m\n",
      "\u001b[0;31mKeyboardInterrupt\u001b[0m: "
     ]
    }
   ],
   "source": [
    "model.to(\"cuda\")\n",
    "\n",
    "result = test_dataset.map(evaluate, batched=True, batch_size=8)\n",
    "\n"
   ]
  },
  {
   "cell_type": "code",
   "execution_count": null,
   "metadata": {},
   "outputs": [],
   "source": [
    "result_df = pd.DataFrame({'sentence':result['sentence'], \n",
    "                           'pred_sentence_tok': result['pred_sentence']})\n",
    "result_df['sentence_tok'] = result_df.sentence.map(lambda x: ' '.join(word_tokenize(x)))\n",
    "result_df['pred_sentence'] = result_df.pred_sentence_tok.map(lambda x: ' '.join(x.split()))\n",
    "#change tokenization to fit pythainlp tokenization\n",
    "result_df['pred_sentence_tok'] = result_df.pred_sentence.map(lambda x: ' '.join(word_tokenize(x)))\n",
    "\n",
    "\n",
    "\n",
    "\n",
    "\n",
    "result_df.to_csv('../data/result_cv70.csv',index=False)"
   ]
  },
  {
   "cell_type": "code",
   "execution_count": null,
   "metadata": {},
   "outputs": [
    {
     "data": {
      "text/plain": [
       "0.4642857142857143"
      ]
     },
     "execution_count": 130,
     "metadata": {},
     "output_type": "execute_result"
    }
   ],
   "source": [
    "wer_metric.compute(predictions=result_df.pred_sentence_tok,references=result_df.sentence_tok)"
   ]
  },
  {
   "cell_type": "code",
   "execution_count": null,
   "metadata": {},
   "outputs": [
    {
     "data": {
      "text/plain": [
       "0.18461538461538463"
      ]
     },
     "execution_count": 131,
     "metadata": {},
     "output_type": "execute_result"
    }
   ],
   "source": [
    "cer_metric.compute(predictions=result_df.pred_sentence,references=result_df.sentence)"
   ]
  },
  {
   "cell_type": "code",
   "execution_count": null,
   "metadata": {},
   "outputs": [
    {
     "ename": "AttributeError",
     "evalue": "'DataFrame' object has no attribute 'pred_sentence_tok'",
     "output_type": "error",
     "traceback": [
      "\u001b[0;31m---------------------------------------------------------------------------\u001b[0m",
      "\u001b[0;31mAttributeError\u001b[0m                            Traceback (most recent call last)",
      "\u001b[0;32m/tmp/ipykernel_36226/3548255526.py\u001b[0m in \u001b[0;36m<module>\u001b[0;34m\u001b[0m\n\u001b[1;32m      1\u001b[0m \u001b[0;31m#wer\u001b[0m\u001b[0;34m\u001b[0m\u001b[0;34m\u001b[0m\u001b[0;34m\u001b[0m\u001b[0m\n\u001b[0;32m----> 2\u001b[0;31m \u001b[0mwer_metric\u001b[0m\u001b[0;34m.\u001b[0m\u001b[0mcompute\u001b[0m\u001b[0;34m(\u001b[0m\u001b[0mpredictions\u001b[0m\u001b[0;34m=\u001b[0m\u001b[0mresult_df\u001b[0m\u001b[0;34m.\u001b[0m\u001b[0mpred_sentence_tok\u001b[0m\u001b[0;34m,\u001b[0m\u001b[0mreferences\u001b[0m\u001b[0;34m=\u001b[0m\u001b[0mresult_df\u001b[0m\u001b[0;34m.\u001b[0m\u001b[0msentence_tok\u001b[0m\u001b[0;34m)\u001b[0m\u001b[0;34m\u001b[0m\u001b[0;34m\u001b[0m\u001b[0m\n\u001b[0m",
      "\u001b[0;32m~/anaconda3/envs/wav2/lib/python3.7/site-packages/pandas/core/generic.py\u001b[0m in \u001b[0;36m__getattr__\u001b[0;34m(self, name)\u001b[0m\n\u001b[1;32m   5485\u001b[0m         ):\n\u001b[1;32m   5486\u001b[0m             \u001b[0;32mreturn\u001b[0m \u001b[0mself\u001b[0m\u001b[0;34m[\u001b[0m\u001b[0mname\u001b[0m\u001b[0;34m]\u001b[0m\u001b[0;34m\u001b[0m\u001b[0;34m\u001b[0m\u001b[0m\n\u001b[0;32m-> 5487\u001b[0;31m         \u001b[0;32mreturn\u001b[0m \u001b[0mobject\u001b[0m\u001b[0;34m.\u001b[0m\u001b[0m__getattribute__\u001b[0m\u001b[0;34m(\u001b[0m\u001b[0mself\u001b[0m\u001b[0;34m,\u001b[0m \u001b[0mname\u001b[0m\u001b[0;34m)\u001b[0m\u001b[0;34m\u001b[0m\u001b[0;34m\u001b[0m\u001b[0m\n\u001b[0m\u001b[1;32m   5488\u001b[0m \u001b[0;34m\u001b[0m\u001b[0m\n\u001b[1;32m   5489\u001b[0m     \u001b[0;32mdef\u001b[0m \u001b[0m__setattr__\u001b[0m\u001b[0;34m(\u001b[0m\u001b[0mself\u001b[0m\u001b[0;34m,\u001b[0m \u001b[0mname\u001b[0m\u001b[0;34m:\u001b[0m \u001b[0mstr\u001b[0m\u001b[0;34m,\u001b[0m \u001b[0mvalue\u001b[0m\u001b[0;34m)\u001b[0m \u001b[0;34m->\u001b[0m \u001b[0;32mNone\u001b[0m\u001b[0;34m:\u001b[0m\u001b[0;34m\u001b[0m\u001b[0;34m\u001b[0m\u001b[0m\n",
      "\u001b[0;31mAttributeError\u001b[0m: 'DataFrame' object has no attribute 'pred_sentence_tok'"
     ]
    }
   ],
   "source": [
    "#wer\n"
   ]
  },
  {
   "cell_type": "code",
   "execution_count": null,
   "metadata": {},
   "outputs": [
    {
     "data": {
      "text/plain": [
       "0.028130193905817176"
      ]
     },
     "execution_count": 27,
     "metadata": {},
     "output_type": "execute_result"
    }
   ],
   "source": [
    "#cer\n"
   ]
  },
  {
   "cell_type": "markdown",
   "metadata": {},
   "source": [
    "We can further improve by spell correction using n-grams from [TNC](http://www.arts.chula.ac.th/ling/tnc/)."
   ]
  },
  {
   "cell_type": "code",
   "execution_count": null,
   "metadata": {},
   "outputs": [],
   "source": [
    "# #install pre version of pythainlp to use; will be available in PyThaiNLP 3.0\n",
    "# %pip uninstall pythainlp --yes\n",
    "# %pip install --ignore-requires-python  https://github.com/PyThaiNLP/pythainlp/archive/dev.zip\n",
    "# %pip install symspellpy"
   ]
  },
  {
   "cell_type": "code",
   "execution_count": null,
   "metadata": {},
   "outputs": [],
   "source": []
  },
  {
   "cell_type": "code",
   "execution_count": null,
   "metadata": {},
   "outputs": [
    {
     "data": {
      "text/plain": [
       "0.1799639686012096"
      ]
     },
     "execution_count": 29,
     "metadata": {},
     "output_type": "execute_result"
    }
   ],
   "source": [
    "#wer\n"
   ]
  },
  {
   "cell_type": "code",
   "execution_count": null,
   "metadata": {},
   "outputs": [
    {
     "data": {
      "text/plain": [
       "0.05225761772853186"
      ]
     },
     "execution_count": 30,
     "metadata": {},
     "output_type": "execute_result"
    }
   ],
   "source": [
    "#cer\n"
   ]
  },
  {
   "cell_type": "code",
   "execution_count": null,
   "metadata": {},
   "outputs": [],
   "source": []
  },
  {
   "cell_type": "code",
   "execution_count": null,
   "metadata": {},
   "outputs": [],
   "source": []
  }
 ],
 "metadata": {
  "instance_type": "ml.g4dn.xlarge",
  "interpreter": {
   "hash": "7f6afa9c089bbe596eb535a59a21c6c9b11147d386749c8e9e56388e9e10e0c6"
  },
  "kernelspec": {
   "display_name": "conda_amazonei_pytorch_latest_p36",
   "language": "python",
   "name": "python3"
  },
  "language_info": {
   "codemirror_mode": {
    "name": "ipython",
    "version": 3
   },
   "file_extension": ".py",
   "mimetype": "text/x-python",
   "name": "python",
   "nbconvert_exporter": "python",
   "pygments_lexer": "ipython3",
   "version": "3.7.11"
  }
 },
 "nbformat": 4,
 "nbformat_minor": 4
}
